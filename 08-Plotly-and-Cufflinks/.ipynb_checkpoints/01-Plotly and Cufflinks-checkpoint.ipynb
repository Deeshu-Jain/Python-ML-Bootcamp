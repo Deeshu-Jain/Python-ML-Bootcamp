{
 "cells": [
  {
   "cell_type": "markdown",
   "metadata": {},
   "source": [
    "___\n",
    "\n",
    "<a href='http://www.pieriandata.com'> <img src='../Pierian_Data_Logo.png' /></a>\n",
    "___\n",
    "# Plotly and Cufflinks"
   ]
  },
  {
   "cell_type": "markdown",
   "metadata": {},
   "source": [
    "Plotly is a library that allows you to create interactive plots that you can use in dashboards or websites (you can save them as html files or static images).\n",
    "\n",
    "## Installation\n",
    "\n",
    "In order for this all to work, you'll need to install plotly and cufflinks to call plots directly off of a pandas dataframe. These libraries are not currently available through **conda** but are available through **pip**. Install the libraries at your command line/terminal using:\n",
    "\n",
    "    pip install plotly\n",
    "    pip install cufflinks\n",
    "\n",
    "** NOTE: Make sure you only have one installation of Python on your computer when you do this, otherwise the installation may not work. **\n",
    "\n",
    "## Imports and Set-up"
   ]
  },
  {
   "cell_type": "code",
   "execution_count": 4,
   "metadata": {},
   "outputs": [],
   "source": [
    "import pandas as pd\n",
    "import numpy as np\n",
    "%matplotlib inline"
   ]
  },
  {
   "cell_type": "code",
   "execution_count": 5,
   "metadata": {},
   "outputs": [
    {
     "name": "stdout",
     "output_type": "stream",
     "text": [
      "5.4.0\n"
     ]
    }
   ],
   "source": [
    "from plotly import __version__\n",
    "from plotly.offline import download_plotlyjs, init_notebook_mode, plot, iplot\n",
    "\n",
    "print(__version__) # requires version >= 1.9.0"
   ]
  },
  {
   "cell_type": "code",
   "execution_count": 6,
   "metadata": {},
   "outputs": [],
   "source": [
    "import cufflinks as cf"
   ]
  },
  {
   "cell_type": "code",
   "execution_count": 7,
   "metadata": {},
   "outputs": [
    {
     "data": {
      "text/html": [
       "        <script type=\"text/javascript\">\n",
       "        window.PlotlyConfig = {MathJaxConfig: 'local'};\n",
       "        if (window.MathJax) {MathJax.Hub.Config({SVG: {font: \"STIX-Web\"}});}\n",
       "        if (typeof require !== 'undefined') {\n",
       "        require.undef(\"plotly\");\n",
       "        requirejs.config({\n",
       "            paths: {\n",
       "                'plotly': ['https://cdn.plot.ly/plotly-2.6.3.min']\n",
       "            }\n",
       "        });\n",
       "        require(['plotly'], function(Plotly) {\n",
       "            window._Plotly = Plotly;\n",
       "        });\n",
       "        }\n",
       "        </script>\n",
       "        "
      ]
     },
     "metadata": {},
     "output_type": "display_data"
    }
   ],
   "source": [
    "# For Notebooks\n",
    "init_notebook_mode(connected=True)"
   ]
  },
  {
   "cell_type": "code",
   "execution_count": 8,
   "metadata": {},
   "outputs": [
    {
     "data": {
      "text/html": [
       "        <script type=\"text/javascript\">\n",
       "        window.PlotlyConfig = {MathJaxConfig: 'local'};\n",
       "        if (window.MathJax) {MathJax.Hub.Config({SVG: {font: \"STIX-Web\"}});}\n",
       "        if (typeof require !== 'undefined') {\n",
       "        require.undef(\"plotly\");\n",
       "        requirejs.config({\n",
       "            paths: {\n",
       "                'plotly': ['https://cdn.plot.ly/plotly-2.6.3.min']\n",
       "            }\n",
       "        });\n",
       "        require(['plotly'], function(Plotly) {\n",
       "            window._Plotly = Plotly;\n",
       "        });\n",
       "        }\n",
       "        </script>\n",
       "        "
      ]
     },
     "metadata": {},
     "output_type": "display_data"
    }
   ],
   "source": [
    "# For offline use\n",
    "cf.go_offline()"
   ]
  },
  {
   "cell_type": "markdown",
   "metadata": {},
   "source": [
    "### Fake Data"
   ]
  },
  {
   "cell_type": "code",
   "execution_count": 9,
   "metadata": {},
   "outputs": [],
   "source": [
    "df = pd.DataFrame(np.random.randn(100,4),columns='A B C D'.split())"
   ]
  },
  {
   "cell_type": "code",
   "execution_count": 10,
   "metadata": {},
   "outputs": [
    {
     "data": {
      "text/html": [
       "<div>\n",
       "<style scoped>\n",
       "    .dataframe tbody tr th:only-of-type {\n",
       "        vertical-align: middle;\n",
       "    }\n",
       "\n",
       "    .dataframe tbody tr th {\n",
       "        vertical-align: top;\n",
       "    }\n",
       "\n",
       "    .dataframe thead th {\n",
       "        text-align: right;\n",
       "    }\n",
       "</style>\n",
       "<table border=\"1\" class=\"dataframe\">\n",
       "  <thead>\n",
       "    <tr style=\"text-align: right;\">\n",
       "      <th></th>\n",
       "      <th>A</th>\n",
       "      <th>B</th>\n",
       "      <th>C</th>\n",
       "      <th>D</th>\n",
       "    </tr>\n",
       "  </thead>\n",
       "  <tbody>\n",
       "    <tr>\n",
       "      <th>0</th>\n",
       "      <td>-0.016672</td>\n",
       "      <td>-2.036158</td>\n",
       "      <td>-0.315146</td>\n",
       "      <td>-0.660397</td>\n",
       "    </tr>\n",
       "    <tr>\n",
       "      <th>1</th>\n",
       "      <td>0.603750</td>\n",
       "      <td>-0.778182</td>\n",
       "      <td>-0.285108</td>\n",
       "      <td>1.519190</td>\n",
       "    </tr>\n",
       "    <tr>\n",
       "      <th>2</th>\n",
       "      <td>-0.283511</td>\n",
       "      <td>1.640793</td>\n",
       "      <td>0.324312</td>\n",
       "      <td>0.471577</td>\n",
       "    </tr>\n",
       "    <tr>\n",
       "      <th>3</th>\n",
       "      <td>0.021603</td>\n",
       "      <td>-0.473861</td>\n",
       "      <td>0.687626</td>\n",
       "      <td>-0.114026</td>\n",
       "    </tr>\n",
       "    <tr>\n",
       "      <th>4</th>\n",
       "      <td>0.175169</td>\n",
       "      <td>-0.361707</td>\n",
       "      <td>1.431684</td>\n",
       "      <td>-0.053717</td>\n",
       "    </tr>\n",
       "  </tbody>\n",
       "</table>\n",
       "</div>"
      ],
      "text/plain": [
       "          A         B         C         D\n",
       "0 -0.016672 -2.036158 -0.315146 -0.660397\n",
       "1  0.603750 -0.778182 -0.285108  1.519190\n",
       "2 -0.283511  1.640793  0.324312  0.471577\n",
       "3  0.021603 -0.473861  0.687626 -0.114026\n",
       "4  0.175169 -0.361707  1.431684 -0.053717"
      ]
     },
     "execution_count": 10,
     "metadata": {},
     "output_type": "execute_result"
    }
   ],
   "source": [
    "df.head()"
   ]
  },
  {
   "cell_type": "code",
   "execution_count": 11,
   "metadata": {},
   "outputs": [],
   "source": [
    "df2 = pd.DataFrame({'Category':['A','B','C'],'Values':[32,43,50]})"
   ]
  },
  {
   "cell_type": "code",
   "execution_count": 12,
   "metadata": {},
   "outputs": [
    {
     "data": {
      "text/html": [
       "<div>\n",
       "<style scoped>\n",
       "    .dataframe tbody tr th:only-of-type {\n",
       "        vertical-align: middle;\n",
       "    }\n",
       "\n",
       "    .dataframe tbody tr th {\n",
       "        vertical-align: top;\n",
       "    }\n",
       "\n",
       "    .dataframe thead th {\n",
       "        text-align: right;\n",
       "    }\n",
       "</style>\n",
       "<table border=\"1\" class=\"dataframe\">\n",
       "  <thead>\n",
       "    <tr style=\"text-align: right;\">\n",
       "      <th></th>\n",
       "      <th>Category</th>\n",
       "      <th>Values</th>\n",
       "    </tr>\n",
       "  </thead>\n",
       "  <tbody>\n",
       "    <tr>\n",
       "      <th>0</th>\n",
       "      <td>A</td>\n",
       "      <td>32</td>\n",
       "    </tr>\n",
       "    <tr>\n",
       "      <th>1</th>\n",
       "      <td>B</td>\n",
       "      <td>43</td>\n",
       "    </tr>\n",
       "    <tr>\n",
       "      <th>2</th>\n",
       "      <td>C</td>\n",
       "      <td>50</td>\n",
       "    </tr>\n",
       "  </tbody>\n",
       "</table>\n",
       "</div>"
      ],
      "text/plain": [
       "  Category  Values\n",
       "0        A      32\n",
       "1        B      43\n",
       "2        C      50"
      ]
     },
     "execution_count": 12,
     "metadata": {},
     "output_type": "execute_result"
    }
   ],
   "source": [
    "df2.head()"
   ]
  },
  {
   "cell_type": "markdown",
   "metadata": {},
   "source": [
    "## Using Cufflinks and iplot()\n",
    "\n",
    "* scatter\n",
    "* bar\n",
    "* box\n",
    "* spread\n",
    "* ratio\n",
    "* heatmap\n",
    "* surface\n",
    "* histogram\n",
    "* bubble"
   ]
  },
  {
   "cell_type": "markdown",
   "metadata": {},
   "source": [
    "## Scatter"
   ]
  },
  {
   "cell_type": "code",
   "execution_count": 13,
   "metadata": {},
   "outputs": [
    {
     "data": {
      "application/vnd.plotly.v1+json": {
       "config": {
        "linkText": "Export to plot.ly",
        "plotlyServerURL": "https://plot.ly",
        "showLink": true
       },
       "data": [
        {
         "line": {
          "color": "rgba(255, 153, 51, 1.0)",
          "dash": "solid",
          "shape": "linear",
          "width": 1.3
         },
         "marker": {
          "size": 10,
          "symbol": "circle"
         },
         "mode": "markers",
         "name": "B",
         "text": "",
         "type": "scatter",
         "x": [
          -0.01667208869479953,
          0.6037503470629544,
          -0.28351149014731414,
          0.0216026878129016,
          0.1751687897703358,
          -0.7464757712873497,
          0.36612188033655946,
          1.5603681621800871,
          -0.4310426287934078,
          -0.40795947020774453,
          -0.6367278401219701,
          -1.0874168310844612,
          1.1698066413000878,
          -0.3066916909365898,
          1.1252351101197362,
          -1.2075223698484885,
          0.17673062821547475,
          -0.9895317582731459,
          0.9283196542513025,
          -0.5835587044089643,
          0.6902201487451626,
          -0.6455972284797273,
          1.7428152700098267,
          -1.4602586348752853,
          0.17593919995963694,
          0.5390588117799688,
          2.1207767856567727,
          1.2591692758771187,
          -0.17209273934779287,
          -0.366566956753178,
          -0.15331543661920066,
          0.08834728696166949,
          0.46909164345998144,
          0.7117073717263691,
          -1.123006297200311,
          0.20791917087926534,
          0.03840313876869264,
          0.9143191515646512,
          1.0356772091115893,
          0.44907932457214866,
          -0.38451117181962,
          -0.10228947216258112,
          0.9408916586961488,
          0.46082542099519913,
          0.5370618137962073,
          -0.11776168465227992,
          1.214265596966936,
          -0.8703436304770322,
          0.10740457078101891,
          0.3544977535785094,
          -0.9146086471251739,
          0.12808158542595066,
          -0.5426218229255564,
          1.1556505063233624,
          -0.7320625981927786,
          0.3973947239800183,
          -0.36711828716894135,
          0.4131382364285986,
          -0.819978944828114,
          -0.6864462990192921,
          -0.08551191306702406,
          -1.0865010798257977,
          -1.0817819236516397,
          -0.351388330509077,
          -0.5420249562951884,
          -0.06577023958226505,
          1.396824993267686,
          -1.0025865125331916,
          1.9923269253294456,
          -0.778359989476912,
          -0.6806007021133944,
          0.0402740148264282,
          -0.45542227594424267,
          1.3698478125158287,
          -0.6280302339215994,
          0.4044415920632114,
          0.37534727740862495,
          -0.957656480747998,
          0.691572236878223,
          -1.1873909229215367,
          1.2919297518408075,
          0.33667467848977395,
          -0.48006790969772334,
          -1.38797462206206,
          -1.0392939638716054,
          -0.37534975084431815,
          1.5813624436860207,
          -2.348410308085096,
          -0.9049476494213308,
          -2.656882930015167,
          1.561536057768945,
          0.5638875300946916,
          -0.47944682187429133,
          0.3539420600530498,
          -0.5135199779795387,
          -0.0906234411538603,
          -1.0406035600634143,
          1.9575152252883732,
          -1.8336226329156557,
          0.0005518196884569486
         ],
         "y": [
          -2.036158386653377,
          -0.7781816942974347,
          1.640792608476573,
          -0.4738608055981185,
          -0.36170747479840376,
          0.7170574090643116,
          -0.8901972640088935,
          0.15542111224360824,
          0.16842148205573518,
          -0.7624378404781994,
          0.6676445311926261,
          -0.5008312999875397,
          -0.14183629809542564,
          0.37770469615146307,
          1.177547024579085,
          -0.379578510137013,
          -0.7779969080814645,
          0.5369129846980254,
          0.3819636750976547,
          -0.8483530509658844,
          -0.8629937368086817,
          -1.5474167747744243,
          0.13599077249133737,
          -0.02370519789406686,
          0.8255708913577603,
          0.293639449547524,
          0.37850737435463583,
          -0.5086837226103097,
          0.4459407415852692,
          -0.5526591872367761,
          -0.9759789134411783,
          -0.14107027812456086,
          0.6827968128789753,
          -0.5704347120697848,
          0.2882354759654698,
          0.32201555158302814,
          -0.5792869703886953,
          0.6470959694849135,
          -0.7446533623021079,
          0.7088489240229382,
          0.5183027904959195,
          -0.7870559941595908,
          -0.3294836263221717,
          -0.840845736897288,
          -1.7859985371240894,
          -0.9087816084177032,
          -0.810103196119456,
          1.5851472901959138,
          1.2702325525750735,
          1.6810503424614647,
          -0.721541491810264,
          0.44211506970111,
          -0.3299773960399986,
          -0.1361012916371215,
          1.4162533790883198,
          -0.7915579015705827,
          0.9087815478659267,
          -0.36744419622196695,
          0.2605624041964697,
          0.43818409668521363,
          0.7009328503085128,
          0.2865205297562157,
          0.9699378427772057,
          2.0440071661428485,
          -2.164434885573739,
          -1.1558905699366222,
          0.6497490347234127,
          0.16245956749095322,
          -1.7138870454600397,
          -0.4331724808449435,
          -0.09748754649182939,
          -0.10479631959914548,
          -0.43353149021733123,
          -0.10187037619783064,
          -1.0564104724357057,
          -1.0555058271567033,
          0.09288054992141877,
          -0.2221697337192965,
          0.5323503361220058,
          -0.16101088097754562,
          0.7828781980514036,
          0.016206754381635557,
          -0.07773191734361144,
          -0.10256238294231157,
          -1.292394526699772,
          -0.22957938752731008,
          -1.6756411693309572,
          0.009428651355560447,
          -0.3789931812591254,
          0.5513478850352597,
          0.16629860929405813,
          -0.9098861056873205,
          -2.300633794465044,
          -0.9897923121378868,
          0.6632766469066379,
          0.60526923673236,
          -2.0090173721005544,
          -0.5156329401365136,
          1.1975640252955149,
          0.501908128260419
         ]
        }
       ],
       "layout": {
        "legend": {
         "bgcolor": "#F5F6F9",
         "font": {
          "color": "#4D5663"
         }
        },
        "paper_bgcolor": "#F5F6F9",
        "plot_bgcolor": "#F5F6F9",
        "template": {
         "data": {
          "bar": [
           {
            "error_x": {
             "color": "#2a3f5f"
            },
            "error_y": {
             "color": "#2a3f5f"
            },
            "marker": {
             "line": {
              "color": "#E5ECF6",
              "width": 0.5
             },
             "pattern": {
              "fillmode": "overlay",
              "size": 10,
              "solidity": 0.2
             }
            },
            "type": "bar"
           }
          ],
          "barpolar": [
           {
            "marker": {
             "line": {
              "color": "#E5ECF6",
              "width": 0.5
             },
             "pattern": {
              "fillmode": "overlay",
              "size": 10,
              "solidity": 0.2
             }
            },
            "type": "barpolar"
           }
          ],
          "carpet": [
           {
            "aaxis": {
             "endlinecolor": "#2a3f5f",
             "gridcolor": "white",
             "linecolor": "white",
             "minorgridcolor": "white",
             "startlinecolor": "#2a3f5f"
            },
            "baxis": {
             "endlinecolor": "#2a3f5f",
             "gridcolor": "white",
             "linecolor": "white",
             "minorgridcolor": "white",
             "startlinecolor": "#2a3f5f"
            },
            "type": "carpet"
           }
          ],
          "choropleth": [
           {
            "colorbar": {
             "outlinewidth": 0,
             "ticks": ""
            },
            "type": "choropleth"
           }
          ],
          "contour": [
           {
            "colorbar": {
             "outlinewidth": 0,
             "ticks": ""
            },
            "colorscale": [
             [
              0,
              "#0d0887"
             ],
             [
              0.1111111111111111,
              "#46039f"
             ],
             [
              0.2222222222222222,
              "#7201a8"
             ],
             [
              0.3333333333333333,
              "#9c179e"
             ],
             [
              0.4444444444444444,
              "#bd3786"
             ],
             [
              0.5555555555555556,
              "#d8576b"
             ],
             [
              0.6666666666666666,
              "#ed7953"
             ],
             [
              0.7777777777777778,
              "#fb9f3a"
             ],
             [
              0.8888888888888888,
              "#fdca26"
             ],
             [
              1,
              "#f0f921"
             ]
            ],
            "type": "contour"
           }
          ],
          "contourcarpet": [
           {
            "colorbar": {
             "outlinewidth": 0,
             "ticks": ""
            },
            "type": "contourcarpet"
           }
          ],
          "heatmap": [
           {
            "colorbar": {
             "outlinewidth": 0,
             "ticks": ""
            },
            "colorscale": [
             [
              0,
              "#0d0887"
             ],
             [
              0.1111111111111111,
              "#46039f"
             ],
             [
              0.2222222222222222,
              "#7201a8"
             ],
             [
              0.3333333333333333,
              "#9c179e"
             ],
             [
              0.4444444444444444,
              "#bd3786"
             ],
             [
              0.5555555555555556,
              "#d8576b"
             ],
             [
              0.6666666666666666,
              "#ed7953"
             ],
             [
              0.7777777777777778,
              "#fb9f3a"
             ],
             [
              0.8888888888888888,
              "#fdca26"
             ],
             [
              1,
              "#f0f921"
             ]
            ],
            "type": "heatmap"
           }
          ],
          "heatmapgl": [
           {
            "colorbar": {
             "outlinewidth": 0,
             "ticks": ""
            },
            "colorscale": [
             [
              0,
              "#0d0887"
             ],
             [
              0.1111111111111111,
              "#46039f"
             ],
             [
              0.2222222222222222,
              "#7201a8"
             ],
             [
              0.3333333333333333,
              "#9c179e"
             ],
             [
              0.4444444444444444,
              "#bd3786"
             ],
             [
              0.5555555555555556,
              "#d8576b"
             ],
             [
              0.6666666666666666,
              "#ed7953"
             ],
             [
              0.7777777777777778,
              "#fb9f3a"
             ],
             [
              0.8888888888888888,
              "#fdca26"
             ],
             [
              1,
              "#f0f921"
             ]
            ],
            "type": "heatmapgl"
           }
          ],
          "histogram": [
           {
            "marker": {
             "pattern": {
              "fillmode": "overlay",
              "size": 10,
              "solidity": 0.2
             }
            },
            "type": "histogram"
           }
          ],
          "histogram2d": [
           {
            "colorbar": {
             "outlinewidth": 0,
             "ticks": ""
            },
            "colorscale": [
             [
              0,
              "#0d0887"
             ],
             [
              0.1111111111111111,
              "#46039f"
             ],
             [
              0.2222222222222222,
              "#7201a8"
             ],
             [
              0.3333333333333333,
              "#9c179e"
             ],
             [
              0.4444444444444444,
              "#bd3786"
             ],
             [
              0.5555555555555556,
              "#d8576b"
             ],
             [
              0.6666666666666666,
              "#ed7953"
             ],
             [
              0.7777777777777778,
              "#fb9f3a"
             ],
             [
              0.8888888888888888,
              "#fdca26"
             ],
             [
              1,
              "#f0f921"
             ]
            ],
            "type": "histogram2d"
           }
          ],
          "histogram2dcontour": [
           {
            "colorbar": {
             "outlinewidth": 0,
             "ticks": ""
            },
            "colorscale": [
             [
              0,
              "#0d0887"
             ],
             [
              0.1111111111111111,
              "#46039f"
             ],
             [
              0.2222222222222222,
              "#7201a8"
             ],
             [
              0.3333333333333333,
              "#9c179e"
             ],
             [
              0.4444444444444444,
              "#bd3786"
             ],
             [
              0.5555555555555556,
              "#d8576b"
             ],
             [
              0.6666666666666666,
              "#ed7953"
             ],
             [
              0.7777777777777778,
              "#fb9f3a"
             ],
             [
              0.8888888888888888,
              "#fdca26"
             ],
             [
              1,
              "#f0f921"
             ]
            ],
            "type": "histogram2dcontour"
           }
          ],
          "mesh3d": [
           {
            "colorbar": {
             "outlinewidth": 0,
             "ticks": ""
            },
            "type": "mesh3d"
           }
          ],
          "parcoords": [
           {
            "line": {
             "colorbar": {
              "outlinewidth": 0,
              "ticks": ""
             }
            },
            "type": "parcoords"
           }
          ],
          "pie": [
           {
            "automargin": true,
            "type": "pie"
           }
          ],
          "scatter": [
           {
            "marker": {
             "colorbar": {
              "outlinewidth": 0,
              "ticks": ""
             }
            },
            "type": "scatter"
           }
          ],
          "scatter3d": [
           {
            "line": {
             "colorbar": {
              "outlinewidth": 0,
              "ticks": ""
             }
            },
            "marker": {
             "colorbar": {
              "outlinewidth": 0,
              "ticks": ""
             }
            },
            "type": "scatter3d"
           }
          ],
          "scattercarpet": [
           {
            "marker": {
             "colorbar": {
              "outlinewidth": 0,
              "ticks": ""
             }
            },
            "type": "scattercarpet"
           }
          ],
          "scattergeo": [
           {
            "marker": {
             "colorbar": {
              "outlinewidth": 0,
              "ticks": ""
             }
            },
            "type": "scattergeo"
           }
          ],
          "scattergl": [
           {
            "marker": {
             "colorbar": {
              "outlinewidth": 0,
              "ticks": ""
             }
            },
            "type": "scattergl"
           }
          ],
          "scattermapbox": [
           {
            "marker": {
             "colorbar": {
              "outlinewidth": 0,
              "ticks": ""
             }
            },
            "type": "scattermapbox"
           }
          ],
          "scatterpolar": [
           {
            "marker": {
             "colorbar": {
              "outlinewidth": 0,
              "ticks": ""
             }
            },
            "type": "scatterpolar"
           }
          ],
          "scatterpolargl": [
           {
            "marker": {
             "colorbar": {
              "outlinewidth": 0,
              "ticks": ""
             }
            },
            "type": "scatterpolargl"
           }
          ],
          "scatterternary": [
           {
            "marker": {
             "colorbar": {
              "outlinewidth": 0,
              "ticks": ""
             }
            },
            "type": "scatterternary"
           }
          ],
          "surface": [
           {
            "colorbar": {
             "outlinewidth": 0,
             "ticks": ""
            },
            "colorscale": [
             [
              0,
              "#0d0887"
             ],
             [
              0.1111111111111111,
              "#46039f"
             ],
             [
              0.2222222222222222,
              "#7201a8"
             ],
             [
              0.3333333333333333,
              "#9c179e"
             ],
             [
              0.4444444444444444,
              "#bd3786"
             ],
             [
              0.5555555555555556,
              "#d8576b"
             ],
             [
              0.6666666666666666,
              "#ed7953"
             ],
             [
              0.7777777777777778,
              "#fb9f3a"
             ],
             [
              0.8888888888888888,
              "#fdca26"
             ],
             [
              1,
              "#f0f921"
             ]
            ],
            "type": "surface"
           }
          ],
          "table": [
           {
            "cells": {
             "fill": {
              "color": "#EBF0F8"
             },
             "line": {
              "color": "white"
             }
            },
            "header": {
             "fill": {
              "color": "#C8D4E3"
             },
             "line": {
              "color": "white"
             }
            },
            "type": "table"
           }
          ]
         },
         "layout": {
          "annotationdefaults": {
           "arrowcolor": "#2a3f5f",
           "arrowhead": 0,
           "arrowwidth": 1
          },
          "autotypenumbers": "strict",
          "coloraxis": {
           "colorbar": {
            "outlinewidth": 0,
            "ticks": ""
           }
          },
          "colorscale": {
           "diverging": [
            [
             0,
             "#8e0152"
            ],
            [
             0.1,
             "#c51b7d"
            ],
            [
             0.2,
             "#de77ae"
            ],
            [
             0.3,
             "#f1b6da"
            ],
            [
             0.4,
             "#fde0ef"
            ],
            [
             0.5,
             "#f7f7f7"
            ],
            [
             0.6,
             "#e6f5d0"
            ],
            [
             0.7,
             "#b8e186"
            ],
            [
             0.8,
             "#7fbc41"
            ],
            [
             0.9,
             "#4d9221"
            ],
            [
             1,
             "#276419"
            ]
           ],
           "sequential": [
            [
             0,
             "#0d0887"
            ],
            [
             0.1111111111111111,
             "#46039f"
            ],
            [
             0.2222222222222222,
             "#7201a8"
            ],
            [
             0.3333333333333333,
             "#9c179e"
            ],
            [
             0.4444444444444444,
             "#bd3786"
            ],
            [
             0.5555555555555556,
             "#d8576b"
            ],
            [
             0.6666666666666666,
             "#ed7953"
            ],
            [
             0.7777777777777778,
             "#fb9f3a"
            ],
            [
             0.8888888888888888,
             "#fdca26"
            ],
            [
             1,
             "#f0f921"
            ]
           ],
           "sequentialminus": [
            [
             0,
             "#0d0887"
            ],
            [
             0.1111111111111111,
             "#46039f"
            ],
            [
             0.2222222222222222,
             "#7201a8"
            ],
            [
             0.3333333333333333,
             "#9c179e"
            ],
            [
             0.4444444444444444,
             "#bd3786"
            ],
            [
             0.5555555555555556,
             "#d8576b"
            ],
            [
             0.6666666666666666,
             "#ed7953"
            ],
            [
             0.7777777777777778,
             "#fb9f3a"
            ],
            [
             0.8888888888888888,
             "#fdca26"
            ],
            [
             1,
             "#f0f921"
            ]
           ]
          },
          "colorway": [
           "#636efa",
           "#EF553B",
           "#00cc96",
           "#ab63fa",
           "#FFA15A",
           "#19d3f3",
           "#FF6692",
           "#B6E880",
           "#FF97FF",
           "#FECB52"
          ],
          "font": {
           "color": "#2a3f5f"
          },
          "geo": {
           "bgcolor": "white",
           "lakecolor": "white",
           "landcolor": "#E5ECF6",
           "showlakes": true,
           "showland": true,
           "subunitcolor": "white"
          },
          "hoverlabel": {
           "align": "left"
          },
          "hovermode": "closest",
          "mapbox": {
           "style": "light"
          },
          "paper_bgcolor": "white",
          "plot_bgcolor": "#E5ECF6",
          "polar": {
           "angularaxis": {
            "gridcolor": "white",
            "linecolor": "white",
            "ticks": ""
           },
           "bgcolor": "#E5ECF6",
           "radialaxis": {
            "gridcolor": "white",
            "linecolor": "white",
            "ticks": ""
           }
          },
          "scene": {
           "xaxis": {
            "backgroundcolor": "#E5ECF6",
            "gridcolor": "white",
            "gridwidth": 2,
            "linecolor": "white",
            "showbackground": true,
            "ticks": "",
            "zerolinecolor": "white"
           },
           "yaxis": {
            "backgroundcolor": "#E5ECF6",
            "gridcolor": "white",
            "gridwidth": 2,
            "linecolor": "white",
            "showbackground": true,
            "ticks": "",
            "zerolinecolor": "white"
           },
           "zaxis": {
            "backgroundcolor": "#E5ECF6",
            "gridcolor": "white",
            "gridwidth": 2,
            "linecolor": "white",
            "showbackground": true,
            "ticks": "",
            "zerolinecolor": "white"
           }
          },
          "shapedefaults": {
           "line": {
            "color": "#2a3f5f"
           }
          },
          "ternary": {
           "aaxis": {
            "gridcolor": "white",
            "linecolor": "white",
            "ticks": ""
           },
           "baxis": {
            "gridcolor": "white",
            "linecolor": "white",
            "ticks": ""
           },
           "bgcolor": "#E5ECF6",
           "caxis": {
            "gridcolor": "white",
            "linecolor": "white",
            "ticks": ""
           }
          },
          "title": {
           "x": 0.05
          },
          "xaxis": {
           "automargin": true,
           "gridcolor": "white",
           "linecolor": "white",
           "ticks": "",
           "title": {
            "standoff": 15
           },
           "zerolinecolor": "white",
           "zerolinewidth": 2
          },
          "yaxis": {
           "automargin": true,
           "gridcolor": "white",
           "linecolor": "white",
           "ticks": "",
           "title": {
            "standoff": 15
           },
           "zerolinecolor": "white",
           "zerolinewidth": 2
          }
         }
        },
        "title": {
         "font": {
          "color": "#4D5663"
         }
        },
        "xaxis": {
         "gridcolor": "#E1E5ED",
         "showgrid": true,
         "tickfont": {
          "color": "#4D5663"
         },
         "title": {
          "font": {
           "color": "#4D5663"
          },
          "text": ""
         },
         "zerolinecolor": "#E1E5ED"
        },
        "yaxis": {
         "gridcolor": "#E1E5ED",
         "showgrid": true,
         "tickfont": {
          "color": "#4D5663"
         },
         "title": {
          "font": {
           "color": "#4D5663"
          },
          "text": ""
         },
         "zerolinecolor": "#E1E5ED"
        }
       }
      },
      "text/html": [
       "<div>                            <div id=\"05ae0b7d-6aa9-4a58-b9c5-72f50c1abb49\" class=\"plotly-graph-div\" style=\"height:525px; width:100%;\"></div>            <script type=\"text/javascript\">                require([\"plotly\"], function(Plotly) {                    window.PLOTLYENV=window.PLOTLYENV || {};\n",
       "                    window.PLOTLYENV.BASE_URL='https://plot.ly';                                    if (document.getElementById(\"05ae0b7d-6aa9-4a58-b9c5-72f50c1abb49\")) {                    Plotly.newPlot(                        \"05ae0b7d-6aa9-4a58-b9c5-72f50c1abb49\",                        [{\"line\":{\"color\":\"rgba(255, 153, 51, 1.0)\",\"dash\":\"solid\",\"shape\":\"linear\",\"width\":1.3},\"marker\":{\"size\":10,\"symbol\":\"circle\"},\"mode\":\"markers\",\"name\":\"B\",\"text\":\"\",\"x\":[-0.01667208869479953,0.6037503470629544,-0.28351149014731414,0.0216026878129016,0.1751687897703358,-0.7464757712873497,0.36612188033655946,1.5603681621800871,-0.4310426287934078,-0.40795947020774453,-0.6367278401219701,-1.0874168310844612,1.1698066413000878,-0.3066916909365898,1.1252351101197362,-1.2075223698484885,0.17673062821547475,-0.9895317582731459,0.9283196542513025,-0.5835587044089643,0.6902201487451626,-0.6455972284797273,1.7428152700098267,-1.4602586348752853,0.17593919995963694,0.5390588117799688,2.1207767856567727,1.2591692758771187,-0.17209273934779287,-0.366566956753178,-0.15331543661920066,0.08834728696166949,0.46909164345998144,0.7117073717263691,-1.123006297200311,0.20791917087926534,0.03840313876869264,0.9143191515646512,1.0356772091115893,0.44907932457214866,-0.38451117181962,-0.10228947216258112,0.9408916586961488,0.46082542099519913,0.5370618137962073,-0.11776168465227992,1.214265596966936,-0.8703436304770322,0.10740457078101891,0.3544977535785094,-0.9146086471251739,0.12808158542595066,-0.5426218229255564,1.1556505063233624,-0.7320625981927786,0.3973947239800183,-0.36711828716894135,0.4131382364285986,-0.819978944828114,-0.6864462990192921,-0.08551191306702406,-1.0865010798257977,-1.0817819236516397,-0.351388330509077,-0.5420249562951884,-0.06577023958226505,1.396824993267686,-1.0025865125331916,1.9923269253294456,-0.778359989476912,-0.6806007021133944,0.0402740148264282,-0.45542227594424267,1.3698478125158287,-0.6280302339215994,0.4044415920632114,0.37534727740862495,-0.957656480747998,0.691572236878223,-1.1873909229215367,1.2919297518408075,0.33667467848977395,-0.48006790969772334,-1.38797462206206,-1.0392939638716054,-0.37534975084431815,1.5813624436860207,-2.348410308085096,-0.9049476494213308,-2.656882930015167,1.561536057768945,0.5638875300946916,-0.47944682187429133,0.3539420600530498,-0.5135199779795387,-0.0906234411538603,-1.0406035600634143,1.9575152252883732,-1.8336226329156557,0.0005518196884569486],\"y\":[-2.036158386653377,-0.7781816942974347,1.640792608476573,-0.4738608055981185,-0.36170747479840376,0.7170574090643116,-0.8901972640088935,0.15542111224360824,0.16842148205573518,-0.7624378404781994,0.6676445311926261,-0.5008312999875397,-0.14183629809542564,0.37770469615146307,1.177547024579085,-0.379578510137013,-0.7779969080814645,0.5369129846980254,0.3819636750976547,-0.8483530509658844,-0.8629937368086817,-1.5474167747744243,0.13599077249133737,-0.02370519789406686,0.8255708913577603,0.293639449547524,0.37850737435463583,-0.5086837226103097,0.4459407415852692,-0.5526591872367761,-0.9759789134411783,-0.14107027812456086,0.6827968128789753,-0.5704347120697848,0.2882354759654698,0.32201555158302814,-0.5792869703886953,0.6470959694849135,-0.7446533623021079,0.7088489240229382,0.5183027904959195,-0.7870559941595908,-0.3294836263221717,-0.840845736897288,-1.7859985371240894,-0.9087816084177032,-0.810103196119456,1.5851472901959138,1.2702325525750735,1.6810503424614647,-0.721541491810264,0.44211506970111,-0.3299773960399986,-0.1361012916371215,1.4162533790883198,-0.7915579015705827,0.9087815478659267,-0.36744419622196695,0.2605624041964697,0.43818409668521363,0.7009328503085128,0.2865205297562157,0.9699378427772057,2.0440071661428485,-2.164434885573739,-1.1558905699366222,0.6497490347234127,0.16245956749095322,-1.7138870454600397,-0.4331724808449435,-0.09748754649182939,-0.10479631959914548,-0.43353149021733123,-0.10187037619783064,-1.0564104724357057,-1.0555058271567033,0.09288054992141877,-0.2221697337192965,0.5323503361220058,-0.16101088097754562,0.7828781980514036,0.016206754381635557,-0.07773191734361144,-0.10256238294231157,-1.292394526699772,-0.22957938752731008,-1.6756411693309572,0.009428651355560447,-0.3789931812591254,0.5513478850352597,0.16629860929405813,-0.9098861056873205,-2.300633794465044,-0.9897923121378868,0.6632766469066379,0.60526923673236,-2.0090173721005544,-0.5156329401365136,1.1975640252955149,0.501908128260419],\"type\":\"scatter\"}],                        {\"legend\":{\"bgcolor\":\"#F5F6F9\",\"font\":{\"color\":\"#4D5663\"}},\"paper_bgcolor\":\"#F5F6F9\",\"plot_bgcolor\":\"#F5F6F9\",\"template\":{\"data\":{\"barpolar\":[{\"marker\":{\"line\":{\"color\":\"#E5ECF6\",\"width\":0.5},\"pattern\":{\"fillmode\":\"overlay\",\"size\":10,\"solidity\":0.2}},\"type\":\"barpolar\"}],\"bar\":[{\"error_x\":{\"color\":\"#2a3f5f\"},\"error_y\":{\"color\":\"#2a3f5f\"},\"marker\":{\"line\":{\"color\":\"#E5ECF6\",\"width\":0.5},\"pattern\":{\"fillmode\":\"overlay\",\"size\":10,\"solidity\":0.2}},\"type\":\"bar\"}],\"carpet\":[{\"aaxis\":{\"endlinecolor\":\"#2a3f5f\",\"gridcolor\":\"white\",\"linecolor\":\"white\",\"minorgridcolor\":\"white\",\"startlinecolor\":\"#2a3f5f\"},\"baxis\":{\"endlinecolor\":\"#2a3f5f\",\"gridcolor\":\"white\",\"linecolor\":\"white\",\"minorgridcolor\":\"white\",\"startlinecolor\":\"#2a3f5f\"},\"type\":\"carpet\"}],\"choropleth\":[{\"colorbar\":{\"outlinewidth\":0,\"ticks\":\"\"},\"type\":\"choropleth\"}],\"contourcarpet\":[{\"colorbar\":{\"outlinewidth\":0,\"ticks\":\"\"},\"type\":\"contourcarpet\"}],\"contour\":[{\"colorbar\":{\"outlinewidth\":0,\"ticks\":\"\"},\"colorscale\":[[0.0,\"#0d0887\"],[0.1111111111111111,\"#46039f\"],[0.2222222222222222,\"#7201a8\"],[0.3333333333333333,\"#9c179e\"],[0.4444444444444444,\"#bd3786\"],[0.5555555555555556,\"#d8576b\"],[0.6666666666666666,\"#ed7953\"],[0.7777777777777778,\"#fb9f3a\"],[0.8888888888888888,\"#fdca26\"],[1.0,\"#f0f921\"]],\"type\":\"contour\"}],\"heatmapgl\":[{\"colorbar\":{\"outlinewidth\":0,\"ticks\":\"\"},\"colorscale\":[[0.0,\"#0d0887\"],[0.1111111111111111,\"#46039f\"],[0.2222222222222222,\"#7201a8\"],[0.3333333333333333,\"#9c179e\"],[0.4444444444444444,\"#bd3786\"],[0.5555555555555556,\"#d8576b\"],[0.6666666666666666,\"#ed7953\"],[0.7777777777777778,\"#fb9f3a\"],[0.8888888888888888,\"#fdca26\"],[1.0,\"#f0f921\"]],\"type\":\"heatmapgl\"}],\"heatmap\":[{\"colorbar\":{\"outlinewidth\":0,\"ticks\":\"\"},\"colorscale\":[[0.0,\"#0d0887\"],[0.1111111111111111,\"#46039f\"],[0.2222222222222222,\"#7201a8\"],[0.3333333333333333,\"#9c179e\"],[0.4444444444444444,\"#bd3786\"],[0.5555555555555556,\"#d8576b\"],[0.6666666666666666,\"#ed7953\"],[0.7777777777777778,\"#fb9f3a\"],[0.8888888888888888,\"#fdca26\"],[1.0,\"#f0f921\"]],\"type\":\"heatmap\"}],\"histogram2dcontour\":[{\"colorbar\":{\"outlinewidth\":0,\"ticks\":\"\"},\"colorscale\":[[0.0,\"#0d0887\"],[0.1111111111111111,\"#46039f\"],[0.2222222222222222,\"#7201a8\"],[0.3333333333333333,\"#9c179e\"],[0.4444444444444444,\"#bd3786\"],[0.5555555555555556,\"#d8576b\"],[0.6666666666666666,\"#ed7953\"],[0.7777777777777778,\"#fb9f3a\"],[0.8888888888888888,\"#fdca26\"],[1.0,\"#f0f921\"]],\"type\":\"histogram2dcontour\"}],\"histogram2d\":[{\"colorbar\":{\"outlinewidth\":0,\"ticks\":\"\"},\"colorscale\":[[0.0,\"#0d0887\"],[0.1111111111111111,\"#46039f\"],[0.2222222222222222,\"#7201a8\"],[0.3333333333333333,\"#9c179e\"],[0.4444444444444444,\"#bd3786\"],[0.5555555555555556,\"#d8576b\"],[0.6666666666666666,\"#ed7953\"],[0.7777777777777778,\"#fb9f3a\"],[0.8888888888888888,\"#fdca26\"],[1.0,\"#f0f921\"]],\"type\":\"histogram2d\"}],\"histogram\":[{\"marker\":{\"pattern\":{\"fillmode\":\"overlay\",\"size\":10,\"solidity\":0.2}},\"type\":\"histogram\"}],\"mesh3d\":[{\"colorbar\":{\"outlinewidth\":0,\"ticks\":\"\"},\"type\":\"mesh3d\"}],\"parcoords\":[{\"line\":{\"colorbar\":{\"outlinewidth\":0,\"ticks\":\"\"}},\"type\":\"parcoords\"}],\"pie\":[{\"automargin\":true,\"type\":\"pie\"}],\"scatter3d\":[{\"line\":{\"colorbar\":{\"outlinewidth\":0,\"ticks\":\"\"}},\"marker\":{\"colorbar\":{\"outlinewidth\":0,\"ticks\":\"\"}},\"type\":\"scatter3d\"}],\"scattercarpet\":[{\"marker\":{\"colorbar\":{\"outlinewidth\":0,\"ticks\":\"\"}},\"type\":\"scattercarpet\"}],\"scattergeo\":[{\"marker\":{\"colorbar\":{\"outlinewidth\":0,\"ticks\":\"\"}},\"type\":\"scattergeo\"}],\"scattergl\":[{\"marker\":{\"colorbar\":{\"outlinewidth\":0,\"ticks\":\"\"}},\"type\":\"scattergl\"}],\"scattermapbox\":[{\"marker\":{\"colorbar\":{\"outlinewidth\":0,\"ticks\":\"\"}},\"type\":\"scattermapbox\"}],\"scatterpolargl\":[{\"marker\":{\"colorbar\":{\"outlinewidth\":0,\"ticks\":\"\"}},\"type\":\"scatterpolargl\"}],\"scatterpolar\":[{\"marker\":{\"colorbar\":{\"outlinewidth\":0,\"ticks\":\"\"}},\"type\":\"scatterpolar\"}],\"scatter\":[{\"marker\":{\"colorbar\":{\"outlinewidth\":0,\"ticks\":\"\"}},\"type\":\"scatter\"}],\"scatterternary\":[{\"marker\":{\"colorbar\":{\"outlinewidth\":0,\"ticks\":\"\"}},\"type\":\"scatterternary\"}],\"surface\":[{\"colorbar\":{\"outlinewidth\":0,\"ticks\":\"\"},\"colorscale\":[[0.0,\"#0d0887\"],[0.1111111111111111,\"#46039f\"],[0.2222222222222222,\"#7201a8\"],[0.3333333333333333,\"#9c179e\"],[0.4444444444444444,\"#bd3786\"],[0.5555555555555556,\"#d8576b\"],[0.6666666666666666,\"#ed7953\"],[0.7777777777777778,\"#fb9f3a\"],[0.8888888888888888,\"#fdca26\"],[1.0,\"#f0f921\"]],\"type\":\"surface\"}],\"table\":[{\"cells\":{\"fill\":{\"color\":\"#EBF0F8\"},\"line\":{\"color\":\"white\"}},\"header\":{\"fill\":{\"color\":\"#C8D4E3\"},\"line\":{\"color\":\"white\"}},\"type\":\"table\"}]},\"layout\":{\"annotationdefaults\":{\"arrowcolor\":\"#2a3f5f\",\"arrowhead\":0,\"arrowwidth\":1},\"autotypenumbers\":\"strict\",\"coloraxis\":{\"colorbar\":{\"outlinewidth\":0,\"ticks\":\"\"}},\"colorscale\":{\"diverging\":[[0,\"#8e0152\"],[0.1,\"#c51b7d\"],[0.2,\"#de77ae\"],[0.3,\"#f1b6da\"],[0.4,\"#fde0ef\"],[0.5,\"#f7f7f7\"],[0.6,\"#e6f5d0\"],[0.7,\"#b8e186\"],[0.8,\"#7fbc41\"],[0.9,\"#4d9221\"],[1,\"#276419\"]],\"sequential\":[[0.0,\"#0d0887\"],[0.1111111111111111,\"#46039f\"],[0.2222222222222222,\"#7201a8\"],[0.3333333333333333,\"#9c179e\"],[0.4444444444444444,\"#bd3786\"],[0.5555555555555556,\"#d8576b\"],[0.6666666666666666,\"#ed7953\"],[0.7777777777777778,\"#fb9f3a\"],[0.8888888888888888,\"#fdca26\"],[1.0,\"#f0f921\"]],\"sequentialminus\":[[0.0,\"#0d0887\"],[0.1111111111111111,\"#46039f\"],[0.2222222222222222,\"#7201a8\"],[0.3333333333333333,\"#9c179e\"],[0.4444444444444444,\"#bd3786\"],[0.5555555555555556,\"#d8576b\"],[0.6666666666666666,\"#ed7953\"],[0.7777777777777778,\"#fb9f3a\"],[0.8888888888888888,\"#fdca26\"],[1.0,\"#f0f921\"]]},\"colorway\":[\"#636efa\",\"#EF553B\",\"#00cc96\",\"#ab63fa\",\"#FFA15A\",\"#19d3f3\",\"#FF6692\",\"#B6E880\",\"#FF97FF\",\"#FECB52\"],\"font\":{\"color\":\"#2a3f5f\"},\"geo\":{\"bgcolor\":\"white\",\"lakecolor\":\"white\",\"landcolor\":\"#E5ECF6\",\"showlakes\":true,\"showland\":true,\"subunitcolor\":\"white\"},\"hoverlabel\":{\"align\":\"left\"},\"hovermode\":\"closest\",\"mapbox\":{\"style\":\"light\"},\"paper_bgcolor\":\"white\",\"plot_bgcolor\":\"#E5ECF6\",\"polar\":{\"angularaxis\":{\"gridcolor\":\"white\",\"linecolor\":\"white\",\"ticks\":\"\"},\"bgcolor\":\"#E5ECF6\",\"radialaxis\":{\"gridcolor\":\"white\",\"linecolor\":\"white\",\"ticks\":\"\"}},\"scene\":{\"xaxis\":{\"backgroundcolor\":\"#E5ECF6\",\"gridcolor\":\"white\",\"gridwidth\":2,\"linecolor\":\"white\",\"showbackground\":true,\"ticks\":\"\",\"zerolinecolor\":\"white\"},\"yaxis\":{\"backgroundcolor\":\"#E5ECF6\",\"gridcolor\":\"white\",\"gridwidth\":2,\"linecolor\":\"white\",\"showbackground\":true,\"ticks\":\"\",\"zerolinecolor\":\"white\"},\"zaxis\":{\"backgroundcolor\":\"#E5ECF6\",\"gridcolor\":\"white\",\"gridwidth\":2,\"linecolor\":\"white\",\"showbackground\":true,\"ticks\":\"\",\"zerolinecolor\":\"white\"}},\"shapedefaults\":{\"line\":{\"color\":\"#2a3f5f\"}},\"ternary\":{\"aaxis\":{\"gridcolor\":\"white\",\"linecolor\":\"white\",\"ticks\":\"\"},\"baxis\":{\"gridcolor\":\"white\",\"linecolor\":\"white\",\"ticks\":\"\"},\"bgcolor\":\"#E5ECF6\",\"caxis\":{\"gridcolor\":\"white\",\"linecolor\":\"white\",\"ticks\":\"\"}},\"title\":{\"x\":0.05},\"xaxis\":{\"automargin\":true,\"gridcolor\":\"white\",\"linecolor\":\"white\",\"ticks\":\"\",\"title\":{\"standoff\":15},\"zerolinecolor\":\"white\",\"zerolinewidth\":2},\"yaxis\":{\"automargin\":true,\"gridcolor\":\"white\",\"linecolor\":\"white\",\"ticks\":\"\",\"title\":{\"standoff\":15},\"zerolinecolor\":\"white\",\"zerolinewidth\":2}}},\"title\":{\"font\":{\"color\":\"#4D5663\"}},\"xaxis\":{\"gridcolor\":\"#E1E5ED\",\"showgrid\":true,\"tickfont\":{\"color\":\"#4D5663\"},\"title\":{\"font\":{\"color\":\"#4D5663\"},\"text\":\"\"},\"zerolinecolor\":\"#E1E5ED\"},\"yaxis\":{\"gridcolor\":\"#E1E5ED\",\"showgrid\":true,\"tickfont\":{\"color\":\"#4D5663\"},\"title\":{\"font\":{\"color\":\"#4D5663\"},\"text\":\"\"},\"zerolinecolor\":\"#E1E5ED\"}},                        {\"showLink\": true, \"linkText\": \"Export to plot.ly\", \"plotlyServerURL\": \"https://plot.ly\", \"responsive\": true}                    ).then(function(){\n",
       "                            \n",
       "var gd = document.getElementById('05ae0b7d-6aa9-4a58-b9c5-72f50c1abb49');\n",
       "var x = new MutationObserver(function (mutations, observer) {{\n",
       "        var display = window.getComputedStyle(gd).display;\n",
       "        if (!display || display === 'none') {{\n",
       "            console.log([gd, 'removed!']);\n",
       "            Plotly.purge(gd);\n",
       "            observer.disconnect();\n",
       "        }}\n",
       "}});\n",
       "\n",
       "// Listen for the removal of the full notebook cells\n",
       "var notebookContainer = gd.closest('#notebook-container');\n",
       "if (notebookContainer) {{\n",
       "    x.observe(notebookContainer, {childList: true});\n",
       "}}\n",
       "\n",
       "// Listen for the clearing of the current output cell\n",
       "var outputEl = gd.closest('.output');\n",
       "if (outputEl) {{\n",
       "    x.observe(outputEl, {childList: true});\n",
       "}}\n",
       "\n",
       "                        })                };                });            </script>        </div>"
      ]
     },
     "metadata": {},
     "output_type": "display_data"
    }
   ],
   "source": [
    "df.iplot(kind='scatter',x='A',y='B',mode='markers',size=10)"
   ]
  },
  {
   "cell_type": "markdown",
   "metadata": {},
   "source": [
    "## Bar Plots"
   ]
  },
  {
   "cell_type": "code",
   "execution_count": 14,
   "metadata": {},
   "outputs": [
    {
     "data": {
      "application/vnd.plotly.v1+json": {
       "config": {
        "linkText": "Export to plot.ly",
        "plotlyServerURL": "https://plot.ly",
        "showLink": true
       },
       "data": [
        {
         "marker": {
          "color": "rgba(255, 153, 51, 0.6)",
          "line": {
           "color": "rgba(255, 153, 51, 1.0)",
           "width": 1
          }
         },
         "name": "Values",
         "orientation": "v",
         "text": "",
         "type": "bar",
         "x": [
          "A",
          "B",
          "C"
         ],
         "y": [
          32,
          43,
          50
         ]
        }
       ],
       "layout": {
        "legend": {
         "bgcolor": "#F5F6F9",
         "font": {
          "color": "#4D5663"
         }
        },
        "paper_bgcolor": "#F5F6F9",
        "plot_bgcolor": "#F5F6F9",
        "template": {
         "data": {
          "bar": [
           {
            "error_x": {
             "color": "#2a3f5f"
            },
            "error_y": {
             "color": "#2a3f5f"
            },
            "marker": {
             "line": {
              "color": "#E5ECF6",
              "width": 0.5
             },
             "pattern": {
              "fillmode": "overlay",
              "size": 10,
              "solidity": 0.2
             }
            },
            "type": "bar"
           }
          ],
          "barpolar": [
           {
            "marker": {
             "line": {
              "color": "#E5ECF6",
              "width": 0.5
             },
             "pattern": {
              "fillmode": "overlay",
              "size": 10,
              "solidity": 0.2
             }
            },
            "type": "barpolar"
           }
          ],
          "carpet": [
           {
            "aaxis": {
             "endlinecolor": "#2a3f5f",
             "gridcolor": "white",
             "linecolor": "white",
             "minorgridcolor": "white",
             "startlinecolor": "#2a3f5f"
            },
            "baxis": {
             "endlinecolor": "#2a3f5f",
             "gridcolor": "white",
             "linecolor": "white",
             "minorgridcolor": "white",
             "startlinecolor": "#2a3f5f"
            },
            "type": "carpet"
           }
          ],
          "choropleth": [
           {
            "colorbar": {
             "outlinewidth": 0,
             "ticks": ""
            },
            "type": "choropleth"
           }
          ],
          "contour": [
           {
            "colorbar": {
             "outlinewidth": 0,
             "ticks": ""
            },
            "colorscale": [
             [
              0,
              "#0d0887"
             ],
             [
              0.1111111111111111,
              "#46039f"
             ],
             [
              0.2222222222222222,
              "#7201a8"
             ],
             [
              0.3333333333333333,
              "#9c179e"
             ],
             [
              0.4444444444444444,
              "#bd3786"
             ],
             [
              0.5555555555555556,
              "#d8576b"
             ],
             [
              0.6666666666666666,
              "#ed7953"
             ],
             [
              0.7777777777777778,
              "#fb9f3a"
             ],
             [
              0.8888888888888888,
              "#fdca26"
             ],
             [
              1,
              "#f0f921"
             ]
            ],
            "type": "contour"
           }
          ],
          "contourcarpet": [
           {
            "colorbar": {
             "outlinewidth": 0,
             "ticks": ""
            },
            "type": "contourcarpet"
           }
          ],
          "heatmap": [
           {
            "colorbar": {
             "outlinewidth": 0,
             "ticks": ""
            },
            "colorscale": [
             [
              0,
              "#0d0887"
             ],
             [
              0.1111111111111111,
              "#46039f"
             ],
             [
              0.2222222222222222,
              "#7201a8"
             ],
             [
              0.3333333333333333,
              "#9c179e"
             ],
             [
              0.4444444444444444,
              "#bd3786"
             ],
             [
              0.5555555555555556,
              "#d8576b"
             ],
             [
              0.6666666666666666,
              "#ed7953"
             ],
             [
              0.7777777777777778,
              "#fb9f3a"
             ],
             [
              0.8888888888888888,
              "#fdca26"
             ],
             [
              1,
              "#f0f921"
             ]
            ],
            "type": "heatmap"
           }
          ],
          "heatmapgl": [
           {
            "colorbar": {
             "outlinewidth": 0,
             "ticks": ""
            },
            "colorscale": [
             [
              0,
              "#0d0887"
             ],
             [
              0.1111111111111111,
              "#46039f"
             ],
             [
              0.2222222222222222,
              "#7201a8"
             ],
             [
              0.3333333333333333,
              "#9c179e"
             ],
             [
              0.4444444444444444,
              "#bd3786"
             ],
             [
              0.5555555555555556,
              "#d8576b"
             ],
             [
              0.6666666666666666,
              "#ed7953"
             ],
             [
              0.7777777777777778,
              "#fb9f3a"
             ],
             [
              0.8888888888888888,
              "#fdca26"
             ],
             [
              1,
              "#f0f921"
             ]
            ],
            "type": "heatmapgl"
           }
          ],
          "histogram": [
           {
            "marker": {
             "pattern": {
              "fillmode": "overlay",
              "size": 10,
              "solidity": 0.2
             }
            },
            "type": "histogram"
           }
          ],
          "histogram2d": [
           {
            "colorbar": {
             "outlinewidth": 0,
             "ticks": ""
            },
            "colorscale": [
             [
              0,
              "#0d0887"
             ],
             [
              0.1111111111111111,
              "#46039f"
             ],
             [
              0.2222222222222222,
              "#7201a8"
             ],
             [
              0.3333333333333333,
              "#9c179e"
             ],
             [
              0.4444444444444444,
              "#bd3786"
             ],
             [
              0.5555555555555556,
              "#d8576b"
             ],
             [
              0.6666666666666666,
              "#ed7953"
             ],
             [
              0.7777777777777778,
              "#fb9f3a"
             ],
             [
              0.8888888888888888,
              "#fdca26"
             ],
             [
              1,
              "#f0f921"
             ]
            ],
            "type": "histogram2d"
           }
          ],
          "histogram2dcontour": [
           {
            "colorbar": {
             "outlinewidth": 0,
             "ticks": ""
            },
            "colorscale": [
             [
              0,
              "#0d0887"
             ],
             [
              0.1111111111111111,
              "#46039f"
             ],
             [
              0.2222222222222222,
              "#7201a8"
             ],
             [
              0.3333333333333333,
              "#9c179e"
             ],
             [
              0.4444444444444444,
              "#bd3786"
             ],
             [
              0.5555555555555556,
              "#d8576b"
             ],
             [
              0.6666666666666666,
              "#ed7953"
             ],
             [
              0.7777777777777778,
              "#fb9f3a"
             ],
             [
              0.8888888888888888,
              "#fdca26"
             ],
             [
              1,
              "#f0f921"
             ]
            ],
            "type": "histogram2dcontour"
           }
          ],
          "mesh3d": [
           {
            "colorbar": {
             "outlinewidth": 0,
             "ticks": ""
            },
            "type": "mesh3d"
           }
          ],
          "parcoords": [
           {
            "line": {
             "colorbar": {
              "outlinewidth": 0,
              "ticks": ""
             }
            },
            "type": "parcoords"
           }
          ],
          "pie": [
           {
            "automargin": true,
            "type": "pie"
           }
          ],
          "scatter": [
           {
            "marker": {
             "colorbar": {
              "outlinewidth": 0,
              "ticks": ""
             }
            },
            "type": "scatter"
           }
          ],
          "scatter3d": [
           {
            "line": {
             "colorbar": {
              "outlinewidth": 0,
              "ticks": ""
             }
            },
            "marker": {
             "colorbar": {
              "outlinewidth": 0,
              "ticks": ""
             }
            },
            "type": "scatter3d"
           }
          ],
          "scattercarpet": [
           {
            "marker": {
             "colorbar": {
              "outlinewidth": 0,
              "ticks": ""
             }
            },
            "type": "scattercarpet"
           }
          ],
          "scattergeo": [
           {
            "marker": {
             "colorbar": {
              "outlinewidth": 0,
              "ticks": ""
             }
            },
            "type": "scattergeo"
           }
          ],
          "scattergl": [
           {
            "marker": {
             "colorbar": {
              "outlinewidth": 0,
              "ticks": ""
             }
            },
            "type": "scattergl"
           }
          ],
          "scattermapbox": [
           {
            "marker": {
             "colorbar": {
              "outlinewidth": 0,
              "ticks": ""
             }
            },
            "type": "scattermapbox"
           }
          ],
          "scatterpolar": [
           {
            "marker": {
             "colorbar": {
              "outlinewidth": 0,
              "ticks": ""
             }
            },
            "type": "scatterpolar"
           }
          ],
          "scatterpolargl": [
           {
            "marker": {
             "colorbar": {
              "outlinewidth": 0,
              "ticks": ""
             }
            },
            "type": "scatterpolargl"
           }
          ],
          "scatterternary": [
           {
            "marker": {
             "colorbar": {
              "outlinewidth": 0,
              "ticks": ""
             }
            },
            "type": "scatterternary"
           }
          ],
          "surface": [
           {
            "colorbar": {
             "outlinewidth": 0,
             "ticks": ""
            },
            "colorscale": [
             [
              0,
              "#0d0887"
             ],
             [
              0.1111111111111111,
              "#46039f"
             ],
             [
              0.2222222222222222,
              "#7201a8"
             ],
             [
              0.3333333333333333,
              "#9c179e"
             ],
             [
              0.4444444444444444,
              "#bd3786"
             ],
             [
              0.5555555555555556,
              "#d8576b"
             ],
             [
              0.6666666666666666,
              "#ed7953"
             ],
             [
              0.7777777777777778,
              "#fb9f3a"
             ],
             [
              0.8888888888888888,
              "#fdca26"
             ],
             [
              1,
              "#f0f921"
             ]
            ],
            "type": "surface"
           }
          ],
          "table": [
           {
            "cells": {
             "fill": {
              "color": "#EBF0F8"
             },
             "line": {
              "color": "white"
             }
            },
            "header": {
             "fill": {
              "color": "#C8D4E3"
             },
             "line": {
              "color": "white"
             }
            },
            "type": "table"
           }
          ]
         },
         "layout": {
          "annotationdefaults": {
           "arrowcolor": "#2a3f5f",
           "arrowhead": 0,
           "arrowwidth": 1
          },
          "autotypenumbers": "strict",
          "coloraxis": {
           "colorbar": {
            "outlinewidth": 0,
            "ticks": ""
           }
          },
          "colorscale": {
           "diverging": [
            [
             0,
             "#8e0152"
            ],
            [
             0.1,
             "#c51b7d"
            ],
            [
             0.2,
             "#de77ae"
            ],
            [
             0.3,
             "#f1b6da"
            ],
            [
             0.4,
             "#fde0ef"
            ],
            [
             0.5,
             "#f7f7f7"
            ],
            [
             0.6,
             "#e6f5d0"
            ],
            [
             0.7,
             "#b8e186"
            ],
            [
             0.8,
             "#7fbc41"
            ],
            [
             0.9,
             "#4d9221"
            ],
            [
             1,
             "#276419"
            ]
           ],
           "sequential": [
            [
             0,
             "#0d0887"
            ],
            [
             0.1111111111111111,
             "#46039f"
            ],
            [
             0.2222222222222222,
             "#7201a8"
            ],
            [
             0.3333333333333333,
             "#9c179e"
            ],
            [
             0.4444444444444444,
             "#bd3786"
            ],
            [
             0.5555555555555556,
             "#d8576b"
            ],
            [
             0.6666666666666666,
             "#ed7953"
            ],
            [
             0.7777777777777778,
             "#fb9f3a"
            ],
            [
             0.8888888888888888,
             "#fdca26"
            ],
            [
             1,
             "#f0f921"
            ]
           ],
           "sequentialminus": [
            [
             0,
             "#0d0887"
            ],
            [
             0.1111111111111111,
             "#46039f"
            ],
            [
             0.2222222222222222,
             "#7201a8"
            ],
            [
             0.3333333333333333,
             "#9c179e"
            ],
            [
             0.4444444444444444,
             "#bd3786"
            ],
            [
             0.5555555555555556,
             "#d8576b"
            ],
            [
             0.6666666666666666,
             "#ed7953"
            ],
            [
             0.7777777777777778,
             "#fb9f3a"
            ],
            [
             0.8888888888888888,
             "#fdca26"
            ],
            [
             1,
             "#f0f921"
            ]
           ]
          },
          "colorway": [
           "#636efa",
           "#EF553B",
           "#00cc96",
           "#ab63fa",
           "#FFA15A",
           "#19d3f3",
           "#FF6692",
           "#B6E880",
           "#FF97FF",
           "#FECB52"
          ],
          "font": {
           "color": "#2a3f5f"
          },
          "geo": {
           "bgcolor": "white",
           "lakecolor": "white",
           "landcolor": "#E5ECF6",
           "showlakes": true,
           "showland": true,
           "subunitcolor": "white"
          },
          "hoverlabel": {
           "align": "left"
          },
          "hovermode": "closest",
          "mapbox": {
           "style": "light"
          },
          "paper_bgcolor": "white",
          "plot_bgcolor": "#E5ECF6",
          "polar": {
           "angularaxis": {
            "gridcolor": "white",
            "linecolor": "white",
            "ticks": ""
           },
           "bgcolor": "#E5ECF6",
           "radialaxis": {
            "gridcolor": "white",
            "linecolor": "white",
            "ticks": ""
           }
          },
          "scene": {
           "xaxis": {
            "backgroundcolor": "#E5ECF6",
            "gridcolor": "white",
            "gridwidth": 2,
            "linecolor": "white",
            "showbackground": true,
            "ticks": "",
            "zerolinecolor": "white"
           },
           "yaxis": {
            "backgroundcolor": "#E5ECF6",
            "gridcolor": "white",
            "gridwidth": 2,
            "linecolor": "white",
            "showbackground": true,
            "ticks": "",
            "zerolinecolor": "white"
           },
           "zaxis": {
            "backgroundcolor": "#E5ECF6",
            "gridcolor": "white",
            "gridwidth": 2,
            "linecolor": "white",
            "showbackground": true,
            "ticks": "",
            "zerolinecolor": "white"
           }
          },
          "shapedefaults": {
           "line": {
            "color": "#2a3f5f"
           }
          },
          "ternary": {
           "aaxis": {
            "gridcolor": "white",
            "linecolor": "white",
            "ticks": ""
           },
           "baxis": {
            "gridcolor": "white",
            "linecolor": "white",
            "ticks": ""
           },
           "bgcolor": "#E5ECF6",
           "caxis": {
            "gridcolor": "white",
            "linecolor": "white",
            "ticks": ""
           }
          },
          "title": {
           "x": 0.05
          },
          "xaxis": {
           "automargin": true,
           "gridcolor": "white",
           "linecolor": "white",
           "ticks": "",
           "title": {
            "standoff": 15
           },
           "zerolinecolor": "white",
           "zerolinewidth": 2
          },
          "yaxis": {
           "automargin": true,
           "gridcolor": "white",
           "linecolor": "white",
           "ticks": "",
           "title": {
            "standoff": 15
           },
           "zerolinecolor": "white",
           "zerolinewidth": 2
          }
         }
        },
        "title": {
         "font": {
          "color": "#4D5663"
         }
        },
        "xaxis": {
         "gridcolor": "#E1E5ED",
         "showgrid": true,
         "tickfont": {
          "color": "#4D5663"
         },
         "title": {
          "font": {
           "color": "#4D5663"
          },
          "text": ""
         },
         "zerolinecolor": "#E1E5ED"
        },
        "yaxis": {
         "gridcolor": "#E1E5ED",
         "showgrid": true,
         "tickfont": {
          "color": "#4D5663"
         },
         "title": {
          "font": {
           "color": "#4D5663"
          },
          "text": ""
         },
         "zerolinecolor": "#E1E5ED"
        }
       }
      },
      "text/html": [
       "<div>                            <div id=\"5190e836-c3c3-4eb9-8fc5-2f5a2c44a0a3\" class=\"plotly-graph-div\" style=\"height:525px; width:100%;\"></div>            <script type=\"text/javascript\">                require([\"plotly\"], function(Plotly) {                    window.PLOTLYENV=window.PLOTLYENV || {};\n",
       "                    window.PLOTLYENV.BASE_URL='https://plot.ly';                                    if (document.getElementById(\"5190e836-c3c3-4eb9-8fc5-2f5a2c44a0a3\")) {                    Plotly.newPlot(                        \"5190e836-c3c3-4eb9-8fc5-2f5a2c44a0a3\",                        [{\"marker\":{\"color\":\"rgba(255, 153, 51, 0.6)\",\"line\":{\"color\":\"rgba(255, 153, 51, 1.0)\",\"width\":1}},\"name\":\"Values\",\"orientation\":\"v\",\"text\":\"\",\"x\":[\"A\",\"B\",\"C\"],\"y\":[32,43,50],\"type\":\"bar\"}],                        {\"legend\":{\"bgcolor\":\"#F5F6F9\",\"font\":{\"color\":\"#4D5663\"}},\"paper_bgcolor\":\"#F5F6F9\",\"plot_bgcolor\":\"#F5F6F9\",\"template\":{\"data\":{\"barpolar\":[{\"marker\":{\"line\":{\"color\":\"#E5ECF6\",\"width\":0.5},\"pattern\":{\"fillmode\":\"overlay\",\"size\":10,\"solidity\":0.2}},\"type\":\"barpolar\"}],\"bar\":[{\"error_x\":{\"color\":\"#2a3f5f\"},\"error_y\":{\"color\":\"#2a3f5f\"},\"marker\":{\"line\":{\"color\":\"#E5ECF6\",\"width\":0.5},\"pattern\":{\"fillmode\":\"overlay\",\"size\":10,\"solidity\":0.2}},\"type\":\"bar\"}],\"carpet\":[{\"aaxis\":{\"endlinecolor\":\"#2a3f5f\",\"gridcolor\":\"white\",\"linecolor\":\"white\",\"minorgridcolor\":\"white\",\"startlinecolor\":\"#2a3f5f\"},\"baxis\":{\"endlinecolor\":\"#2a3f5f\",\"gridcolor\":\"white\",\"linecolor\":\"white\",\"minorgridcolor\":\"white\",\"startlinecolor\":\"#2a3f5f\"},\"type\":\"carpet\"}],\"choropleth\":[{\"colorbar\":{\"outlinewidth\":0,\"ticks\":\"\"},\"type\":\"choropleth\"}],\"contourcarpet\":[{\"colorbar\":{\"outlinewidth\":0,\"ticks\":\"\"},\"type\":\"contourcarpet\"}],\"contour\":[{\"colorbar\":{\"outlinewidth\":0,\"ticks\":\"\"},\"colorscale\":[[0.0,\"#0d0887\"],[0.1111111111111111,\"#46039f\"],[0.2222222222222222,\"#7201a8\"],[0.3333333333333333,\"#9c179e\"],[0.4444444444444444,\"#bd3786\"],[0.5555555555555556,\"#d8576b\"],[0.6666666666666666,\"#ed7953\"],[0.7777777777777778,\"#fb9f3a\"],[0.8888888888888888,\"#fdca26\"],[1.0,\"#f0f921\"]],\"type\":\"contour\"}],\"heatmapgl\":[{\"colorbar\":{\"outlinewidth\":0,\"ticks\":\"\"},\"colorscale\":[[0.0,\"#0d0887\"],[0.1111111111111111,\"#46039f\"],[0.2222222222222222,\"#7201a8\"],[0.3333333333333333,\"#9c179e\"],[0.4444444444444444,\"#bd3786\"],[0.5555555555555556,\"#d8576b\"],[0.6666666666666666,\"#ed7953\"],[0.7777777777777778,\"#fb9f3a\"],[0.8888888888888888,\"#fdca26\"],[1.0,\"#f0f921\"]],\"type\":\"heatmapgl\"}],\"heatmap\":[{\"colorbar\":{\"outlinewidth\":0,\"ticks\":\"\"},\"colorscale\":[[0.0,\"#0d0887\"],[0.1111111111111111,\"#46039f\"],[0.2222222222222222,\"#7201a8\"],[0.3333333333333333,\"#9c179e\"],[0.4444444444444444,\"#bd3786\"],[0.5555555555555556,\"#d8576b\"],[0.6666666666666666,\"#ed7953\"],[0.7777777777777778,\"#fb9f3a\"],[0.8888888888888888,\"#fdca26\"],[1.0,\"#f0f921\"]],\"type\":\"heatmap\"}],\"histogram2dcontour\":[{\"colorbar\":{\"outlinewidth\":0,\"ticks\":\"\"},\"colorscale\":[[0.0,\"#0d0887\"],[0.1111111111111111,\"#46039f\"],[0.2222222222222222,\"#7201a8\"],[0.3333333333333333,\"#9c179e\"],[0.4444444444444444,\"#bd3786\"],[0.5555555555555556,\"#d8576b\"],[0.6666666666666666,\"#ed7953\"],[0.7777777777777778,\"#fb9f3a\"],[0.8888888888888888,\"#fdca26\"],[1.0,\"#f0f921\"]],\"type\":\"histogram2dcontour\"}],\"histogram2d\":[{\"colorbar\":{\"outlinewidth\":0,\"ticks\":\"\"},\"colorscale\":[[0.0,\"#0d0887\"],[0.1111111111111111,\"#46039f\"],[0.2222222222222222,\"#7201a8\"],[0.3333333333333333,\"#9c179e\"],[0.4444444444444444,\"#bd3786\"],[0.5555555555555556,\"#d8576b\"],[0.6666666666666666,\"#ed7953\"],[0.7777777777777778,\"#fb9f3a\"],[0.8888888888888888,\"#fdca26\"],[1.0,\"#f0f921\"]],\"type\":\"histogram2d\"}],\"histogram\":[{\"marker\":{\"pattern\":{\"fillmode\":\"overlay\",\"size\":10,\"solidity\":0.2}},\"type\":\"histogram\"}],\"mesh3d\":[{\"colorbar\":{\"outlinewidth\":0,\"ticks\":\"\"},\"type\":\"mesh3d\"}],\"parcoords\":[{\"line\":{\"colorbar\":{\"outlinewidth\":0,\"ticks\":\"\"}},\"type\":\"parcoords\"}],\"pie\":[{\"automargin\":true,\"type\":\"pie\"}],\"scatter3d\":[{\"line\":{\"colorbar\":{\"outlinewidth\":0,\"ticks\":\"\"}},\"marker\":{\"colorbar\":{\"outlinewidth\":0,\"ticks\":\"\"}},\"type\":\"scatter3d\"}],\"scattercarpet\":[{\"marker\":{\"colorbar\":{\"outlinewidth\":0,\"ticks\":\"\"}},\"type\":\"scattercarpet\"}],\"scattergeo\":[{\"marker\":{\"colorbar\":{\"outlinewidth\":0,\"ticks\":\"\"}},\"type\":\"scattergeo\"}],\"scattergl\":[{\"marker\":{\"colorbar\":{\"outlinewidth\":0,\"ticks\":\"\"}},\"type\":\"scattergl\"}],\"scattermapbox\":[{\"marker\":{\"colorbar\":{\"outlinewidth\":0,\"ticks\":\"\"}},\"type\":\"scattermapbox\"}],\"scatterpolargl\":[{\"marker\":{\"colorbar\":{\"outlinewidth\":0,\"ticks\":\"\"}},\"type\":\"scatterpolargl\"}],\"scatterpolar\":[{\"marker\":{\"colorbar\":{\"outlinewidth\":0,\"ticks\":\"\"}},\"type\":\"scatterpolar\"}],\"scatter\":[{\"marker\":{\"colorbar\":{\"outlinewidth\":0,\"ticks\":\"\"}},\"type\":\"scatter\"}],\"scatterternary\":[{\"marker\":{\"colorbar\":{\"outlinewidth\":0,\"ticks\":\"\"}},\"type\":\"scatterternary\"}],\"surface\":[{\"colorbar\":{\"outlinewidth\":0,\"ticks\":\"\"},\"colorscale\":[[0.0,\"#0d0887\"],[0.1111111111111111,\"#46039f\"],[0.2222222222222222,\"#7201a8\"],[0.3333333333333333,\"#9c179e\"],[0.4444444444444444,\"#bd3786\"],[0.5555555555555556,\"#d8576b\"],[0.6666666666666666,\"#ed7953\"],[0.7777777777777778,\"#fb9f3a\"],[0.8888888888888888,\"#fdca26\"],[1.0,\"#f0f921\"]],\"type\":\"surface\"}],\"table\":[{\"cells\":{\"fill\":{\"color\":\"#EBF0F8\"},\"line\":{\"color\":\"white\"}},\"header\":{\"fill\":{\"color\":\"#C8D4E3\"},\"line\":{\"color\":\"white\"}},\"type\":\"table\"}]},\"layout\":{\"annotationdefaults\":{\"arrowcolor\":\"#2a3f5f\",\"arrowhead\":0,\"arrowwidth\":1},\"autotypenumbers\":\"strict\",\"coloraxis\":{\"colorbar\":{\"outlinewidth\":0,\"ticks\":\"\"}},\"colorscale\":{\"diverging\":[[0,\"#8e0152\"],[0.1,\"#c51b7d\"],[0.2,\"#de77ae\"],[0.3,\"#f1b6da\"],[0.4,\"#fde0ef\"],[0.5,\"#f7f7f7\"],[0.6,\"#e6f5d0\"],[0.7,\"#b8e186\"],[0.8,\"#7fbc41\"],[0.9,\"#4d9221\"],[1,\"#276419\"]],\"sequential\":[[0.0,\"#0d0887\"],[0.1111111111111111,\"#46039f\"],[0.2222222222222222,\"#7201a8\"],[0.3333333333333333,\"#9c179e\"],[0.4444444444444444,\"#bd3786\"],[0.5555555555555556,\"#d8576b\"],[0.6666666666666666,\"#ed7953\"],[0.7777777777777778,\"#fb9f3a\"],[0.8888888888888888,\"#fdca26\"],[1.0,\"#f0f921\"]],\"sequentialminus\":[[0.0,\"#0d0887\"],[0.1111111111111111,\"#46039f\"],[0.2222222222222222,\"#7201a8\"],[0.3333333333333333,\"#9c179e\"],[0.4444444444444444,\"#bd3786\"],[0.5555555555555556,\"#d8576b\"],[0.6666666666666666,\"#ed7953\"],[0.7777777777777778,\"#fb9f3a\"],[0.8888888888888888,\"#fdca26\"],[1.0,\"#f0f921\"]]},\"colorway\":[\"#636efa\",\"#EF553B\",\"#00cc96\",\"#ab63fa\",\"#FFA15A\",\"#19d3f3\",\"#FF6692\",\"#B6E880\",\"#FF97FF\",\"#FECB52\"],\"font\":{\"color\":\"#2a3f5f\"},\"geo\":{\"bgcolor\":\"white\",\"lakecolor\":\"white\",\"landcolor\":\"#E5ECF6\",\"showlakes\":true,\"showland\":true,\"subunitcolor\":\"white\"},\"hoverlabel\":{\"align\":\"left\"},\"hovermode\":\"closest\",\"mapbox\":{\"style\":\"light\"},\"paper_bgcolor\":\"white\",\"plot_bgcolor\":\"#E5ECF6\",\"polar\":{\"angularaxis\":{\"gridcolor\":\"white\",\"linecolor\":\"white\",\"ticks\":\"\"},\"bgcolor\":\"#E5ECF6\",\"radialaxis\":{\"gridcolor\":\"white\",\"linecolor\":\"white\",\"ticks\":\"\"}},\"scene\":{\"xaxis\":{\"backgroundcolor\":\"#E5ECF6\",\"gridcolor\":\"white\",\"gridwidth\":2,\"linecolor\":\"white\",\"showbackground\":true,\"ticks\":\"\",\"zerolinecolor\":\"white\"},\"yaxis\":{\"backgroundcolor\":\"#E5ECF6\",\"gridcolor\":\"white\",\"gridwidth\":2,\"linecolor\":\"white\",\"showbackground\":true,\"ticks\":\"\",\"zerolinecolor\":\"white\"},\"zaxis\":{\"backgroundcolor\":\"#E5ECF6\",\"gridcolor\":\"white\",\"gridwidth\":2,\"linecolor\":\"white\",\"showbackground\":true,\"ticks\":\"\",\"zerolinecolor\":\"white\"}},\"shapedefaults\":{\"line\":{\"color\":\"#2a3f5f\"}},\"ternary\":{\"aaxis\":{\"gridcolor\":\"white\",\"linecolor\":\"white\",\"ticks\":\"\"},\"baxis\":{\"gridcolor\":\"white\",\"linecolor\":\"white\",\"ticks\":\"\"},\"bgcolor\":\"#E5ECF6\",\"caxis\":{\"gridcolor\":\"white\",\"linecolor\":\"white\",\"ticks\":\"\"}},\"title\":{\"x\":0.05},\"xaxis\":{\"automargin\":true,\"gridcolor\":\"white\",\"linecolor\":\"white\",\"ticks\":\"\",\"title\":{\"standoff\":15},\"zerolinecolor\":\"white\",\"zerolinewidth\":2},\"yaxis\":{\"automargin\":true,\"gridcolor\":\"white\",\"linecolor\":\"white\",\"ticks\":\"\",\"title\":{\"standoff\":15},\"zerolinecolor\":\"white\",\"zerolinewidth\":2}}},\"title\":{\"font\":{\"color\":\"#4D5663\"}},\"xaxis\":{\"gridcolor\":\"#E1E5ED\",\"showgrid\":true,\"tickfont\":{\"color\":\"#4D5663\"},\"title\":{\"font\":{\"color\":\"#4D5663\"},\"text\":\"\"},\"zerolinecolor\":\"#E1E5ED\"},\"yaxis\":{\"gridcolor\":\"#E1E5ED\",\"showgrid\":true,\"tickfont\":{\"color\":\"#4D5663\"},\"title\":{\"font\":{\"color\":\"#4D5663\"},\"text\":\"\"},\"zerolinecolor\":\"#E1E5ED\"}},                        {\"showLink\": true, \"linkText\": \"Export to plot.ly\", \"plotlyServerURL\": \"https://plot.ly\", \"responsive\": true}                    ).then(function(){\n",
       "                            \n",
       "var gd = document.getElementById('5190e836-c3c3-4eb9-8fc5-2f5a2c44a0a3');\n",
       "var x = new MutationObserver(function (mutations, observer) {{\n",
       "        var display = window.getComputedStyle(gd).display;\n",
       "        if (!display || display === 'none') {{\n",
       "            console.log([gd, 'removed!']);\n",
       "            Plotly.purge(gd);\n",
       "            observer.disconnect();\n",
       "        }}\n",
       "}});\n",
       "\n",
       "// Listen for the removal of the full notebook cells\n",
       "var notebookContainer = gd.closest('#notebook-container');\n",
       "if (notebookContainer) {{\n",
       "    x.observe(notebookContainer, {childList: true});\n",
       "}}\n",
       "\n",
       "// Listen for the clearing of the current output cell\n",
       "var outputEl = gd.closest('.output');\n",
       "if (outputEl) {{\n",
       "    x.observe(outputEl, {childList: true});\n",
       "}}\n",
       "\n",
       "                        })                };                });            </script>        </div>"
      ]
     },
     "metadata": {},
     "output_type": "display_data"
    }
   ],
   "source": [
    "df2.iplot(kind='bar',x='Category',y='Values')"
   ]
  },
  {
   "cell_type": "code",
   "execution_count": 15,
   "metadata": {},
   "outputs": [
    {
     "data": {
      "application/vnd.plotly.v1+json": {
       "config": {
        "linkText": "Export to plot.ly",
        "plotlyServerURL": "https://plot.ly",
        "showLink": true
       },
       "data": [
        {
         "marker": {
          "color": "rgba(255, 153, 51, 0.6)",
          "line": {
           "color": "rgba(255, 153, 51, 1.0)",
           "width": 1
          }
         },
         "name": "None",
         "orientation": "v",
         "text": "",
         "type": "bar",
         "x": [
          "A",
          "B",
          "C",
          "D"
         ],
         "y": [
          100,
          100,
          100,
          100
         ]
        }
       ],
       "layout": {
        "legend": {
         "bgcolor": "#F5F6F9",
         "font": {
          "color": "#4D5663"
         }
        },
        "paper_bgcolor": "#F5F6F9",
        "plot_bgcolor": "#F5F6F9",
        "template": {
         "data": {
          "bar": [
           {
            "error_x": {
             "color": "#2a3f5f"
            },
            "error_y": {
             "color": "#2a3f5f"
            },
            "marker": {
             "line": {
              "color": "#E5ECF6",
              "width": 0.5
             },
             "pattern": {
              "fillmode": "overlay",
              "size": 10,
              "solidity": 0.2
             }
            },
            "type": "bar"
           }
          ],
          "barpolar": [
           {
            "marker": {
             "line": {
              "color": "#E5ECF6",
              "width": 0.5
             },
             "pattern": {
              "fillmode": "overlay",
              "size": 10,
              "solidity": 0.2
             }
            },
            "type": "barpolar"
           }
          ],
          "carpet": [
           {
            "aaxis": {
             "endlinecolor": "#2a3f5f",
             "gridcolor": "white",
             "linecolor": "white",
             "minorgridcolor": "white",
             "startlinecolor": "#2a3f5f"
            },
            "baxis": {
             "endlinecolor": "#2a3f5f",
             "gridcolor": "white",
             "linecolor": "white",
             "minorgridcolor": "white",
             "startlinecolor": "#2a3f5f"
            },
            "type": "carpet"
           }
          ],
          "choropleth": [
           {
            "colorbar": {
             "outlinewidth": 0,
             "ticks": ""
            },
            "type": "choropleth"
           }
          ],
          "contour": [
           {
            "colorbar": {
             "outlinewidth": 0,
             "ticks": ""
            },
            "colorscale": [
             [
              0,
              "#0d0887"
             ],
             [
              0.1111111111111111,
              "#46039f"
             ],
             [
              0.2222222222222222,
              "#7201a8"
             ],
             [
              0.3333333333333333,
              "#9c179e"
             ],
             [
              0.4444444444444444,
              "#bd3786"
             ],
             [
              0.5555555555555556,
              "#d8576b"
             ],
             [
              0.6666666666666666,
              "#ed7953"
             ],
             [
              0.7777777777777778,
              "#fb9f3a"
             ],
             [
              0.8888888888888888,
              "#fdca26"
             ],
             [
              1,
              "#f0f921"
             ]
            ],
            "type": "contour"
           }
          ],
          "contourcarpet": [
           {
            "colorbar": {
             "outlinewidth": 0,
             "ticks": ""
            },
            "type": "contourcarpet"
           }
          ],
          "heatmap": [
           {
            "colorbar": {
             "outlinewidth": 0,
             "ticks": ""
            },
            "colorscale": [
             [
              0,
              "#0d0887"
             ],
             [
              0.1111111111111111,
              "#46039f"
             ],
             [
              0.2222222222222222,
              "#7201a8"
             ],
             [
              0.3333333333333333,
              "#9c179e"
             ],
             [
              0.4444444444444444,
              "#bd3786"
             ],
             [
              0.5555555555555556,
              "#d8576b"
             ],
             [
              0.6666666666666666,
              "#ed7953"
             ],
             [
              0.7777777777777778,
              "#fb9f3a"
             ],
             [
              0.8888888888888888,
              "#fdca26"
             ],
             [
              1,
              "#f0f921"
             ]
            ],
            "type": "heatmap"
           }
          ],
          "heatmapgl": [
           {
            "colorbar": {
             "outlinewidth": 0,
             "ticks": ""
            },
            "colorscale": [
             [
              0,
              "#0d0887"
             ],
             [
              0.1111111111111111,
              "#46039f"
             ],
             [
              0.2222222222222222,
              "#7201a8"
             ],
             [
              0.3333333333333333,
              "#9c179e"
             ],
             [
              0.4444444444444444,
              "#bd3786"
             ],
             [
              0.5555555555555556,
              "#d8576b"
             ],
             [
              0.6666666666666666,
              "#ed7953"
             ],
             [
              0.7777777777777778,
              "#fb9f3a"
             ],
             [
              0.8888888888888888,
              "#fdca26"
             ],
             [
              1,
              "#f0f921"
             ]
            ],
            "type": "heatmapgl"
           }
          ],
          "histogram": [
           {
            "marker": {
             "pattern": {
              "fillmode": "overlay",
              "size": 10,
              "solidity": 0.2
             }
            },
            "type": "histogram"
           }
          ],
          "histogram2d": [
           {
            "colorbar": {
             "outlinewidth": 0,
             "ticks": ""
            },
            "colorscale": [
             [
              0,
              "#0d0887"
             ],
             [
              0.1111111111111111,
              "#46039f"
             ],
             [
              0.2222222222222222,
              "#7201a8"
             ],
             [
              0.3333333333333333,
              "#9c179e"
             ],
             [
              0.4444444444444444,
              "#bd3786"
             ],
             [
              0.5555555555555556,
              "#d8576b"
             ],
             [
              0.6666666666666666,
              "#ed7953"
             ],
             [
              0.7777777777777778,
              "#fb9f3a"
             ],
             [
              0.8888888888888888,
              "#fdca26"
             ],
             [
              1,
              "#f0f921"
             ]
            ],
            "type": "histogram2d"
           }
          ],
          "histogram2dcontour": [
           {
            "colorbar": {
             "outlinewidth": 0,
             "ticks": ""
            },
            "colorscale": [
             [
              0,
              "#0d0887"
             ],
             [
              0.1111111111111111,
              "#46039f"
             ],
             [
              0.2222222222222222,
              "#7201a8"
             ],
             [
              0.3333333333333333,
              "#9c179e"
             ],
             [
              0.4444444444444444,
              "#bd3786"
             ],
             [
              0.5555555555555556,
              "#d8576b"
             ],
             [
              0.6666666666666666,
              "#ed7953"
             ],
             [
              0.7777777777777778,
              "#fb9f3a"
             ],
             [
              0.8888888888888888,
              "#fdca26"
             ],
             [
              1,
              "#f0f921"
             ]
            ],
            "type": "histogram2dcontour"
           }
          ],
          "mesh3d": [
           {
            "colorbar": {
             "outlinewidth": 0,
             "ticks": ""
            },
            "type": "mesh3d"
           }
          ],
          "parcoords": [
           {
            "line": {
             "colorbar": {
              "outlinewidth": 0,
              "ticks": ""
             }
            },
            "type": "parcoords"
           }
          ],
          "pie": [
           {
            "automargin": true,
            "type": "pie"
           }
          ],
          "scatter": [
           {
            "marker": {
             "colorbar": {
              "outlinewidth": 0,
              "ticks": ""
             }
            },
            "type": "scatter"
           }
          ],
          "scatter3d": [
           {
            "line": {
             "colorbar": {
              "outlinewidth": 0,
              "ticks": ""
             }
            },
            "marker": {
             "colorbar": {
              "outlinewidth": 0,
              "ticks": ""
             }
            },
            "type": "scatter3d"
           }
          ],
          "scattercarpet": [
           {
            "marker": {
             "colorbar": {
              "outlinewidth": 0,
              "ticks": ""
             }
            },
            "type": "scattercarpet"
           }
          ],
          "scattergeo": [
           {
            "marker": {
             "colorbar": {
              "outlinewidth": 0,
              "ticks": ""
             }
            },
            "type": "scattergeo"
           }
          ],
          "scattergl": [
           {
            "marker": {
             "colorbar": {
              "outlinewidth": 0,
              "ticks": ""
             }
            },
            "type": "scattergl"
           }
          ],
          "scattermapbox": [
           {
            "marker": {
             "colorbar": {
              "outlinewidth": 0,
              "ticks": ""
             }
            },
            "type": "scattermapbox"
           }
          ],
          "scatterpolar": [
           {
            "marker": {
             "colorbar": {
              "outlinewidth": 0,
              "ticks": ""
             }
            },
            "type": "scatterpolar"
           }
          ],
          "scatterpolargl": [
           {
            "marker": {
             "colorbar": {
              "outlinewidth": 0,
              "ticks": ""
             }
            },
            "type": "scatterpolargl"
           }
          ],
          "scatterternary": [
           {
            "marker": {
             "colorbar": {
              "outlinewidth": 0,
              "ticks": ""
             }
            },
            "type": "scatterternary"
           }
          ],
          "surface": [
           {
            "colorbar": {
             "outlinewidth": 0,
             "ticks": ""
            },
            "colorscale": [
             [
              0,
              "#0d0887"
             ],
             [
              0.1111111111111111,
              "#46039f"
             ],
             [
              0.2222222222222222,
              "#7201a8"
             ],
             [
              0.3333333333333333,
              "#9c179e"
             ],
             [
              0.4444444444444444,
              "#bd3786"
             ],
             [
              0.5555555555555556,
              "#d8576b"
             ],
             [
              0.6666666666666666,
              "#ed7953"
             ],
             [
              0.7777777777777778,
              "#fb9f3a"
             ],
             [
              0.8888888888888888,
              "#fdca26"
             ],
             [
              1,
              "#f0f921"
             ]
            ],
            "type": "surface"
           }
          ],
          "table": [
           {
            "cells": {
             "fill": {
              "color": "#EBF0F8"
             },
             "line": {
              "color": "white"
             }
            },
            "header": {
             "fill": {
              "color": "#C8D4E3"
             },
             "line": {
              "color": "white"
             }
            },
            "type": "table"
           }
          ]
         },
         "layout": {
          "annotationdefaults": {
           "arrowcolor": "#2a3f5f",
           "arrowhead": 0,
           "arrowwidth": 1
          },
          "autotypenumbers": "strict",
          "coloraxis": {
           "colorbar": {
            "outlinewidth": 0,
            "ticks": ""
           }
          },
          "colorscale": {
           "diverging": [
            [
             0,
             "#8e0152"
            ],
            [
             0.1,
             "#c51b7d"
            ],
            [
             0.2,
             "#de77ae"
            ],
            [
             0.3,
             "#f1b6da"
            ],
            [
             0.4,
             "#fde0ef"
            ],
            [
             0.5,
             "#f7f7f7"
            ],
            [
             0.6,
             "#e6f5d0"
            ],
            [
             0.7,
             "#b8e186"
            ],
            [
             0.8,
             "#7fbc41"
            ],
            [
             0.9,
             "#4d9221"
            ],
            [
             1,
             "#276419"
            ]
           ],
           "sequential": [
            [
             0,
             "#0d0887"
            ],
            [
             0.1111111111111111,
             "#46039f"
            ],
            [
             0.2222222222222222,
             "#7201a8"
            ],
            [
             0.3333333333333333,
             "#9c179e"
            ],
            [
             0.4444444444444444,
             "#bd3786"
            ],
            [
             0.5555555555555556,
             "#d8576b"
            ],
            [
             0.6666666666666666,
             "#ed7953"
            ],
            [
             0.7777777777777778,
             "#fb9f3a"
            ],
            [
             0.8888888888888888,
             "#fdca26"
            ],
            [
             1,
             "#f0f921"
            ]
           ],
           "sequentialminus": [
            [
             0,
             "#0d0887"
            ],
            [
             0.1111111111111111,
             "#46039f"
            ],
            [
             0.2222222222222222,
             "#7201a8"
            ],
            [
             0.3333333333333333,
             "#9c179e"
            ],
            [
             0.4444444444444444,
             "#bd3786"
            ],
            [
             0.5555555555555556,
             "#d8576b"
            ],
            [
             0.6666666666666666,
             "#ed7953"
            ],
            [
             0.7777777777777778,
             "#fb9f3a"
            ],
            [
             0.8888888888888888,
             "#fdca26"
            ],
            [
             1,
             "#f0f921"
            ]
           ]
          },
          "colorway": [
           "#636efa",
           "#EF553B",
           "#00cc96",
           "#ab63fa",
           "#FFA15A",
           "#19d3f3",
           "#FF6692",
           "#B6E880",
           "#FF97FF",
           "#FECB52"
          ],
          "font": {
           "color": "#2a3f5f"
          },
          "geo": {
           "bgcolor": "white",
           "lakecolor": "white",
           "landcolor": "#E5ECF6",
           "showlakes": true,
           "showland": true,
           "subunitcolor": "white"
          },
          "hoverlabel": {
           "align": "left"
          },
          "hovermode": "closest",
          "mapbox": {
           "style": "light"
          },
          "paper_bgcolor": "white",
          "plot_bgcolor": "#E5ECF6",
          "polar": {
           "angularaxis": {
            "gridcolor": "white",
            "linecolor": "white",
            "ticks": ""
           },
           "bgcolor": "#E5ECF6",
           "radialaxis": {
            "gridcolor": "white",
            "linecolor": "white",
            "ticks": ""
           }
          },
          "scene": {
           "xaxis": {
            "backgroundcolor": "#E5ECF6",
            "gridcolor": "white",
            "gridwidth": 2,
            "linecolor": "white",
            "showbackground": true,
            "ticks": "",
            "zerolinecolor": "white"
           },
           "yaxis": {
            "backgroundcolor": "#E5ECF6",
            "gridcolor": "white",
            "gridwidth": 2,
            "linecolor": "white",
            "showbackground": true,
            "ticks": "",
            "zerolinecolor": "white"
           },
           "zaxis": {
            "backgroundcolor": "#E5ECF6",
            "gridcolor": "white",
            "gridwidth": 2,
            "linecolor": "white",
            "showbackground": true,
            "ticks": "",
            "zerolinecolor": "white"
           }
          },
          "shapedefaults": {
           "line": {
            "color": "#2a3f5f"
           }
          },
          "ternary": {
           "aaxis": {
            "gridcolor": "white",
            "linecolor": "white",
            "ticks": ""
           },
           "baxis": {
            "gridcolor": "white",
            "linecolor": "white",
            "ticks": ""
           },
           "bgcolor": "#E5ECF6",
           "caxis": {
            "gridcolor": "white",
            "linecolor": "white",
            "ticks": ""
           }
          },
          "title": {
           "x": 0.05
          },
          "xaxis": {
           "automargin": true,
           "gridcolor": "white",
           "linecolor": "white",
           "ticks": "",
           "title": {
            "standoff": 15
           },
           "zerolinecolor": "white",
           "zerolinewidth": 2
          },
          "yaxis": {
           "automargin": true,
           "gridcolor": "white",
           "linecolor": "white",
           "ticks": "",
           "title": {
            "standoff": 15
           },
           "zerolinecolor": "white",
           "zerolinewidth": 2
          }
         }
        },
        "title": {
         "font": {
          "color": "#4D5663"
         }
        },
        "xaxis": {
         "gridcolor": "#E1E5ED",
         "showgrid": true,
         "tickfont": {
          "color": "#4D5663"
         },
         "title": {
          "font": {
           "color": "#4D5663"
          },
          "text": ""
         },
         "zerolinecolor": "#E1E5ED"
        },
        "yaxis": {
         "gridcolor": "#E1E5ED",
         "showgrid": true,
         "tickfont": {
          "color": "#4D5663"
         },
         "title": {
          "font": {
           "color": "#4D5663"
          },
          "text": ""
         },
         "zerolinecolor": "#E1E5ED"
        }
       }
      },
      "text/html": [
       "<div>                            <div id=\"58b95e0f-5f72-4e7d-b746-6d6149490839\" class=\"plotly-graph-div\" style=\"height:525px; width:100%;\"></div>            <script type=\"text/javascript\">                require([\"plotly\"], function(Plotly) {                    window.PLOTLYENV=window.PLOTLYENV || {};\n",
       "                    window.PLOTLYENV.BASE_URL='https://plot.ly';                                    if (document.getElementById(\"58b95e0f-5f72-4e7d-b746-6d6149490839\")) {                    Plotly.newPlot(                        \"58b95e0f-5f72-4e7d-b746-6d6149490839\",                        [{\"marker\":{\"color\":\"rgba(255, 153, 51, 0.6)\",\"line\":{\"color\":\"rgba(255, 153, 51, 1.0)\",\"width\":1}},\"name\":\"None\",\"orientation\":\"v\",\"text\":\"\",\"x\":[\"A\",\"B\",\"C\",\"D\"],\"y\":[100,100,100,100],\"type\":\"bar\"}],                        {\"legend\":{\"bgcolor\":\"#F5F6F9\",\"font\":{\"color\":\"#4D5663\"}},\"paper_bgcolor\":\"#F5F6F9\",\"plot_bgcolor\":\"#F5F6F9\",\"template\":{\"data\":{\"barpolar\":[{\"marker\":{\"line\":{\"color\":\"#E5ECF6\",\"width\":0.5},\"pattern\":{\"fillmode\":\"overlay\",\"size\":10,\"solidity\":0.2}},\"type\":\"barpolar\"}],\"bar\":[{\"error_x\":{\"color\":\"#2a3f5f\"},\"error_y\":{\"color\":\"#2a3f5f\"},\"marker\":{\"line\":{\"color\":\"#E5ECF6\",\"width\":0.5},\"pattern\":{\"fillmode\":\"overlay\",\"size\":10,\"solidity\":0.2}},\"type\":\"bar\"}],\"carpet\":[{\"aaxis\":{\"endlinecolor\":\"#2a3f5f\",\"gridcolor\":\"white\",\"linecolor\":\"white\",\"minorgridcolor\":\"white\",\"startlinecolor\":\"#2a3f5f\"},\"baxis\":{\"endlinecolor\":\"#2a3f5f\",\"gridcolor\":\"white\",\"linecolor\":\"white\",\"minorgridcolor\":\"white\",\"startlinecolor\":\"#2a3f5f\"},\"type\":\"carpet\"}],\"choropleth\":[{\"colorbar\":{\"outlinewidth\":0,\"ticks\":\"\"},\"type\":\"choropleth\"}],\"contourcarpet\":[{\"colorbar\":{\"outlinewidth\":0,\"ticks\":\"\"},\"type\":\"contourcarpet\"}],\"contour\":[{\"colorbar\":{\"outlinewidth\":0,\"ticks\":\"\"},\"colorscale\":[[0.0,\"#0d0887\"],[0.1111111111111111,\"#46039f\"],[0.2222222222222222,\"#7201a8\"],[0.3333333333333333,\"#9c179e\"],[0.4444444444444444,\"#bd3786\"],[0.5555555555555556,\"#d8576b\"],[0.6666666666666666,\"#ed7953\"],[0.7777777777777778,\"#fb9f3a\"],[0.8888888888888888,\"#fdca26\"],[1.0,\"#f0f921\"]],\"type\":\"contour\"}],\"heatmapgl\":[{\"colorbar\":{\"outlinewidth\":0,\"ticks\":\"\"},\"colorscale\":[[0.0,\"#0d0887\"],[0.1111111111111111,\"#46039f\"],[0.2222222222222222,\"#7201a8\"],[0.3333333333333333,\"#9c179e\"],[0.4444444444444444,\"#bd3786\"],[0.5555555555555556,\"#d8576b\"],[0.6666666666666666,\"#ed7953\"],[0.7777777777777778,\"#fb9f3a\"],[0.8888888888888888,\"#fdca26\"],[1.0,\"#f0f921\"]],\"type\":\"heatmapgl\"}],\"heatmap\":[{\"colorbar\":{\"outlinewidth\":0,\"ticks\":\"\"},\"colorscale\":[[0.0,\"#0d0887\"],[0.1111111111111111,\"#46039f\"],[0.2222222222222222,\"#7201a8\"],[0.3333333333333333,\"#9c179e\"],[0.4444444444444444,\"#bd3786\"],[0.5555555555555556,\"#d8576b\"],[0.6666666666666666,\"#ed7953\"],[0.7777777777777778,\"#fb9f3a\"],[0.8888888888888888,\"#fdca26\"],[1.0,\"#f0f921\"]],\"type\":\"heatmap\"}],\"histogram2dcontour\":[{\"colorbar\":{\"outlinewidth\":0,\"ticks\":\"\"},\"colorscale\":[[0.0,\"#0d0887\"],[0.1111111111111111,\"#46039f\"],[0.2222222222222222,\"#7201a8\"],[0.3333333333333333,\"#9c179e\"],[0.4444444444444444,\"#bd3786\"],[0.5555555555555556,\"#d8576b\"],[0.6666666666666666,\"#ed7953\"],[0.7777777777777778,\"#fb9f3a\"],[0.8888888888888888,\"#fdca26\"],[1.0,\"#f0f921\"]],\"type\":\"histogram2dcontour\"}],\"histogram2d\":[{\"colorbar\":{\"outlinewidth\":0,\"ticks\":\"\"},\"colorscale\":[[0.0,\"#0d0887\"],[0.1111111111111111,\"#46039f\"],[0.2222222222222222,\"#7201a8\"],[0.3333333333333333,\"#9c179e\"],[0.4444444444444444,\"#bd3786\"],[0.5555555555555556,\"#d8576b\"],[0.6666666666666666,\"#ed7953\"],[0.7777777777777778,\"#fb9f3a\"],[0.8888888888888888,\"#fdca26\"],[1.0,\"#f0f921\"]],\"type\":\"histogram2d\"}],\"histogram\":[{\"marker\":{\"pattern\":{\"fillmode\":\"overlay\",\"size\":10,\"solidity\":0.2}},\"type\":\"histogram\"}],\"mesh3d\":[{\"colorbar\":{\"outlinewidth\":0,\"ticks\":\"\"},\"type\":\"mesh3d\"}],\"parcoords\":[{\"line\":{\"colorbar\":{\"outlinewidth\":0,\"ticks\":\"\"}},\"type\":\"parcoords\"}],\"pie\":[{\"automargin\":true,\"type\":\"pie\"}],\"scatter3d\":[{\"line\":{\"colorbar\":{\"outlinewidth\":0,\"ticks\":\"\"}},\"marker\":{\"colorbar\":{\"outlinewidth\":0,\"ticks\":\"\"}},\"type\":\"scatter3d\"}],\"scattercarpet\":[{\"marker\":{\"colorbar\":{\"outlinewidth\":0,\"ticks\":\"\"}},\"type\":\"scattercarpet\"}],\"scattergeo\":[{\"marker\":{\"colorbar\":{\"outlinewidth\":0,\"ticks\":\"\"}},\"type\":\"scattergeo\"}],\"scattergl\":[{\"marker\":{\"colorbar\":{\"outlinewidth\":0,\"ticks\":\"\"}},\"type\":\"scattergl\"}],\"scattermapbox\":[{\"marker\":{\"colorbar\":{\"outlinewidth\":0,\"ticks\":\"\"}},\"type\":\"scattermapbox\"}],\"scatterpolargl\":[{\"marker\":{\"colorbar\":{\"outlinewidth\":0,\"ticks\":\"\"}},\"type\":\"scatterpolargl\"}],\"scatterpolar\":[{\"marker\":{\"colorbar\":{\"outlinewidth\":0,\"ticks\":\"\"}},\"type\":\"scatterpolar\"}],\"scatter\":[{\"marker\":{\"colorbar\":{\"outlinewidth\":0,\"ticks\":\"\"}},\"type\":\"scatter\"}],\"scatterternary\":[{\"marker\":{\"colorbar\":{\"outlinewidth\":0,\"ticks\":\"\"}},\"type\":\"scatterternary\"}],\"surface\":[{\"colorbar\":{\"outlinewidth\":0,\"ticks\":\"\"},\"colorscale\":[[0.0,\"#0d0887\"],[0.1111111111111111,\"#46039f\"],[0.2222222222222222,\"#7201a8\"],[0.3333333333333333,\"#9c179e\"],[0.4444444444444444,\"#bd3786\"],[0.5555555555555556,\"#d8576b\"],[0.6666666666666666,\"#ed7953\"],[0.7777777777777778,\"#fb9f3a\"],[0.8888888888888888,\"#fdca26\"],[1.0,\"#f0f921\"]],\"type\":\"surface\"}],\"table\":[{\"cells\":{\"fill\":{\"color\":\"#EBF0F8\"},\"line\":{\"color\":\"white\"}},\"header\":{\"fill\":{\"color\":\"#C8D4E3\"},\"line\":{\"color\":\"white\"}},\"type\":\"table\"}]},\"layout\":{\"annotationdefaults\":{\"arrowcolor\":\"#2a3f5f\",\"arrowhead\":0,\"arrowwidth\":1},\"autotypenumbers\":\"strict\",\"coloraxis\":{\"colorbar\":{\"outlinewidth\":0,\"ticks\":\"\"}},\"colorscale\":{\"diverging\":[[0,\"#8e0152\"],[0.1,\"#c51b7d\"],[0.2,\"#de77ae\"],[0.3,\"#f1b6da\"],[0.4,\"#fde0ef\"],[0.5,\"#f7f7f7\"],[0.6,\"#e6f5d0\"],[0.7,\"#b8e186\"],[0.8,\"#7fbc41\"],[0.9,\"#4d9221\"],[1,\"#276419\"]],\"sequential\":[[0.0,\"#0d0887\"],[0.1111111111111111,\"#46039f\"],[0.2222222222222222,\"#7201a8\"],[0.3333333333333333,\"#9c179e\"],[0.4444444444444444,\"#bd3786\"],[0.5555555555555556,\"#d8576b\"],[0.6666666666666666,\"#ed7953\"],[0.7777777777777778,\"#fb9f3a\"],[0.8888888888888888,\"#fdca26\"],[1.0,\"#f0f921\"]],\"sequentialminus\":[[0.0,\"#0d0887\"],[0.1111111111111111,\"#46039f\"],[0.2222222222222222,\"#7201a8\"],[0.3333333333333333,\"#9c179e\"],[0.4444444444444444,\"#bd3786\"],[0.5555555555555556,\"#d8576b\"],[0.6666666666666666,\"#ed7953\"],[0.7777777777777778,\"#fb9f3a\"],[0.8888888888888888,\"#fdca26\"],[1.0,\"#f0f921\"]]},\"colorway\":[\"#636efa\",\"#EF553B\",\"#00cc96\",\"#ab63fa\",\"#FFA15A\",\"#19d3f3\",\"#FF6692\",\"#B6E880\",\"#FF97FF\",\"#FECB52\"],\"font\":{\"color\":\"#2a3f5f\"},\"geo\":{\"bgcolor\":\"white\",\"lakecolor\":\"white\",\"landcolor\":\"#E5ECF6\",\"showlakes\":true,\"showland\":true,\"subunitcolor\":\"white\"},\"hoverlabel\":{\"align\":\"left\"},\"hovermode\":\"closest\",\"mapbox\":{\"style\":\"light\"},\"paper_bgcolor\":\"white\",\"plot_bgcolor\":\"#E5ECF6\",\"polar\":{\"angularaxis\":{\"gridcolor\":\"white\",\"linecolor\":\"white\",\"ticks\":\"\"},\"bgcolor\":\"#E5ECF6\",\"radialaxis\":{\"gridcolor\":\"white\",\"linecolor\":\"white\",\"ticks\":\"\"}},\"scene\":{\"xaxis\":{\"backgroundcolor\":\"#E5ECF6\",\"gridcolor\":\"white\",\"gridwidth\":2,\"linecolor\":\"white\",\"showbackground\":true,\"ticks\":\"\",\"zerolinecolor\":\"white\"},\"yaxis\":{\"backgroundcolor\":\"#E5ECF6\",\"gridcolor\":\"white\",\"gridwidth\":2,\"linecolor\":\"white\",\"showbackground\":true,\"ticks\":\"\",\"zerolinecolor\":\"white\"},\"zaxis\":{\"backgroundcolor\":\"#E5ECF6\",\"gridcolor\":\"white\",\"gridwidth\":2,\"linecolor\":\"white\",\"showbackground\":true,\"ticks\":\"\",\"zerolinecolor\":\"white\"}},\"shapedefaults\":{\"line\":{\"color\":\"#2a3f5f\"}},\"ternary\":{\"aaxis\":{\"gridcolor\":\"white\",\"linecolor\":\"white\",\"ticks\":\"\"},\"baxis\":{\"gridcolor\":\"white\",\"linecolor\":\"white\",\"ticks\":\"\"},\"bgcolor\":\"#E5ECF6\",\"caxis\":{\"gridcolor\":\"white\",\"linecolor\":\"white\",\"ticks\":\"\"}},\"title\":{\"x\":0.05},\"xaxis\":{\"automargin\":true,\"gridcolor\":\"white\",\"linecolor\":\"white\",\"ticks\":\"\",\"title\":{\"standoff\":15},\"zerolinecolor\":\"white\",\"zerolinewidth\":2},\"yaxis\":{\"automargin\":true,\"gridcolor\":\"white\",\"linecolor\":\"white\",\"ticks\":\"\",\"title\":{\"standoff\":15},\"zerolinecolor\":\"white\",\"zerolinewidth\":2}}},\"title\":{\"font\":{\"color\":\"#4D5663\"}},\"xaxis\":{\"gridcolor\":\"#E1E5ED\",\"showgrid\":true,\"tickfont\":{\"color\":\"#4D5663\"},\"title\":{\"font\":{\"color\":\"#4D5663\"},\"text\":\"\"},\"zerolinecolor\":\"#E1E5ED\"},\"yaxis\":{\"gridcolor\":\"#E1E5ED\",\"showgrid\":true,\"tickfont\":{\"color\":\"#4D5663\"},\"title\":{\"font\":{\"color\":\"#4D5663\"},\"text\":\"\"},\"zerolinecolor\":\"#E1E5ED\"}},                        {\"showLink\": true, \"linkText\": \"Export to plot.ly\", \"plotlyServerURL\": \"https://plot.ly\", \"responsive\": true}                    ).then(function(){\n",
       "                            \n",
       "var gd = document.getElementById('58b95e0f-5f72-4e7d-b746-6d6149490839');\n",
       "var x = new MutationObserver(function (mutations, observer) {{\n",
       "        var display = window.getComputedStyle(gd).display;\n",
       "        if (!display || display === 'none') {{\n",
       "            console.log([gd, 'removed!']);\n",
       "            Plotly.purge(gd);\n",
       "            observer.disconnect();\n",
       "        }}\n",
       "}});\n",
       "\n",
       "// Listen for the removal of the full notebook cells\n",
       "var notebookContainer = gd.closest('#notebook-container');\n",
       "if (notebookContainer) {{\n",
       "    x.observe(notebookContainer, {childList: true});\n",
       "}}\n",
       "\n",
       "// Listen for the clearing of the current output cell\n",
       "var outputEl = gd.closest('.output');\n",
       "if (outputEl) {{\n",
       "    x.observe(outputEl, {childList: true});\n",
       "}}\n",
       "\n",
       "                        })                };                });            </script>        </div>"
      ]
     },
     "metadata": {},
     "output_type": "display_data"
    }
   ],
   "source": [
    "df.count().iplot(kind='bar')"
   ]
  },
  {
   "cell_type": "code",
   "execution_count": 16,
   "metadata": {},
   "outputs": [
    {
     "data": {
      "application/vnd.plotly.v1+json": {
       "config": {
        "linkText": "Export to plot.ly",
        "plotlyServerURL": "https://plot.ly",
        "showLink": true
       },
       "data": [
        {
         "marker": {
          "color": "rgba(255, 153, 51, 0.6)",
          "line": {
           "color": "rgba(255, 153, 51, 1.0)",
           "width": 1
          }
         },
         "name": "None",
         "orientation": "v",
         "text": "",
         "type": "bar",
         "x": [
          "A",
          "B",
          "C",
          "D"
         ],
         "y": [
          -2.0125856477312216,
          -12.443193110661944,
          -5.1709573609848425,
          -9.79368759604412
         ]
        }
       ],
       "layout": {
        "legend": {
         "bgcolor": "#F5F6F9",
         "font": {
          "color": "#4D5663"
         }
        },
        "paper_bgcolor": "#F5F6F9",
        "plot_bgcolor": "#F5F6F9",
        "template": {
         "data": {
          "bar": [
           {
            "error_x": {
             "color": "#2a3f5f"
            },
            "error_y": {
             "color": "#2a3f5f"
            },
            "marker": {
             "line": {
              "color": "#E5ECF6",
              "width": 0.5
             },
             "pattern": {
              "fillmode": "overlay",
              "size": 10,
              "solidity": 0.2
             }
            },
            "type": "bar"
           }
          ],
          "barpolar": [
           {
            "marker": {
             "line": {
              "color": "#E5ECF6",
              "width": 0.5
             },
             "pattern": {
              "fillmode": "overlay",
              "size": 10,
              "solidity": 0.2
             }
            },
            "type": "barpolar"
           }
          ],
          "carpet": [
           {
            "aaxis": {
             "endlinecolor": "#2a3f5f",
             "gridcolor": "white",
             "linecolor": "white",
             "minorgridcolor": "white",
             "startlinecolor": "#2a3f5f"
            },
            "baxis": {
             "endlinecolor": "#2a3f5f",
             "gridcolor": "white",
             "linecolor": "white",
             "minorgridcolor": "white",
             "startlinecolor": "#2a3f5f"
            },
            "type": "carpet"
           }
          ],
          "choropleth": [
           {
            "colorbar": {
             "outlinewidth": 0,
             "ticks": ""
            },
            "type": "choropleth"
           }
          ],
          "contour": [
           {
            "colorbar": {
             "outlinewidth": 0,
             "ticks": ""
            },
            "colorscale": [
             [
              0,
              "#0d0887"
             ],
             [
              0.1111111111111111,
              "#46039f"
             ],
             [
              0.2222222222222222,
              "#7201a8"
             ],
             [
              0.3333333333333333,
              "#9c179e"
             ],
             [
              0.4444444444444444,
              "#bd3786"
             ],
             [
              0.5555555555555556,
              "#d8576b"
             ],
             [
              0.6666666666666666,
              "#ed7953"
             ],
             [
              0.7777777777777778,
              "#fb9f3a"
             ],
             [
              0.8888888888888888,
              "#fdca26"
             ],
             [
              1,
              "#f0f921"
             ]
            ],
            "type": "contour"
           }
          ],
          "contourcarpet": [
           {
            "colorbar": {
             "outlinewidth": 0,
             "ticks": ""
            },
            "type": "contourcarpet"
           }
          ],
          "heatmap": [
           {
            "colorbar": {
             "outlinewidth": 0,
             "ticks": ""
            },
            "colorscale": [
             [
              0,
              "#0d0887"
             ],
             [
              0.1111111111111111,
              "#46039f"
             ],
             [
              0.2222222222222222,
              "#7201a8"
             ],
             [
              0.3333333333333333,
              "#9c179e"
             ],
             [
              0.4444444444444444,
              "#bd3786"
             ],
             [
              0.5555555555555556,
              "#d8576b"
             ],
             [
              0.6666666666666666,
              "#ed7953"
             ],
             [
              0.7777777777777778,
              "#fb9f3a"
             ],
             [
              0.8888888888888888,
              "#fdca26"
             ],
             [
              1,
              "#f0f921"
             ]
            ],
            "type": "heatmap"
           }
          ],
          "heatmapgl": [
           {
            "colorbar": {
             "outlinewidth": 0,
             "ticks": ""
            },
            "colorscale": [
             [
              0,
              "#0d0887"
             ],
             [
              0.1111111111111111,
              "#46039f"
             ],
             [
              0.2222222222222222,
              "#7201a8"
             ],
             [
              0.3333333333333333,
              "#9c179e"
             ],
             [
              0.4444444444444444,
              "#bd3786"
             ],
             [
              0.5555555555555556,
              "#d8576b"
             ],
             [
              0.6666666666666666,
              "#ed7953"
             ],
             [
              0.7777777777777778,
              "#fb9f3a"
             ],
             [
              0.8888888888888888,
              "#fdca26"
             ],
             [
              1,
              "#f0f921"
             ]
            ],
            "type": "heatmapgl"
           }
          ],
          "histogram": [
           {
            "marker": {
             "pattern": {
              "fillmode": "overlay",
              "size": 10,
              "solidity": 0.2
             }
            },
            "type": "histogram"
           }
          ],
          "histogram2d": [
           {
            "colorbar": {
             "outlinewidth": 0,
             "ticks": ""
            },
            "colorscale": [
             [
              0,
              "#0d0887"
             ],
             [
              0.1111111111111111,
              "#46039f"
             ],
             [
              0.2222222222222222,
              "#7201a8"
             ],
             [
              0.3333333333333333,
              "#9c179e"
             ],
             [
              0.4444444444444444,
              "#bd3786"
             ],
             [
              0.5555555555555556,
              "#d8576b"
             ],
             [
              0.6666666666666666,
              "#ed7953"
             ],
             [
              0.7777777777777778,
              "#fb9f3a"
             ],
             [
              0.8888888888888888,
              "#fdca26"
             ],
             [
              1,
              "#f0f921"
             ]
            ],
            "type": "histogram2d"
           }
          ],
          "histogram2dcontour": [
           {
            "colorbar": {
             "outlinewidth": 0,
             "ticks": ""
            },
            "colorscale": [
             [
              0,
              "#0d0887"
             ],
             [
              0.1111111111111111,
              "#46039f"
             ],
             [
              0.2222222222222222,
              "#7201a8"
             ],
             [
              0.3333333333333333,
              "#9c179e"
             ],
             [
              0.4444444444444444,
              "#bd3786"
             ],
             [
              0.5555555555555556,
              "#d8576b"
             ],
             [
              0.6666666666666666,
              "#ed7953"
             ],
             [
              0.7777777777777778,
              "#fb9f3a"
             ],
             [
              0.8888888888888888,
              "#fdca26"
             ],
             [
              1,
              "#f0f921"
             ]
            ],
            "type": "histogram2dcontour"
           }
          ],
          "mesh3d": [
           {
            "colorbar": {
             "outlinewidth": 0,
             "ticks": ""
            },
            "type": "mesh3d"
           }
          ],
          "parcoords": [
           {
            "line": {
             "colorbar": {
              "outlinewidth": 0,
              "ticks": ""
             }
            },
            "type": "parcoords"
           }
          ],
          "pie": [
           {
            "automargin": true,
            "type": "pie"
           }
          ],
          "scatter": [
           {
            "marker": {
             "colorbar": {
              "outlinewidth": 0,
              "ticks": ""
             }
            },
            "type": "scatter"
           }
          ],
          "scatter3d": [
           {
            "line": {
             "colorbar": {
              "outlinewidth": 0,
              "ticks": ""
             }
            },
            "marker": {
             "colorbar": {
              "outlinewidth": 0,
              "ticks": ""
             }
            },
            "type": "scatter3d"
           }
          ],
          "scattercarpet": [
           {
            "marker": {
             "colorbar": {
              "outlinewidth": 0,
              "ticks": ""
             }
            },
            "type": "scattercarpet"
           }
          ],
          "scattergeo": [
           {
            "marker": {
             "colorbar": {
              "outlinewidth": 0,
              "ticks": ""
             }
            },
            "type": "scattergeo"
           }
          ],
          "scattergl": [
           {
            "marker": {
             "colorbar": {
              "outlinewidth": 0,
              "ticks": ""
             }
            },
            "type": "scattergl"
           }
          ],
          "scattermapbox": [
           {
            "marker": {
             "colorbar": {
              "outlinewidth": 0,
              "ticks": ""
             }
            },
            "type": "scattermapbox"
           }
          ],
          "scatterpolar": [
           {
            "marker": {
             "colorbar": {
              "outlinewidth": 0,
              "ticks": ""
             }
            },
            "type": "scatterpolar"
           }
          ],
          "scatterpolargl": [
           {
            "marker": {
             "colorbar": {
              "outlinewidth": 0,
              "ticks": ""
             }
            },
            "type": "scatterpolargl"
           }
          ],
          "scatterternary": [
           {
            "marker": {
             "colorbar": {
              "outlinewidth": 0,
              "ticks": ""
             }
            },
            "type": "scatterternary"
           }
          ],
          "surface": [
           {
            "colorbar": {
             "outlinewidth": 0,
             "ticks": ""
            },
            "colorscale": [
             [
              0,
              "#0d0887"
             ],
             [
              0.1111111111111111,
              "#46039f"
             ],
             [
              0.2222222222222222,
              "#7201a8"
             ],
             [
              0.3333333333333333,
              "#9c179e"
             ],
             [
              0.4444444444444444,
              "#bd3786"
             ],
             [
              0.5555555555555556,
              "#d8576b"
             ],
             [
              0.6666666666666666,
              "#ed7953"
             ],
             [
              0.7777777777777778,
              "#fb9f3a"
             ],
             [
              0.8888888888888888,
              "#fdca26"
             ],
             [
              1,
              "#f0f921"
             ]
            ],
            "type": "surface"
           }
          ],
          "table": [
           {
            "cells": {
             "fill": {
              "color": "#EBF0F8"
             },
             "line": {
              "color": "white"
             }
            },
            "header": {
             "fill": {
              "color": "#C8D4E3"
             },
             "line": {
              "color": "white"
             }
            },
            "type": "table"
           }
          ]
         },
         "layout": {
          "annotationdefaults": {
           "arrowcolor": "#2a3f5f",
           "arrowhead": 0,
           "arrowwidth": 1
          },
          "autotypenumbers": "strict",
          "coloraxis": {
           "colorbar": {
            "outlinewidth": 0,
            "ticks": ""
           }
          },
          "colorscale": {
           "diverging": [
            [
             0,
             "#8e0152"
            ],
            [
             0.1,
             "#c51b7d"
            ],
            [
             0.2,
             "#de77ae"
            ],
            [
             0.3,
             "#f1b6da"
            ],
            [
             0.4,
             "#fde0ef"
            ],
            [
             0.5,
             "#f7f7f7"
            ],
            [
             0.6,
             "#e6f5d0"
            ],
            [
             0.7,
             "#b8e186"
            ],
            [
             0.8,
             "#7fbc41"
            ],
            [
             0.9,
             "#4d9221"
            ],
            [
             1,
             "#276419"
            ]
           ],
           "sequential": [
            [
             0,
             "#0d0887"
            ],
            [
             0.1111111111111111,
             "#46039f"
            ],
            [
             0.2222222222222222,
             "#7201a8"
            ],
            [
             0.3333333333333333,
             "#9c179e"
            ],
            [
             0.4444444444444444,
             "#bd3786"
            ],
            [
             0.5555555555555556,
             "#d8576b"
            ],
            [
             0.6666666666666666,
             "#ed7953"
            ],
            [
             0.7777777777777778,
             "#fb9f3a"
            ],
            [
             0.8888888888888888,
             "#fdca26"
            ],
            [
             1,
             "#f0f921"
            ]
           ],
           "sequentialminus": [
            [
             0,
             "#0d0887"
            ],
            [
             0.1111111111111111,
             "#46039f"
            ],
            [
             0.2222222222222222,
             "#7201a8"
            ],
            [
             0.3333333333333333,
             "#9c179e"
            ],
            [
             0.4444444444444444,
             "#bd3786"
            ],
            [
             0.5555555555555556,
             "#d8576b"
            ],
            [
             0.6666666666666666,
             "#ed7953"
            ],
            [
             0.7777777777777778,
             "#fb9f3a"
            ],
            [
             0.8888888888888888,
             "#fdca26"
            ],
            [
             1,
             "#f0f921"
            ]
           ]
          },
          "colorway": [
           "#636efa",
           "#EF553B",
           "#00cc96",
           "#ab63fa",
           "#FFA15A",
           "#19d3f3",
           "#FF6692",
           "#B6E880",
           "#FF97FF",
           "#FECB52"
          ],
          "font": {
           "color": "#2a3f5f"
          },
          "geo": {
           "bgcolor": "white",
           "lakecolor": "white",
           "landcolor": "#E5ECF6",
           "showlakes": true,
           "showland": true,
           "subunitcolor": "white"
          },
          "hoverlabel": {
           "align": "left"
          },
          "hovermode": "closest",
          "mapbox": {
           "style": "light"
          },
          "paper_bgcolor": "white",
          "plot_bgcolor": "#E5ECF6",
          "polar": {
           "angularaxis": {
            "gridcolor": "white",
            "linecolor": "white",
            "ticks": ""
           },
           "bgcolor": "#E5ECF6",
           "radialaxis": {
            "gridcolor": "white",
            "linecolor": "white",
            "ticks": ""
           }
          },
          "scene": {
           "xaxis": {
            "backgroundcolor": "#E5ECF6",
            "gridcolor": "white",
            "gridwidth": 2,
            "linecolor": "white",
            "showbackground": true,
            "ticks": "",
            "zerolinecolor": "white"
           },
           "yaxis": {
            "backgroundcolor": "#E5ECF6",
            "gridcolor": "white",
            "gridwidth": 2,
            "linecolor": "white",
            "showbackground": true,
            "ticks": "",
            "zerolinecolor": "white"
           },
           "zaxis": {
            "backgroundcolor": "#E5ECF6",
            "gridcolor": "white",
            "gridwidth": 2,
            "linecolor": "white",
            "showbackground": true,
            "ticks": "",
            "zerolinecolor": "white"
           }
          },
          "shapedefaults": {
           "line": {
            "color": "#2a3f5f"
           }
          },
          "ternary": {
           "aaxis": {
            "gridcolor": "white",
            "linecolor": "white",
            "ticks": ""
           },
           "baxis": {
            "gridcolor": "white",
            "linecolor": "white",
            "ticks": ""
           },
           "bgcolor": "#E5ECF6",
           "caxis": {
            "gridcolor": "white",
            "linecolor": "white",
            "ticks": ""
           }
          },
          "title": {
           "x": 0.05
          },
          "xaxis": {
           "automargin": true,
           "gridcolor": "white",
           "linecolor": "white",
           "ticks": "",
           "title": {
            "standoff": 15
           },
           "zerolinecolor": "white",
           "zerolinewidth": 2
          },
          "yaxis": {
           "automargin": true,
           "gridcolor": "white",
           "linecolor": "white",
           "ticks": "",
           "title": {
            "standoff": 15
           },
           "zerolinecolor": "white",
           "zerolinewidth": 2
          }
         }
        },
        "title": {
         "font": {
          "color": "#4D5663"
         }
        },
        "xaxis": {
         "gridcolor": "#E1E5ED",
         "showgrid": true,
         "tickfont": {
          "color": "#4D5663"
         },
         "title": {
          "font": {
           "color": "#4D5663"
          },
          "text": ""
         },
         "zerolinecolor": "#E1E5ED"
        },
        "yaxis": {
         "gridcolor": "#E1E5ED",
         "showgrid": true,
         "tickfont": {
          "color": "#4D5663"
         },
         "title": {
          "font": {
           "color": "#4D5663"
          },
          "text": ""
         },
         "zerolinecolor": "#E1E5ED"
        }
       }
      },
      "text/html": [
       "<div>                            <div id=\"cce78653-39c1-45d7-b227-8677429dee92\" class=\"plotly-graph-div\" style=\"height:525px; width:100%;\"></div>            <script type=\"text/javascript\">                require([\"plotly\"], function(Plotly) {                    window.PLOTLYENV=window.PLOTLYENV || {};\n",
       "                    window.PLOTLYENV.BASE_URL='https://plot.ly';                                    if (document.getElementById(\"cce78653-39c1-45d7-b227-8677429dee92\")) {                    Plotly.newPlot(                        \"cce78653-39c1-45d7-b227-8677429dee92\",                        [{\"marker\":{\"color\":\"rgba(255, 153, 51, 0.6)\",\"line\":{\"color\":\"rgba(255, 153, 51, 1.0)\",\"width\":1}},\"name\":\"None\",\"orientation\":\"v\",\"text\":\"\",\"x\":[\"A\",\"B\",\"C\",\"D\"],\"y\":[-2.0125856477312216,-12.443193110661944,-5.1709573609848425,-9.79368759604412],\"type\":\"bar\"}],                        {\"legend\":{\"bgcolor\":\"#F5F6F9\",\"font\":{\"color\":\"#4D5663\"}},\"paper_bgcolor\":\"#F5F6F9\",\"plot_bgcolor\":\"#F5F6F9\",\"template\":{\"data\":{\"barpolar\":[{\"marker\":{\"line\":{\"color\":\"#E5ECF6\",\"width\":0.5},\"pattern\":{\"fillmode\":\"overlay\",\"size\":10,\"solidity\":0.2}},\"type\":\"barpolar\"}],\"bar\":[{\"error_x\":{\"color\":\"#2a3f5f\"},\"error_y\":{\"color\":\"#2a3f5f\"},\"marker\":{\"line\":{\"color\":\"#E5ECF6\",\"width\":0.5},\"pattern\":{\"fillmode\":\"overlay\",\"size\":10,\"solidity\":0.2}},\"type\":\"bar\"}],\"carpet\":[{\"aaxis\":{\"endlinecolor\":\"#2a3f5f\",\"gridcolor\":\"white\",\"linecolor\":\"white\",\"minorgridcolor\":\"white\",\"startlinecolor\":\"#2a3f5f\"},\"baxis\":{\"endlinecolor\":\"#2a3f5f\",\"gridcolor\":\"white\",\"linecolor\":\"white\",\"minorgridcolor\":\"white\",\"startlinecolor\":\"#2a3f5f\"},\"type\":\"carpet\"}],\"choropleth\":[{\"colorbar\":{\"outlinewidth\":0,\"ticks\":\"\"},\"type\":\"choropleth\"}],\"contourcarpet\":[{\"colorbar\":{\"outlinewidth\":0,\"ticks\":\"\"},\"type\":\"contourcarpet\"}],\"contour\":[{\"colorbar\":{\"outlinewidth\":0,\"ticks\":\"\"},\"colorscale\":[[0.0,\"#0d0887\"],[0.1111111111111111,\"#46039f\"],[0.2222222222222222,\"#7201a8\"],[0.3333333333333333,\"#9c179e\"],[0.4444444444444444,\"#bd3786\"],[0.5555555555555556,\"#d8576b\"],[0.6666666666666666,\"#ed7953\"],[0.7777777777777778,\"#fb9f3a\"],[0.8888888888888888,\"#fdca26\"],[1.0,\"#f0f921\"]],\"type\":\"contour\"}],\"heatmapgl\":[{\"colorbar\":{\"outlinewidth\":0,\"ticks\":\"\"},\"colorscale\":[[0.0,\"#0d0887\"],[0.1111111111111111,\"#46039f\"],[0.2222222222222222,\"#7201a8\"],[0.3333333333333333,\"#9c179e\"],[0.4444444444444444,\"#bd3786\"],[0.5555555555555556,\"#d8576b\"],[0.6666666666666666,\"#ed7953\"],[0.7777777777777778,\"#fb9f3a\"],[0.8888888888888888,\"#fdca26\"],[1.0,\"#f0f921\"]],\"type\":\"heatmapgl\"}],\"heatmap\":[{\"colorbar\":{\"outlinewidth\":0,\"ticks\":\"\"},\"colorscale\":[[0.0,\"#0d0887\"],[0.1111111111111111,\"#46039f\"],[0.2222222222222222,\"#7201a8\"],[0.3333333333333333,\"#9c179e\"],[0.4444444444444444,\"#bd3786\"],[0.5555555555555556,\"#d8576b\"],[0.6666666666666666,\"#ed7953\"],[0.7777777777777778,\"#fb9f3a\"],[0.8888888888888888,\"#fdca26\"],[1.0,\"#f0f921\"]],\"type\":\"heatmap\"}],\"histogram2dcontour\":[{\"colorbar\":{\"outlinewidth\":0,\"ticks\":\"\"},\"colorscale\":[[0.0,\"#0d0887\"],[0.1111111111111111,\"#46039f\"],[0.2222222222222222,\"#7201a8\"],[0.3333333333333333,\"#9c179e\"],[0.4444444444444444,\"#bd3786\"],[0.5555555555555556,\"#d8576b\"],[0.6666666666666666,\"#ed7953\"],[0.7777777777777778,\"#fb9f3a\"],[0.8888888888888888,\"#fdca26\"],[1.0,\"#f0f921\"]],\"type\":\"histogram2dcontour\"}],\"histogram2d\":[{\"colorbar\":{\"outlinewidth\":0,\"ticks\":\"\"},\"colorscale\":[[0.0,\"#0d0887\"],[0.1111111111111111,\"#46039f\"],[0.2222222222222222,\"#7201a8\"],[0.3333333333333333,\"#9c179e\"],[0.4444444444444444,\"#bd3786\"],[0.5555555555555556,\"#d8576b\"],[0.6666666666666666,\"#ed7953\"],[0.7777777777777778,\"#fb9f3a\"],[0.8888888888888888,\"#fdca26\"],[1.0,\"#f0f921\"]],\"type\":\"histogram2d\"}],\"histogram\":[{\"marker\":{\"pattern\":{\"fillmode\":\"overlay\",\"size\":10,\"solidity\":0.2}},\"type\":\"histogram\"}],\"mesh3d\":[{\"colorbar\":{\"outlinewidth\":0,\"ticks\":\"\"},\"type\":\"mesh3d\"}],\"parcoords\":[{\"line\":{\"colorbar\":{\"outlinewidth\":0,\"ticks\":\"\"}},\"type\":\"parcoords\"}],\"pie\":[{\"automargin\":true,\"type\":\"pie\"}],\"scatter3d\":[{\"line\":{\"colorbar\":{\"outlinewidth\":0,\"ticks\":\"\"}},\"marker\":{\"colorbar\":{\"outlinewidth\":0,\"ticks\":\"\"}},\"type\":\"scatter3d\"}],\"scattercarpet\":[{\"marker\":{\"colorbar\":{\"outlinewidth\":0,\"ticks\":\"\"}},\"type\":\"scattercarpet\"}],\"scattergeo\":[{\"marker\":{\"colorbar\":{\"outlinewidth\":0,\"ticks\":\"\"}},\"type\":\"scattergeo\"}],\"scattergl\":[{\"marker\":{\"colorbar\":{\"outlinewidth\":0,\"ticks\":\"\"}},\"type\":\"scattergl\"}],\"scattermapbox\":[{\"marker\":{\"colorbar\":{\"outlinewidth\":0,\"ticks\":\"\"}},\"type\":\"scattermapbox\"}],\"scatterpolargl\":[{\"marker\":{\"colorbar\":{\"outlinewidth\":0,\"ticks\":\"\"}},\"type\":\"scatterpolargl\"}],\"scatterpolar\":[{\"marker\":{\"colorbar\":{\"outlinewidth\":0,\"ticks\":\"\"}},\"type\":\"scatterpolar\"}],\"scatter\":[{\"marker\":{\"colorbar\":{\"outlinewidth\":0,\"ticks\":\"\"}},\"type\":\"scatter\"}],\"scatterternary\":[{\"marker\":{\"colorbar\":{\"outlinewidth\":0,\"ticks\":\"\"}},\"type\":\"scatterternary\"}],\"surface\":[{\"colorbar\":{\"outlinewidth\":0,\"ticks\":\"\"},\"colorscale\":[[0.0,\"#0d0887\"],[0.1111111111111111,\"#46039f\"],[0.2222222222222222,\"#7201a8\"],[0.3333333333333333,\"#9c179e\"],[0.4444444444444444,\"#bd3786\"],[0.5555555555555556,\"#d8576b\"],[0.6666666666666666,\"#ed7953\"],[0.7777777777777778,\"#fb9f3a\"],[0.8888888888888888,\"#fdca26\"],[1.0,\"#f0f921\"]],\"type\":\"surface\"}],\"table\":[{\"cells\":{\"fill\":{\"color\":\"#EBF0F8\"},\"line\":{\"color\":\"white\"}},\"header\":{\"fill\":{\"color\":\"#C8D4E3\"},\"line\":{\"color\":\"white\"}},\"type\":\"table\"}]},\"layout\":{\"annotationdefaults\":{\"arrowcolor\":\"#2a3f5f\",\"arrowhead\":0,\"arrowwidth\":1},\"autotypenumbers\":\"strict\",\"coloraxis\":{\"colorbar\":{\"outlinewidth\":0,\"ticks\":\"\"}},\"colorscale\":{\"diverging\":[[0,\"#8e0152\"],[0.1,\"#c51b7d\"],[0.2,\"#de77ae\"],[0.3,\"#f1b6da\"],[0.4,\"#fde0ef\"],[0.5,\"#f7f7f7\"],[0.6,\"#e6f5d0\"],[0.7,\"#b8e186\"],[0.8,\"#7fbc41\"],[0.9,\"#4d9221\"],[1,\"#276419\"]],\"sequential\":[[0.0,\"#0d0887\"],[0.1111111111111111,\"#46039f\"],[0.2222222222222222,\"#7201a8\"],[0.3333333333333333,\"#9c179e\"],[0.4444444444444444,\"#bd3786\"],[0.5555555555555556,\"#d8576b\"],[0.6666666666666666,\"#ed7953\"],[0.7777777777777778,\"#fb9f3a\"],[0.8888888888888888,\"#fdca26\"],[1.0,\"#f0f921\"]],\"sequentialminus\":[[0.0,\"#0d0887\"],[0.1111111111111111,\"#46039f\"],[0.2222222222222222,\"#7201a8\"],[0.3333333333333333,\"#9c179e\"],[0.4444444444444444,\"#bd3786\"],[0.5555555555555556,\"#d8576b\"],[0.6666666666666666,\"#ed7953\"],[0.7777777777777778,\"#fb9f3a\"],[0.8888888888888888,\"#fdca26\"],[1.0,\"#f0f921\"]]},\"colorway\":[\"#636efa\",\"#EF553B\",\"#00cc96\",\"#ab63fa\",\"#FFA15A\",\"#19d3f3\",\"#FF6692\",\"#B6E880\",\"#FF97FF\",\"#FECB52\"],\"font\":{\"color\":\"#2a3f5f\"},\"geo\":{\"bgcolor\":\"white\",\"lakecolor\":\"white\",\"landcolor\":\"#E5ECF6\",\"showlakes\":true,\"showland\":true,\"subunitcolor\":\"white\"},\"hoverlabel\":{\"align\":\"left\"},\"hovermode\":\"closest\",\"mapbox\":{\"style\":\"light\"},\"paper_bgcolor\":\"white\",\"plot_bgcolor\":\"#E5ECF6\",\"polar\":{\"angularaxis\":{\"gridcolor\":\"white\",\"linecolor\":\"white\",\"ticks\":\"\"},\"bgcolor\":\"#E5ECF6\",\"radialaxis\":{\"gridcolor\":\"white\",\"linecolor\":\"white\",\"ticks\":\"\"}},\"scene\":{\"xaxis\":{\"backgroundcolor\":\"#E5ECF6\",\"gridcolor\":\"white\",\"gridwidth\":2,\"linecolor\":\"white\",\"showbackground\":true,\"ticks\":\"\",\"zerolinecolor\":\"white\"},\"yaxis\":{\"backgroundcolor\":\"#E5ECF6\",\"gridcolor\":\"white\",\"gridwidth\":2,\"linecolor\":\"white\",\"showbackground\":true,\"ticks\":\"\",\"zerolinecolor\":\"white\"},\"zaxis\":{\"backgroundcolor\":\"#E5ECF6\",\"gridcolor\":\"white\",\"gridwidth\":2,\"linecolor\":\"white\",\"showbackground\":true,\"ticks\":\"\",\"zerolinecolor\":\"white\"}},\"shapedefaults\":{\"line\":{\"color\":\"#2a3f5f\"}},\"ternary\":{\"aaxis\":{\"gridcolor\":\"white\",\"linecolor\":\"white\",\"ticks\":\"\"},\"baxis\":{\"gridcolor\":\"white\",\"linecolor\":\"white\",\"ticks\":\"\"},\"bgcolor\":\"#E5ECF6\",\"caxis\":{\"gridcolor\":\"white\",\"linecolor\":\"white\",\"ticks\":\"\"}},\"title\":{\"x\":0.05},\"xaxis\":{\"automargin\":true,\"gridcolor\":\"white\",\"linecolor\":\"white\",\"ticks\":\"\",\"title\":{\"standoff\":15},\"zerolinecolor\":\"white\",\"zerolinewidth\":2},\"yaxis\":{\"automargin\":true,\"gridcolor\":\"white\",\"linecolor\":\"white\",\"ticks\":\"\",\"title\":{\"standoff\":15},\"zerolinecolor\":\"white\",\"zerolinewidth\":2}}},\"title\":{\"font\":{\"color\":\"#4D5663\"}},\"xaxis\":{\"gridcolor\":\"#E1E5ED\",\"showgrid\":true,\"tickfont\":{\"color\":\"#4D5663\"},\"title\":{\"font\":{\"color\":\"#4D5663\"},\"text\":\"\"},\"zerolinecolor\":\"#E1E5ED\"},\"yaxis\":{\"gridcolor\":\"#E1E5ED\",\"showgrid\":true,\"tickfont\":{\"color\":\"#4D5663\"},\"title\":{\"font\":{\"color\":\"#4D5663\"},\"text\":\"\"},\"zerolinecolor\":\"#E1E5ED\"}},                        {\"showLink\": true, \"linkText\": \"Export to plot.ly\", \"plotlyServerURL\": \"https://plot.ly\", \"responsive\": true}                    ).then(function(){\n",
       "                            \n",
       "var gd = document.getElementById('cce78653-39c1-45d7-b227-8677429dee92');\n",
       "var x = new MutationObserver(function (mutations, observer) {{\n",
       "        var display = window.getComputedStyle(gd).display;\n",
       "        if (!display || display === 'none') {{\n",
       "            console.log([gd, 'removed!']);\n",
       "            Plotly.purge(gd);\n",
       "            observer.disconnect();\n",
       "        }}\n",
       "}});\n",
       "\n",
       "// Listen for the removal of the full notebook cells\n",
       "var notebookContainer = gd.closest('#notebook-container');\n",
       "if (notebookContainer) {{\n",
       "    x.observe(notebookContainer, {childList: true});\n",
       "}}\n",
       "\n",
       "// Listen for the clearing of the current output cell\n",
       "var outputEl = gd.closest('.output');\n",
       "if (outputEl) {{\n",
       "    x.observe(outputEl, {childList: true});\n",
       "}}\n",
       "\n",
       "                        })                };                });            </script>        </div>"
      ]
     },
     "metadata": {},
     "output_type": "display_data"
    }
   ],
   "source": [
    "df.sum().iplot(kind='bar')"
   ]
  },
  {
   "cell_type": "markdown",
   "metadata": {},
   "source": [
    "## Boxplots"
   ]
  },
  {
   "cell_type": "code",
   "execution_count": 17,
   "metadata": {},
   "outputs": [
    {
     "data": {
      "application/vnd.plotly.v1+json": {
       "config": {
        "linkText": "Export to plot.ly",
        "plotlyServerURL": "https://plot.ly",
        "showLink": true
       },
       "data": [
        {
         "boxpoints": false,
         "line": {
          "width": 1.3
         },
         "marker": {
          "color": "rgba(255, 153, 51, 1.0)"
         },
         "name": "A",
         "orientation": "v",
         "type": "box",
         "y": [
          -0.01667208869479953,
          0.6037503470629544,
          -0.28351149014731414,
          0.0216026878129016,
          0.1751687897703358,
          -0.7464757712873497,
          0.36612188033655946,
          1.5603681621800871,
          -0.4310426287934078,
          -0.40795947020774453,
          -0.6367278401219701,
          -1.0874168310844612,
          1.1698066413000878,
          -0.3066916909365898,
          1.1252351101197362,
          -1.2075223698484885,
          0.17673062821547475,
          -0.9895317582731459,
          0.9283196542513025,
          -0.5835587044089643,
          0.6902201487451626,
          -0.6455972284797273,
          1.7428152700098267,
          -1.4602586348752853,
          0.17593919995963694,
          0.5390588117799688,
          2.1207767856567727,
          1.2591692758771187,
          -0.17209273934779287,
          -0.366566956753178,
          -0.15331543661920066,
          0.08834728696166949,
          0.46909164345998144,
          0.7117073717263691,
          -1.123006297200311,
          0.20791917087926534,
          0.03840313876869264,
          0.9143191515646512,
          1.0356772091115893,
          0.44907932457214866,
          -0.38451117181962,
          -0.10228947216258112,
          0.9408916586961488,
          0.46082542099519913,
          0.5370618137962073,
          -0.11776168465227992,
          1.214265596966936,
          -0.8703436304770322,
          0.10740457078101891,
          0.3544977535785094,
          -0.9146086471251739,
          0.12808158542595066,
          -0.5426218229255564,
          1.1556505063233624,
          -0.7320625981927786,
          0.3973947239800183,
          -0.36711828716894135,
          0.4131382364285986,
          -0.819978944828114,
          -0.6864462990192921,
          -0.08551191306702406,
          -1.0865010798257977,
          -1.0817819236516397,
          -0.351388330509077,
          -0.5420249562951884,
          -0.06577023958226505,
          1.396824993267686,
          -1.0025865125331916,
          1.9923269253294456,
          -0.778359989476912,
          -0.6806007021133944,
          0.0402740148264282,
          -0.45542227594424267,
          1.3698478125158287,
          -0.6280302339215994,
          0.4044415920632114,
          0.37534727740862495,
          -0.957656480747998,
          0.691572236878223,
          -1.1873909229215367,
          1.2919297518408075,
          0.33667467848977395,
          -0.48006790969772334,
          -1.38797462206206,
          -1.0392939638716054,
          -0.37534975084431815,
          1.5813624436860207,
          -2.348410308085096,
          -0.9049476494213308,
          -2.656882930015167,
          1.561536057768945,
          0.5638875300946916,
          -0.47944682187429133,
          0.3539420600530498,
          -0.5135199779795387,
          -0.0906234411538603,
          -1.0406035600634143,
          1.9575152252883732,
          -1.8336226329156557,
          0.0005518196884569486
         ]
        },
        {
         "boxpoints": false,
         "line": {
          "width": 1.3
         },
         "marker": {
          "color": "rgba(55, 128, 191, 1.0)"
         },
         "name": "B",
         "orientation": "v",
         "type": "box",
         "y": [
          -2.036158386653377,
          -0.7781816942974347,
          1.640792608476573,
          -0.4738608055981185,
          -0.36170747479840376,
          0.7170574090643116,
          -0.8901972640088935,
          0.15542111224360824,
          0.16842148205573518,
          -0.7624378404781994,
          0.6676445311926261,
          -0.5008312999875397,
          -0.14183629809542564,
          0.37770469615146307,
          1.177547024579085,
          -0.379578510137013,
          -0.7779969080814645,
          0.5369129846980254,
          0.3819636750976547,
          -0.8483530509658844,
          -0.8629937368086817,
          -1.5474167747744243,
          0.13599077249133737,
          -0.02370519789406686,
          0.8255708913577603,
          0.293639449547524,
          0.37850737435463583,
          -0.5086837226103097,
          0.4459407415852692,
          -0.5526591872367761,
          -0.9759789134411783,
          -0.14107027812456086,
          0.6827968128789753,
          -0.5704347120697848,
          0.2882354759654698,
          0.32201555158302814,
          -0.5792869703886953,
          0.6470959694849135,
          -0.7446533623021079,
          0.7088489240229382,
          0.5183027904959195,
          -0.7870559941595908,
          -0.3294836263221717,
          -0.840845736897288,
          -1.7859985371240894,
          -0.9087816084177032,
          -0.810103196119456,
          1.5851472901959138,
          1.2702325525750735,
          1.6810503424614647,
          -0.721541491810264,
          0.44211506970111,
          -0.3299773960399986,
          -0.1361012916371215,
          1.4162533790883198,
          -0.7915579015705827,
          0.9087815478659267,
          -0.36744419622196695,
          0.2605624041964697,
          0.43818409668521363,
          0.7009328503085128,
          0.2865205297562157,
          0.9699378427772057,
          2.0440071661428485,
          -2.164434885573739,
          -1.1558905699366222,
          0.6497490347234127,
          0.16245956749095322,
          -1.7138870454600397,
          -0.4331724808449435,
          -0.09748754649182939,
          -0.10479631959914548,
          -0.43353149021733123,
          -0.10187037619783064,
          -1.0564104724357057,
          -1.0555058271567033,
          0.09288054992141877,
          -0.2221697337192965,
          0.5323503361220058,
          -0.16101088097754562,
          0.7828781980514036,
          0.016206754381635557,
          -0.07773191734361144,
          -0.10256238294231157,
          -1.292394526699772,
          -0.22957938752731008,
          -1.6756411693309572,
          0.009428651355560447,
          -0.3789931812591254,
          0.5513478850352597,
          0.16629860929405813,
          -0.9098861056873205,
          -2.300633794465044,
          -0.9897923121378868,
          0.6632766469066379,
          0.60526923673236,
          -2.0090173721005544,
          -0.5156329401365136,
          1.1975640252955149,
          0.501908128260419
         ]
        },
        {
         "boxpoints": false,
         "line": {
          "width": 1.3
         },
         "marker": {
          "color": "rgba(50, 171, 96, 1.0)"
         },
         "name": "C",
         "orientation": "v",
         "type": "box",
         "y": [
          -0.31514583740266267,
          -0.28510835080597086,
          0.3243117045744069,
          0.6876260843680956,
          1.4316838450944527,
          -0.2539176111685738,
          1.8314995425628757,
          1.303997904583354,
          2.0092656399860136,
          -0.5425063716925912,
          0.5208406987821578,
          -0.4598384972352967,
          -1.1410503454934207,
          2.7509589349959533,
          0.41091785277495074,
          -0.2438624989685957,
          -0.8361592314980884,
          -0.7023159493808567,
          0.7648732927000252,
          0.6332937281942047,
          -0.7953456242599859,
          -0.4400934240616856,
          -0.577906880167506,
          0.05297626602570358,
          0.7063058629070841,
          -1.1316993673106561,
          -1.229830280404116,
          2.7509901967839916,
          -1.715752671488742,
          1.0416119791023464,
          0.6571881571515092,
          0.8553501093407321,
          0.08248276270809378,
          -0.9013804318787658,
          -0.04374871025703826,
          0.32946504122848147,
          0.35768518128136656,
          -0.9934956218557267,
          0.5906835774442245,
          1.6115395326560833,
          -1.2096000153911886,
          -1.1278794002633734,
          -0.26060906735424477,
          0.7187210921020684,
          -0.08432377010288401,
          0.09637340679574283,
          0.0213005276856329,
          -0.61379071128084,
          -0.9352717987038517,
          0.5995764609074307,
          1.999750380620713,
          -1.8651652226301083,
          -0.9703453588222548,
          0.5169089650975354,
          -0.8952705858297897,
          -0.6296763109803356,
          0.2206410202708203,
          0.931205800217413,
          -0.3608398372799932,
          -0.05132983204531396,
          -0.6576701468424314,
          -2.210094763853348,
          -1.314061099541835,
          -0.07872298867142644,
          -0.9083492999219367,
          -0.5544195958094558,
          -0.6173065627582961,
          0.5375836290237022,
          -1.8211660014868283,
          -0.8668812966772147,
          -0.3738119450297486,
          -1.3078947438704553,
          -0.8990499054248187,
          1.4821422801658368,
          -0.45943939092853603,
          1.2373018388363508,
          -0.2740824268604862,
          0.9415219781682357,
          0.4514410714589517,
          0.17923826875106927,
          -1.1387690409563656,
          -0.8186931976761559,
          -0.1123853301811973,
          -0.5686710138609768,
          -1.2103825992077901,
          -0.35284549202668897,
          0.9906605504444056,
          -0.6745084460543134,
          1.3568812935888435,
          0.29684550804814563,
          -0.7231124713871573,
          1.9017902891920417,
          -0.5178673277578233,
          -1.0707119461609809,
          -0.2574649752292029,
          -0.57504830729504,
          0.5732014175121319,
          1.5440724399736447,
          -1.3465932141735566,
          -0.15040032943314166
         ]
        },
        {
         "boxpoints": false,
         "line": {
          "width": 1.3
         },
         "marker": {
          "color": "rgba(128, 0, 128, 1.0)"
         },
         "name": "D",
         "orientation": "v",
         "type": "box",
         "y": [
          -0.6603970446001893,
          1.5191896878824074,
          0.47157691859381173,
          -0.11402564889979212,
          -0.053716799423909785,
          -1.5502356923778882,
          -0.014378962156916112,
          1.5541252446768037,
          -1.8319862677442142,
          0.2870698640525949,
          0.5918836805777782,
          -0.040440043045159066,
          -0.3784157236841967,
          -1.1102538280560401,
          0.3898304992138822,
          -0.12041932267168726,
          -0.32897296405194965,
          -1.2719073437508008,
          0.8312839639517363,
          -1.7174490762641748,
          -2.037621968311098,
          0.03594238402987565,
          0.2426892592715048,
          0.6032963725387461,
          1.586024565818138,
          -0.20998647828293887,
          0.41773429488465963,
          -0.12718417400144386,
          -1.8617937276976186,
          -0.9501270868213497,
          1.1630063275582174,
          -0.8908532575897277,
          -1.458148546542736,
          0.6098274869070641,
          1.3852801359870763,
          0.29789912350204667,
          -0.09400524997271618,
          -1.3173703834766386,
          -1.9613197691028332,
          -0.07856563642446635,
          -1.8180245748601593,
          0.04544497800788125,
          -0.19320476197828065,
          1.887173935958992,
          0.139798344377311,
          -0.8745790170624088,
          3.2329022255557867,
          -0.6797478844880496,
          -0.393180811785337,
          -1.1351954497917902,
          -0.5146996496927783,
          0.6484518213874361,
          -2.0443634020015304,
          1.6140677626713165,
          -0.20774295074218022,
          0.6294374427080781,
          0.6142927069828564,
          -1.0641720745579637,
          0.9160208306907005,
          -2.476821589877224,
          0.4412469793535054,
          1.1106436185071047,
          0.8136665642415195,
          0.8550094947124073,
          0.1873501644650864,
          -0.2013499244861351,
          1.3698286033274958,
          1.6141963233312788,
          0.2242251788114569,
          -1.2188668408435317,
          0.07877231112907117,
          -0.2899878195310393,
          0.2898655486814956,
          -1.0309490310582619,
          -0.9397769904382155,
          -0.49400023561811696,
          -2.0211915998521497,
          -0.1341006433522084,
          0.27386999796809863,
          -2.4210908385370518,
          0.47663856887878947,
          0.27969817189077245,
          -1.797812215024415,
          1.8291111224719392,
          -1.2855471127773832,
          1.4684108779508989,
          -0.029735490975398366,
          0.46676467942544614,
          -0.10088424426169866,
          1.4241028972087357,
          -0.2931767117004282,
          -1.097509066956472,
          0.5458458587551795,
          0.44022539134547684,
          1.4107152259445312,
          0.32276296543783956,
          -1.4473209430727028,
          -0.2238818954548833,
          -0.7923364925428673,
          -0.030062739397800905
         ]
        }
       ],
       "layout": {
        "legend": {
         "bgcolor": "#F5F6F9",
         "font": {
          "color": "#4D5663"
         }
        },
        "paper_bgcolor": "#F5F6F9",
        "plot_bgcolor": "#F5F6F9",
        "template": {
         "data": {
          "bar": [
           {
            "error_x": {
             "color": "#2a3f5f"
            },
            "error_y": {
             "color": "#2a3f5f"
            },
            "marker": {
             "line": {
              "color": "#E5ECF6",
              "width": 0.5
             },
             "pattern": {
              "fillmode": "overlay",
              "size": 10,
              "solidity": 0.2
             }
            },
            "type": "bar"
           }
          ],
          "barpolar": [
           {
            "marker": {
             "line": {
              "color": "#E5ECF6",
              "width": 0.5
             },
             "pattern": {
              "fillmode": "overlay",
              "size": 10,
              "solidity": 0.2
             }
            },
            "type": "barpolar"
           }
          ],
          "carpet": [
           {
            "aaxis": {
             "endlinecolor": "#2a3f5f",
             "gridcolor": "white",
             "linecolor": "white",
             "minorgridcolor": "white",
             "startlinecolor": "#2a3f5f"
            },
            "baxis": {
             "endlinecolor": "#2a3f5f",
             "gridcolor": "white",
             "linecolor": "white",
             "minorgridcolor": "white",
             "startlinecolor": "#2a3f5f"
            },
            "type": "carpet"
           }
          ],
          "choropleth": [
           {
            "colorbar": {
             "outlinewidth": 0,
             "ticks": ""
            },
            "type": "choropleth"
           }
          ],
          "contour": [
           {
            "colorbar": {
             "outlinewidth": 0,
             "ticks": ""
            },
            "colorscale": [
             [
              0,
              "#0d0887"
             ],
             [
              0.1111111111111111,
              "#46039f"
             ],
             [
              0.2222222222222222,
              "#7201a8"
             ],
             [
              0.3333333333333333,
              "#9c179e"
             ],
             [
              0.4444444444444444,
              "#bd3786"
             ],
             [
              0.5555555555555556,
              "#d8576b"
             ],
             [
              0.6666666666666666,
              "#ed7953"
             ],
             [
              0.7777777777777778,
              "#fb9f3a"
             ],
             [
              0.8888888888888888,
              "#fdca26"
             ],
             [
              1,
              "#f0f921"
             ]
            ],
            "type": "contour"
           }
          ],
          "contourcarpet": [
           {
            "colorbar": {
             "outlinewidth": 0,
             "ticks": ""
            },
            "type": "contourcarpet"
           }
          ],
          "heatmap": [
           {
            "colorbar": {
             "outlinewidth": 0,
             "ticks": ""
            },
            "colorscale": [
             [
              0,
              "#0d0887"
             ],
             [
              0.1111111111111111,
              "#46039f"
             ],
             [
              0.2222222222222222,
              "#7201a8"
             ],
             [
              0.3333333333333333,
              "#9c179e"
             ],
             [
              0.4444444444444444,
              "#bd3786"
             ],
             [
              0.5555555555555556,
              "#d8576b"
             ],
             [
              0.6666666666666666,
              "#ed7953"
             ],
             [
              0.7777777777777778,
              "#fb9f3a"
             ],
             [
              0.8888888888888888,
              "#fdca26"
             ],
             [
              1,
              "#f0f921"
             ]
            ],
            "type": "heatmap"
           }
          ],
          "heatmapgl": [
           {
            "colorbar": {
             "outlinewidth": 0,
             "ticks": ""
            },
            "colorscale": [
             [
              0,
              "#0d0887"
             ],
             [
              0.1111111111111111,
              "#46039f"
             ],
             [
              0.2222222222222222,
              "#7201a8"
             ],
             [
              0.3333333333333333,
              "#9c179e"
             ],
             [
              0.4444444444444444,
              "#bd3786"
             ],
             [
              0.5555555555555556,
              "#d8576b"
             ],
             [
              0.6666666666666666,
              "#ed7953"
             ],
             [
              0.7777777777777778,
              "#fb9f3a"
             ],
             [
              0.8888888888888888,
              "#fdca26"
             ],
             [
              1,
              "#f0f921"
             ]
            ],
            "type": "heatmapgl"
           }
          ],
          "histogram": [
           {
            "marker": {
             "pattern": {
              "fillmode": "overlay",
              "size": 10,
              "solidity": 0.2
             }
            },
            "type": "histogram"
           }
          ],
          "histogram2d": [
           {
            "colorbar": {
             "outlinewidth": 0,
             "ticks": ""
            },
            "colorscale": [
             [
              0,
              "#0d0887"
             ],
             [
              0.1111111111111111,
              "#46039f"
             ],
             [
              0.2222222222222222,
              "#7201a8"
             ],
             [
              0.3333333333333333,
              "#9c179e"
             ],
             [
              0.4444444444444444,
              "#bd3786"
             ],
             [
              0.5555555555555556,
              "#d8576b"
             ],
             [
              0.6666666666666666,
              "#ed7953"
             ],
             [
              0.7777777777777778,
              "#fb9f3a"
             ],
             [
              0.8888888888888888,
              "#fdca26"
             ],
             [
              1,
              "#f0f921"
             ]
            ],
            "type": "histogram2d"
           }
          ],
          "histogram2dcontour": [
           {
            "colorbar": {
             "outlinewidth": 0,
             "ticks": ""
            },
            "colorscale": [
             [
              0,
              "#0d0887"
             ],
             [
              0.1111111111111111,
              "#46039f"
             ],
             [
              0.2222222222222222,
              "#7201a8"
             ],
             [
              0.3333333333333333,
              "#9c179e"
             ],
             [
              0.4444444444444444,
              "#bd3786"
             ],
             [
              0.5555555555555556,
              "#d8576b"
             ],
             [
              0.6666666666666666,
              "#ed7953"
             ],
             [
              0.7777777777777778,
              "#fb9f3a"
             ],
             [
              0.8888888888888888,
              "#fdca26"
             ],
             [
              1,
              "#f0f921"
             ]
            ],
            "type": "histogram2dcontour"
           }
          ],
          "mesh3d": [
           {
            "colorbar": {
             "outlinewidth": 0,
             "ticks": ""
            },
            "type": "mesh3d"
           }
          ],
          "parcoords": [
           {
            "line": {
             "colorbar": {
              "outlinewidth": 0,
              "ticks": ""
             }
            },
            "type": "parcoords"
           }
          ],
          "pie": [
           {
            "automargin": true,
            "type": "pie"
           }
          ],
          "scatter": [
           {
            "marker": {
             "colorbar": {
              "outlinewidth": 0,
              "ticks": ""
             }
            },
            "type": "scatter"
           }
          ],
          "scatter3d": [
           {
            "line": {
             "colorbar": {
              "outlinewidth": 0,
              "ticks": ""
             }
            },
            "marker": {
             "colorbar": {
              "outlinewidth": 0,
              "ticks": ""
             }
            },
            "type": "scatter3d"
           }
          ],
          "scattercarpet": [
           {
            "marker": {
             "colorbar": {
              "outlinewidth": 0,
              "ticks": ""
             }
            },
            "type": "scattercarpet"
           }
          ],
          "scattergeo": [
           {
            "marker": {
             "colorbar": {
              "outlinewidth": 0,
              "ticks": ""
             }
            },
            "type": "scattergeo"
           }
          ],
          "scattergl": [
           {
            "marker": {
             "colorbar": {
              "outlinewidth": 0,
              "ticks": ""
             }
            },
            "type": "scattergl"
           }
          ],
          "scattermapbox": [
           {
            "marker": {
             "colorbar": {
              "outlinewidth": 0,
              "ticks": ""
             }
            },
            "type": "scattermapbox"
           }
          ],
          "scatterpolar": [
           {
            "marker": {
             "colorbar": {
              "outlinewidth": 0,
              "ticks": ""
             }
            },
            "type": "scatterpolar"
           }
          ],
          "scatterpolargl": [
           {
            "marker": {
             "colorbar": {
              "outlinewidth": 0,
              "ticks": ""
             }
            },
            "type": "scatterpolargl"
           }
          ],
          "scatterternary": [
           {
            "marker": {
             "colorbar": {
              "outlinewidth": 0,
              "ticks": ""
             }
            },
            "type": "scatterternary"
           }
          ],
          "surface": [
           {
            "colorbar": {
             "outlinewidth": 0,
             "ticks": ""
            },
            "colorscale": [
             [
              0,
              "#0d0887"
             ],
             [
              0.1111111111111111,
              "#46039f"
             ],
             [
              0.2222222222222222,
              "#7201a8"
             ],
             [
              0.3333333333333333,
              "#9c179e"
             ],
             [
              0.4444444444444444,
              "#bd3786"
             ],
             [
              0.5555555555555556,
              "#d8576b"
             ],
             [
              0.6666666666666666,
              "#ed7953"
             ],
             [
              0.7777777777777778,
              "#fb9f3a"
             ],
             [
              0.8888888888888888,
              "#fdca26"
             ],
             [
              1,
              "#f0f921"
             ]
            ],
            "type": "surface"
           }
          ],
          "table": [
           {
            "cells": {
             "fill": {
              "color": "#EBF0F8"
             },
             "line": {
              "color": "white"
             }
            },
            "header": {
             "fill": {
              "color": "#C8D4E3"
             },
             "line": {
              "color": "white"
             }
            },
            "type": "table"
           }
          ]
         },
         "layout": {
          "annotationdefaults": {
           "arrowcolor": "#2a3f5f",
           "arrowhead": 0,
           "arrowwidth": 1
          },
          "autotypenumbers": "strict",
          "coloraxis": {
           "colorbar": {
            "outlinewidth": 0,
            "ticks": ""
           }
          },
          "colorscale": {
           "diverging": [
            [
             0,
             "#8e0152"
            ],
            [
             0.1,
             "#c51b7d"
            ],
            [
             0.2,
             "#de77ae"
            ],
            [
             0.3,
             "#f1b6da"
            ],
            [
             0.4,
             "#fde0ef"
            ],
            [
             0.5,
             "#f7f7f7"
            ],
            [
             0.6,
             "#e6f5d0"
            ],
            [
             0.7,
             "#b8e186"
            ],
            [
             0.8,
             "#7fbc41"
            ],
            [
             0.9,
             "#4d9221"
            ],
            [
             1,
             "#276419"
            ]
           ],
           "sequential": [
            [
             0,
             "#0d0887"
            ],
            [
             0.1111111111111111,
             "#46039f"
            ],
            [
             0.2222222222222222,
             "#7201a8"
            ],
            [
             0.3333333333333333,
             "#9c179e"
            ],
            [
             0.4444444444444444,
             "#bd3786"
            ],
            [
             0.5555555555555556,
             "#d8576b"
            ],
            [
             0.6666666666666666,
             "#ed7953"
            ],
            [
             0.7777777777777778,
             "#fb9f3a"
            ],
            [
             0.8888888888888888,
             "#fdca26"
            ],
            [
             1,
             "#f0f921"
            ]
           ],
           "sequentialminus": [
            [
             0,
             "#0d0887"
            ],
            [
             0.1111111111111111,
             "#46039f"
            ],
            [
             0.2222222222222222,
             "#7201a8"
            ],
            [
             0.3333333333333333,
             "#9c179e"
            ],
            [
             0.4444444444444444,
             "#bd3786"
            ],
            [
             0.5555555555555556,
             "#d8576b"
            ],
            [
             0.6666666666666666,
             "#ed7953"
            ],
            [
             0.7777777777777778,
             "#fb9f3a"
            ],
            [
             0.8888888888888888,
             "#fdca26"
            ],
            [
             1,
             "#f0f921"
            ]
           ]
          },
          "colorway": [
           "#636efa",
           "#EF553B",
           "#00cc96",
           "#ab63fa",
           "#FFA15A",
           "#19d3f3",
           "#FF6692",
           "#B6E880",
           "#FF97FF",
           "#FECB52"
          ],
          "font": {
           "color": "#2a3f5f"
          },
          "geo": {
           "bgcolor": "white",
           "lakecolor": "white",
           "landcolor": "#E5ECF6",
           "showlakes": true,
           "showland": true,
           "subunitcolor": "white"
          },
          "hoverlabel": {
           "align": "left"
          },
          "hovermode": "closest",
          "mapbox": {
           "style": "light"
          },
          "paper_bgcolor": "white",
          "plot_bgcolor": "#E5ECF6",
          "polar": {
           "angularaxis": {
            "gridcolor": "white",
            "linecolor": "white",
            "ticks": ""
           },
           "bgcolor": "#E5ECF6",
           "radialaxis": {
            "gridcolor": "white",
            "linecolor": "white",
            "ticks": ""
           }
          },
          "scene": {
           "xaxis": {
            "backgroundcolor": "#E5ECF6",
            "gridcolor": "white",
            "gridwidth": 2,
            "linecolor": "white",
            "showbackground": true,
            "ticks": "",
            "zerolinecolor": "white"
           },
           "yaxis": {
            "backgroundcolor": "#E5ECF6",
            "gridcolor": "white",
            "gridwidth": 2,
            "linecolor": "white",
            "showbackground": true,
            "ticks": "",
            "zerolinecolor": "white"
           },
           "zaxis": {
            "backgroundcolor": "#E5ECF6",
            "gridcolor": "white",
            "gridwidth": 2,
            "linecolor": "white",
            "showbackground": true,
            "ticks": "",
            "zerolinecolor": "white"
           }
          },
          "shapedefaults": {
           "line": {
            "color": "#2a3f5f"
           }
          },
          "ternary": {
           "aaxis": {
            "gridcolor": "white",
            "linecolor": "white",
            "ticks": ""
           },
           "baxis": {
            "gridcolor": "white",
            "linecolor": "white",
            "ticks": ""
           },
           "bgcolor": "#E5ECF6",
           "caxis": {
            "gridcolor": "white",
            "linecolor": "white",
            "ticks": ""
           }
          },
          "title": {
           "x": 0.05
          },
          "xaxis": {
           "automargin": true,
           "gridcolor": "white",
           "linecolor": "white",
           "ticks": "",
           "title": {
            "standoff": 15
           },
           "zerolinecolor": "white",
           "zerolinewidth": 2
          },
          "yaxis": {
           "automargin": true,
           "gridcolor": "white",
           "linecolor": "white",
           "ticks": "",
           "title": {
            "standoff": 15
           },
           "zerolinecolor": "white",
           "zerolinewidth": 2
          }
         }
        },
        "title": {
         "font": {
          "color": "#4D5663"
         }
        },
        "xaxis": {
         "gridcolor": "#E1E5ED",
         "showgrid": true,
         "tickfont": {
          "color": "#4D5663"
         },
         "title": {
          "font": {
           "color": "#4D5663"
          },
          "text": ""
         },
         "zerolinecolor": "#E1E5ED"
        },
        "yaxis": {
         "gridcolor": "#E1E5ED",
         "showgrid": true,
         "tickfont": {
          "color": "#4D5663"
         },
         "title": {
          "font": {
           "color": "#4D5663"
          },
          "text": ""
         },
         "zerolinecolor": "#E1E5ED"
        }
       }
      },
      "text/html": [
       "<div>                            <div id=\"9b742acb-21fb-483f-9f33-6e445a147948\" class=\"plotly-graph-div\" style=\"height:525px; width:100%;\"></div>            <script type=\"text/javascript\">                require([\"plotly\"], function(Plotly) {                    window.PLOTLYENV=window.PLOTLYENV || {};\n",
       "                    window.PLOTLYENV.BASE_URL='https://plot.ly';                                    if (document.getElementById(\"9b742acb-21fb-483f-9f33-6e445a147948\")) {                    Plotly.newPlot(                        \"9b742acb-21fb-483f-9f33-6e445a147948\",                        [{\"boxpoints\":false,\"line\":{\"width\":1.3},\"marker\":{\"color\":\"rgba(255, 153, 51, 1.0)\"},\"name\":\"A\",\"orientation\":\"v\",\"y\":[-0.01667208869479953,0.6037503470629544,-0.28351149014731414,0.0216026878129016,0.1751687897703358,-0.7464757712873497,0.36612188033655946,1.5603681621800871,-0.4310426287934078,-0.40795947020774453,-0.6367278401219701,-1.0874168310844612,1.1698066413000878,-0.3066916909365898,1.1252351101197362,-1.2075223698484885,0.17673062821547475,-0.9895317582731459,0.9283196542513025,-0.5835587044089643,0.6902201487451626,-0.6455972284797273,1.7428152700098267,-1.4602586348752853,0.17593919995963694,0.5390588117799688,2.1207767856567727,1.2591692758771187,-0.17209273934779287,-0.366566956753178,-0.15331543661920066,0.08834728696166949,0.46909164345998144,0.7117073717263691,-1.123006297200311,0.20791917087926534,0.03840313876869264,0.9143191515646512,1.0356772091115893,0.44907932457214866,-0.38451117181962,-0.10228947216258112,0.9408916586961488,0.46082542099519913,0.5370618137962073,-0.11776168465227992,1.214265596966936,-0.8703436304770322,0.10740457078101891,0.3544977535785094,-0.9146086471251739,0.12808158542595066,-0.5426218229255564,1.1556505063233624,-0.7320625981927786,0.3973947239800183,-0.36711828716894135,0.4131382364285986,-0.819978944828114,-0.6864462990192921,-0.08551191306702406,-1.0865010798257977,-1.0817819236516397,-0.351388330509077,-0.5420249562951884,-0.06577023958226505,1.396824993267686,-1.0025865125331916,1.9923269253294456,-0.778359989476912,-0.6806007021133944,0.0402740148264282,-0.45542227594424267,1.3698478125158287,-0.6280302339215994,0.4044415920632114,0.37534727740862495,-0.957656480747998,0.691572236878223,-1.1873909229215367,1.2919297518408075,0.33667467848977395,-0.48006790969772334,-1.38797462206206,-1.0392939638716054,-0.37534975084431815,1.5813624436860207,-2.348410308085096,-0.9049476494213308,-2.656882930015167,1.561536057768945,0.5638875300946916,-0.47944682187429133,0.3539420600530498,-0.5135199779795387,-0.0906234411538603,-1.0406035600634143,1.9575152252883732,-1.8336226329156557,0.0005518196884569486],\"type\":\"box\"},{\"boxpoints\":false,\"line\":{\"width\":1.3},\"marker\":{\"color\":\"rgba(55, 128, 191, 1.0)\"},\"name\":\"B\",\"orientation\":\"v\",\"y\":[-2.036158386653377,-0.7781816942974347,1.640792608476573,-0.4738608055981185,-0.36170747479840376,0.7170574090643116,-0.8901972640088935,0.15542111224360824,0.16842148205573518,-0.7624378404781994,0.6676445311926261,-0.5008312999875397,-0.14183629809542564,0.37770469615146307,1.177547024579085,-0.379578510137013,-0.7779969080814645,0.5369129846980254,0.3819636750976547,-0.8483530509658844,-0.8629937368086817,-1.5474167747744243,0.13599077249133737,-0.02370519789406686,0.8255708913577603,0.293639449547524,0.37850737435463583,-0.5086837226103097,0.4459407415852692,-0.5526591872367761,-0.9759789134411783,-0.14107027812456086,0.6827968128789753,-0.5704347120697848,0.2882354759654698,0.32201555158302814,-0.5792869703886953,0.6470959694849135,-0.7446533623021079,0.7088489240229382,0.5183027904959195,-0.7870559941595908,-0.3294836263221717,-0.840845736897288,-1.7859985371240894,-0.9087816084177032,-0.810103196119456,1.5851472901959138,1.2702325525750735,1.6810503424614647,-0.721541491810264,0.44211506970111,-0.3299773960399986,-0.1361012916371215,1.4162533790883198,-0.7915579015705827,0.9087815478659267,-0.36744419622196695,0.2605624041964697,0.43818409668521363,0.7009328503085128,0.2865205297562157,0.9699378427772057,2.0440071661428485,-2.164434885573739,-1.1558905699366222,0.6497490347234127,0.16245956749095322,-1.7138870454600397,-0.4331724808449435,-0.09748754649182939,-0.10479631959914548,-0.43353149021733123,-0.10187037619783064,-1.0564104724357057,-1.0555058271567033,0.09288054992141877,-0.2221697337192965,0.5323503361220058,-0.16101088097754562,0.7828781980514036,0.016206754381635557,-0.07773191734361144,-0.10256238294231157,-1.292394526699772,-0.22957938752731008,-1.6756411693309572,0.009428651355560447,-0.3789931812591254,0.5513478850352597,0.16629860929405813,-0.9098861056873205,-2.300633794465044,-0.9897923121378868,0.6632766469066379,0.60526923673236,-2.0090173721005544,-0.5156329401365136,1.1975640252955149,0.501908128260419],\"type\":\"box\"},{\"boxpoints\":false,\"line\":{\"width\":1.3},\"marker\":{\"color\":\"rgba(50, 171, 96, 1.0)\"},\"name\":\"C\",\"orientation\":\"v\",\"y\":[-0.31514583740266267,-0.28510835080597086,0.3243117045744069,0.6876260843680956,1.4316838450944527,-0.2539176111685738,1.8314995425628757,1.303997904583354,2.0092656399860136,-0.5425063716925912,0.5208406987821578,-0.4598384972352967,-1.1410503454934207,2.7509589349959533,0.41091785277495074,-0.2438624989685957,-0.8361592314980884,-0.7023159493808567,0.7648732927000252,0.6332937281942047,-0.7953456242599859,-0.4400934240616856,-0.577906880167506,0.05297626602570358,0.7063058629070841,-1.1316993673106561,-1.229830280404116,2.7509901967839916,-1.715752671488742,1.0416119791023464,0.6571881571515092,0.8553501093407321,0.08248276270809378,-0.9013804318787658,-0.04374871025703826,0.32946504122848147,0.35768518128136656,-0.9934956218557267,0.5906835774442245,1.6115395326560833,-1.2096000153911886,-1.1278794002633734,-0.26060906735424477,0.7187210921020684,-0.08432377010288401,0.09637340679574283,0.0213005276856329,-0.61379071128084,-0.9352717987038517,0.5995764609074307,1.999750380620713,-1.8651652226301083,-0.9703453588222548,0.5169089650975354,-0.8952705858297897,-0.6296763109803356,0.2206410202708203,0.931205800217413,-0.3608398372799932,-0.05132983204531396,-0.6576701468424314,-2.210094763853348,-1.314061099541835,-0.07872298867142644,-0.9083492999219367,-0.5544195958094558,-0.6173065627582961,0.5375836290237022,-1.8211660014868283,-0.8668812966772147,-0.3738119450297486,-1.3078947438704553,-0.8990499054248187,1.4821422801658368,-0.45943939092853603,1.2373018388363508,-0.2740824268604862,0.9415219781682357,0.4514410714589517,0.17923826875106927,-1.1387690409563656,-0.8186931976761559,-0.1123853301811973,-0.5686710138609768,-1.2103825992077901,-0.35284549202668897,0.9906605504444056,-0.6745084460543134,1.3568812935888435,0.29684550804814563,-0.7231124713871573,1.9017902891920417,-0.5178673277578233,-1.0707119461609809,-0.2574649752292029,-0.57504830729504,0.5732014175121319,1.5440724399736447,-1.3465932141735566,-0.15040032943314166],\"type\":\"box\"},{\"boxpoints\":false,\"line\":{\"width\":1.3},\"marker\":{\"color\":\"rgba(128, 0, 128, 1.0)\"},\"name\":\"D\",\"orientation\":\"v\",\"y\":[-0.6603970446001893,1.5191896878824074,0.47157691859381173,-0.11402564889979212,-0.053716799423909785,-1.5502356923778882,-0.014378962156916112,1.5541252446768037,-1.8319862677442142,0.2870698640525949,0.5918836805777782,-0.040440043045159066,-0.3784157236841967,-1.1102538280560401,0.3898304992138822,-0.12041932267168726,-0.32897296405194965,-1.2719073437508008,0.8312839639517363,-1.7174490762641748,-2.037621968311098,0.03594238402987565,0.2426892592715048,0.6032963725387461,1.586024565818138,-0.20998647828293887,0.41773429488465963,-0.12718417400144386,-1.8617937276976186,-0.9501270868213497,1.1630063275582174,-0.8908532575897277,-1.458148546542736,0.6098274869070641,1.3852801359870763,0.29789912350204667,-0.09400524997271618,-1.3173703834766386,-1.9613197691028332,-0.07856563642446635,-1.8180245748601593,0.04544497800788125,-0.19320476197828065,1.887173935958992,0.139798344377311,-0.8745790170624088,3.2329022255557867,-0.6797478844880496,-0.393180811785337,-1.1351954497917902,-0.5146996496927783,0.6484518213874361,-2.0443634020015304,1.6140677626713165,-0.20774295074218022,0.6294374427080781,0.6142927069828564,-1.0641720745579637,0.9160208306907005,-2.476821589877224,0.4412469793535054,1.1106436185071047,0.8136665642415195,0.8550094947124073,0.1873501644650864,-0.2013499244861351,1.3698286033274958,1.6141963233312788,0.2242251788114569,-1.2188668408435317,0.07877231112907117,-0.2899878195310393,0.2898655486814956,-1.0309490310582619,-0.9397769904382155,-0.49400023561811696,-2.0211915998521497,-0.1341006433522084,0.27386999796809863,-2.4210908385370518,0.47663856887878947,0.27969817189077245,-1.797812215024415,1.8291111224719392,-1.2855471127773832,1.4684108779508989,-0.029735490975398366,0.46676467942544614,-0.10088424426169866,1.4241028972087357,-0.2931767117004282,-1.097509066956472,0.5458458587551795,0.44022539134547684,1.4107152259445312,0.32276296543783956,-1.4473209430727028,-0.2238818954548833,-0.7923364925428673,-0.030062739397800905],\"type\":\"box\"}],                        {\"legend\":{\"bgcolor\":\"#F5F6F9\",\"font\":{\"color\":\"#4D5663\"}},\"paper_bgcolor\":\"#F5F6F9\",\"plot_bgcolor\":\"#F5F6F9\",\"template\":{\"data\":{\"barpolar\":[{\"marker\":{\"line\":{\"color\":\"#E5ECF6\",\"width\":0.5},\"pattern\":{\"fillmode\":\"overlay\",\"size\":10,\"solidity\":0.2}},\"type\":\"barpolar\"}],\"bar\":[{\"error_x\":{\"color\":\"#2a3f5f\"},\"error_y\":{\"color\":\"#2a3f5f\"},\"marker\":{\"line\":{\"color\":\"#E5ECF6\",\"width\":0.5},\"pattern\":{\"fillmode\":\"overlay\",\"size\":10,\"solidity\":0.2}},\"type\":\"bar\"}],\"carpet\":[{\"aaxis\":{\"endlinecolor\":\"#2a3f5f\",\"gridcolor\":\"white\",\"linecolor\":\"white\",\"minorgridcolor\":\"white\",\"startlinecolor\":\"#2a3f5f\"},\"baxis\":{\"endlinecolor\":\"#2a3f5f\",\"gridcolor\":\"white\",\"linecolor\":\"white\",\"minorgridcolor\":\"white\",\"startlinecolor\":\"#2a3f5f\"},\"type\":\"carpet\"}],\"choropleth\":[{\"colorbar\":{\"outlinewidth\":0,\"ticks\":\"\"},\"type\":\"choropleth\"}],\"contourcarpet\":[{\"colorbar\":{\"outlinewidth\":0,\"ticks\":\"\"},\"type\":\"contourcarpet\"}],\"contour\":[{\"colorbar\":{\"outlinewidth\":0,\"ticks\":\"\"},\"colorscale\":[[0.0,\"#0d0887\"],[0.1111111111111111,\"#46039f\"],[0.2222222222222222,\"#7201a8\"],[0.3333333333333333,\"#9c179e\"],[0.4444444444444444,\"#bd3786\"],[0.5555555555555556,\"#d8576b\"],[0.6666666666666666,\"#ed7953\"],[0.7777777777777778,\"#fb9f3a\"],[0.8888888888888888,\"#fdca26\"],[1.0,\"#f0f921\"]],\"type\":\"contour\"}],\"heatmapgl\":[{\"colorbar\":{\"outlinewidth\":0,\"ticks\":\"\"},\"colorscale\":[[0.0,\"#0d0887\"],[0.1111111111111111,\"#46039f\"],[0.2222222222222222,\"#7201a8\"],[0.3333333333333333,\"#9c179e\"],[0.4444444444444444,\"#bd3786\"],[0.5555555555555556,\"#d8576b\"],[0.6666666666666666,\"#ed7953\"],[0.7777777777777778,\"#fb9f3a\"],[0.8888888888888888,\"#fdca26\"],[1.0,\"#f0f921\"]],\"type\":\"heatmapgl\"}],\"heatmap\":[{\"colorbar\":{\"outlinewidth\":0,\"ticks\":\"\"},\"colorscale\":[[0.0,\"#0d0887\"],[0.1111111111111111,\"#46039f\"],[0.2222222222222222,\"#7201a8\"],[0.3333333333333333,\"#9c179e\"],[0.4444444444444444,\"#bd3786\"],[0.5555555555555556,\"#d8576b\"],[0.6666666666666666,\"#ed7953\"],[0.7777777777777778,\"#fb9f3a\"],[0.8888888888888888,\"#fdca26\"],[1.0,\"#f0f921\"]],\"type\":\"heatmap\"}],\"histogram2dcontour\":[{\"colorbar\":{\"outlinewidth\":0,\"ticks\":\"\"},\"colorscale\":[[0.0,\"#0d0887\"],[0.1111111111111111,\"#46039f\"],[0.2222222222222222,\"#7201a8\"],[0.3333333333333333,\"#9c179e\"],[0.4444444444444444,\"#bd3786\"],[0.5555555555555556,\"#d8576b\"],[0.6666666666666666,\"#ed7953\"],[0.7777777777777778,\"#fb9f3a\"],[0.8888888888888888,\"#fdca26\"],[1.0,\"#f0f921\"]],\"type\":\"histogram2dcontour\"}],\"histogram2d\":[{\"colorbar\":{\"outlinewidth\":0,\"ticks\":\"\"},\"colorscale\":[[0.0,\"#0d0887\"],[0.1111111111111111,\"#46039f\"],[0.2222222222222222,\"#7201a8\"],[0.3333333333333333,\"#9c179e\"],[0.4444444444444444,\"#bd3786\"],[0.5555555555555556,\"#d8576b\"],[0.6666666666666666,\"#ed7953\"],[0.7777777777777778,\"#fb9f3a\"],[0.8888888888888888,\"#fdca26\"],[1.0,\"#f0f921\"]],\"type\":\"histogram2d\"}],\"histogram\":[{\"marker\":{\"pattern\":{\"fillmode\":\"overlay\",\"size\":10,\"solidity\":0.2}},\"type\":\"histogram\"}],\"mesh3d\":[{\"colorbar\":{\"outlinewidth\":0,\"ticks\":\"\"},\"type\":\"mesh3d\"}],\"parcoords\":[{\"line\":{\"colorbar\":{\"outlinewidth\":0,\"ticks\":\"\"}},\"type\":\"parcoords\"}],\"pie\":[{\"automargin\":true,\"type\":\"pie\"}],\"scatter3d\":[{\"line\":{\"colorbar\":{\"outlinewidth\":0,\"ticks\":\"\"}},\"marker\":{\"colorbar\":{\"outlinewidth\":0,\"ticks\":\"\"}},\"type\":\"scatter3d\"}],\"scattercarpet\":[{\"marker\":{\"colorbar\":{\"outlinewidth\":0,\"ticks\":\"\"}},\"type\":\"scattercarpet\"}],\"scattergeo\":[{\"marker\":{\"colorbar\":{\"outlinewidth\":0,\"ticks\":\"\"}},\"type\":\"scattergeo\"}],\"scattergl\":[{\"marker\":{\"colorbar\":{\"outlinewidth\":0,\"ticks\":\"\"}},\"type\":\"scattergl\"}],\"scattermapbox\":[{\"marker\":{\"colorbar\":{\"outlinewidth\":0,\"ticks\":\"\"}},\"type\":\"scattermapbox\"}],\"scatterpolargl\":[{\"marker\":{\"colorbar\":{\"outlinewidth\":0,\"ticks\":\"\"}},\"type\":\"scatterpolargl\"}],\"scatterpolar\":[{\"marker\":{\"colorbar\":{\"outlinewidth\":0,\"ticks\":\"\"}},\"type\":\"scatterpolar\"}],\"scatter\":[{\"marker\":{\"colorbar\":{\"outlinewidth\":0,\"ticks\":\"\"}},\"type\":\"scatter\"}],\"scatterternary\":[{\"marker\":{\"colorbar\":{\"outlinewidth\":0,\"ticks\":\"\"}},\"type\":\"scatterternary\"}],\"surface\":[{\"colorbar\":{\"outlinewidth\":0,\"ticks\":\"\"},\"colorscale\":[[0.0,\"#0d0887\"],[0.1111111111111111,\"#46039f\"],[0.2222222222222222,\"#7201a8\"],[0.3333333333333333,\"#9c179e\"],[0.4444444444444444,\"#bd3786\"],[0.5555555555555556,\"#d8576b\"],[0.6666666666666666,\"#ed7953\"],[0.7777777777777778,\"#fb9f3a\"],[0.8888888888888888,\"#fdca26\"],[1.0,\"#f0f921\"]],\"type\":\"surface\"}],\"table\":[{\"cells\":{\"fill\":{\"color\":\"#EBF0F8\"},\"line\":{\"color\":\"white\"}},\"header\":{\"fill\":{\"color\":\"#C8D4E3\"},\"line\":{\"color\":\"white\"}},\"type\":\"table\"}]},\"layout\":{\"annotationdefaults\":{\"arrowcolor\":\"#2a3f5f\",\"arrowhead\":0,\"arrowwidth\":1},\"autotypenumbers\":\"strict\",\"coloraxis\":{\"colorbar\":{\"outlinewidth\":0,\"ticks\":\"\"}},\"colorscale\":{\"diverging\":[[0,\"#8e0152\"],[0.1,\"#c51b7d\"],[0.2,\"#de77ae\"],[0.3,\"#f1b6da\"],[0.4,\"#fde0ef\"],[0.5,\"#f7f7f7\"],[0.6,\"#e6f5d0\"],[0.7,\"#b8e186\"],[0.8,\"#7fbc41\"],[0.9,\"#4d9221\"],[1,\"#276419\"]],\"sequential\":[[0.0,\"#0d0887\"],[0.1111111111111111,\"#46039f\"],[0.2222222222222222,\"#7201a8\"],[0.3333333333333333,\"#9c179e\"],[0.4444444444444444,\"#bd3786\"],[0.5555555555555556,\"#d8576b\"],[0.6666666666666666,\"#ed7953\"],[0.7777777777777778,\"#fb9f3a\"],[0.8888888888888888,\"#fdca26\"],[1.0,\"#f0f921\"]],\"sequentialminus\":[[0.0,\"#0d0887\"],[0.1111111111111111,\"#46039f\"],[0.2222222222222222,\"#7201a8\"],[0.3333333333333333,\"#9c179e\"],[0.4444444444444444,\"#bd3786\"],[0.5555555555555556,\"#d8576b\"],[0.6666666666666666,\"#ed7953\"],[0.7777777777777778,\"#fb9f3a\"],[0.8888888888888888,\"#fdca26\"],[1.0,\"#f0f921\"]]},\"colorway\":[\"#636efa\",\"#EF553B\",\"#00cc96\",\"#ab63fa\",\"#FFA15A\",\"#19d3f3\",\"#FF6692\",\"#B6E880\",\"#FF97FF\",\"#FECB52\"],\"font\":{\"color\":\"#2a3f5f\"},\"geo\":{\"bgcolor\":\"white\",\"lakecolor\":\"white\",\"landcolor\":\"#E5ECF6\",\"showlakes\":true,\"showland\":true,\"subunitcolor\":\"white\"},\"hoverlabel\":{\"align\":\"left\"},\"hovermode\":\"closest\",\"mapbox\":{\"style\":\"light\"},\"paper_bgcolor\":\"white\",\"plot_bgcolor\":\"#E5ECF6\",\"polar\":{\"angularaxis\":{\"gridcolor\":\"white\",\"linecolor\":\"white\",\"ticks\":\"\"},\"bgcolor\":\"#E5ECF6\",\"radialaxis\":{\"gridcolor\":\"white\",\"linecolor\":\"white\",\"ticks\":\"\"}},\"scene\":{\"xaxis\":{\"backgroundcolor\":\"#E5ECF6\",\"gridcolor\":\"white\",\"gridwidth\":2,\"linecolor\":\"white\",\"showbackground\":true,\"ticks\":\"\",\"zerolinecolor\":\"white\"},\"yaxis\":{\"backgroundcolor\":\"#E5ECF6\",\"gridcolor\":\"white\",\"gridwidth\":2,\"linecolor\":\"white\",\"showbackground\":true,\"ticks\":\"\",\"zerolinecolor\":\"white\"},\"zaxis\":{\"backgroundcolor\":\"#E5ECF6\",\"gridcolor\":\"white\",\"gridwidth\":2,\"linecolor\":\"white\",\"showbackground\":true,\"ticks\":\"\",\"zerolinecolor\":\"white\"}},\"shapedefaults\":{\"line\":{\"color\":\"#2a3f5f\"}},\"ternary\":{\"aaxis\":{\"gridcolor\":\"white\",\"linecolor\":\"white\",\"ticks\":\"\"},\"baxis\":{\"gridcolor\":\"white\",\"linecolor\":\"white\",\"ticks\":\"\"},\"bgcolor\":\"#E5ECF6\",\"caxis\":{\"gridcolor\":\"white\",\"linecolor\":\"white\",\"ticks\":\"\"}},\"title\":{\"x\":0.05},\"xaxis\":{\"automargin\":true,\"gridcolor\":\"white\",\"linecolor\":\"white\",\"ticks\":\"\",\"title\":{\"standoff\":15},\"zerolinecolor\":\"white\",\"zerolinewidth\":2},\"yaxis\":{\"automargin\":true,\"gridcolor\":\"white\",\"linecolor\":\"white\",\"ticks\":\"\",\"title\":{\"standoff\":15},\"zerolinecolor\":\"white\",\"zerolinewidth\":2}}},\"title\":{\"font\":{\"color\":\"#4D5663\"}},\"xaxis\":{\"gridcolor\":\"#E1E5ED\",\"showgrid\":true,\"tickfont\":{\"color\":\"#4D5663\"},\"title\":{\"font\":{\"color\":\"#4D5663\"},\"text\":\"\"},\"zerolinecolor\":\"#E1E5ED\"},\"yaxis\":{\"gridcolor\":\"#E1E5ED\",\"showgrid\":true,\"tickfont\":{\"color\":\"#4D5663\"},\"title\":{\"font\":{\"color\":\"#4D5663\"},\"text\":\"\"},\"zerolinecolor\":\"#E1E5ED\"}},                        {\"showLink\": true, \"linkText\": \"Export to plot.ly\", \"plotlyServerURL\": \"https://plot.ly\", \"responsive\": true}                    ).then(function(){\n",
       "                            \n",
       "var gd = document.getElementById('9b742acb-21fb-483f-9f33-6e445a147948');\n",
       "var x = new MutationObserver(function (mutations, observer) {{\n",
       "        var display = window.getComputedStyle(gd).display;\n",
       "        if (!display || display === 'none') {{\n",
       "            console.log([gd, 'removed!']);\n",
       "            Plotly.purge(gd);\n",
       "            observer.disconnect();\n",
       "        }}\n",
       "}});\n",
       "\n",
       "// Listen for the removal of the full notebook cells\n",
       "var notebookContainer = gd.closest('#notebook-container');\n",
       "if (notebookContainer) {{\n",
       "    x.observe(notebookContainer, {childList: true});\n",
       "}}\n",
       "\n",
       "// Listen for the clearing of the current output cell\n",
       "var outputEl = gd.closest('.output');\n",
       "if (outputEl) {{\n",
       "    x.observe(outputEl, {childList: true});\n",
       "}}\n",
       "\n",
       "                        })                };                });            </script>        </div>"
      ]
     },
     "metadata": {},
     "output_type": "display_data"
    }
   ],
   "source": [
    "df.iplot(kind='box')\n",
    "#click on legend to disable/isolate it."
   ]
  },
  {
   "cell_type": "markdown",
   "metadata": {},
   "source": [
    "## 3d Surface"
   ]
  },
  {
   "cell_type": "code",
   "execution_count": 18,
   "metadata": {},
   "outputs": [
    {
     "data": {
      "application/vnd.plotly.v1+json": {
       "config": {
        "linkText": "Export to plot.ly",
        "plotlyServerURL": "https://plot.ly",
        "showLink": true
       },
       "data": [
        {
         "colorscale": [
          [
           0,
           "rgb(165,0,38)"
          ],
          [
           0.1,
           "rgb(215,48,39)"
          ],
          [
           0.2,
           "rgb(244,109,67)"
          ],
          [
           0.3,
           "rgb(253,174,97)"
          ],
          [
           0.4,
           "rgb(254,224,144)"
          ],
          [
           0.5,
           "rgb(255,255,191)"
          ],
          [
           0.6,
           "rgb(224,243,248)"
          ],
          [
           0.7,
           "rgb(171,217,233)"
          ],
          [
           0.8,
           "rgb(116,173,209)"
          ],
          [
           0.9,
           "rgb(69,117,180)"
          ],
          [
           1,
           "rgb(49,54,149)"
          ]
         ],
         "type": "surface",
         "x": [
          0,
          1,
          2,
          3,
          4
         ],
         "y": [
          "x",
          "y",
          "z"
         ],
         "z": [
          [
           1,
           2,
           3,
           4,
           5
          ],
          [
           10,
           20,
           30,
           20,
           10
          ],
          [
           5,
           4,
           3,
           2,
           1
          ]
         ]
        }
       ],
       "layout": {
        "legend": {
         "bgcolor": "#F5F6F9",
         "font": {
          "color": "#4D5663"
         }
        },
        "paper_bgcolor": "#F5F6F9",
        "plot_bgcolor": "#F5F6F9",
        "template": {
         "data": {
          "bar": [
           {
            "error_x": {
             "color": "#2a3f5f"
            },
            "error_y": {
             "color": "#2a3f5f"
            },
            "marker": {
             "line": {
              "color": "#E5ECF6",
              "width": 0.5
             },
             "pattern": {
              "fillmode": "overlay",
              "size": 10,
              "solidity": 0.2
             }
            },
            "type": "bar"
           }
          ],
          "barpolar": [
           {
            "marker": {
             "line": {
              "color": "#E5ECF6",
              "width": 0.5
             },
             "pattern": {
              "fillmode": "overlay",
              "size": 10,
              "solidity": 0.2
             }
            },
            "type": "barpolar"
           }
          ],
          "carpet": [
           {
            "aaxis": {
             "endlinecolor": "#2a3f5f",
             "gridcolor": "white",
             "linecolor": "white",
             "minorgridcolor": "white",
             "startlinecolor": "#2a3f5f"
            },
            "baxis": {
             "endlinecolor": "#2a3f5f",
             "gridcolor": "white",
             "linecolor": "white",
             "minorgridcolor": "white",
             "startlinecolor": "#2a3f5f"
            },
            "type": "carpet"
           }
          ],
          "choropleth": [
           {
            "colorbar": {
             "outlinewidth": 0,
             "ticks": ""
            },
            "type": "choropleth"
           }
          ],
          "contour": [
           {
            "colorbar": {
             "outlinewidth": 0,
             "ticks": ""
            },
            "colorscale": [
             [
              0,
              "#0d0887"
             ],
             [
              0.1111111111111111,
              "#46039f"
             ],
             [
              0.2222222222222222,
              "#7201a8"
             ],
             [
              0.3333333333333333,
              "#9c179e"
             ],
             [
              0.4444444444444444,
              "#bd3786"
             ],
             [
              0.5555555555555556,
              "#d8576b"
             ],
             [
              0.6666666666666666,
              "#ed7953"
             ],
             [
              0.7777777777777778,
              "#fb9f3a"
             ],
             [
              0.8888888888888888,
              "#fdca26"
             ],
             [
              1,
              "#f0f921"
             ]
            ],
            "type": "contour"
           }
          ],
          "contourcarpet": [
           {
            "colorbar": {
             "outlinewidth": 0,
             "ticks": ""
            },
            "type": "contourcarpet"
           }
          ],
          "heatmap": [
           {
            "colorbar": {
             "outlinewidth": 0,
             "ticks": ""
            },
            "colorscale": [
             [
              0,
              "#0d0887"
             ],
             [
              0.1111111111111111,
              "#46039f"
             ],
             [
              0.2222222222222222,
              "#7201a8"
             ],
             [
              0.3333333333333333,
              "#9c179e"
             ],
             [
              0.4444444444444444,
              "#bd3786"
             ],
             [
              0.5555555555555556,
              "#d8576b"
             ],
             [
              0.6666666666666666,
              "#ed7953"
             ],
             [
              0.7777777777777778,
              "#fb9f3a"
             ],
             [
              0.8888888888888888,
              "#fdca26"
             ],
             [
              1,
              "#f0f921"
             ]
            ],
            "type": "heatmap"
           }
          ],
          "heatmapgl": [
           {
            "colorbar": {
             "outlinewidth": 0,
             "ticks": ""
            },
            "colorscale": [
             [
              0,
              "#0d0887"
             ],
             [
              0.1111111111111111,
              "#46039f"
             ],
             [
              0.2222222222222222,
              "#7201a8"
             ],
             [
              0.3333333333333333,
              "#9c179e"
             ],
             [
              0.4444444444444444,
              "#bd3786"
             ],
             [
              0.5555555555555556,
              "#d8576b"
             ],
             [
              0.6666666666666666,
              "#ed7953"
             ],
             [
              0.7777777777777778,
              "#fb9f3a"
             ],
             [
              0.8888888888888888,
              "#fdca26"
             ],
             [
              1,
              "#f0f921"
             ]
            ],
            "type": "heatmapgl"
           }
          ],
          "histogram": [
           {
            "marker": {
             "pattern": {
              "fillmode": "overlay",
              "size": 10,
              "solidity": 0.2
             }
            },
            "type": "histogram"
           }
          ],
          "histogram2d": [
           {
            "colorbar": {
             "outlinewidth": 0,
             "ticks": ""
            },
            "colorscale": [
             [
              0,
              "#0d0887"
             ],
             [
              0.1111111111111111,
              "#46039f"
             ],
             [
              0.2222222222222222,
              "#7201a8"
             ],
             [
              0.3333333333333333,
              "#9c179e"
             ],
             [
              0.4444444444444444,
              "#bd3786"
             ],
             [
              0.5555555555555556,
              "#d8576b"
             ],
             [
              0.6666666666666666,
              "#ed7953"
             ],
             [
              0.7777777777777778,
              "#fb9f3a"
             ],
             [
              0.8888888888888888,
              "#fdca26"
             ],
             [
              1,
              "#f0f921"
             ]
            ],
            "type": "histogram2d"
           }
          ],
          "histogram2dcontour": [
           {
            "colorbar": {
             "outlinewidth": 0,
             "ticks": ""
            },
            "colorscale": [
             [
              0,
              "#0d0887"
             ],
             [
              0.1111111111111111,
              "#46039f"
             ],
             [
              0.2222222222222222,
              "#7201a8"
             ],
             [
              0.3333333333333333,
              "#9c179e"
             ],
             [
              0.4444444444444444,
              "#bd3786"
             ],
             [
              0.5555555555555556,
              "#d8576b"
             ],
             [
              0.6666666666666666,
              "#ed7953"
             ],
             [
              0.7777777777777778,
              "#fb9f3a"
             ],
             [
              0.8888888888888888,
              "#fdca26"
             ],
             [
              1,
              "#f0f921"
             ]
            ],
            "type": "histogram2dcontour"
           }
          ],
          "mesh3d": [
           {
            "colorbar": {
             "outlinewidth": 0,
             "ticks": ""
            },
            "type": "mesh3d"
           }
          ],
          "parcoords": [
           {
            "line": {
             "colorbar": {
              "outlinewidth": 0,
              "ticks": ""
             }
            },
            "type": "parcoords"
           }
          ],
          "pie": [
           {
            "automargin": true,
            "type": "pie"
           }
          ],
          "scatter": [
           {
            "marker": {
             "colorbar": {
              "outlinewidth": 0,
              "ticks": ""
             }
            },
            "type": "scatter"
           }
          ],
          "scatter3d": [
           {
            "line": {
             "colorbar": {
              "outlinewidth": 0,
              "ticks": ""
             }
            },
            "marker": {
             "colorbar": {
              "outlinewidth": 0,
              "ticks": ""
             }
            },
            "type": "scatter3d"
           }
          ],
          "scattercarpet": [
           {
            "marker": {
             "colorbar": {
              "outlinewidth": 0,
              "ticks": ""
             }
            },
            "type": "scattercarpet"
           }
          ],
          "scattergeo": [
           {
            "marker": {
             "colorbar": {
              "outlinewidth": 0,
              "ticks": ""
             }
            },
            "type": "scattergeo"
           }
          ],
          "scattergl": [
           {
            "marker": {
             "colorbar": {
              "outlinewidth": 0,
              "ticks": ""
             }
            },
            "type": "scattergl"
           }
          ],
          "scattermapbox": [
           {
            "marker": {
             "colorbar": {
              "outlinewidth": 0,
              "ticks": ""
             }
            },
            "type": "scattermapbox"
           }
          ],
          "scatterpolar": [
           {
            "marker": {
             "colorbar": {
              "outlinewidth": 0,
              "ticks": ""
             }
            },
            "type": "scatterpolar"
           }
          ],
          "scatterpolargl": [
           {
            "marker": {
             "colorbar": {
              "outlinewidth": 0,
              "ticks": ""
             }
            },
            "type": "scatterpolargl"
           }
          ],
          "scatterternary": [
           {
            "marker": {
             "colorbar": {
              "outlinewidth": 0,
              "ticks": ""
             }
            },
            "type": "scatterternary"
           }
          ],
          "surface": [
           {
            "colorbar": {
             "outlinewidth": 0,
             "ticks": ""
            },
            "colorscale": [
             [
              0,
              "#0d0887"
             ],
             [
              0.1111111111111111,
              "#46039f"
             ],
             [
              0.2222222222222222,
              "#7201a8"
             ],
             [
              0.3333333333333333,
              "#9c179e"
             ],
             [
              0.4444444444444444,
              "#bd3786"
             ],
             [
              0.5555555555555556,
              "#d8576b"
             ],
             [
              0.6666666666666666,
              "#ed7953"
             ],
             [
              0.7777777777777778,
              "#fb9f3a"
             ],
             [
              0.8888888888888888,
              "#fdca26"
             ],
             [
              1,
              "#f0f921"
             ]
            ],
            "type": "surface"
           }
          ],
          "table": [
           {
            "cells": {
             "fill": {
              "color": "#EBF0F8"
             },
             "line": {
              "color": "white"
             }
            },
            "header": {
             "fill": {
              "color": "#C8D4E3"
             },
             "line": {
              "color": "white"
             }
            },
            "type": "table"
           }
          ]
         },
         "layout": {
          "annotationdefaults": {
           "arrowcolor": "#2a3f5f",
           "arrowhead": 0,
           "arrowwidth": 1
          },
          "autotypenumbers": "strict",
          "coloraxis": {
           "colorbar": {
            "outlinewidth": 0,
            "ticks": ""
           }
          },
          "colorscale": {
           "diverging": [
            [
             0,
             "#8e0152"
            ],
            [
             0.1,
             "#c51b7d"
            ],
            [
             0.2,
             "#de77ae"
            ],
            [
             0.3,
             "#f1b6da"
            ],
            [
             0.4,
             "#fde0ef"
            ],
            [
             0.5,
             "#f7f7f7"
            ],
            [
             0.6,
             "#e6f5d0"
            ],
            [
             0.7,
             "#b8e186"
            ],
            [
             0.8,
             "#7fbc41"
            ],
            [
             0.9,
             "#4d9221"
            ],
            [
             1,
             "#276419"
            ]
           ],
           "sequential": [
            [
             0,
             "#0d0887"
            ],
            [
             0.1111111111111111,
             "#46039f"
            ],
            [
             0.2222222222222222,
             "#7201a8"
            ],
            [
             0.3333333333333333,
             "#9c179e"
            ],
            [
             0.4444444444444444,
             "#bd3786"
            ],
            [
             0.5555555555555556,
             "#d8576b"
            ],
            [
             0.6666666666666666,
             "#ed7953"
            ],
            [
             0.7777777777777778,
             "#fb9f3a"
            ],
            [
             0.8888888888888888,
             "#fdca26"
            ],
            [
             1,
             "#f0f921"
            ]
           ],
           "sequentialminus": [
            [
             0,
             "#0d0887"
            ],
            [
             0.1111111111111111,
             "#46039f"
            ],
            [
             0.2222222222222222,
             "#7201a8"
            ],
            [
             0.3333333333333333,
             "#9c179e"
            ],
            [
             0.4444444444444444,
             "#bd3786"
            ],
            [
             0.5555555555555556,
             "#d8576b"
            ],
            [
             0.6666666666666666,
             "#ed7953"
            ],
            [
             0.7777777777777778,
             "#fb9f3a"
            ],
            [
             0.8888888888888888,
             "#fdca26"
            ],
            [
             1,
             "#f0f921"
            ]
           ]
          },
          "colorway": [
           "#636efa",
           "#EF553B",
           "#00cc96",
           "#ab63fa",
           "#FFA15A",
           "#19d3f3",
           "#FF6692",
           "#B6E880",
           "#FF97FF",
           "#FECB52"
          ],
          "font": {
           "color": "#2a3f5f"
          },
          "geo": {
           "bgcolor": "white",
           "lakecolor": "white",
           "landcolor": "#E5ECF6",
           "showlakes": true,
           "showland": true,
           "subunitcolor": "white"
          },
          "hoverlabel": {
           "align": "left"
          },
          "hovermode": "closest",
          "mapbox": {
           "style": "light"
          },
          "paper_bgcolor": "white",
          "plot_bgcolor": "#E5ECF6",
          "polar": {
           "angularaxis": {
            "gridcolor": "white",
            "linecolor": "white",
            "ticks": ""
           },
           "bgcolor": "#E5ECF6",
           "radialaxis": {
            "gridcolor": "white",
            "linecolor": "white",
            "ticks": ""
           }
          },
          "scene": {
           "xaxis": {
            "backgroundcolor": "#E5ECF6",
            "gridcolor": "white",
            "gridwidth": 2,
            "linecolor": "white",
            "showbackground": true,
            "ticks": "",
            "zerolinecolor": "white"
           },
           "yaxis": {
            "backgroundcolor": "#E5ECF6",
            "gridcolor": "white",
            "gridwidth": 2,
            "linecolor": "white",
            "showbackground": true,
            "ticks": "",
            "zerolinecolor": "white"
           },
           "zaxis": {
            "backgroundcolor": "#E5ECF6",
            "gridcolor": "white",
            "gridwidth": 2,
            "linecolor": "white",
            "showbackground": true,
            "ticks": "",
            "zerolinecolor": "white"
           }
          },
          "shapedefaults": {
           "line": {
            "color": "#2a3f5f"
           }
          },
          "ternary": {
           "aaxis": {
            "gridcolor": "white",
            "linecolor": "white",
            "ticks": ""
           },
           "baxis": {
            "gridcolor": "white",
            "linecolor": "white",
            "ticks": ""
           },
           "bgcolor": "#E5ECF6",
           "caxis": {
            "gridcolor": "white",
            "linecolor": "white",
            "ticks": ""
           }
          },
          "title": {
           "x": 0.05
          },
          "xaxis": {
           "automargin": true,
           "gridcolor": "white",
           "linecolor": "white",
           "ticks": "",
           "title": {
            "standoff": 15
           },
           "zerolinecolor": "white",
           "zerolinewidth": 2
          },
          "yaxis": {
           "automargin": true,
           "gridcolor": "white",
           "linecolor": "white",
           "ticks": "",
           "title": {
            "standoff": 15
           },
           "zerolinecolor": "white",
           "zerolinewidth": 2
          }
         }
        },
        "title": {
         "font": {
          "color": "#4D5663"
         }
        },
        "xaxis": {
         "gridcolor": "#E1E5ED",
         "showgrid": true,
         "tickfont": {
          "color": "#4D5663"
         },
         "title": {
          "font": {
           "color": "#4D5663"
          },
          "text": ""
         },
         "zerolinecolor": "#E1E5ED"
        },
        "yaxis": {
         "gridcolor": "#E1E5ED",
         "showgrid": true,
         "tickfont": {
          "color": "#4D5663"
         },
         "title": {
          "font": {
           "color": "#4D5663"
          },
          "text": ""
         },
         "zerolinecolor": "#E1E5ED"
        }
       }
      },
      "text/html": [
       "<div>                            <div id=\"4306e687-2076-4a8f-bb1f-091f7f1e6086\" class=\"plotly-graph-div\" style=\"height:525px; width:100%;\"></div>            <script type=\"text/javascript\">                require([\"plotly\"], function(Plotly) {                    window.PLOTLYENV=window.PLOTLYENV || {};\n",
       "                    window.PLOTLYENV.BASE_URL='https://plot.ly';                                    if (document.getElementById(\"4306e687-2076-4a8f-bb1f-091f7f1e6086\")) {                    Plotly.newPlot(                        \"4306e687-2076-4a8f-bb1f-091f7f1e6086\",                        [{\"colorscale\":[[0.0,\"rgb(165,0,38)\"],[0.1,\"rgb(215,48,39)\"],[0.2,\"rgb(244,109,67)\"],[0.3,\"rgb(253,174,97)\"],[0.4,\"rgb(254,224,144)\"],[0.5,\"rgb(255,255,191)\"],[0.6,\"rgb(224,243,248)\"],[0.7,\"rgb(171,217,233)\"],[0.8,\"rgb(116,173,209)\"],[0.9,\"rgb(69,117,180)\"],[1.0,\"rgb(49,54,149)\"]],\"x\":[0,1,2,3,4],\"y\":[\"x\",\"y\",\"z\"],\"z\":[[1,2,3,4,5],[10,20,30,20,10],[5,4,3,2,1]],\"type\":\"surface\"}],                        {\"legend\":{\"bgcolor\":\"#F5F6F9\",\"font\":{\"color\":\"#4D5663\"}},\"paper_bgcolor\":\"#F5F6F9\",\"plot_bgcolor\":\"#F5F6F9\",\"template\":{\"data\":{\"barpolar\":[{\"marker\":{\"line\":{\"color\":\"#E5ECF6\",\"width\":0.5},\"pattern\":{\"fillmode\":\"overlay\",\"size\":10,\"solidity\":0.2}},\"type\":\"barpolar\"}],\"bar\":[{\"error_x\":{\"color\":\"#2a3f5f\"},\"error_y\":{\"color\":\"#2a3f5f\"},\"marker\":{\"line\":{\"color\":\"#E5ECF6\",\"width\":0.5},\"pattern\":{\"fillmode\":\"overlay\",\"size\":10,\"solidity\":0.2}},\"type\":\"bar\"}],\"carpet\":[{\"aaxis\":{\"endlinecolor\":\"#2a3f5f\",\"gridcolor\":\"white\",\"linecolor\":\"white\",\"minorgridcolor\":\"white\",\"startlinecolor\":\"#2a3f5f\"},\"baxis\":{\"endlinecolor\":\"#2a3f5f\",\"gridcolor\":\"white\",\"linecolor\":\"white\",\"minorgridcolor\":\"white\",\"startlinecolor\":\"#2a3f5f\"},\"type\":\"carpet\"}],\"choropleth\":[{\"colorbar\":{\"outlinewidth\":0,\"ticks\":\"\"},\"type\":\"choropleth\"}],\"contourcarpet\":[{\"colorbar\":{\"outlinewidth\":0,\"ticks\":\"\"},\"type\":\"contourcarpet\"}],\"contour\":[{\"colorbar\":{\"outlinewidth\":0,\"ticks\":\"\"},\"colorscale\":[[0.0,\"#0d0887\"],[0.1111111111111111,\"#46039f\"],[0.2222222222222222,\"#7201a8\"],[0.3333333333333333,\"#9c179e\"],[0.4444444444444444,\"#bd3786\"],[0.5555555555555556,\"#d8576b\"],[0.6666666666666666,\"#ed7953\"],[0.7777777777777778,\"#fb9f3a\"],[0.8888888888888888,\"#fdca26\"],[1.0,\"#f0f921\"]],\"type\":\"contour\"}],\"heatmapgl\":[{\"colorbar\":{\"outlinewidth\":0,\"ticks\":\"\"},\"colorscale\":[[0.0,\"#0d0887\"],[0.1111111111111111,\"#46039f\"],[0.2222222222222222,\"#7201a8\"],[0.3333333333333333,\"#9c179e\"],[0.4444444444444444,\"#bd3786\"],[0.5555555555555556,\"#d8576b\"],[0.6666666666666666,\"#ed7953\"],[0.7777777777777778,\"#fb9f3a\"],[0.8888888888888888,\"#fdca26\"],[1.0,\"#f0f921\"]],\"type\":\"heatmapgl\"}],\"heatmap\":[{\"colorbar\":{\"outlinewidth\":0,\"ticks\":\"\"},\"colorscale\":[[0.0,\"#0d0887\"],[0.1111111111111111,\"#46039f\"],[0.2222222222222222,\"#7201a8\"],[0.3333333333333333,\"#9c179e\"],[0.4444444444444444,\"#bd3786\"],[0.5555555555555556,\"#d8576b\"],[0.6666666666666666,\"#ed7953\"],[0.7777777777777778,\"#fb9f3a\"],[0.8888888888888888,\"#fdca26\"],[1.0,\"#f0f921\"]],\"type\":\"heatmap\"}],\"histogram2dcontour\":[{\"colorbar\":{\"outlinewidth\":0,\"ticks\":\"\"},\"colorscale\":[[0.0,\"#0d0887\"],[0.1111111111111111,\"#46039f\"],[0.2222222222222222,\"#7201a8\"],[0.3333333333333333,\"#9c179e\"],[0.4444444444444444,\"#bd3786\"],[0.5555555555555556,\"#d8576b\"],[0.6666666666666666,\"#ed7953\"],[0.7777777777777778,\"#fb9f3a\"],[0.8888888888888888,\"#fdca26\"],[1.0,\"#f0f921\"]],\"type\":\"histogram2dcontour\"}],\"histogram2d\":[{\"colorbar\":{\"outlinewidth\":0,\"ticks\":\"\"},\"colorscale\":[[0.0,\"#0d0887\"],[0.1111111111111111,\"#46039f\"],[0.2222222222222222,\"#7201a8\"],[0.3333333333333333,\"#9c179e\"],[0.4444444444444444,\"#bd3786\"],[0.5555555555555556,\"#d8576b\"],[0.6666666666666666,\"#ed7953\"],[0.7777777777777778,\"#fb9f3a\"],[0.8888888888888888,\"#fdca26\"],[1.0,\"#f0f921\"]],\"type\":\"histogram2d\"}],\"histogram\":[{\"marker\":{\"pattern\":{\"fillmode\":\"overlay\",\"size\":10,\"solidity\":0.2}},\"type\":\"histogram\"}],\"mesh3d\":[{\"colorbar\":{\"outlinewidth\":0,\"ticks\":\"\"},\"type\":\"mesh3d\"}],\"parcoords\":[{\"line\":{\"colorbar\":{\"outlinewidth\":0,\"ticks\":\"\"}},\"type\":\"parcoords\"}],\"pie\":[{\"automargin\":true,\"type\":\"pie\"}],\"scatter3d\":[{\"line\":{\"colorbar\":{\"outlinewidth\":0,\"ticks\":\"\"}},\"marker\":{\"colorbar\":{\"outlinewidth\":0,\"ticks\":\"\"}},\"type\":\"scatter3d\"}],\"scattercarpet\":[{\"marker\":{\"colorbar\":{\"outlinewidth\":0,\"ticks\":\"\"}},\"type\":\"scattercarpet\"}],\"scattergeo\":[{\"marker\":{\"colorbar\":{\"outlinewidth\":0,\"ticks\":\"\"}},\"type\":\"scattergeo\"}],\"scattergl\":[{\"marker\":{\"colorbar\":{\"outlinewidth\":0,\"ticks\":\"\"}},\"type\":\"scattergl\"}],\"scattermapbox\":[{\"marker\":{\"colorbar\":{\"outlinewidth\":0,\"ticks\":\"\"}},\"type\":\"scattermapbox\"}],\"scatterpolargl\":[{\"marker\":{\"colorbar\":{\"outlinewidth\":0,\"ticks\":\"\"}},\"type\":\"scatterpolargl\"}],\"scatterpolar\":[{\"marker\":{\"colorbar\":{\"outlinewidth\":0,\"ticks\":\"\"}},\"type\":\"scatterpolar\"}],\"scatter\":[{\"marker\":{\"colorbar\":{\"outlinewidth\":0,\"ticks\":\"\"}},\"type\":\"scatter\"}],\"scatterternary\":[{\"marker\":{\"colorbar\":{\"outlinewidth\":0,\"ticks\":\"\"}},\"type\":\"scatterternary\"}],\"surface\":[{\"colorbar\":{\"outlinewidth\":0,\"ticks\":\"\"},\"colorscale\":[[0.0,\"#0d0887\"],[0.1111111111111111,\"#46039f\"],[0.2222222222222222,\"#7201a8\"],[0.3333333333333333,\"#9c179e\"],[0.4444444444444444,\"#bd3786\"],[0.5555555555555556,\"#d8576b\"],[0.6666666666666666,\"#ed7953\"],[0.7777777777777778,\"#fb9f3a\"],[0.8888888888888888,\"#fdca26\"],[1.0,\"#f0f921\"]],\"type\":\"surface\"}],\"table\":[{\"cells\":{\"fill\":{\"color\":\"#EBF0F8\"},\"line\":{\"color\":\"white\"}},\"header\":{\"fill\":{\"color\":\"#C8D4E3\"},\"line\":{\"color\":\"white\"}},\"type\":\"table\"}]},\"layout\":{\"annotationdefaults\":{\"arrowcolor\":\"#2a3f5f\",\"arrowhead\":0,\"arrowwidth\":1},\"autotypenumbers\":\"strict\",\"coloraxis\":{\"colorbar\":{\"outlinewidth\":0,\"ticks\":\"\"}},\"colorscale\":{\"diverging\":[[0,\"#8e0152\"],[0.1,\"#c51b7d\"],[0.2,\"#de77ae\"],[0.3,\"#f1b6da\"],[0.4,\"#fde0ef\"],[0.5,\"#f7f7f7\"],[0.6,\"#e6f5d0\"],[0.7,\"#b8e186\"],[0.8,\"#7fbc41\"],[0.9,\"#4d9221\"],[1,\"#276419\"]],\"sequential\":[[0.0,\"#0d0887\"],[0.1111111111111111,\"#46039f\"],[0.2222222222222222,\"#7201a8\"],[0.3333333333333333,\"#9c179e\"],[0.4444444444444444,\"#bd3786\"],[0.5555555555555556,\"#d8576b\"],[0.6666666666666666,\"#ed7953\"],[0.7777777777777778,\"#fb9f3a\"],[0.8888888888888888,\"#fdca26\"],[1.0,\"#f0f921\"]],\"sequentialminus\":[[0.0,\"#0d0887\"],[0.1111111111111111,\"#46039f\"],[0.2222222222222222,\"#7201a8\"],[0.3333333333333333,\"#9c179e\"],[0.4444444444444444,\"#bd3786\"],[0.5555555555555556,\"#d8576b\"],[0.6666666666666666,\"#ed7953\"],[0.7777777777777778,\"#fb9f3a\"],[0.8888888888888888,\"#fdca26\"],[1.0,\"#f0f921\"]]},\"colorway\":[\"#636efa\",\"#EF553B\",\"#00cc96\",\"#ab63fa\",\"#FFA15A\",\"#19d3f3\",\"#FF6692\",\"#B6E880\",\"#FF97FF\",\"#FECB52\"],\"font\":{\"color\":\"#2a3f5f\"},\"geo\":{\"bgcolor\":\"white\",\"lakecolor\":\"white\",\"landcolor\":\"#E5ECF6\",\"showlakes\":true,\"showland\":true,\"subunitcolor\":\"white\"},\"hoverlabel\":{\"align\":\"left\"},\"hovermode\":\"closest\",\"mapbox\":{\"style\":\"light\"},\"paper_bgcolor\":\"white\",\"plot_bgcolor\":\"#E5ECF6\",\"polar\":{\"angularaxis\":{\"gridcolor\":\"white\",\"linecolor\":\"white\",\"ticks\":\"\"},\"bgcolor\":\"#E5ECF6\",\"radialaxis\":{\"gridcolor\":\"white\",\"linecolor\":\"white\",\"ticks\":\"\"}},\"scene\":{\"xaxis\":{\"backgroundcolor\":\"#E5ECF6\",\"gridcolor\":\"white\",\"gridwidth\":2,\"linecolor\":\"white\",\"showbackground\":true,\"ticks\":\"\",\"zerolinecolor\":\"white\"},\"yaxis\":{\"backgroundcolor\":\"#E5ECF6\",\"gridcolor\":\"white\",\"gridwidth\":2,\"linecolor\":\"white\",\"showbackground\":true,\"ticks\":\"\",\"zerolinecolor\":\"white\"},\"zaxis\":{\"backgroundcolor\":\"#E5ECF6\",\"gridcolor\":\"white\",\"gridwidth\":2,\"linecolor\":\"white\",\"showbackground\":true,\"ticks\":\"\",\"zerolinecolor\":\"white\"}},\"shapedefaults\":{\"line\":{\"color\":\"#2a3f5f\"}},\"ternary\":{\"aaxis\":{\"gridcolor\":\"white\",\"linecolor\":\"white\",\"ticks\":\"\"},\"baxis\":{\"gridcolor\":\"white\",\"linecolor\":\"white\",\"ticks\":\"\"},\"bgcolor\":\"#E5ECF6\",\"caxis\":{\"gridcolor\":\"white\",\"linecolor\":\"white\",\"ticks\":\"\"}},\"title\":{\"x\":0.05},\"xaxis\":{\"automargin\":true,\"gridcolor\":\"white\",\"linecolor\":\"white\",\"ticks\":\"\",\"title\":{\"standoff\":15},\"zerolinecolor\":\"white\",\"zerolinewidth\":2},\"yaxis\":{\"automargin\":true,\"gridcolor\":\"white\",\"linecolor\":\"white\",\"ticks\":\"\",\"title\":{\"standoff\":15},\"zerolinecolor\":\"white\",\"zerolinewidth\":2}}},\"title\":{\"font\":{\"color\":\"#4D5663\"}},\"xaxis\":{\"gridcolor\":\"#E1E5ED\",\"showgrid\":true,\"tickfont\":{\"color\":\"#4D5663\"},\"title\":{\"font\":{\"color\":\"#4D5663\"},\"text\":\"\"},\"zerolinecolor\":\"#E1E5ED\"},\"yaxis\":{\"gridcolor\":\"#E1E5ED\",\"showgrid\":true,\"tickfont\":{\"color\":\"#4D5663\"},\"title\":{\"font\":{\"color\":\"#4D5663\"},\"text\":\"\"},\"zerolinecolor\":\"#E1E5ED\"}},                        {\"showLink\": true, \"linkText\": \"Export to plot.ly\", \"plotlyServerURL\": \"https://plot.ly\", \"responsive\": true}                    ).then(function(){\n",
       "                            \n",
       "var gd = document.getElementById('4306e687-2076-4a8f-bb1f-091f7f1e6086');\n",
       "var x = new MutationObserver(function (mutations, observer) {{\n",
       "        var display = window.getComputedStyle(gd).display;\n",
       "        if (!display || display === 'none') {{\n",
       "            console.log([gd, 'removed!']);\n",
       "            Plotly.purge(gd);\n",
       "            observer.disconnect();\n",
       "        }}\n",
       "}});\n",
       "\n",
       "// Listen for the removal of the full notebook cells\n",
       "var notebookContainer = gd.closest('#notebook-container');\n",
       "if (notebookContainer) {{\n",
       "    x.observe(notebookContainer, {childList: true});\n",
       "}}\n",
       "\n",
       "// Listen for the clearing of the current output cell\n",
       "var outputEl = gd.closest('.output');\n",
       "if (outputEl) {{\n",
       "    x.observe(outputEl, {childList: true});\n",
       "}}\n",
       "\n",
       "                        })                };                });            </script>        </div>"
      ]
     },
     "metadata": {},
     "output_type": "display_data"
    }
   ],
   "source": [
    "df3 = pd.DataFrame({'x':[1,2,3,4,5],'y':[10,20,30,20,10],'z':[5,4,3,2,1]})\n",
    "df3.iplot(kind='surface',colorscale='rdylbu')"
   ]
  },
  {
   "cell_type": "markdown",
   "metadata": {},
   "source": [
    "## Spread"
   ]
  },
  {
   "cell_type": "code",
   "execution_count": 19,
   "metadata": {},
   "outputs": [
    {
     "name": "stderr",
     "output_type": "stream",
     "text": [
      "C:\\Users\\admin\\AppData\\Roaming\\Python\\Python38\\site-packages\\cufflinks\\plotlytools.py:849: FutureWarning:\n",
      "\n",
      "The pandas.np module is deprecated and will be removed from pandas in a future version. Import numpy directly instead\n",
      "\n",
      "C:\\Users\\admin\\AppData\\Roaming\\Python\\Python38\\site-packages\\cufflinks\\plotlytools.py:850: FutureWarning:\n",
      "\n",
      "The pandas.np module is deprecated and will be removed from pandas in a future version. Import numpy directly instead\n",
      "\n"
     ]
    },
    {
     "data": {
      "application/vnd.plotly.v1+json": {
       "config": {
        "linkText": "Export to plot.ly",
        "plotlyServerURL": "https://plot.ly",
        "showLink": true
       },
       "data": [
        {
         "line": {
          "color": "rgba(255, 153, 51, 1.0)",
          "dash": "solid",
          "shape": "linear",
          "width": 1.3
         },
         "mode": "lines",
         "name": "A",
         "text": "",
         "type": "scatter",
         "x": [
          0,
          1,
          2,
          3,
          4,
          5,
          6,
          7,
          8,
          9,
          10,
          11,
          12,
          13,
          14,
          15,
          16,
          17,
          18,
          19,
          20,
          21,
          22,
          23,
          24,
          25,
          26,
          27,
          28,
          29,
          30,
          31,
          32,
          33,
          34,
          35,
          36,
          37,
          38,
          39,
          40,
          41,
          42,
          43,
          44,
          45,
          46,
          47,
          48,
          49,
          50,
          51,
          52,
          53,
          54,
          55,
          56,
          57,
          58,
          59,
          60,
          61,
          62,
          63,
          64,
          65,
          66,
          67,
          68,
          69,
          70,
          71,
          72,
          73,
          74,
          75,
          76,
          77,
          78,
          79,
          80,
          81,
          82,
          83,
          84,
          85,
          86,
          87,
          88,
          89,
          90,
          91,
          92,
          93,
          94,
          95,
          96,
          97,
          98,
          99
         ],
         "y": [
          -0.01667208869479953,
          0.6037503470629544,
          -0.28351149014731414,
          0.0216026878129016,
          0.1751687897703358,
          -0.7464757712873497,
          0.36612188033655946,
          1.5603681621800871,
          -0.4310426287934078,
          -0.40795947020774453,
          -0.6367278401219701,
          -1.0874168310844612,
          1.1698066413000878,
          -0.3066916909365898,
          1.1252351101197362,
          -1.2075223698484885,
          0.17673062821547475,
          -0.9895317582731459,
          0.9283196542513025,
          -0.5835587044089643,
          0.6902201487451626,
          -0.6455972284797273,
          1.7428152700098267,
          -1.4602586348752853,
          0.17593919995963694,
          0.5390588117799688,
          2.1207767856567727,
          1.2591692758771187,
          -0.17209273934779287,
          -0.366566956753178,
          -0.15331543661920066,
          0.08834728696166949,
          0.46909164345998144,
          0.7117073717263691,
          -1.123006297200311,
          0.20791917087926534,
          0.03840313876869264,
          0.9143191515646512,
          1.0356772091115893,
          0.44907932457214866,
          -0.38451117181962,
          -0.10228947216258112,
          0.9408916586961488,
          0.46082542099519913,
          0.5370618137962073,
          -0.11776168465227992,
          1.214265596966936,
          -0.8703436304770322,
          0.10740457078101891,
          0.3544977535785094,
          -0.9146086471251739,
          0.12808158542595066,
          -0.5426218229255564,
          1.1556505063233624,
          -0.7320625981927786,
          0.3973947239800183,
          -0.36711828716894135,
          0.4131382364285986,
          -0.819978944828114,
          -0.6864462990192921,
          -0.08551191306702406,
          -1.0865010798257977,
          -1.0817819236516397,
          -0.351388330509077,
          -0.5420249562951884,
          -0.06577023958226505,
          1.396824993267686,
          -1.0025865125331916,
          1.9923269253294456,
          -0.778359989476912,
          -0.6806007021133944,
          0.0402740148264282,
          -0.45542227594424267,
          1.3698478125158287,
          -0.6280302339215994,
          0.4044415920632114,
          0.37534727740862495,
          -0.957656480747998,
          0.691572236878223,
          -1.1873909229215367,
          1.2919297518408075,
          0.33667467848977395,
          -0.48006790969772334,
          -1.38797462206206,
          -1.0392939638716054,
          -0.37534975084431815,
          1.5813624436860207,
          -2.348410308085096,
          -0.9049476494213308,
          -2.656882930015167,
          1.561536057768945,
          0.5638875300946916,
          -0.47944682187429133,
          0.3539420600530498,
          -0.5135199779795387,
          -0.0906234411538603,
          -1.0406035600634143,
          1.9575152252883732,
          -1.8336226329156557,
          0.0005518196884569486
         ]
        },
        {
         "line": {
          "color": "rgba(55, 128, 191, 1.0)",
          "dash": "solid",
          "shape": "linear",
          "width": 1.3
         },
         "mode": "lines",
         "name": "B",
         "text": "",
         "type": "scatter",
         "x": [
          0,
          1,
          2,
          3,
          4,
          5,
          6,
          7,
          8,
          9,
          10,
          11,
          12,
          13,
          14,
          15,
          16,
          17,
          18,
          19,
          20,
          21,
          22,
          23,
          24,
          25,
          26,
          27,
          28,
          29,
          30,
          31,
          32,
          33,
          34,
          35,
          36,
          37,
          38,
          39,
          40,
          41,
          42,
          43,
          44,
          45,
          46,
          47,
          48,
          49,
          50,
          51,
          52,
          53,
          54,
          55,
          56,
          57,
          58,
          59,
          60,
          61,
          62,
          63,
          64,
          65,
          66,
          67,
          68,
          69,
          70,
          71,
          72,
          73,
          74,
          75,
          76,
          77,
          78,
          79,
          80,
          81,
          82,
          83,
          84,
          85,
          86,
          87,
          88,
          89,
          90,
          91,
          92,
          93,
          94,
          95,
          96,
          97,
          98,
          99
         ],
         "y": [
          -2.036158386653377,
          -0.7781816942974347,
          1.640792608476573,
          -0.4738608055981185,
          -0.36170747479840376,
          0.7170574090643116,
          -0.8901972640088935,
          0.15542111224360824,
          0.16842148205573518,
          -0.7624378404781994,
          0.6676445311926261,
          -0.5008312999875397,
          -0.14183629809542564,
          0.37770469615146307,
          1.177547024579085,
          -0.379578510137013,
          -0.7779969080814645,
          0.5369129846980254,
          0.3819636750976547,
          -0.8483530509658844,
          -0.8629937368086817,
          -1.5474167747744243,
          0.13599077249133737,
          -0.02370519789406686,
          0.8255708913577603,
          0.293639449547524,
          0.37850737435463583,
          -0.5086837226103097,
          0.4459407415852692,
          -0.5526591872367761,
          -0.9759789134411783,
          -0.14107027812456086,
          0.6827968128789753,
          -0.5704347120697848,
          0.2882354759654698,
          0.32201555158302814,
          -0.5792869703886953,
          0.6470959694849135,
          -0.7446533623021079,
          0.7088489240229382,
          0.5183027904959195,
          -0.7870559941595908,
          -0.3294836263221717,
          -0.840845736897288,
          -1.7859985371240894,
          -0.9087816084177032,
          -0.810103196119456,
          1.5851472901959138,
          1.2702325525750735,
          1.6810503424614647,
          -0.721541491810264,
          0.44211506970111,
          -0.3299773960399986,
          -0.1361012916371215,
          1.4162533790883198,
          -0.7915579015705827,
          0.9087815478659267,
          -0.36744419622196695,
          0.2605624041964697,
          0.43818409668521363,
          0.7009328503085128,
          0.2865205297562157,
          0.9699378427772057,
          2.0440071661428485,
          -2.164434885573739,
          -1.1558905699366222,
          0.6497490347234127,
          0.16245956749095322,
          -1.7138870454600397,
          -0.4331724808449435,
          -0.09748754649182939,
          -0.10479631959914548,
          -0.43353149021733123,
          -0.10187037619783064,
          -1.0564104724357057,
          -1.0555058271567033,
          0.09288054992141877,
          -0.2221697337192965,
          0.5323503361220058,
          -0.16101088097754562,
          0.7828781980514036,
          0.016206754381635557,
          -0.07773191734361144,
          -0.10256238294231157,
          -1.292394526699772,
          -0.22957938752731008,
          -1.6756411693309572,
          0.009428651355560447,
          -0.3789931812591254,
          0.5513478850352597,
          0.16629860929405813,
          -0.9098861056873205,
          -2.300633794465044,
          -0.9897923121378868,
          0.6632766469066379,
          0.60526923673236,
          -2.0090173721005544,
          -0.5156329401365136,
          1.1975640252955149,
          0.501908128260419
         ]
        },
        {
         "connectgaps": false,
         "fill": "tozeroy",
         "line": {
          "color": "green",
          "dash": "solid",
          "shape": "linear",
          "width": 0.5
         },
         "mode": "lines",
         "name": "Spread",
         "showlegend": false,
         "type": "scatter",
         "x": [
          0,
          1,
          2,
          3,
          4,
          5,
          6,
          7,
          8,
          9,
          10,
          11,
          12,
          13,
          14,
          15,
          16,
          17,
          18,
          19,
          20,
          21,
          22,
          23,
          24,
          25,
          26,
          27,
          28,
          29,
          30,
          31,
          32,
          33,
          34,
          35,
          36,
          37,
          38,
          39,
          40,
          41,
          42,
          43,
          44,
          45,
          46,
          47,
          48,
          49,
          50,
          51,
          52,
          53,
          54,
          55,
          56,
          57,
          58,
          59,
          60,
          61,
          62,
          63,
          64,
          65,
          66,
          67,
          68,
          69,
          70,
          71,
          72,
          73,
          74,
          75,
          76,
          77,
          78,
          79,
          80,
          81,
          82,
          83,
          84,
          85,
          86,
          87,
          88,
          89,
          90,
          91,
          92,
          93,
          94,
          95,
          96,
          97,
          98,
          99
         ],
         "xaxis": "x2",
         "y": [
          2.019486297958577,
          1.381932041360389,
          "",
          0.4954634934110201,
          0.5368762645687395,
          "",
          1.2563191443454529,
          1.404947049936479,
          "",
          0.35447837027045487,
          "",
          "",
          1.3116429393955134,
          "",
          "",
          "",
          0.9547275362969392,
          "",
          0.5463559791536478,
          0.26479434655692013,
          1.5532138855538444,
          0.901819546294697,
          1.6068244975184893,
          "",
          "",
          0.24541936223244482,
          1.7422694113021369,
          1.7678529984874283,
          "",
          0.18609223048359808,
          0.8226634768219776,
          0.22941756508623035,
          "",
          1.282142083796154,
          "",
          "",
          0.6176901091573879,
          0.2672231820797376,
          1.7803305714136972,
          "",
          "",
          0.6847665219970097,
          1.2703752850183205,
          1.301671157892487,
          2.3230603509202967,
          0.7910199237654233,
          2.024368793086392,
          "",
          "",
          "",
          "",
          "",
          "",
          1.291751797960484,
          "",
          1.188952625550601,
          "",
          0.7805824326505655,
          "",
          "",
          "",
          "",
          "",
          "",
          1.6224099292785508,
          1.0901203303543572,
          0.7470759585442732,
          "",
          3.7062139707894852,
          "",
          "",
          0.14507033442557368,
          "",
          1.4717181887136592,
          0.42838023851410634,
          1.4599474192199147,
          0.2824667274872062,
          "",
          0.15922190075621723,
          "",
          0.5090515537894039,
          0.3204679241081384,
          "",
          "",
          0.2531005628281666,
          "",
          3.2570036130169777,
          "",
          "",
          "",
          1.3952374484748868,
          1.4737736357820121,
          1.8211869725907526,
          1.3437343721909365,
          "",
          "",
          0.9684138120371402,
          2.473148165424887,
          "",
          ""
         ],
         "yaxis": "y2"
        },
        {
         "connectgaps": false,
         "fill": "tozeroy",
         "line": {
          "color": "red",
          "dash": "solid",
          "shape": "linear",
          "width": 0.5
         },
         "mode": "lines",
         "name": "Spread",
         "showlegend": false,
         "type": "scatter",
         "x": [
          0,
          1,
          2,
          3,
          4,
          5,
          6,
          7,
          8,
          9,
          10,
          11,
          12,
          13,
          14,
          15,
          16,
          17,
          18,
          19,
          20,
          21,
          22,
          23,
          24,
          25,
          26,
          27,
          28,
          29,
          30,
          31,
          32,
          33,
          34,
          35,
          36,
          37,
          38,
          39,
          40,
          41,
          42,
          43,
          44,
          45,
          46,
          47,
          48,
          49,
          50,
          51,
          52,
          53,
          54,
          55,
          56,
          57,
          58,
          59,
          60,
          61,
          62,
          63,
          64,
          65,
          66,
          67,
          68,
          69,
          70,
          71,
          72,
          73,
          74,
          75,
          76,
          77,
          78,
          79,
          80,
          81,
          82,
          83,
          84,
          85,
          86,
          87,
          88,
          89,
          90,
          91,
          92,
          93,
          94,
          95,
          96,
          97,
          98,
          99
         ],
         "xaxis": "x2",
         "y": [
          "",
          "",
          -1.924304098623887,
          "",
          "",
          -1.4635331803516611,
          "",
          "",
          -0.599464110849143,
          "",
          -1.3043723713145963,
          -0.5865855310969215,
          "",
          -0.684396387088053,
          -0.05231191445934891,
          -0.8279438597114754,
          "",
          -1.5264447429711714,
          "",
          "",
          "",
          "",
          "",
          -1.4365534369812185,
          -0.6496316913981234,
          "",
          "",
          "",
          -0.6180334809330621,
          "",
          "",
          "",
          -0.21370516941899387,
          "",
          -1.4112417731657807,
          -0.1140963807037628,
          "",
          "",
          "",
          -0.25976959945078953,
          -0.9028139623155396,
          "",
          "",
          "",
          "",
          "",
          "",
          -2.455490920672946,
          -1.1628279817940546,
          -1.3265525888829552,
          -0.19306715531490992,
          -0.3140334842751593,
          -0.2126444268855578,
          "",
          -2.1483159772810985,
          "",
          -1.275899835034868,
          "",
          -1.0805413490245837,
          -1.1246303957045058,
          -0.7864447633755369,
          -1.3730216095820134,
          -2.0517197664288456,
          -2.3953954966519255,
          "",
          "",
          "",
          -1.165046080024145,
          "",
          -0.3451875086319685,
          -0.583113155621565,
          "",
          -0.021890785726911444,
          "",
          "",
          "",
          "",
          -0.7354867470287015,
          "",
          -1.026380041943991,
          "",
          "",
          -0.4023359923541119,
          -1.2854122391197484,
          "",
          -0.14577036331700807,
          "",
          -2.3578389594406564,
          -0.5259544681622054,
          -3.2082308150504266,
          "",
          "",
          "",
          "",
          -1.1767966248861765,
          -0.6958926778862203,
          "",
          "",
          -3.031186658211171,
          -0.501356308571962
         ],
         "yaxis": "y2"
        }
       ],
       "layout": {
        "hovermode": "x",
        "legend": {
         "bgcolor": "#F5F6F9",
         "font": {
          "color": "#4D5663"
         }
        },
        "paper_bgcolor": "#F5F6F9",
        "plot_bgcolor": "#F5F6F9",
        "template": {
         "data": {
          "bar": [
           {
            "error_x": {
             "color": "#2a3f5f"
            },
            "error_y": {
             "color": "#2a3f5f"
            },
            "marker": {
             "line": {
              "color": "#E5ECF6",
              "width": 0.5
             },
             "pattern": {
              "fillmode": "overlay",
              "size": 10,
              "solidity": 0.2
             }
            },
            "type": "bar"
           }
          ],
          "barpolar": [
           {
            "marker": {
             "line": {
              "color": "#E5ECF6",
              "width": 0.5
             },
             "pattern": {
              "fillmode": "overlay",
              "size": 10,
              "solidity": 0.2
             }
            },
            "type": "barpolar"
           }
          ],
          "carpet": [
           {
            "aaxis": {
             "endlinecolor": "#2a3f5f",
             "gridcolor": "white",
             "linecolor": "white",
             "minorgridcolor": "white",
             "startlinecolor": "#2a3f5f"
            },
            "baxis": {
             "endlinecolor": "#2a3f5f",
             "gridcolor": "white",
             "linecolor": "white",
             "minorgridcolor": "white",
             "startlinecolor": "#2a3f5f"
            },
            "type": "carpet"
           }
          ],
          "choropleth": [
           {
            "colorbar": {
             "outlinewidth": 0,
             "ticks": ""
            },
            "type": "choropleth"
           }
          ],
          "contour": [
           {
            "colorbar": {
             "outlinewidth": 0,
             "ticks": ""
            },
            "colorscale": [
             [
              0,
              "#0d0887"
             ],
             [
              0.1111111111111111,
              "#46039f"
             ],
             [
              0.2222222222222222,
              "#7201a8"
             ],
             [
              0.3333333333333333,
              "#9c179e"
             ],
             [
              0.4444444444444444,
              "#bd3786"
             ],
             [
              0.5555555555555556,
              "#d8576b"
             ],
             [
              0.6666666666666666,
              "#ed7953"
             ],
             [
              0.7777777777777778,
              "#fb9f3a"
             ],
             [
              0.8888888888888888,
              "#fdca26"
             ],
             [
              1,
              "#f0f921"
             ]
            ],
            "type": "contour"
           }
          ],
          "contourcarpet": [
           {
            "colorbar": {
             "outlinewidth": 0,
             "ticks": ""
            },
            "type": "contourcarpet"
           }
          ],
          "heatmap": [
           {
            "colorbar": {
             "outlinewidth": 0,
             "ticks": ""
            },
            "colorscale": [
             [
              0,
              "#0d0887"
             ],
             [
              0.1111111111111111,
              "#46039f"
             ],
             [
              0.2222222222222222,
              "#7201a8"
             ],
             [
              0.3333333333333333,
              "#9c179e"
             ],
             [
              0.4444444444444444,
              "#bd3786"
             ],
             [
              0.5555555555555556,
              "#d8576b"
             ],
             [
              0.6666666666666666,
              "#ed7953"
             ],
             [
              0.7777777777777778,
              "#fb9f3a"
             ],
             [
              0.8888888888888888,
              "#fdca26"
             ],
             [
              1,
              "#f0f921"
             ]
            ],
            "type": "heatmap"
           }
          ],
          "heatmapgl": [
           {
            "colorbar": {
             "outlinewidth": 0,
             "ticks": ""
            },
            "colorscale": [
             [
              0,
              "#0d0887"
             ],
             [
              0.1111111111111111,
              "#46039f"
             ],
             [
              0.2222222222222222,
              "#7201a8"
             ],
             [
              0.3333333333333333,
              "#9c179e"
             ],
             [
              0.4444444444444444,
              "#bd3786"
             ],
             [
              0.5555555555555556,
              "#d8576b"
             ],
             [
              0.6666666666666666,
              "#ed7953"
             ],
             [
              0.7777777777777778,
              "#fb9f3a"
             ],
             [
              0.8888888888888888,
              "#fdca26"
             ],
             [
              1,
              "#f0f921"
             ]
            ],
            "type": "heatmapgl"
           }
          ],
          "histogram": [
           {
            "marker": {
             "pattern": {
              "fillmode": "overlay",
              "size": 10,
              "solidity": 0.2
             }
            },
            "type": "histogram"
           }
          ],
          "histogram2d": [
           {
            "colorbar": {
             "outlinewidth": 0,
             "ticks": ""
            },
            "colorscale": [
             [
              0,
              "#0d0887"
             ],
             [
              0.1111111111111111,
              "#46039f"
             ],
             [
              0.2222222222222222,
              "#7201a8"
             ],
             [
              0.3333333333333333,
              "#9c179e"
             ],
             [
              0.4444444444444444,
              "#bd3786"
             ],
             [
              0.5555555555555556,
              "#d8576b"
             ],
             [
              0.6666666666666666,
              "#ed7953"
             ],
             [
              0.7777777777777778,
              "#fb9f3a"
             ],
             [
              0.8888888888888888,
              "#fdca26"
             ],
             [
              1,
              "#f0f921"
             ]
            ],
            "type": "histogram2d"
           }
          ],
          "histogram2dcontour": [
           {
            "colorbar": {
             "outlinewidth": 0,
             "ticks": ""
            },
            "colorscale": [
             [
              0,
              "#0d0887"
             ],
             [
              0.1111111111111111,
              "#46039f"
             ],
             [
              0.2222222222222222,
              "#7201a8"
             ],
             [
              0.3333333333333333,
              "#9c179e"
             ],
             [
              0.4444444444444444,
              "#bd3786"
             ],
             [
              0.5555555555555556,
              "#d8576b"
             ],
             [
              0.6666666666666666,
              "#ed7953"
             ],
             [
              0.7777777777777778,
              "#fb9f3a"
             ],
             [
              0.8888888888888888,
              "#fdca26"
             ],
             [
              1,
              "#f0f921"
             ]
            ],
            "type": "histogram2dcontour"
           }
          ],
          "mesh3d": [
           {
            "colorbar": {
             "outlinewidth": 0,
             "ticks": ""
            },
            "type": "mesh3d"
           }
          ],
          "parcoords": [
           {
            "line": {
             "colorbar": {
              "outlinewidth": 0,
              "ticks": ""
             }
            },
            "type": "parcoords"
           }
          ],
          "pie": [
           {
            "automargin": true,
            "type": "pie"
           }
          ],
          "scatter": [
           {
            "marker": {
             "colorbar": {
              "outlinewidth": 0,
              "ticks": ""
             }
            },
            "type": "scatter"
           }
          ],
          "scatter3d": [
           {
            "line": {
             "colorbar": {
              "outlinewidth": 0,
              "ticks": ""
             }
            },
            "marker": {
             "colorbar": {
              "outlinewidth": 0,
              "ticks": ""
             }
            },
            "type": "scatter3d"
           }
          ],
          "scattercarpet": [
           {
            "marker": {
             "colorbar": {
              "outlinewidth": 0,
              "ticks": ""
             }
            },
            "type": "scattercarpet"
           }
          ],
          "scattergeo": [
           {
            "marker": {
             "colorbar": {
              "outlinewidth": 0,
              "ticks": ""
             }
            },
            "type": "scattergeo"
           }
          ],
          "scattergl": [
           {
            "marker": {
             "colorbar": {
              "outlinewidth": 0,
              "ticks": ""
             }
            },
            "type": "scattergl"
           }
          ],
          "scattermapbox": [
           {
            "marker": {
             "colorbar": {
              "outlinewidth": 0,
              "ticks": ""
             }
            },
            "type": "scattermapbox"
           }
          ],
          "scatterpolar": [
           {
            "marker": {
             "colorbar": {
              "outlinewidth": 0,
              "ticks": ""
             }
            },
            "type": "scatterpolar"
           }
          ],
          "scatterpolargl": [
           {
            "marker": {
             "colorbar": {
              "outlinewidth": 0,
              "ticks": ""
             }
            },
            "type": "scatterpolargl"
           }
          ],
          "scatterternary": [
           {
            "marker": {
             "colorbar": {
              "outlinewidth": 0,
              "ticks": ""
             }
            },
            "type": "scatterternary"
           }
          ],
          "surface": [
           {
            "colorbar": {
             "outlinewidth": 0,
             "ticks": ""
            },
            "colorscale": [
             [
              0,
              "#0d0887"
             ],
             [
              0.1111111111111111,
              "#46039f"
             ],
             [
              0.2222222222222222,
              "#7201a8"
             ],
             [
              0.3333333333333333,
              "#9c179e"
             ],
             [
              0.4444444444444444,
              "#bd3786"
             ],
             [
              0.5555555555555556,
              "#d8576b"
             ],
             [
              0.6666666666666666,
              "#ed7953"
             ],
             [
              0.7777777777777778,
              "#fb9f3a"
             ],
             [
              0.8888888888888888,
              "#fdca26"
             ],
             [
              1,
              "#f0f921"
             ]
            ],
            "type": "surface"
           }
          ],
          "table": [
           {
            "cells": {
             "fill": {
              "color": "#EBF0F8"
             },
             "line": {
              "color": "white"
             }
            },
            "header": {
             "fill": {
              "color": "#C8D4E3"
             },
             "line": {
              "color": "white"
             }
            },
            "type": "table"
           }
          ]
         },
         "layout": {
          "annotationdefaults": {
           "arrowcolor": "#2a3f5f",
           "arrowhead": 0,
           "arrowwidth": 1
          },
          "autotypenumbers": "strict",
          "coloraxis": {
           "colorbar": {
            "outlinewidth": 0,
            "ticks": ""
           }
          },
          "colorscale": {
           "diverging": [
            [
             0,
             "#8e0152"
            ],
            [
             0.1,
             "#c51b7d"
            ],
            [
             0.2,
             "#de77ae"
            ],
            [
             0.3,
             "#f1b6da"
            ],
            [
             0.4,
             "#fde0ef"
            ],
            [
             0.5,
             "#f7f7f7"
            ],
            [
             0.6,
             "#e6f5d0"
            ],
            [
             0.7,
             "#b8e186"
            ],
            [
             0.8,
             "#7fbc41"
            ],
            [
             0.9,
             "#4d9221"
            ],
            [
             1,
             "#276419"
            ]
           ],
           "sequential": [
            [
             0,
             "#0d0887"
            ],
            [
             0.1111111111111111,
             "#46039f"
            ],
            [
             0.2222222222222222,
             "#7201a8"
            ],
            [
             0.3333333333333333,
             "#9c179e"
            ],
            [
             0.4444444444444444,
             "#bd3786"
            ],
            [
             0.5555555555555556,
             "#d8576b"
            ],
            [
             0.6666666666666666,
             "#ed7953"
            ],
            [
             0.7777777777777778,
             "#fb9f3a"
            ],
            [
             0.8888888888888888,
             "#fdca26"
            ],
            [
             1,
             "#f0f921"
            ]
           ],
           "sequentialminus": [
            [
             0,
             "#0d0887"
            ],
            [
             0.1111111111111111,
             "#46039f"
            ],
            [
             0.2222222222222222,
             "#7201a8"
            ],
            [
             0.3333333333333333,
             "#9c179e"
            ],
            [
             0.4444444444444444,
             "#bd3786"
            ],
            [
             0.5555555555555556,
             "#d8576b"
            ],
            [
             0.6666666666666666,
             "#ed7953"
            ],
            [
             0.7777777777777778,
             "#fb9f3a"
            ],
            [
             0.8888888888888888,
             "#fdca26"
            ],
            [
             1,
             "#f0f921"
            ]
           ]
          },
          "colorway": [
           "#636efa",
           "#EF553B",
           "#00cc96",
           "#ab63fa",
           "#FFA15A",
           "#19d3f3",
           "#FF6692",
           "#B6E880",
           "#FF97FF",
           "#FECB52"
          ],
          "font": {
           "color": "#2a3f5f"
          },
          "geo": {
           "bgcolor": "white",
           "lakecolor": "white",
           "landcolor": "#E5ECF6",
           "showlakes": true,
           "showland": true,
           "subunitcolor": "white"
          },
          "hoverlabel": {
           "align": "left"
          },
          "hovermode": "closest",
          "mapbox": {
           "style": "light"
          },
          "paper_bgcolor": "white",
          "plot_bgcolor": "#E5ECF6",
          "polar": {
           "angularaxis": {
            "gridcolor": "white",
            "linecolor": "white",
            "ticks": ""
           },
           "bgcolor": "#E5ECF6",
           "radialaxis": {
            "gridcolor": "white",
            "linecolor": "white",
            "ticks": ""
           }
          },
          "scene": {
           "xaxis": {
            "backgroundcolor": "#E5ECF6",
            "gridcolor": "white",
            "gridwidth": 2,
            "linecolor": "white",
            "showbackground": true,
            "ticks": "",
            "zerolinecolor": "white"
           },
           "yaxis": {
            "backgroundcolor": "#E5ECF6",
            "gridcolor": "white",
            "gridwidth": 2,
            "linecolor": "white",
            "showbackground": true,
            "ticks": "",
            "zerolinecolor": "white"
           },
           "zaxis": {
            "backgroundcolor": "#E5ECF6",
            "gridcolor": "white",
            "gridwidth": 2,
            "linecolor": "white",
            "showbackground": true,
            "ticks": "",
            "zerolinecolor": "white"
           }
          },
          "shapedefaults": {
           "line": {
            "color": "#2a3f5f"
           }
          },
          "ternary": {
           "aaxis": {
            "gridcolor": "white",
            "linecolor": "white",
            "ticks": ""
           },
           "baxis": {
            "gridcolor": "white",
            "linecolor": "white",
            "ticks": ""
           },
           "bgcolor": "#E5ECF6",
           "caxis": {
            "gridcolor": "white",
            "linecolor": "white",
            "ticks": ""
           }
          },
          "title": {
           "x": 0.05
          },
          "xaxis": {
           "automargin": true,
           "gridcolor": "white",
           "linecolor": "white",
           "ticks": "",
           "title": {
            "standoff": 15
           },
           "zerolinecolor": "white",
           "zerolinewidth": 2
          },
          "yaxis": {
           "automargin": true,
           "gridcolor": "white",
           "linecolor": "white",
           "ticks": "",
           "title": {
            "standoff": 15
           },
           "zerolinecolor": "white",
           "zerolinewidth": 2
          }
         }
        },
        "title": {
         "font": {
          "color": "#4D5663"
         }
        },
        "xaxis": {
         "gridcolor": "#E1E5ED",
         "showgrid": true,
         "tickfont": {
          "color": "#4D5663"
         },
         "title": {
          "font": {
           "color": "#4D5663"
          },
          "text": ""
         },
         "zerolinecolor": "#E1E5ED"
        },
        "xaxis2": {
         "anchor": "y2",
         "gridcolor": "#E1E5ED",
         "showgrid": true,
         "showticklabels": false,
         "tickfont": {
          "color": "#4D5663"
         },
         "title": {
          "font": {
           "color": "#4D5663"
          },
          "text": ""
         },
         "zerolinecolor": "#E1E5ED"
        },
        "yaxis": {
         "domain": [
          0.3,
          1
         ],
         "gridcolor": "#E1E5ED",
         "showgrid": true,
         "tickfont": {
          "color": "#4D5663"
         },
         "title": {
          "font": {
           "color": "#4D5663"
          },
          "text": ""
         },
         "zerolinecolor": "#E1E5ED"
        },
        "yaxis2": {
         "domain": [
          0,
          0.25
         ],
         "gridcolor": "#E1E5ED",
         "showgrid": true,
         "tickfont": {
          "color": "#4D5663"
         },
         "title": {
          "font": {
           "color": "#4D5663"
          },
          "text": "Spread"
         },
         "zerolinecolor": "#E1E5ED"
        }
       }
      },
      "text/html": [
       "<div>                            <div id=\"98e3dc1b-6026-4047-a6bd-c82bf73e56c6\" class=\"plotly-graph-div\" style=\"height:525px; width:100%;\"></div>            <script type=\"text/javascript\">                require([\"plotly\"], function(Plotly) {                    window.PLOTLYENV=window.PLOTLYENV || {};\n",
       "                    window.PLOTLYENV.BASE_URL='https://plot.ly';                                    if (document.getElementById(\"98e3dc1b-6026-4047-a6bd-c82bf73e56c6\")) {                    Plotly.newPlot(                        \"98e3dc1b-6026-4047-a6bd-c82bf73e56c6\",                        [{\"line\":{\"color\":\"rgba(255, 153, 51, 1.0)\",\"dash\":\"solid\",\"shape\":\"linear\",\"width\":1.3},\"mode\":\"lines\",\"name\":\"A\",\"text\":\"\",\"x\":[0,1,2,3,4,5,6,7,8,9,10,11,12,13,14,15,16,17,18,19,20,21,22,23,24,25,26,27,28,29,30,31,32,33,34,35,36,37,38,39,40,41,42,43,44,45,46,47,48,49,50,51,52,53,54,55,56,57,58,59,60,61,62,63,64,65,66,67,68,69,70,71,72,73,74,75,76,77,78,79,80,81,82,83,84,85,86,87,88,89,90,91,92,93,94,95,96,97,98,99],\"y\":[-0.01667208869479953,0.6037503470629544,-0.28351149014731414,0.0216026878129016,0.1751687897703358,-0.7464757712873497,0.36612188033655946,1.5603681621800871,-0.4310426287934078,-0.40795947020774453,-0.6367278401219701,-1.0874168310844612,1.1698066413000878,-0.3066916909365898,1.1252351101197362,-1.2075223698484885,0.17673062821547475,-0.9895317582731459,0.9283196542513025,-0.5835587044089643,0.6902201487451626,-0.6455972284797273,1.7428152700098267,-1.4602586348752853,0.17593919995963694,0.5390588117799688,2.1207767856567727,1.2591692758771187,-0.17209273934779287,-0.366566956753178,-0.15331543661920066,0.08834728696166949,0.46909164345998144,0.7117073717263691,-1.123006297200311,0.20791917087926534,0.03840313876869264,0.9143191515646512,1.0356772091115893,0.44907932457214866,-0.38451117181962,-0.10228947216258112,0.9408916586961488,0.46082542099519913,0.5370618137962073,-0.11776168465227992,1.214265596966936,-0.8703436304770322,0.10740457078101891,0.3544977535785094,-0.9146086471251739,0.12808158542595066,-0.5426218229255564,1.1556505063233624,-0.7320625981927786,0.3973947239800183,-0.36711828716894135,0.4131382364285986,-0.819978944828114,-0.6864462990192921,-0.08551191306702406,-1.0865010798257977,-1.0817819236516397,-0.351388330509077,-0.5420249562951884,-0.06577023958226505,1.396824993267686,-1.0025865125331916,1.9923269253294456,-0.778359989476912,-0.6806007021133944,0.0402740148264282,-0.45542227594424267,1.3698478125158287,-0.6280302339215994,0.4044415920632114,0.37534727740862495,-0.957656480747998,0.691572236878223,-1.1873909229215367,1.2919297518408075,0.33667467848977395,-0.48006790969772334,-1.38797462206206,-1.0392939638716054,-0.37534975084431815,1.5813624436860207,-2.348410308085096,-0.9049476494213308,-2.656882930015167,1.561536057768945,0.5638875300946916,-0.47944682187429133,0.3539420600530498,-0.5135199779795387,-0.0906234411538603,-1.0406035600634143,1.9575152252883732,-1.8336226329156557,0.0005518196884569486],\"type\":\"scatter\"},{\"line\":{\"color\":\"rgba(55, 128, 191, 1.0)\",\"dash\":\"solid\",\"shape\":\"linear\",\"width\":1.3},\"mode\":\"lines\",\"name\":\"B\",\"text\":\"\",\"x\":[0,1,2,3,4,5,6,7,8,9,10,11,12,13,14,15,16,17,18,19,20,21,22,23,24,25,26,27,28,29,30,31,32,33,34,35,36,37,38,39,40,41,42,43,44,45,46,47,48,49,50,51,52,53,54,55,56,57,58,59,60,61,62,63,64,65,66,67,68,69,70,71,72,73,74,75,76,77,78,79,80,81,82,83,84,85,86,87,88,89,90,91,92,93,94,95,96,97,98,99],\"y\":[-2.036158386653377,-0.7781816942974347,1.640792608476573,-0.4738608055981185,-0.36170747479840376,0.7170574090643116,-0.8901972640088935,0.15542111224360824,0.16842148205573518,-0.7624378404781994,0.6676445311926261,-0.5008312999875397,-0.14183629809542564,0.37770469615146307,1.177547024579085,-0.379578510137013,-0.7779969080814645,0.5369129846980254,0.3819636750976547,-0.8483530509658844,-0.8629937368086817,-1.5474167747744243,0.13599077249133737,-0.02370519789406686,0.8255708913577603,0.293639449547524,0.37850737435463583,-0.5086837226103097,0.4459407415852692,-0.5526591872367761,-0.9759789134411783,-0.14107027812456086,0.6827968128789753,-0.5704347120697848,0.2882354759654698,0.32201555158302814,-0.5792869703886953,0.6470959694849135,-0.7446533623021079,0.7088489240229382,0.5183027904959195,-0.7870559941595908,-0.3294836263221717,-0.840845736897288,-1.7859985371240894,-0.9087816084177032,-0.810103196119456,1.5851472901959138,1.2702325525750735,1.6810503424614647,-0.721541491810264,0.44211506970111,-0.3299773960399986,-0.1361012916371215,1.4162533790883198,-0.7915579015705827,0.9087815478659267,-0.36744419622196695,0.2605624041964697,0.43818409668521363,0.7009328503085128,0.2865205297562157,0.9699378427772057,2.0440071661428485,-2.164434885573739,-1.1558905699366222,0.6497490347234127,0.16245956749095322,-1.7138870454600397,-0.4331724808449435,-0.09748754649182939,-0.10479631959914548,-0.43353149021733123,-0.10187037619783064,-1.0564104724357057,-1.0555058271567033,0.09288054992141877,-0.2221697337192965,0.5323503361220058,-0.16101088097754562,0.7828781980514036,0.016206754381635557,-0.07773191734361144,-0.10256238294231157,-1.292394526699772,-0.22957938752731008,-1.6756411693309572,0.009428651355560447,-0.3789931812591254,0.5513478850352597,0.16629860929405813,-0.9098861056873205,-2.300633794465044,-0.9897923121378868,0.6632766469066379,0.60526923673236,-2.0090173721005544,-0.5156329401365136,1.1975640252955149,0.501908128260419],\"type\":\"scatter\"},{\"connectgaps\":false,\"fill\":\"tozeroy\",\"line\":{\"color\":\"green\",\"dash\":\"solid\",\"shape\":\"linear\",\"width\":0.5},\"mode\":\"lines\",\"name\":\"Spread\",\"showlegend\":false,\"x\":[0,1,2,3,4,5,6,7,8,9,10,11,12,13,14,15,16,17,18,19,20,21,22,23,24,25,26,27,28,29,30,31,32,33,34,35,36,37,38,39,40,41,42,43,44,45,46,47,48,49,50,51,52,53,54,55,56,57,58,59,60,61,62,63,64,65,66,67,68,69,70,71,72,73,74,75,76,77,78,79,80,81,82,83,84,85,86,87,88,89,90,91,92,93,94,95,96,97,98,99],\"xaxis\":\"x2\",\"y\":[2.019486297958577,1.381932041360389,\"\",0.4954634934110201,0.5368762645687395,\"\",1.2563191443454529,1.404947049936479,\"\",0.35447837027045487,\"\",\"\",1.3116429393955134,\"\",\"\",\"\",0.9547275362969392,\"\",0.5463559791536478,0.26479434655692013,1.5532138855538444,0.901819546294697,1.6068244975184893,\"\",\"\",0.24541936223244482,1.7422694113021369,1.7678529984874283,\"\",0.18609223048359808,0.8226634768219776,0.22941756508623035,\"\",1.282142083796154,\"\",\"\",0.6176901091573879,0.2672231820797376,1.7803305714136972,\"\",\"\",0.6847665219970097,1.2703752850183205,1.301671157892487,2.3230603509202967,0.7910199237654233,2.024368793086392,\"\",\"\",\"\",\"\",\"\",\"\",1.291751797960484,\"\",1.188952625550601,\"\",0.7805824326505655,\"\",\"\",\"\",\"\",\"\",\"\",1.6224099292785508,1.0901203303543572,0.7470759585442732,\"\",3.7062139707894852,\"\",\"\",0.14507033442557368,\"\",1.4717181887136592,0.42838023851410634,1.4599474192199147,0.2824667274872062,\"\",0.15922190075621723,\"\",0.5090515537894039,0.3204679241081384,\"\",\"\",0.2531005628281666,\"\",3.2570036130169777,\"\",\"\",\"\",1.3952374484748868,1.4737736357820121,1.8211869725907526,1.3437343721909365,\"\",\"\",0.9684138120371402,2.473148165424887,\"\",\"\"],\"yaxis\":\"y2\",\"type\":\"scatter\"},{\"connectgaps\":false,\"fill\":\"tozeroy\",\"line\":{\"color\":\"red\",\"dash\":\"solid\",\"shape\":\"linear\",\"width\":0.5},\"mode\":\"lines\",\"name\":\"Spread\",\"showlegend\":false,\"x\":[0,1,2,3,4,5,6,7,8,9,10,11,12,13,14,15,16,17,18,19,20,21,22,23,24,25,26,27,28,29,30,31,32,33,34,35,36,37,38,39,40,41,42,43,44,45,46,47,48,49,50,51,52,53,54,55,56,57,58,59,60,61,62,63,64,65,66,67,68,69,70,71,72,73,74,75,76,77,78,79,80,81,82,83,84,85,86,87,88,89,90,91,92,93,94,95,96,97,98,99],\"xaxis\":\"x2\",\"y\":[\"\",\"\",-1.924304098623887,\"\",\"\",-1.4635331803516611,\"\",\"\",-0.599464110849143,\"\",-1.3043723713145963,-0.5865855310969215,\"\",-0.684396387088053,-0.05231191445934891,-0.8279438597114754,\"\",-1.5264447429711714,\"\",\"\",\"\",\"\",\"\",-1.4365534369812185,-0.6496316913981234,\"\",\"\",\"\",-0.6180334809330621,\"\",\"\",\"\",-0.21370516941899387,\"\",-1.4112417731657807,-0.1140963807037628,\"\",\"\",\"\",-0.25976959945078953,-0.9028139623155396,\"\",\"\",\"\",\"\",\"\",\"\",-2.455490920672946,-1.1628279817940546,-1.3265525888829552,-0.19306715531490992,-0.3140334842751593,-0.2126444268855578,\"\",-2.1483159772810985,\"\",-1.275899835034868,\"\",-1.0805413490245837,-1.1246303957045058,-0.7864447633755369,-1.3730216095820134,-2.0517197664288456,-2.3953954966519255,\"\",\"\",\"\",-1.165046080024145,\"\",-0.3451875086319685,-0.583113155621565,\"\",-0.021890785726911444,\"\",\"\",\"\",\"\",-0.7354867470287015,\"\",-1.026380041943991,\"\",\"\",-0.4023359923541119,-1.2854122391197484,\"\",-0.14577036331700807,\"\",-2.3578389594406564,-0.5259544681622054,-3.2082308150504266,\"\",\"\",\"\",\"\",-1.1767966248861765,-0.6958926778862203,\"\",\"\",-3.031186658211171,-0.501356308571962],\"yaxis\":\"y2\",\"type\":\"scatter\"}],                        {\"hovermode\":\"x\",\"legend\":{\"bgcolor\":\"#F5F6F9\",\"font\":{\"color\":\"#4D5663\"}},\"paper_bgcolor\":\"#F5F6F9\",\"plot_bgcolor\":\"#F5F6F9\",\"template\":{\"data\":{\"barpolar\":[{\"marker\":{\"line\":{\"color\":\"#E5ECF6\",\"width\":0.5},\"pattern\":{\"fillmode\":\"overlay\",\"size\":10,\"solidity\":0.2}},\"type\":\"barpolar\"}],\"bar\":[{\"error_x\":{\"color\":\"#2a3f5f\"},\"error_y\":{\"color\":\"#2a3f5f\"},\"marker\":{\"line\":{\"color\":\"#E5ECF6\",\"width\":0.5},\"pattern\":{\"fillmode\":\"overlay\",\"size\":10,\"solidity\":0.2}},\"type\":\"bar\"}],\"carpet\":[{\"aaxis\":{\"endlinecolor\":\"#2a3f5f\",\"gridcolor\":\"white\",\"linecolor\":\"white\",\"minorgridcolor\":\"white\",\"startlinecolor\":\"#2a3f5f\"},\"baxis\":{\"endlinecolor\":\"#2a3f5f\",\"gridcolor\":\"white\",\"linecolor\":\"white\",\"minorgridcolor\":\"white\",\"startlinecolor\":\"#2a3f5f\"},\"type\":\"carpet\"}],\"choropleth\":[{\"colorbar\":{\"outlinewidth\":0,\"ticks\":\"\"},\"type\":\"choropleth\"}],\"contourcarpet\":[{\"colorbar\":{\"outlinewidth\":0,\"ticks\":\"\"},\"type\":\"contourcarpet\"}],\"contour\":[{\"colorbar\":{\"outlinewidth\":0,\"ticks\":\"\"},\"colorscale\":[[0.0,\"#0d0887\"],[0.1111111111111111,\"#46039f\"],[0.2222222222222222,\"#7201a8\"],[0.3333333333333333,\"#9c179e\"],[0.4444444444444444,\"#bd3786\"],[0.5555555555555556,\"#d8576b\"],[0.6666666666666666,\"#ed7953\"],[0.7777777777777778,\"#fb9f3a\"],[0.8888888888888888,\"#fdca26\"],[1.0,\"#f0f921\"]],\"type\":\"contour\"}],\"heatmapgl\":[{\"colorbar\":{\"outlinewidth\":0,\"ticks\":\"\"},\"colorscale\":[[0.0,\"#0d0887\"],[0.1111111111111111,\"#46039f\"],[0.2222222222222222,\"#7201a8\"],[0.3333333333333333,\"#9c179e\"],[0.4444444444444444,\"#bd3786\"],[0.5555555555555556,\"#d8576b\"],[0.6666666666666666,\"#ed7953\"],[0.7777777777777778,\"#fb9f3a\"],[0.8888888888888888,\"#fdca26\"],[1.0,\"#f0f921\"]],\"type\":\"heatmapgl\"}],\"heatmap\":[{\"colorbar\":{\"outlinewidth\":0,\"ticks\":\"\"},\"colorscale\":[[0.0,\"#0d0887\"],[0.1111111111111111,\"#46039f\"],[0.2222222222222222,\"#7201a8\"],[0.3333333333333333,\"#9c179e\"],[0.4444444444444444,\"#bd3786\"],[0.5555555555555556,\"#d8576b\"],[0.6666666666666666,\"#ed7953\"],[0.7777777777777778,\"#fb9f3a\"],[0.8888888888888888,\"#fdca26\"],[1.0,\"#f0f921\"]],\"type\":\"heatmap\"}],\"histogram2dcontour\":[{\"colorbar\":{\"outlinewidth\":0,\"ticks\":\"\"},\"colorscale\":[[0.0,\"#0d0887\"],[0.1111111111111111,\"#46039f\"],[0.2222222222222222,\"#7201a8\"],[0.3333333333333333,\"#9c179e\"],[0.4444444444444444,\"#bd3786\"],[0.5555555555555556,\"#d8576b\"],[0.6666666666666666,\"#ed7953\"],[0.7777777777777778,\"#fb9f3a\"],[0.8888888888888888,\"#fdca26\"],[1.0,\"#f0f921\"]],\"type\":\"histogram2dcontour\"}],\"histogram2d\":[{\"colorbar\":{\"outlinewidth\":0,\"ticks\":\"\"},\"colorscale\":[[0.0,\"#0d0887\"],[0.1111111111111111,\"#46039f\"],[0.2222222222222222,\"#7201a8\"],[0.3333333333333333,\"#9c179e\"],[0.4444444444444444,\"#bd3786\"],[0.5555555555555556,\"#d8576b\"],[0.6666666666666666,\"#ed7953\"],[0.7777777777777778,\"#fb9f3a\"],[0.8888888888888888,\"#fdca26\"],[1.0,\"#f0f921\"]],\"type\":\"histogram2d\"}],\"histogram\":[{\"marker\":{\"pattern\":{\"fillmode\":\"overlay\",\"size\":10,\"solidity\":0.2}},\"type\":\"histogram\"}],\"mesh3d\":[{\"colorbar\":{\"outlinewidth\":0,\"ticks\":\"\"},\"type\":\"mesh3d\"}],\"parcoords\":[{\"line\":{\"colorbar\":{\"outlinewidth\":0,\"ticks\":\"\"}},\"type\":\"parcoords\"}],\"pie\":[{\"automargin\":true,\"type\":\"pie\"}],\"scatter3d\":[{\"line\":{\"colorbar\":{\"outlinewidth\":0,\"ticks\":\"\"}},\"marker\":{\"colorbar\":{\"outlinewidth\":0,\"ticks\":\"\"}},\"type\":\"scatter3d\"}],\"scattercarpet\":[{\"marker\":{\"colorbar\":{\"outlinewidth\":0,\"ticks\":\"\"}},\"type\":\"scattercarpet\"}],\"scattergeo\":[{\"marker\":{\"colorbar\":{\"outlinewidth\":0,\"ticks\":\"\"}},\"type\":\"scattergeo\"}],\"scattergl\":[{\"marker\":{\"colorbar\":{\"outlinewidth\":0,\"ticks\":\"\"}},\"type\":\"scattergl\"}],\"scattermapbox\":[{\"marker\":{\"colorbar\":{\"outlinewidth\":0,\"ticks\":\"\"}},\"type\":\"scattermapbox\"}],\"scatterpolargl\":[{\"marker\":{\"colorbar\":{\"outlinewidth\":0,\"ticks\":\"\"}},\"type\":\"scatterpolargl\"}],\"scatterpolar\":[{\"marker\":{\"colorbar\":{\"outlinewidth\":0,\"ticks\":\"\"}},\"type\":\"scatterpolar\"}],\"scatter\":[{\"marker\":{\"colorbar\":{\"outlinewidth\":0,\"ticks\":\"\"}},\"type\":\"scatter\"}],\"scatterternary\":[{\"marker\":{\"colorbar\":{\"outlinewidth\":0,\"ticks\":\"\"}},\"type\":\"scatterternary\"}],\"surface\":[{\"colorbar\":{\"outlinewidth\":0,\"ticks\":\"\"},\"colorscale\":[[0.0,\"#0d0887\"],[0.1111111111111111,\"#46039f\"],[0.2222222222222222,\"#7201a8\"],[0.3333333333333333,\"#9c179e\"],[0.4444444444444444,\"#bd3786\"],[0.5555555555555556,\"#d8576b\"],[0.6666666666666666,\"#ed7953\"],[0.7777777777777778,\"#fb9f3a\"],[0.8888888888888888,\"#fdca26\"],[1.0,\"#f0f921\"]],\"type\":\"surface\"}],\"table\":[{\"cells\":{\"fill\":{\"color\":\"#EBF0F8\"},\"line\":{\"color\":\"white\"}},\"header\":{\"fill\":{\"color\":\"#C8D4E3\"},\"line\":{\"color\":\"white\"}},\"type\":\"table\"}]},\"layout\":{\"annotationdefaults\":{\"arrowcolor\":\"#2a3f5f\",\"arrowhead\":0,\"arrowwidth\":1},\"autotypenumbers\":\"strict\",\"coloraxis\":{\"colorbar\":{\"outlinewidth\":0,\"ticks\":\"\"}},\"colorscale\":{\"diverging\":[[0,\"#8e0152\"],[0.1,\"#c51b7d\"],[0.2,\"#de77ae\"],[0.3,\"#f1b6da\"],[0.4,\"#fde0ef\"],[0.5,\"#f7f7f7\"],[0.6,\"#e6f5d0\"],[0.7,\"#b8e186\"],[0.8,\"#7fbc41\"],[0.9,\"#4d9221\"],[1,\"#276419\"]],\"sequential\":[[0.0,\"#0d0887\"],[0.1111111111111111,\"#46039f\"],[0.2222222222222222,\"#7201a8\"],[0.3333333333333333,\"#9c179e\"],[0.4444444444444444,\"#bd3786\"],[0.5555555555555556,\"#d8576b\"],[0.6666666666666666,\"#ed7953\"],[0.7777777777777778,\"#fb9f3a\"],[0.8888888888888888,\"#fdca26\"],[1.0,\"#f0f921\"]],\"sequentialminus\":[[0.0,\"#0d0887\"],[0.1111111111111111,\"#46039f\"],[0.2222222222222222,\"#7201a8\"],[0.3333333333333333,\"#9c179e\"],[0.4444444444444444,\"#bd3786\"],[0.5555555555555556,\"#d8576b\"],[0.6666666666666666,\"#ed7953\"],[0.7777777777777778,\"#fb9f3a\"],[0.8888888888888888,\"#fdca26\"],[1.0,\"#f0f921\"]]},\"colorway\":[\"#636efa\",\"#EF553B\",\"#00cc96\",\"#ab63fa\",\"#FFA15A\",\"#19d3f3\",\"#FF6692\",\"#B6E880\",\"#FF97FF\",\"#FECB52\"],\"font\":{\"color\":\"#2a3f5f\"},\"geo\":{\"bgcolor\":\"white\",\"lakecolor\":\"white\",\"landcolor\":\"#E5ECF6\",\"showlakes\":true,\"showland\":true,\"subunitcolor\":\"white\"},\"hoverlabel\":{\"align\":\"left\"},\"hovermode\":\"closest\",\"mapbox\":{\"style\":\"light\"},\"paper_bgcolor\":\"white\",\"plot_bgcolor\":\"#E5ECF6\",\"polar\":{\"angularaxis\":{\"gridcolor\":\"white\",\"linecolor\":\"white\",\"ticks\":\"\"},\"bgcolor\":\"#E5ECF6\",\"radialaxis\":{\"gridcolor\":\"white\",\"linecolor\":\"white\",\"ticks\":\"\"}},\"scene\":{\"xaxis\":{\"backgroundcolor\":\"#E5ECF6\",\"gridcolor\":\"white\",\"gridwidth\":2,\"linecolor\":\"white\",\"showbackground\":true,\"ticks\":\"\",\"zerolinecolor\":\"white\"},\"yaxis\":{\"backgroundcolor\":\"#E5ECF6\",\"gridcolor\":\"white\",\"gridwidth\":2,\"linecolor\":\"white\",\"showbackground\":true,\"ticks\":\"\",\"zerolinecolor\":\"white\"},\"zaxis\":{\"backgroundcolor\":\"#E5ECF6\",\"gridcolor\":\"white\",\"gridwidth\":2,\"linecolor\":\"white\",\"showbackground\":true,\"ticks\":\"\",\"zerolinecolor\":\"white\"}},\"shapedefaults\":{\"line\":{\"color\":\"#2a3f5f\"}},\"ternary\":{\"aaxis\":{\"gridcolor\":\"white\",\"linecolor\":\"white\",\"ticks\":\"\"},\"baxis\":{\"gridcolor\":\"white\",\"linecolor\":\"white\",\"ticks\":\"\"},\"bgcolor\":\"#E5ECF6\",\"caxis\":{\"gridcolor\":\"white\",\"linecolor\":\"white\",\"ticks\":\"\"}},\"title\":{\"x\":0.05},\"xaxis\":{\"automargin\":true,\"gridcolor\":\"white\",\"linecolor\":\"white\",\"ticks\":\"\",\"title\":{\"standoff\":15},\"zerolinecolor\":\"white\",\"zerolinewidth\":2},\"yaxis\":{\"automargin\":true,\"gridcolor\":\"white\",\"linecolor\":\"white\",\"ticks\":\"\",\"title\":{\"standoff\":15},\"zerolinecolor\":\"white\",\"zerolinewidth\":2}}},\"title\":{\"font\":{\"color\":\"#4D5663\"}},\"xaxis\":{\"gridcolor\":\"#E1E5ED\",\"showgrid\":true,\"tickfont\":{\"color\":\"#4D5663\"},\"title\":{\"font\":{\"color\":\"#4D5663\"},\"text\":\"\"},\"zerolinecolor\":\"#E1E5ED\"},\"yaxis\":{\"domain\":[0.3,1],\"gridcolor\":\"#E1E5ED\",\"showgrid\":true,\"tickfont\":{\"color\":\"#4D5663\"},\"title\":{\"font\":{\"color\":\"#4D5663\"},\"text\":\"\"},\"zerolinecolor\":\"#E1E5ED\"},\"yaxis2\":{\"domain\":[0,0.25],\"gridcolor\":\"#E1E5ED\",\"showgrid\":true,\"tickfont\":{\"color\":\"#4D5663\"},\"title\":{\"font\":{\"color\":\"#4D5663\"},\"text\":\"Spread\"},\"zerolinecolor\":\"#E1E5ED\"},\"xaxis2\":{\"anchor\":\"y2\",\"gridcolor\":\"#E1E5ED\",\"showgrid\":true,\"showticklabels\":false,\"tickfont\":{\"color\":\"#4D5663\"},\"title\":{\"font\":{\"color\":\"#4D5663\"},\"text\":\"\"},\"zerolinecolor\":\"#E1E5ED\"}},                        {\"showLink\": true, \"linkText\": \"Export to plot.ly\", \"plotlyServerURL\": \"https://plot.ly\", \"responsive\": true}                    ).then(function(){\n",
       "                            \n",
       "var gd = document.getElementById('98e3dc1b-6026-4047-a6bd-c82bf73e56c6');\n",
       "var x = new MutationObserver(function (mutations, observer) {{\n",
       "        var display = window.getComputedStyle(gd).display;\n",
       "        if (!display || display === 'none') {{\n",
       "            console.log([gd, 'removed!']);\n",
       "            Plotly.purge(gd);\n",
       "            observer.disconnect();\n",
       "        }}\n",
       "}});\n",
       "\n",
       "// Listen for the removal of the full notebook cells\n",
       "var notebookContainer = gd.closest('#notebook-container');\n",
       "if (notebookContainer) {{\n",
       "    x.observe(notebookContainer, {childList: true});\n",
       "}}\n",
       "\n",
       "// Listen for the clearing of the current output cell\n",
       "var outputEl = gd.closest('.output');\n",
       "if (outputEl) {{\n",
       "    x.observe(outputEl, {childList: true});\n",
       "}}\n",
       "\n",
       "                        })                };                });            </script>        </div>"
      ]
     },
     "metadata": {},
     "output_type": "display_data"
    }
   ],
   "source": [
    "df[['A','B']].iplot(kind='spread')"
   ]
  },
  {
   "cell_type": "markdown",
   "metadata": {},
   "source": [
    "## histogram"
   ]
  },
  {
   "cell_type": "code",
   "execution_count": 20,
   "metadata": {},
   "outputs": [
    {
     "data": {
      "application/vnd.plotly.v1+json": {
       "config": {
        "linkText": "Export to plot.ly",
        "plotlyServerURL": "https://plot.ly",
        "showLink": true
       },
       "data": [
        {
         "histfunc": "count",
         "histnorm": "",
         "marker": {
          "color": "rgba(255, 153, 51, 1.0)",
          "line": {
           "color": "#4D5663",
           "width": 1.3
          }
         },
         "name": "A",
         "nbinsx": 25,
         "opacity": 0.8,
         "orientation": "v",
         "type": "histogram",
         "x": [
          -0.01667208869479953,
          0.6037503470629544,
          -0.28351149014731414,
          0.0216026878129016,
          0.1751687897703358,
          -0.7464757712873497,
          0.36612188033655946,
          1.5603681621800871,
          -0.4310426287934078,
          -0.40795947020774453,
          -0.6367278401219701,
          -1.0874168310844612,
          1.1698066413000878,
          -0.3066916909365898,
          1.1252351101197362,
          -1.2075223698484885,
          0.17673062821547475,
          -0.9895317582731459,
          0.9283196542513025,
          -0.5835587044089643,
          0.6902201487451626,
          -0.6455972284797273,
          1.7428152700098267,
          -1.4602586348752853,
          0.17593919995963694,
          0.5390588117799688,
          2.1207767856567727,
          1.2591692758771187,
          -0.17209273934779287,
          -0.366566956753178,
          -0.15331543661920066,
          0.08834728696166949,
          0.46909164345998144,
          0.7117073717263691,
          -1.123006297200311,
          0.20791917087926534,
          0.03840313876869264,
          0.9143191515646512,
          1.0356772091115893,
          0.44907932457214866,
          -0.38451117181962,
          -0.10228947216258112,
          0.9408916586961488,
          0.46082542099519913,
          0.5370618137962073,
          -0.11776168465227992,
          1.214265596966936,
          -0.8703436304770322,
          0.10740457078101891,
          0.3544977535785094,
          -0.9146086471251739,
          0.12808158542595066,
          -0.5426218229255564,
          1.1556505063233624,
          -0.7320625981927786,
          0.3973947239800183,
          -0.36711828716894135,
          0.4131382364285986,
          -0.819978944828114,
          -0.6864462990192921,
          -0.08551191306702406,
          -1.0865010798257977,
          -1.0817819236516397,
          -0.351388330509077,
          -0.5420249562951884,
          -0.06577023958226505,
          1.396824993267686,
          -1.0025865125331916,
          1.9923269253294456,
          -0.778359989476912,
          -0.6806007021133944,
          0.0402740148264282,
          -0.45542227594424267,
          1.3698478125158287,
          -0.6280302339215994,
          0.4044415920632114,
          0.37534727740862495,
          -0.957656480747998,
          0.691572236878223,
          -1.1873909229215367,
          1.2919297518408075,
          0.33667467848977395,
          -0.48006790969772334,
          -1.38797462206206,
          -1.0392939638716054,
          -0.37534975084431815,
          1.5813624436860207,
          -2.348410308085096,
          -0.9049476494213308,
          -2.656882930015167,
          1.561536057768945,
          0.5638875300946916,
          -0.47944682187429133,
          0.3539420600530498,
          -0.5135199779795387,
          -0.0906234411538603,
          -1.0406035600634143,
          1.9575152252883732,
          -1.8336226329156557,
          0.0005518196884569486
         ]
        }
       ],
       "layout": {
        "barmode": "overlay",
        "legend": {
         "bgcolor": "#F5F6F9",
         "font": {
          "color": "#4D5663"
         }
        },
        "paper_bgcolor": "#F5F6F9",
        "plot_bgcolor": "#F5F6F9",
        "template": {
         "data": {
          "bar": [
           {
            "error_x": {
             "color": "#2a3f5f"
            },
            "error_y": {
             "color": "#2a3f5f"
            },
            "marker": {
             "line": {
              "color": "#E5ECF6",
              "width": 0.5
             },
             "pattern": {
              "fillmode": "overlay",
              "size": 10,
              "solidity": 0.2
             }
            },
            "type": "bar"
           }
          ],
          "barpolar": [
           {
            "marker": {
             "line": {
              "color": "#E5ECF6",
              "width": 0.5
             },
             "pattern": {
              "fillmode": "overlay",
              "size": 10,
              "solidity": 0.2
             }
            },
            "type": "barpolar"
           }
          ],
          "carpet": [
           {
            "aaxis": {
             "endlinecolor": "#2a3f5f",
             "gridcolor": "white",
             "linecolor": "white",
             "minorgridcolor": "white",
             "startlinecolor": "#2a3f5f"
            },
            "baxis": {
             "endlinecolor": "#2a3f5f",
             "gridcolor": "white",
             "linecolor": "white",
             "minorgridcolor": "white",
             "startlinecolor": "#2a3f5f"
            },
            "type": "carpet"
           }
          ],
          "choropleth": [
           {
            "colorbar": {
             "outlinewidth": 0,
             "ticks": ""
            },
            "type": "choropleth"
           }
          ],
          "contour": [
           {
            "colorbar": {
             "outlinewidth": 0,
             "ticks": ""
            },
            "colorscale": [
             [
              0,
              "#0d0887"
             ],
             [
              0.1111111111111111,
              "#46039f"
             ],
             [
              0.2222222222222222,
              "#7201a8"
             ],
             [
              0.3333333333333333,
              "#9c179e"
             ],
             [
              0.4444444444444444,
              "#bd3786"
             ],
             [
              0.5555555555555556,
              "#d8576b"
             ],
             [
              0.6666666666666666,
              "#ed7953"
             ],
             [
              0.7777777777777778,
              "#fb9f3a"
             ],
             [
              0.8888888888888888,
              "#fdca26"
             ],
             [
              1,
              "#f0f921"
             ]
            ],
            "type": "contour"
           }
          ],
          "contourcarpet": [
           {
            "colorbar": {
             "outlinewidth": 0,
             "ticks": ""
            },
            "type": "contourcarpet"
           }
          ],
          "heatmap": [
           {
            "colorbar": {
             "outlinewidth": 0,
             "ticks": ""
            },
            "colorscale": [
             [
              0,
              "#0d0887"
             ],
             [
              0.1111111111111111,
              "#46039f"
             ],
             [
              0.2222222222222222,
              "#7201a8"
             ],
             [
              0.3333333333333333,
              "#9c179e"
             ],
             [
              0.4444444444444444,
              "#bd3786"
             ],
             [
              0.5555555555555556,
              "#d8576b"
             ],
             [
              0.6666666666666666,
              "#ed7953"
             ],
             [
              0.7777777777777778,
              "#fb9f3a"
             ],
             [
              0.8888888888888888,
              "#fdca26"
             ],
             [
              1,
              "#f0f921"
             ]
            ],
            "type": "heatmap"
           }
          ],
          "heatmapgl": [
           {
            "colorbar": {
             "outlinewidth": 0,
             "ticks": ""
            },
            "colorscale": [
             [
              0,
              "#0d0887"
             ],
             [
              0.1111111111111111,
              "#46039f"
             ],
             [
              0.2222222222222222,
              "#7201a8"
             ],
             [
              0.3333333333333333,
              "#9c179e"
             ],
             [
              0.4444444444444444,
              "#bd3786"
             ],
             [
              0.5555555555555556,
              "#d8576b"
             ],
             [
              0.6666666666666666,
              "#ed7953"
             ],
             [
              0.7777777777777778,
              "#fb9f3a"
             ],
             [
              0.8888888888888888,
              "#fdca26"
             ],
             [
              1,
              "#f0f921"
             ]
            ],
            "type": "heatmapgl"
           }
          ],
          "histogram": [
           {
            "marker": {
             "pattern": {
              "fillmode": "overlay",
              "size": 10,
              "solidity": 0.2
             }
            },
            "type": "histogram"
           }
          ],
          "histogram2d": [
           {
            "colorbar": {
             "outlinewidth": 0,
             "ticks": ""
            },
            "colorscale": [
             [
              0,
              "#0d0887"
             ],
             [
              0.1111111111111111,
              "#46039f"
             ],
             [
              0.2222222222222222,
              "#7201a8"
             ],
             [
              0.3333333333333333,
              "#9c179e"
             ],
             [
              0.4444444444444444,
              "#bd3786"
             ],
             [
              0.5555555555555556,
              "#d8576b"
             ],
             [
              0.6666666666666666,
              "#ed7953"
             ],
             [
              0.7777777777777778,
              "#fb9f3a"
             ],
             [
              0.8888888888888888,
              "#fdca26"
             ],
             [
              1,
              "#f0f921"
             ]
            ],
            "type": "histogram2d"
           }
          ],
          "histogram2dcontour": [
           {
            "colorbar": {
             "outlinewidth": 0,
             "ticks": ""
            },
            "colorscale": [
             [
              0,
              "#0d0887"
             ],
             [
              0.1111111111111111,
              "#46039f"
             ],
             [
              0.2222222222222222,
              "#7201a8"
             ],
             [
              0.3333333333333333,
              "#9c179e"
             ],
             [
              0.4444444444444444,
              "#bd3786"
             ],
             [
              0.5555555555555556,
              "#d8576b"
             ],
             [
              0.6666666666666666,
              "#ed7953"
             ],
             [
              0.7777777777777778,
              "#fb9f3a"
             ],
             [
              0.8888888888888888,
              "#fdca26"
             ],
             [
              1,
              "#f0f921"
             ]
            ],
            "type": "histogram2dcontour"
           }
          ],
          "mesh3d": [
           {
            "colorbar": {
             "outlinewidth": 0,
             "ticks": ""
            },
            "type": "mesh3d"
           }
          ],
          "parcoords": [
           {
            "line": {
             "colorbar": {
              "outlinewidth": 0,
              "ticks": ""
             }
            },
            "type": "parcoords"
           }
          ],
          "pie": [
           {
            "automargin": true,
            "type": "pie"
           }
          ],
          "scatter": [
           {
            "marker": {
             "colorbar": {
              "outlinewidth": 0,
              "ticks": ""
             }
            },
            "type": "scatter"
           }
          ],
          "scatter3d": [
           {
            "line": {
             "colorbar": {
              "outlinewidth": 0,
              "ticks": ""
             }
            },
            "marker": {
             "colorbar": {
              "outlinewidth": 0,
              "ticks": ""
             }
            },
            "type": "scatter3d"
           }
          ],
          "scattercarpet": [
           {
            "marker": {
             "colorbar": {
              "outlinewidth": 0,
              "ticks": ""
             }
            },
            "type": "scattercarpet"
           }
          ],
          "scattergeo": [
           {
            "marker": {
             "colorbar": {
              "outlinewidth": 0,
              "ticks": ""
             }
            },
            "type": "scattergeo"
           }
          ],
          "scattergl": [
           {
            "marker": {
             "colorbar": {
              "outlinewidth": 0,
              "ticks": ""
             }
            },
            "type": "scattergl"
           }
          ],
          "scattermapbox": [
           {
            "marker": {
             "colorbar": {
              "outlinewidth": 0,
              "ticks": ""
             }
            },
            "type": "scattermapbox"
           }
          ],
          "scatterpolar": [
           {
            "marker": {
             "colorbar": {
              "outlinewidth": 0,
              "ticks": ""
             }
            },
            "type": "scatterpolar"
           }
          ],
          "scatterpolargl": [
           {
            "marker": {
             "colorbar": {
              "outlinewidth": 0,
              "ticks": ""
             }
            },
            "type": "scatterpolargl"
           }
          ],
          "scatterternary": [
           {
            "marker": {
             "colorbar": {
              "outlinewidth": 0,
              "ticks": ""
             }
            },
            "type": "scatterternary"
           }
          ],
          "surface": [
           {
            "colorbar": {
             "outlinewidth": 0,
             "ticks": ""
            },
            "colorscale": [
             [
              0,
              "#0d0887"
             ],
             [
              0.1111111111111111,
              "#46039f"
             ],
             [
              0.2222222222222222,
              "#7201a8"
             ],
             [
              0.3333333333333333,
              "#9c179e"
             ],
             [
              0.4444444444444444,
              "#bd3786"
             ],
             [
              0.5555555555555556,
              "#d8576b"
             ],
             [
              0.6666666666666666,
              "#ed7953"
             ],
             [
              0.7777777777777778,
              "#fb9f3a"
             ],
             [
              0.8888888888888888,
              "#fdca26"
             ],
             [
              1,
              "#f0f921"
             ]
            ],
            "type": "surface"
           }
          ],
          "table": [
           {
            "cells": {
             "fill": {
              "color": "#EBF0F8"
             },
             "line": {
              "color": "white"
             }
            },
            "header": {
             "fill": {
              "color": "#C8D4E3"
             },
             "line": {
              "color": "white"
             }
            },
            "type": "table"
           }
          ]
         },
         "layout": {
          "annotationdefaults": {
           "arrowcolor": "#2a3f5f",
           "arrowhead": 0,
           "arrowwidth": 1
          },
          "autotypenumbers": "strict",
          "coloraxis": {
           "colorbar": {
            "outlinewidth": 0,
            "ticks": ""
           }
          },
          "colorscale": {
           "diverging": [
            [
             0,
             "#8e0152"
            ],
            [
             0.1,
             "#c51b7d"
            ],
            [
             0.2,
             "#de77ae"
            ],
            [
             0.3,
             "#f1b6da"
            ],
            [
             0.4,
             "#fde0ef"
            ],
            [
             0.5,
             "#f7f7f7"
            ],
            [
             0.6,
             "#e6f5d0"
            ],
            [
             0.7,
             "#b8e186"
            ],
            [
             0.8,
             "#7fbc41"
            ],
            [
             0.9,
             "#4d9221"
            ],
            [
             1,
             "#276419"
            ]
           ],
           "sequential": [
            [
             0,
             "#0d0887"
            ],
            [
             0.1111111111111111,
             "#46039f"
            ],
            [
             0.2222222222222222,
             "#7201a8"
            ],
            [
             0.3333333333333333,
             "#9c179e"
            ],
            [
             0.4444444444444444,
             "#bd3786"
            ],
            [
             0.5555555555555556,
             "#d8576b"
            ],
            [
             0.6666666666666666,
             "#ed7953"
            ],
            [
             0.7777777777777778,
             "#fb9f3a"
            ],
            [
             0.8888888888888888,
             "#fdca26"
            ],
            [
             1,
             "#f0f921"
            ]
           ],
           "sequentialminus": [
            [
             0,
             "#0d0887"
            ],
            [
             0.1111111111111111,
             "#46039f"
            ],
            [
             0.2222222222222222,
             "#7201a8"
            ],
            [
             0.3333333333333333,
             "#9c179e"
            ],
            [
             0.4444444444444444,
             "#bd3786"
            ],
            [
             0.5555555555555556,
             "#d8576b"
            ],
            [
             0.6666666666666666,
             "#ed7953"
            ],
            [
             0.7777777777777778,
             "#fb9f3a"
            ],
            [
             0.8888888888888888,
             "#fdca26"
            ],
            [
             1,
             "#f0f921"
            ]
           ]
          },
          "colorway": [
           "#636efa",
           "#EF553B",
           "#00cc96",
           "#ab63fa",
           "#FFA15A",
           "#19d3f3",
           "#FF6692",
           "#B6E880",
           "#FF97FF",
           "#FECB52"
          ],
          "font": {
           "color": "#2a3f5f"
          },
          "geo": {
           "bgcolor": "white",
           "lakecolor": "white",
           "landcolor": "#E5ECF6",
           "showlakes": true,
           "showland": true,
           "subunitcolor": "white"
          },
          "hoverlabel": {
           "align": "left"
          },
          "hovermode": "closest",
          "mapbox": {
           "style": "light"
          },
          "paper_bgcolor": "white",
          "plot_bgcolor": "#E5ECF6",
          "polar": {
           "angularaxis": {
            "gridcolor": "white",
            "linecolor": "white",
            "ticks": ""
           },
           "bgcolor": "#E5ECF6",
           "radialaxis": {
            "gridcolor": "white",
            "linecolor": "white",
            "ticks": ""
           }
          },
          "scene": {
           "xaxis": {
            "backgroundcolor": "#E5ECF6",
            "gridcolor": "white",
            "gridwidth": 2,
            "linecolor": "white",
            "showbackground": true,
            "ticks": "",
            "zerolinecolor": "white"
           },
           "yaxis": {
            "backgroundcolor": "#E5ECF6",
            "gridcolor": "white",
            "gridwidth": 2,
            "linecolor": "white",
            "showbackground": true,
            "ticks": "",
            "zerolinecolor": "white"
           },
           "zaxis": {
            "backgroundcolor": "#E5ECF6",
            "gridcolor": "white",
            "gridwidth": 2,
            "linecolor": "white",
            "showbackground": true,
            "ticks": "",
            "zerolinecolor": "white"
           }
          },
          "shapedefaults": {
           "line": {
            "color": "#2a3f5f"
           }
          },
          "ternary": {
           "aaxis": {
            "gridcolor": "white",
            "linecolor": "white",
            "ticks": ""
           },
           "baxis": {
            "gridcolor": "white",
            "linecolor": "white",
            "ticks": ""
           },
           "bgcolor": "#E5ECF6",
           "caxis": {
            "gridcolor": "white",
            "linecolor": "white",
            "ticks": ""
           }
          },
          "title": {
           "x": 0.05
          },
          "xaxis": {
           "automargin": true,
           "gridcolor": "white",
           "linecolor": "white",
           "ticks": "",
           "title": {
            "standoff": 15
           },
           "zerolinecolor": "white",
           "zerolinewidth": 2
          },
          "yaxis": {
           "automargin": true,
           "gridcolor": "white",
           "linecolor": "white",
           "ticks": "",
           "title": {
            "standoff": 15
           },
           "zerolinecolor": "white",
           "zerolinewidth": 2
          }
         }
        },
        "title": {
         "font": {
          "color": "#4D5663"
         }
        },
        "xaxis": {
         "gridcolor": "#E1E5ED",
         "showgrid": true,
         "tickfont": {
          "color": "#4D5663"
         },
         "title": {
          "font": {
           "color": "#4D5663"
          },
          "text": ""
         },
         "zerolinecolor": "#E1E5ED"
        },
        "yaxis": {
         "gridcolor": "#E1E5ED",
         "showgrid": true,
         "tickfont": {
          "color": "#4D5663"
         },
         "title": {
          "font": {
           "color": "#4D5663"
          },
          "text": ""
         },
         "zerolinecolor": "#E1E5ED"
        }
       }
      },
      "text/html": [
       "<div>                            <div id=\"c9bdc2ce-c2f7-43ab-8270-038f8262f076\" class=\"plotly-graph-div\" style=\"height:525px; width:100%;\"></div>            <script type=\"text/javascript\">                require([\"plotly\"], function(Plotly) {                    window.PLOTLYENV=window.PLOTLYENV || {};\n",
       "                    window.PLOTLYENV.BASE_URL='https://plot.ly';                                    if (document.getElementById(\"c9bdc2ce-c2f7-43ab-8270-038f8262f076\")) {                    Plotly.newPlot(                        \"c9bdc2ce-c2f7-43ab-8270-038f8262f076\",                        [{\"histfunc\":\"count\",\"histnorm\":\"\",\"marker\":{\"color\":\"rgba(255, 153, 51, 1.0)\",\"line\":{\"color\":\"#4D5663\",\"width\":1.3}},\"name\":\"A\",\"nbinsx\":25,\"opacity\":0.8,\"orientation\":\"v\",\"x\":[-0.01667208869479953,0.6037503470629544,-0.28351149014731414,0.0216026878129016,0.1751687897703358,-0.7464757712873497,0.36612188033655946,1.5603681621800871,-0.4310426287934078,-0.40795947020774453,-0.6367278401219701,-1.0874168310844612,1.1698066413000878,-0.3066916909365898,1.1252351101197362,-1.2075223698484885,0.17673062821547475,-0.9895317582731459,0.9283196542513025,-0.5835587044089643,0.6902201487451626,-0.6455972284797273,1.7428152700098267,-1.4602586348752853,0.17593919995963694,0.5390588117799688,2.1207767856567727,1.2591692758771187,-0.17209273934779287,-0.366566956753178,-0.15331543661920066,0.08834728696166949,0.46909164345998144,0.7117073717263691,-1.123006297200311,0.20791917087926534,0.03840313876869264,0.9143191515646512,1.0356772091115893,0.44907932457214866,-0.38451117181962,-0.10228947216258112,0.9408916586961488,0.46082542099519913,0.5370618137962073,-0.11776168465227992,1.214265596966936,-0.8703436304770322,0.10740457078101891,0.3544977535785094,-0.9146086471251739,0.12808158542595066,-0.5426218229255564,1.1556505063233624,-0.7320625981927786,0.3973947239800183,-0.36711828716894135,0.4131382364285986,-0.819978944828114,-0.6864462990192921,-0.08551191306702406,-1.0865010798257977,-1.0817819236516397,-0.351388330509077,-0.5420249562951884,-0.06577023958226505,1.396824993267686,-1.0025865125331916,1.9923269253294456,-0.778359989476912,-0.6806007021133944,0.0402740148264282,-0.45542227594424267,1.3698478125158287,-0.6280302339215994,0.4044415920632114,0.37534727740862495,-0.957656480747998,0.691572236878223,-1.1873909229215367,1.2919297518408075,0.33667467848977395,-0.48006790969772334,-1.38797462206206,-1.0392939638716054,-0.37534975084431815,1.5813624436860207,-2.348410308085096,-0.9049476494213308,-2.656882930015167,1.561536057768945,0.5638875300946916,-0.47944682187429133,0.3539420600530498,-0.5135199779795387,-0.0906234411538603,-1.0406035600634143,1.9575152252883732,-1.8336226329156557,0.0005518196884569486],\"type\":\"histogram\"}],                        {\"barmode\":\"overlay\",\"legend\":{\"bgcolor\":\"#F5F6F9\",\"font\":{\"color\":\"#4D5663\"}},\"paper_bgcolor\":\"#F5F6F9\",\"plot_bgcolor\":\"#F5F6F9\",\"template\":{\"data\":{\"barpolar\":[{\"marker\":{\"line\":{\"color\":\"#E5ECF6\",\"width\":0.5},\"pattern\":{\"fillmode\":\"overlay\",\"size\":10,\"solidity\":0.2}},\"type\":\"barpolar\"}],\"bar\":[{\"error_x\":{\"color\":\"#2a3f5f\"},\"error_y\":{\"color\":\"#2a3f5f\"},\"marker\":{\"line\":{\"color\":\"#E5ECF6\",\"width\":0.5},\"pattern\":{\"fillmode\":\"overlay\",\"size\":10,\"solidity\":0.2}},\"type\":\"bar\"}],\"carpet\":[{\"aaxis\":{\"endlinecolor\":\"#2a3f5f\",\"gridcolor\":\"white\",\"linecolor\":\"white\",\"minorgridcolor\":\"white\",\"startlinecolor\":\"#2a3f5f\"},\"baxis\":{\"endlinecolor\":\"#2a3f5f\",\"gridcolor\":\"white\",\"linecolor\":\"white\",\"minorgridcolor\":\"white\",\"startlinecolor\":\"#2a3f5f\"},\"type\":\"carpet\"}],\"choropleth\":[{\"colorbar\":{\"outlinewidth\":0,\"ticks\":\"\"},\"type\":\"choropleth\"}],\"contourcarpet\":[{\"colorbar\":{\"outlinewidth\":0,\"ticks\":\"\"},\"type\":\"contourcarpet\"}],\"contour\":[{\"colorbar\":{\"outlinewidth\":0,\"ticks\":\"\"},\"colorscale\":[[0.0,\"#0d0887\"],[0.1111111111111111,\"#46039f\"],[0.2222222222222222,\"#7201a8\"],[0.3333333333333333,\"#9c179e\"],[0.4444444444444444,\"#bd3786\"],[0.5555555555555556,\"#d8576b\"],[0.6666666666666666,\"#ed7953\"],[0.7777777777777778,\"#fb9f3a\"],[0.8888888888888888,\"#fdca26\"],[1.0,\"#f0f921\"]],\"type\":\"contour\"}],\"heatmapgl\":[{\"colorbar\":{\"outlinewidth\":0,\"ticks\":\"\"},\"colorscale\":[[0.0,\"#0d0887\"],[0.1111111111111111,\"#46039f\"],[0.2222222222222222,\"#7201a8\"],[0.3333333333333333,\"#9c179e\"],[0.4444444444444444,\"#bd3786\"],[0.5555555555555556,\"#d8576b\"],[0.6666666666666666,\"#ed7953\"],[0.7777777777777778,\"#fb9f3a\"],[0.8888888888888888,\"#fdca26\"],[1.0,\"#f0f921\"]],\"type\":\"heatmapgl\"}],\"heatmap\":[{\"colorbar\":{\"outlinewidth\":0,\"ticks\":\"\"},\"colorscale\":[[0.0,\"#0d0887\"],[0.1111111111111111,\"#46039f\"],[0.2222222222222222,\"#7201a8\"],[0.3333333333333333,\"#9c179e\"],[0.4444444444444444,\"#bd3786\"],[0.5555555555555556,\"#d8576b\"],[0.6666666666666666,\"#ed7953\"],[0.7777777777777778,\"#fb9f3a\"],[0.8888888888888888,\"#fdca26\"],[1.0,\"#f0f921\"]],\"type\":\"heatmap\"}],\"histogram2dcontour\":[{\"colorbar\":{\"outlinewidth\":0,\"ticks\":\"\"},\"colorscale\":[[0.0,\"#0d0887\"],[0.1111111111111111,\"#46039f\"],[0.2222222222222222,\"#7201a8\"],[0.3333333333333333,\"#9c179e\"],[0.4444444444444444,\"#bd3786\"],[0.5555555555555556,\"#d8576b\"],[0.6666666666666666,\"#ed7953\"],[0.7777777777777778,\"#fb9f3a\"],[0.8888888888888888,\"#fdca26\"],[1.0,\"#f0f921\"]],\"type\":\"histogram2dcontour\"}],\"histogram2d\":[{\"colorbar\":{\"outlinewidth\":0,\"ticks\":\"\"},\"colorscale\":[[0.0,\"#0d0887\"],[0.1111111111111111,\"#46039f\"],[0.2222222222222222,\"#7201a8\"],[0.3333333333333333,\"#9c179e\"],[0.4444444444444444,\"#bd3786\"],[0.5555555555555556,\"#d8576b\"],[0.6666666666666666,\"#ed7953\"],[0.7777777777777778,\"#fb9f3a\"],[0.8888888888888888,\"#fdca26\"],[1.0,\"#f0f921\"]],\"type\":\"histogram2d\"}],\"histogram\":[{\"marker\":{\"pattern\":{\"fillmode\":\"overlay\",\"size\":10,\"solidity\":0.2}},\"type\":\"histogram\"}],\"mesh3d\":[{\"colorbar\":{\"outlinewidth\":0,\"ticks\":\"\"},\"type\":\"mesh3d\"}],\"parcoords\":[{\"line\":{\"colorbar\":{\"outlinewidth\":0,\"ticks\":\"\"}},\"type\":\"parcoords\"}],\"pie\":[{\"automargin\":true,\"type\":\"pie\"}],\"scatter3d\":[{\"line\":{\"colorbar\":{\"outlinewidth\":0,\"ticks\":\"\"}},\"marker\":{\"colorbar\":{\"outlinewidth\":0,\"ticks\":\"\"}},\"type\":\"scatter3d\"}],\"scattercarpet\":[{\"marker\":{\"colorbar\":{\"outlinewidth\":0,\"ticks\":\"\"}},\"type\":\"scattercarpet\"}],\"scattergeo\":[{\"marker\":{\"colorbar\":{\"outlinewidth\":0,\"ticks\":\"\"}},\"type\":\"scattergeo\"}],\"scattergl\":[{\"marker\":{\"colorbar\":{\"outlinewidth\":0,\"ticks\":\"\"}},\"type\":\"scattergl\"}],\"scattermapbox\":[{\"marker\":{\"colorbar\":{\"outlinewidth\":0,\"ticks\":\"\"}},\"type\":\"scattermapbox\"}],\"scatterpolargl\":[{\"marker\":{\"colorbar\":{\"outlinewidth\":0,\"ticks\":\"\"}},\"type\":\"scatterpolargl\"}],\"scatterpolar\":[{\"marker\":{\"colorbar\":{\"outlinewidth\":0,\"ticks\":\"\"}},\"type\":\"scatterpolar\"}],\"scatter\":[{\"marker\":{\"colorbar\":{\"outlinewidth\":0,\"ticks\":\"\"}},\"type\":\"scatter\"}],\"scatterternary\":[{\"marker\":{\"colorbar\":{\"outlinewidth\":0,\"ticks\":\"\"}},\"type\":\"scatterternary\"}],\"surface\":[{\"colorbar\":{\"outlinewidth\":0,\"ticks\":\"\"},\"colorscale\":[[0.0,\"#0d0887\"],[0.1111111111111111,\"#46039f\"],[0.2222222222222222,\"#7201a8\"],[0.3333333333333333,\"#9c179e\"],[0.4444444444444444,\"#bd3786\"],[0.5555555555555556,\"#d8576b\"],[0.6666666666666666,\"#ed7953\"],[0.7777777777777778,\"#fb9f3a\"],[0.8888888888888888,\"#fdca26\"],[1.0,\"#f0f921\"]],\"type\":\"surface\"}],\"table\":[{\"cells\":{\"fill\":{\"color\":\"#EBF0F8\"},\"line\":{\"color\":\"white\"}},\"header\":{\"fill\":{\"color\":\"#C8D4E3\"},\"line\":{\"color\":\"white\"}},\"type\":\"table\"}]},\"layout\":{\"annotationdefaults\":{\"arrowcolor\":\"#2a3f5f\",\"arrowhead\":0,\"arrowwidth\":1},\"autotypenumbers\":\"strict\",\"coloraxis\":{\"colorbar\":{\"outlinewidth\":0,\"ticks\":\"\"}},\"colorscale\":{\"diverging\":[[0,\"#8e0152\"],[0.1,\"#c51b7d\"],[0.2,\"#de77ae\"],[0.3,\"#f1b6da\"],[0.4,\"#fde0ef\"],[0.5,\"#f7f7f7\"],[0.6,\"#e6f5d0\"],[0.7,\"#b8e186\"],[0.8,\"#7fbc41\"],[0.9,\"#4d9221\"],[1,\"#276419\"]],\"sequential\":[[0.0,\"#0d0887\"],[0.1111111111111111,\"#46039f\"],[0.2222222222222222,\"#7201a8\"],[0.3333333333333333,\"#9c179e\"],[0.4444444444444444,\"#bd3786\"],[0.5555555555555556,\"#d8576b\"],[0.6666666666666666,\"#ed7953\"],[0.7777777777777778,\"#fb9f3a\"],[0.8888888888888888,\"#fdca26\"],[1.0,\"#f0f921\"]],\"sequentialminus\":[[0.0,\"#0d0887\"],[0.1111111111111111,\"#46039f\"],[0.2222222222222222,\"#7201a8\"],[0.3333333333333333,\"#9c179e\"],[0.4444444444444444,\"#bd3786\"],[0.5555555555555556,\"#d8576b\"],[0.6666666666666666,\"#ed7953\"],[0.7777777777777778,\"#fb9f3a\"],[0.8888888888888888,\"#fdca26\"],[1.0,\"#f0f921\"]]},\"colorway\":[\"#636efa\",\"#EF553B\",\"#00cc96\",\"#ab63fa\",\"#FFA15A\",\"#19d3f3\",\"#FF6692\",\"#B6E880\",\"#FF97FF\",\"#FECB52\"],\"font\":{\"color\":\"#2a3f5f\"},\"geo\":{\"bgcolor\":\"white\",\"lakecolor\":\"white\",\"landcolor\":\"#E5ECF6\",\"showlakes\":true,\"showland\":true,\"subunitcolor\":\"white\"},\"hoverlabel\":{\"align\":\"left\"},\"hovermode\":\"closest\",\"mapbox\":{\"style\":\"light\"},\"paper_bgcolor\":\"white\",\"plot_bgcolor\":\"#E5ECF6\",\"polar\":{\"angularaxis\":{\"gridcolor\":\"white\",\"linecolor\":\"white\",\"ticks\":\"\"},\"bgcolor\":\"#E5ECF6\",\"radialaxis\":{\"gridcolor\":\"white\",\"linecolor\":\"white\",\"ticks\":\"\"}},\"scene\":{\"xaxis\":{\"backgroundcolor\":\"#E5ECF6\",\"gridcolor\":\"white\",\"gridwidth\":2,\"linecolor\":\"white\",\"showbackground\":true,\"ticks\":\"\",\"zerolinecolor\":\"white\"},\"yaxis\":{\"backgroundcolor\":\"#E5ECF6\",\"gridcolor\":\"white\",\"gridwidth\":2,\"linecolor\":\"white\",\"showbackground\":true,\"ticks\":\"\",\"zerolinecolor\":\"white\"},\"zaxis\":{\"backgroundcolor\":\"#E5ECF6\",\"gridcolor\":\"white\",\"gridwidth\":2,\"linecolor\":\"white\",\"showbackground\":true,\"ticks\":\"\",\"zerolinecolor\":\"white\"}},\"shapedefaults\":{\"line\":{\"color\":\"#2a3f5f\"}},\"ternary\":{\"aaxis\":{\"gridcolor\":\"white\",\"linecolor\":\"white\",\"ticks\":\"\"},\"baxis\":{\"gridcolor\":\"white\",\"linecolor\":\"white\",\"ticks\":\"\"},\"bgcolor\":\"#E5ECF6\",\"caxis\":{\"gridcolor\":\"white\",\"linecolor\":\"white\",\"ticks\":\"\"}},\"title\":{\"x\":0.05},\"xaxis\":{\"automargin\":true,\"gridcolor\":\"white\",\"linecolor\":\"white\",\"ticks\":\"\",\"title\":{\"standoff\":15},\"zerolinecolor\":\"white\",\"zerolinewidth\":2},\"yaxis\":{\"automargin\":true,\"gridcolor\":\"white\",\"linecolor\":\"white\",\"ticks\":\"\",\"title\":{\"standoff\":15},\"zerolinecolor\":\"white\",\"zerolinewidth\":2}}},\"title\":{\"font\":{\"color\":\"#4D5663\"}},\"xaxis\":{\"gridcolor\":\"#E1E5ED\",\"showgrid\":true,\"tickfont\":{\"color\":\"#4D5663\"},\"title\":{\"font\":{\"color\":\"#4D5663\"},\"text\":\"\"},\"zerolinecolor\":\"#E1E5ED\"},\"yaxis\":{\"gridcolor\":\"#E1E5ED\",\"showgrid\":true,\"tickfont\":{\"color\":\"#4D5663\"},\"title\":{\"font\":{\"color\":\"#4D5663\"},\"text\":\"\"},\"zerolinecolor\":\"#E1E5ED\"}},                        {\"showLink\": true, \"linkText\": \"Export to plot.ly\", \"plotlyServerURL\": \"https://plot.ly\", \"responsive\": true}                    ).then(function(){\n",
       "                            \n",
       "var gd = document.getElementById('c9bdc2ce-c2f7-43ab-8270-038f8262f076');\n",
       "var x = new MutationObserver(function (mutations, observer) {{\n",
       "        var display = window.getComputedStyle(gd).display;\n",
       "        if (!display || display === 'none') {{\n",
       "            console.log([gd, 'removed!']);\n",
       "            Plotly.purge(gd);\n",
       "            observer.disconnect();\n",
       "        }}\n",
       "}});\n",
       "\n",
       "// Listen for the removal of the full notebook cells\n",
       "var notebookContainer = gd.closest('#notebook-container');\n",
       "if (notebookContainer) {{\n",
       "    x.observe(notebookContainer, {childList: true});\n",
       "}}\n",
       "\n",
       "// Listen for the clearing of the current output cell\n",
       "var outputEl = gd.closest('.output');\n",
       "if (outputEl) {{\n",
       "    x.observe(outputEl, {childList: true});\n",
       "}}\n",
       "\n",
       "                        })                };                });            </script>        </div>"
      ]
     },
     "metadata": {},
     "output_type": "display_data"
    }
   ],
   "source": [
    "df['A'].iplot(kind='hist',bins=25)"
   ]
  },
  {
   "cell_type": "code",
   "execution_count": 21,
   "metadata": {},
   "outputs": [
    {
     "data": {
      "application/vnd.plotly.v1+json": {
       "config": {
        "linkText": "Export to plot.ly",
        "plotlyServerURL": "https://plot.ly",
        "showLink": true
       },
       "data": [
        {
         "marker": {
          "color": [
           "rgb(255, 153, 51)",
           "rgb(55, 128, 191)",
           "rgb(50, 171, 96)",
           "rgb(128, 0, 128)",
           "rgb(219, 64, 82)",
           "rgb(0, 128, 128)",
           "rgb(255, 255, 51)",
           "rgb(128, 128, 0)",
           "rgb(251, 128, 114)",
           "rgb(128, 177, 211)"
          ],
          "line": {
           "width": 1.3
          },
          "size": [
           50,
           50,
           63,
           70,
           85,
           51,
           93,
           82,
           97,
           45,
           67,
           47,
           33,
           111,
           64,
           51,
           39,
           42,
           71,
           69,
           40,
           47,
           44,
           57,
           70,
           33,
           31,
           112,
           21,
           77,
           69,
           73,
           58,
           38,
           55,
           63,
           63,
           36,
           68,
           89,
           32,
           33,
           51,
           71,
           54,
           58,
           56,
           44,
           37,
           68,
           96,
           18,
           36,
           66,
           38,
           43,
           60,
           75,
           49,
           55,
           43,
           12,
           30,
           54,
           38,
           45,
           44,
           67,
           19,
           39,
           49,
           30,
           38,
           86,
           47,
           81,
           51,
           75,
           65,
           60,
           33,
           40,
           54,
           45,
           32,
           49,
           76,
           42,
           83,
           62,
           41,
           94,
           46,
           34,
           51,
           44,
           68,
           87,
           29,
           53
          ],
          "symbol": "circle"
         },
         "mode": "markers",
         "text": "",
         "type": "scatter",
         "x": [
          -0.01667208869479953,
          0.6037503470629544,
          -0.28351149014731414,
          0.0216026878129016,
          0.1751687897703358,
          -0.7464757712873497,
          0.36612188033655946,
          1.5603681621800871,
          -0.4310426287934078,
          -0.40795947020774453,
          -0.6367278401219701,
          -1.0874168310844612,
          1.1698066413000878,
          -0.3066916909365898,
          1.1252351101197362,
          -1.2075223698484885,
          0.17673062821547475,
          -0.9895317582731459,
          0.9283196542513025,
          -0.5835587044089643,
          0.6902201487451626,
          -0.6455972284797273,
          1.7428152700098267,
          -1.4602586348752853,
          0.17593919995963694,
          0.5390588117799688,
          2.1207767856567727,
          1.2591692758771187,
          -0.17209273934779287,
          -0.366566956753178,
          -0.15331543661920066,
          0.08834728696166949,
          0.46909164345998144,
          0.7117073717263691,
          -1.123006297200311,
          0.20791917087926534,
          0.03840313876869264,
          0.9143191515646512,
          1.0356772091115893,
          0.44907932457214866,
          -0.38451117181962,
          -0.10228947216258112,
          0.9408916586961488,
          0.46082542099519913,
          0.5370618137962073,
          -0.11776168465227992,
          1.214265596966936,
          -0.8703436304770322,
          0.10740457078101891,
          0.3544977535785094,
          -0.9146086471251739,
          0.12808158542595066,
          -0.5426218229255564,
          1.1556505063233624,
          -0.7320625981927786,
          0.3973947239800183,
          -0.36711828716894135,
          0.4131382364285986,
          -0.819978944828114,
          -0.6864462990192921,
          -0.08551191306702406,
          -1.0865010798257977,
          -1.0817819236516397,
          -0.351388330509077,
          -0.5420249562951884,
          -0.06577023958226505,
          1.396824993267686,
          -1.0025865125331916,
          1.9923269253294456,
          -0.778359989476912,
          -0.6806007021133944,
          0.0402740148264282,
          -0.45542227594424267,
          1.3698478125158287,
          -0.6280302339215994,
          0.4044415920632114,
          0.37534727740862495,
          -0.957656480747998,
          0.691572236878223,
          -1.1873909229215367,
          1.2919297518408075,
          0.33667467848977395,
          -0.48006790969772334,
          -1.38797462206206,
          -1.0392939638716054,
          -0.37534975084431815,
          1.5813624436860207,
          -2.348410308085096,
          -0.9049476494213308,
          -2.656882930015167,
          1.561536057768945,
          0.5638875300946916,
          -0.47944682187429133,
          0.3539420600530498,
          -0.5135199779795387,
          -0.0906234411538603,
          -1.0406035600634143,
          1.9575152252883732,
          -1.8336226329156557,
          0.0005518196884569486
         ],
         "y": [
          -2.036158386653377,
          -0.7781816942974347,
          1.640792608476573,
          -0.4738608055981185,
          -0.36170747479840376,
          0.7170574090643116,
          -0.8901972640088935,
          0.15542111224360824,
          0.16842148205573518,
          -0.7624378404781994,
          0.6676445311926261,
          -0.5008312999875397,
          -0.14183629809542564,
          0.37770469615146307,
          1.177547024579085,
          -0.379578510137013,
          -0.7779969080814645,
          0.5369129846980254,
          0.3819636750976547,
          -0.8483530509658844,
          -0.8629937368086817,
          -1.5474167747744243,
          0.13599077249133737,
          -0.02370519789406686,
          0.8255708913577603,
          0.293639449547524,
          0.37850737435463583,
          -0.5086837226103097,
          0.4459407415852692,
          -0.5526591872367761,
          -0.9759789134411783,
          -0.14107027812456086,
          0.6827968128789753,
          -0.5704347120697848,
          0.2882354759654698,
          0.32201555158302814,
          -0.5792869703886953,
          0.6470959694849135,
          -0.7446533623021079,
          0.7088489240229382,
          0.5183027904959195,
          -0.7870559941595908,
          -0.3294836263221717,
          -0.840845736897288,
          -1.7859985371240894,
          -0.9087816084177032,
          -0.810103196119456,
          1.5851472901959138,
          1.2702325525750735,
          1.6810503424614647,
          -0.721541491810264,
          0.44211506970111,
          -0.3299773960399986,
          -0.1361012916371215,
          1.4162533790883198,
          -0.7915579015705827,
          0.9087815478659267,
          -0.36744419622196695,
          0.2605624041964697,
          0.43818409668521363,
          0.7009328503085128,
          0.2865205297562157,
          0.9699378427772057,
          2.0440071661428485,
          -2.164434885573739,
          -1.1558905699366222,
          0.6497490347234127,
          0.16245956749095322,
          -1.7138870454600397,
          -0.4331724808449435,
          -0.09748754649182939,
          -0.10479631959914548,
          -0.43353149021733123,
          -0.10187037619783064,
          -1.0564104724357057,
          -1.0555058271567033,
          0.09288054992141877,
          -0.2221697337192965,
          0.5323503361220058,
          -0.16101088097754562,
          0.7828781980514036,
          0.016206754381635557,
          -0.07773191734361144,
          -0.10256238294231157,
          -1.292394526699772,
          -0.22957938752731008,
          -1.6756411693309572,
          0.009428651355560447,
          -0.3789931812591254,
          0.5513478850352597,
          0.16629860929405813,
          -0.9098861056873205,
          -2.300633794465044,
          -0.9897923121378868,
          0.6632766469066379,
          0.60526923673236,
          -2.0090173721005544,
          -0.5156329401365136,
          1.1975640252955149,
          0.501908128260419
         ]
        }
       ],
       "layout": {
        "legend": {
         "bgcolor": "#F5F6F9",
         "font": {
          "color": "#4D5663"
         }
        },
        "paper_bgcolor": "#F5F6F9",
        "plot_bgcolor": "#F5F6F9",
        "template": {
         "data": {
          "bar": [
           {
            "error_x": {
             "color": "#2a3f5f"
            },
            "error_y": {
             "color": "#2a3f5f"
            },
            "marker": {
             "line": {
              "color": "#E5ECF6",
              "width": 0.5
             },
             "pattern": {
              "fillmode": "overlay",
              "size": 10,
              "solidity": 0.2
             }
            },
            "type": "bar"
           }
          ],
          "barpolar": [
           {
            "marker": {
             "line": {
              "color": "#E5ECF6",
              "width": 0.5
             },
             "pattern": {
              "fillmode": "overlay",
              "size": 10,
              "solidity": 0.2
             }
            },
            "type": "barpolar"
           }
          ],
          "carpet": [
           {
            "aaxis": {
             "endlinecolor": "#2a3f5f",
             "gridcolor": "white",
             "linecolor": "white",
             "minorgridcolor": "white",
             "startlinecolor": "#2a3f5f"
            },
            "baxis": {
             "endlinecolor": "#2a3f5f",
             "gridcolor": "white",
             "linecolor": "white",
             "minorgridcolor": "white",
             "startlinecolor": "#2a3f5f"
            },
            "type": "carpet"
           }
          ],
          "choropleth": [
           {
            "colorbar": {
             "outlinewidth": 0,
             "ticks": ""
            },
            "type": "choropleth"
           }
          ],
          "contour": [
           {
            "colorbar": {
             "outlinewidth": 0,
             "ticks": ""
            },
            "colorscale": [
             [
              0,
              "#0d0887"
             ],
             [
              0.1111111111111111,
              "#46039f"
             ],
             [
              0.2222222222222222,
              "#7201a8"
             ],
             [
              0.3333333333333333,
              "#9c179e"
             ],
             [
              0.4444444444444444,
              "#bd3786"
             ],
             [
              0.5555555555555556,
              "#d8576b"
             ],
             [
              0.6666666666666666,
              "#ed7953"
             ],
             [
              0.7777777777777778,
              "#fb9f3a"
             ],
             [
              0.8888888888888888,
              "#fdca26"
             ],
             [
              1,
              "#f0f921"
             ]
            ],
            "type": "contour"
           }
          ],
          "contourcarpet": [
           {
            "colorbar": {
             "outlinewidth": 0,
             "ticks": ""
            },
            "type": "contourcarpet"
           }
          ],
          "heatmap": [
           {
            "colorbar": {
             "outlinewidth": 0,
             "ticks": ""
            },
            "colorscale": [
             [
              0,
              "#0d0887"
             ],
             [
              0.1111111111111111,
              "#46039f"
             ],
             [
              0.2222222222222222,
              "#7201a8"
             ],
             [
              0.3333333333333333,
              "#9c179e"
             ],
             [
              0.4444444444444444,
              "#bd3786"
             ],
             [
              0.5555555555555556,
              "#d8576b"
             ],
             [
              0.6666666666666666,
              "#ed7953"
             ],
             [
              0.7777777777777778,
              "#fb9f3a"
             ],
             [
              0.8888888888888888,
              "#fdca26"
             ],
             [
              1,
              "#f0f921"
             ]
            ],
            "type": "heatmap"
           }
          ],
          "heatmapgl": [
           {
            "colorbar": {
             "outlinewidth": 0,
             "ticks": ""
            },
            "colorscale": [
             [
              0,
              "#0d0887"
             ],
             [
              0.1111111111111111,
              "#46039f"
             ],
             [
              0.2222222222222222,
              "#7201a8"
             ],
             [
              0.3333333333333333,
              "#9c179e"
             ],
             [
              0.4444444444444444,
              "#bd3786"
             ],
             [
              0.5555555555555556,
              "#d8576b"
             ],
             [
              0.6666666666666666,
              "#ed7953"
             ],
             [
              0.7777777777777778,
              "#fb9f3a"
             ],
             [
              0.8888888888888888,
              "#fdca26"
             ],
             [
              1,
              "#f0f921"
             ]
            ],
            "type": "heatmapgl"
           }
          ],
          "histogram": [
           {
            "marker": {
             "pattern": {
              "fillmode": "overlay",
              "size": 10,
              "solidity": 0.2
             }
            },
            "type": "histogram"
           }
          ],
          "histogram2d": [
           {
            "colorbar": {
             "outlinewidth": 0,
             "ticks": ""
            },
            "colorscale": [
             [
              0,
              "#0d0887"
             ],
             [
              0.1111111111111111,
              "#46039f"
             ],
             [
              0.2222222222222222,
              "#7201a8"
             ],
             [
              0.3333333333333333,
              "#9c179e"
             ],
             [
              0.4444444444444444,
              "#bd3786"
             ],
             [
              0.5555555555555556,
              "#d8576b"
             ],
             [
              0.6666666666666666,
              "#ed7953"
             ],
             [
              0.7777777777777778,
              "#fb9f3a"
             ],
             [
              0.8888888888888888,
              "#fdca26"
             ],
             [
              1,
              "#f0f921"
             ]
            ],
            "type": "histogram2d"
           }
          ],
          "histogram2dcontour": [
           {
            "colorbar": {
             "outlinewidth": 0,
             "ticks": ""
            },
            "colorscale": [
             [
              0,
              "#0d0887"
             ],
             [
              0.1111111111111111,
              "#46039f"
             ],
             [
              0.2222222222222222,
              "#7201a8"
             ],
             [
              0.3333333333333333,
              "#9c179e"
             ],
             [
              0.4444444444444444,
              "#bd3786"
             ],
             [
              0.5555555555555556,
              "#d8576b"
             ],
             [
              0.6666666666666666,
              "#ed7953"
             ],
             [
              0.7777777777777778,
              "#fb9f3a"
             ],
             [
              0.8888888888888888,
              "#fdca26"
             ],
             [
              1,
              "#f0f921"
             ]
            ],
            "type": "histogram2dcontour"
           }
          ],
          "mesh3d": [
           {
            "colorbar": {
             "outlinewidth": 0,
             "ticks": ""
            },
            "type": "mesh3d"
           }
          ],
          "parcoords": [
           {
            "line": {
             "colorbar": {
              "outlinewidth": 0,
              "ticks": ""
             }
            },
            "type": "parcoords"
           }
          ],
          "pie": [
           {
            "automargin": true,
            "type": "pie"
           }
          ],
          "scatter": [
           {
            "marker": {
             "colorbar": {
              "outlinewidth": 0,
              "ticks": ""
             }
            },
            "type": "scatter"
           }
          ],
          "scatter3d": [
           {
            "line": {
             "colorbar": {
              "outlinewidth": 0,
              "ticks": ""
             }
            },
            "marker": {
             "colorbar": {
              "outlinewidth": 0,
              "ticks": ""
             }
            },
            "type": "scatter3d"
           }
          ],
          "scattercarpet": [
           {
            "marker": {
             "colorbar": {
              "outlinewidth": 0,
              "ticks": ""
             }
            },
            "type": "scattercarpet"
           }
          ],
          "scattergeo": [
           {
            "marker": {
             "colorbar": {
              "outlinewidth": 0,
              "ticks": ""
             }
            },
            "type": "scattergeo"
           }
          ],
          "scattergl": [
           {
            "marker": {
             "colorbar": {
              "outlinewidth": 0,
              "ticks": ""
             }
            },
            "type": "scattergl"
           }
          ],
          "scattermapbox": [
           {
            "marker": {
             "colorbar": {
              "outlinewidth": 0,
              "ticks": ""
             }
            },
            "type": "scattermapbox"
           }
          ],
          "scatterpolar": [
           {
            "marker": {
             "colorbar": {
              "outlinewidth": 0,
              "ticks": ""
             }
            },
            "type": "scatterpolar"
           }
          ],
          "scatterpolargl": [
           {
            "marker": {
             "colorbar": {
              "outlinewidth": 0,
              "ticks": ""
             }
            },
            "type": "scatterpolargl"
           }
          ],
          "scatterternary": [
           {
            "marker": {
             "colorbar": {
              "outlinewidth": 0,
              "ticks": ""
             }
            },
            "type": "scatterternary"
           }
          ],
          "surface": [
           {
            "colorbar": {
             "outlinewidth": 0,
             "ticks": ""
            },
            "colorscale": [
             [
              0,
              "#0d0887"
             ],
             [
              0.1111111111111111,
              "#46039f"
             ],
             [
              0.2222222222222222,
              "#7201a8"
             ],
             [
              0.3333333333333333,
              "#9c179e"
             ],
             [
              0.4444444444444444,
              "#bd3786"
             ],
             [
              0.5555555555555556,
              "#d8576b"
             ],
             [
              0.6666666666666666,
              "#ed7953"
             ],
             [
              0.7777777777777778,
              "#fb9f3a"
             ],
             [
              0.8888888888888888,
              "#fdca26"
             ],
             [
              1,
              "#f0f921"
             ]
            ],
            "type": "surface"
           }
          ],
          "table": [
           {
            "cells": {
             "fill": {
              "color": "#EBF0F8"
             },
             "line": {
              "color": "white"
             }
            },
            "header": {
             "fill": {
              "color": "#C8D4E3"
             },
             "line": {
              "color": "white"
             }
            },
            "type": "table"
           }
          ]
         },
         "layout": {
          "annotationdefaults": {
           "arrowcolor": "#2a3f5f",
           "arrowhead": 0,
           "arrowwidth": 1
          },
          "autotypenumbers": "strict",
          "coloraxis": {
           "colorbar": {
            "outlinewidth": 0,
            "ticks": ""
           }
          },
          "colorscale": {
           "diverging": [
            [
             0,
             "#8e0152"
            ],
            [
             0.1,
             "#c51b7d"
            ],
            [
             0.2,
             "#de77ae"
            ],
            [
             0.3,
             "#f1b6da"
            ],
            [
             0.4,
             "#fde0ef"
            ],
            [
             0.5,
             "#f7f7f7"
            ],
            [
             0.6,
             "#e6f5d0"
            ],
            [
             0.7,
             "#b8e186"
            ],
            [
             0.8,
             "#7fbc41"
            ],
            [
             0.9,
             "#4d9221"
            ],
            [
             1,
             "#276419"
            ]
           ],
           "sequential": [
            [
             0,
             "#0d0887"
            ],
            [
             0.1111111111111111,
             "#46039f"
            ],
            [
             0.2222222222222222,
             "#7201a8"
            ],
            [
             0.3333333333333333,
             "#9c179e"
            ],
            [
             0.4444444444444444,
             "#bd3786"
            ],
            [
             0.5555555555555556,
             "#d8576b"
            ],
            [
             0.6666666666666666,
             "#ed7953"
            ],
            [
             0.7777777777777778,
             "#fb9f3a"
            ],
            [
             0.8888888888888888,
             "#fdca26"
            ],
            [
             1,
             "#f0f921"
            ]
           ],
           "sequentialminus": [
            [
             0,
             "#0d0887"
            ],
            [
             0.1111111111111111,
             "#46039f"
            ],
            [
             0.2222222222222222,
             "#7201a8"
            ],
            [
             0.3333333333333333,
             "#9c179e"
            ],
            [
             0.4444444444444444,
             "#bd3786"
            ],
            [
             0.5555555555555556,
             "#d8576b"
            ],
            [
             0.6666666666666666,
             "#ed7953"
            ],
            [
             0.7777777777777778,
             "#fb9f3a"
            ],
            [
             0.8888888888888888,
             "#fdca26"
            ],
            [
             1,
             "#f0f921"
            ]
           ]
          },
          "colorway": [
           "#636efa",
           "#EF553B",
           "#00cc96",
           "#ab63fa",
           "#FFA15A",
           "#19d3f3",
           "#FF6692",
           "#B6E880",
           "#FF97FF",
           "#FECB52"
          ],
          "font": {
           "color": "#2a3f5f"
          },
          "geo": {
           "bgcolor": "white",
           "lakecolor": "white",
           "landcolor": "#E5ECF6",
           "showlakes": true,
           "showland": true,
           "subunitcolor": "white"
          },
          "hoverlabel": {
           "align": "left"
          },
          "hovermode": "closest",
          "mapbox": {
           "style": "light"
          },
          "paper_bgcolor": "white",
          "plot_bgcolor": "#E5ECF6",
          "polar": {
           "angularaxis": {
            "gridcolor": "white",
            "linecolor": "white",
            "ticks": ""
           },
           "bgcolor": "#E5ECF6",
           "radialaxis": {
            "gridcolor": "white",
            "linecolor": "white",
            "ticks": ""
           }
          },
          "scene": {
           "xaxis": {
            "backgroundcolor": "#E5ECF6",
            "gridcolor": "white",
            "gridwidth": 2,
            "linecolor": "white",
            "showbackground": true,
            "ticks": "",
            "zerolinecolor": "white"
           },
           "yaxis": {
            "backgroundcolor": "#E5ECF6",
            "gridcolor": "white",
            "gridwidth": 2,
            "linecolor": "white",
            "showbackground": true,
            "ticks": "",
            "zerolinecolor": "white"
           },
           "zaxis": {
            "backgroundcolor": "#E5ECF6",
            "gridcolor": "white",
            "gridwidth": 2,
            "linecolor": "white",
            "showbackground": true,
            "ticks": "",
            "zerolinecolor": "white"
           }
          },
          "shapedefaults": {
           "line": {
            "color": "#2a3f5f"
           }
          },
          "ternary": {
           "aaxis": {
            "gridcolor": "white",
            "linecolor": "white",
            "ticks": ""
           },
           "baxis": {
            "gridcolor": "white",
            "linecolor": "white",
            "ticks": ""
           },
           "bgcolor": "#E5ECF6",
           "caxis": {
            "gridcolor": "white",
            "linecolor": "white",
            "ticks": ""
           }
          },
          "title": {
           "x": 0.05
          },
          "xaxis": {
           "automargin": true,
           "gridcolor": "white",
           "linecolor": "white",
           "ticks": "",
           "title": {
            "standoff": 15
           },
           "zerolinecolor": "white",
           "zerolinewidth": 2
          },
          "yaxis": {
           "automargin": true,
           "gridcolor": "white",
           "linecolor": "white",
           "ticks": "",
           "title": {
            "standoff": 15
           },
           "zerolinecolor": "white",
           "zerolinewidth": 2
          }
         }
        },
        "title": {
         "font": {
          "color": "#4D5663"
         }
        },
        "xaxis": {
         "gridcolor": "#E1E5ED",
         "showgrid": true,
         "tickfont": {
          "color": "#4D5663"
         },
         "title": {
          "font": {
           "color": "#4D5663"
          },
          "text": ""
         },
         "zerolinecolor": "#E1E5ED"
        },
        "yaxis": {
         "gridcolor": "#E1E5ED",
         "showgrid": true,
         "tickfont": {
          "color": "#4D5663"
         },
         "title": {
          "font": {
           "color": "#4D5663"
          },
          "text": ""
         },
         "zerolinecolor": "#E1E5ED"
        }
       }
      },
      "text/html": [
       "<div>                            <div id=\"ccf45293-3d7c-4653-9b0e-c0669258dfea\" class=\"plotly-graph-div\" style=\"height:525px; width:100%;\"></div>            <script type=\"text/javascript\">                require([\"plotly\"], function(Plotly) {                    window.PLOTLYENV=window.PLOTLYENV || {};\n",
       "                    window.PLOTLYENV.BASE_URL='https://plot.ly';                                    if (document.getElementById(\"ccf45293-3d7c-4653-9b0e-c0669258dfea\")) {                    Plotly.newPlot(                        \"ccf45293-3d7c-4653-9b0e-c0669258dfea\",                        [{\"marker\":{\"color\":[\"rgb(255, 153, 51)\",\"rgb(55, 128, 191)\",\"rgb(50, 171, 96)\",\"rgb(128, 0, 128)\",\"rgb(219, 64, 82)\",\"rgb(0, 128, 128)\",\"rgb(255, 255, 51)\",\"rgb(128, 128, 0)\",\"rgb(251, 128, 114)\",\"rgb(128, 177, 211)\"],\"line\":{\"width\":1.3},\"size\":[50,50,63,70,85,51,93,82,97,45,67,47,33,111,64,51,39,42,71,69,40,47,44,57,70,33,31,112,21,77,69,73,58,38,55,63,63,36,68,89,32,33,51,71,54,58,56,44,37,68,96,18,36,66,38,43,60,75,49,55,43,12,30,54,38,45,44,67,19,39,49,30,38,86,47,81,51,75,65,60,33,40,54,45,32,49,76,42,83,62,41,94,46,34,51,44,68,87,29,53],\"symbol\":\"circle\"},\"mode\":\"markers\",\"text\":\"\",\"x\":[-0.01667208869479953,0.6037503470629544,-0.28351149014731414,0.0216026878129016,0.1751687897703358,-0.7464757712873497,0.36612188033655946,1.5603681621800871,-0.4310426287934078,-0.40795947020774453,-0.6367278401219701,-1.0874168310844612,1.1698066413000878,-0.3066916909365898,1.1252351101197362,-1.2075223698484885,0.17673062821547475,-0.9895317582731459,0.9283196542513025,-0.5835587044089643,0.6902201487451626,-0.6455972284797273,1.7428152700098267,-1.4602586348752853,0.17593919995963694,0.5390588117799688,2.1207767856567727,1.2591692758771187,-0.17209273934779287,-0.366566956753178,-0.15331543661920066,0.08834728696166949,0.46909164345998144,0.7117073717263691,-1.123006297200311,0.20791917087926534,0.03840313876869264,0.9143191515646512,1.0356772091115893,0.44907932457214866,-0.38451117181962,-0.10228947216258112,0.9408916586961488,0.46082542099519913,0.5370618137962073,-0.11776168465227992,1.214265596966936,-0.8703436304770322,0.10740457078101891,0.3544977535785094,-0.9146086471251739,0.12808158542595066,-0.5426218229255564,1.1556505063233624,-0.7320625981927786,0.3973947239800183,-0.36711828716894135,0.4131382364285986,-0.819978944828114,-0.6864462990192921,-0.08551191306702406,-1.0865010798257977,-1.0817819236516397,-0.351388330509077,-0.5420249562951884,-0.06577023958226505,1.396824993267686,-1.0025865125331916,1.9923269253294456,-0.778359989476912,-0.6806007021133944,0.0402740148264282,-0.45542227594424267,1.3698478125158287,-0.6280302339215994,0.4044415920632114,0.37534727740862495,-0.957656480747998,0.691572236878223,-1.1873909229215367,1.2919297518408075,0.33667467848977395,-0.48006790969772334,-1.38797462206206,-1.0392939638716054,-0.37534975084431815,1.5813624436860207,-2.348410308085096,-0.9049476494213308,-2.656882930015167,1.561536057768945,0.5638875300946916,-0.47944682187429133,0.3539420600530498,-0.5135199779795387,-0.0906234411538603,-1.0406035600634143,1.9575152252883732,-1.8336226329156557,0.0005518196884569486],\"y\":[-2.036158386653377,-0.7781816942974347,1.640792608476573,-0.4738608055981185,-0.36170747479840376,0.7170574090643116,-0.8901972640088935,0.15542111224360824,0.16842148205573518,-0.7624378404781994,0.6676445311926261,-0.5008312999875397,-0.14183629809542564,0.37770469615146307,1.177547024579085,-0.379578510137013,-0.7779969080814645,0.5369129846980254,0.3819636750976547,-0.8483530509658844,-0.8629937368086817,-1.5474167747744243,0.13599077249133737,-0.02370519789406686,0.8255708913577603,0.293639449547524,0.37850737435463583,-0.5086837226103097,0.4459407415852692,-0.5526591872367761,-0.9759789134411783,-0.14107027812456086,0.6827968128789753,-0.5704347120697848,0.2882354759654698,0.32201555158302814,-0.5792869703886953,0.6470959694849135,-0.7446533623021079,0.7088489240229382,0.5183027904959195,-0.7870559941595908,-0.3294836263221717,-0.840845736897288,-1.7859985371240894,-0.9087816084177032,-0.810103196119456,1.5851472901959138,1.2702325525750735,1.6810503424614647,-0.721541491810264,0.44211506970111,-0.3299773960399986,-0.1361012916371215,1.4162533790883198,-0.7915579015705827,0.9087815478659267,-0.36744419622196695,0.2605624041964697,0.43818409668521363,0.7009328503085128,0.2865205297562157,0.9699378427772057,2.0440071661428485,-2.164434885573739,-1.1558905699366222,0.6497490347234127,0.16245956749095322,-1.7138870454600397,-0.4331724808449435,-0.09748754649182939,-0.10479631959914548,-0.43353149021733123,-0.10187037619783064,-1.0564104724357057,-1.0555058271567033,0.09288054992141877,-0.2221697337192965,0.5323503361220058,-0.16101088097754562,0.7828781980514036,0.016206754381635557,-0.07773191734361144,-0.10256238294231157,-1.292394526699772,-0.22957938752731008,-1.6756411693309572,0.009428651355560447,-0.3789931812591254,0.5513478850352597,0.16629860929405813,-0.9098861056873205,-2.300633794465044,-0.9897923121378868,0.6632766469066379,0.60526923673236,-2.0090173721005544,-0.5156329401365136,1.1975640252955149,0.501908128260419],\"type\":\"scatter\"}],                        {\"legend\":{\"bgcolor\":\"#F5F6F9\",\"font\":{\"color\":\"#4D5663\"}},\"paper_bgcolor\":\"#F5F6F9\",\"plot_bgcolor\":\"#F5F6F9\",\"template\":{\"data\":{\"barpolar\":[{\"marker\":{\"line\":{\"color\":\"#E5ECF6\",\"width\":0.5},\"pattern\":{\"fillmode\":\"overlay\",\"size\":10,\"solidity\":0.2}},\"type\":\"barpolar\"}],\"bar\":[{\"error_x\":{\"color\":\"#2a3f5f\"},\"error_y\":{\"color\":\"#2a3f5f\"},\"marker\":{\"line\":{\"color\":\"#E5ECF6\",\"width\":0.5},\"pattern\":{\"fillmode\":\"overlay\",\"size\":10,\"solidity\":0.2}},\"type\":\"bar\"}],\"carpet\":[{\"aaxis\":{\"endlinecolor\":\"#2a3f5f\",\"gridcolor\":\"white\",\"linecolor\":\"white\",\"minorgridcolor\":\"white\",\"startlinecolor\":\"#2a3f5f\"},\"baxis\":{\"endlinecolor\":\"#2a3f5f\",\"gridcolor\":\"white\",\"linecolor\":\"white\",\"minorgridcolor\":\"white\",\"startlinecolor\":\"#2a3f5f\"},\"type\":\"carpet\"}],\"choropleth\":[{\"colorbar\":{\"outlinewidth\":0,\"ticks\":\"\"},\"type\":\"choropleth\"}],\"contourcarpet\":[{\"colorbar\":{\"outlinewidth\":0,\"ticks\":\"\"},\"type\":\"contourcarpet\"}],\"contour\":[{\"colorbar\":{\"outlinewidth\":0,\"ticks\":\"\"},\"colorscale\":[[0.0,\"#0d0887\"],[0.1111111111111111,\"#46039f\"],[0.2222222222222222,\"#7201a8\"],[0.3333333333333333,\"#9c179e\"],[0.4444444444444444,\"#bd3786\"],[0.5555555555555556,\"#d8576b\"],[0.6666666666666666,\"#ed7953\"],[0.7777777777777778,\"#fb9f3a\"],[0.8888888888888888,\"#fdca26\"],[1.0,\"#f0f921\"]],\"type\":\"contour\"}],\"heatmapgl\":[{\"colorbar\":{\"outlinewidth\":0,\"ticks\":\"\"},\"colorscale\":[[0.0,\"#0d0887\"],[0.1111111111111111,\"#46039f\"],[0.2222222222222222,\"#7201a8\"],[0.3333333333333333,\"#9c179e\"],[0.4444444444444444,\"#bd3786\"],[0.5555555555555556,\"#d8576b\"],[0.6666666666666666,\"#ed7953\"],[0.7777777777777778,\"#fb9f3a\"],[0.8888888888888888,\"#fdca26\"],[1.0,\"#f0f921\"]],\"type\":\"heatmapgl\"}],\"heatmap\":[{\"colorbar\":{\"outlinewidth\":0,\"ticks\":\"\"},\"colorscale\":[[0.0,\"#0d0887\"],[0.1111111111111111,\"#46039f\"],[0.2222222222222222,\"#7201a8\"],[0.3333333333333333,\"#9c179e\"],[0.4444444444444444,\"#bd3786\"],[0.5555555555555556,\"#d8576b\"],[0.6666666666666666,\"#ed7953\"],[0.7777777777777778,\"#fb9f3a\"],[0.8888888888888888,\"#fdca26\"],[1.0,\"#f0f921\"]],\"type\":\"heatmap\"}],\"histogram2dcontour\":[{\"colorbar\":{\"outlinewidth\":0,\"ticks\":\"\"},\"colorscale\":[[0.0,\"#0d0887\"],[0.1111111111111111,\"#46039f\"],[0.2222222222222222,\"#7201a8\"],[0.3333333333333333,\"#9c179e\"],[0.4444444444444444,\"#bd3786\"],[0.5555555555555556,\"#d8576b\"],[0.6666666666666666,\"#ed7953\"],[0.7777777777777778,\"#fb9f3a\"],[0.8888888888888888,\"#fdca26\"],[1.0,\"#f0f921\"]],\"type\":\"histogram2dcontour\"}],\"histogram2d\":[{\"colorbar\":{\"outlinewidth\":0,\"ticks\":\"\"},\"colorscale\":[[0.0,\"#0d0887\"],[0.1111111111111111,\"#46039f\"],[0.2222222222222222,\"#7201a8\"],[0.3333333333333333,\"#9c179e\"],[0.4444444444444444,\"#bd3786\"],[0.5555555555555556,\"#d8576b\"],[0.6666666666666666,\"#ed7953\"],[0.7777777777777778,\"#fb9f3a\"],[0.8888888888888888,\"#fdca26\"],[1.0,\"#f0f921\"]],\"type\":\"histogram2d\"}],\"histogram\":[{\"marker\":{\"pattern\":{\"fillmode\":\"overlay\",\"size\":10,\"solidity\":0.2}},\"type\":\"histogram\"}],\"mesh3d\":[{\"colorbar\":{\"outlinewidth\":0,\"ticks\":\"\"},\"type\":\"mesh3d\"}],\"parcoords\":[{\"line\":{\"colorbar\":{\"outlinewidth\":0,\"ticks\":\"\"}},\"type\":\"parcoords\"}],\"pie\":[{\"automargin\":true,\"type\":\"pie\"}],\"scatter3d\":[{\"line\":{\"colorbar\":{\"outlinewidth\":0,\"ticks\":\"\"}},\"marker\":{\"colorbar\":{\"outlinewidth\":0,\"ticks\":\"\"}},\"type\":\"scatter3d\"}],\"scattercarpet\":[{\"marker\":{\"colorbar\":{\"outlinewidth\":0,\"ticks\":\"\"}},\"type\":\"scattercarpet\"}],\"scattergeo\":[{\"marker\":{\"colorbar\":{\"outlinewidth\":0,\"ticks\":\"\"}},\"type\":\"scattergeo\"}],\"scattergl\":[{\"marker\":{\"colorbar\":{\"outlinewidth\":0,\"ticks\":\"\"}},\"type\":\"scattergl\"}],\"scattermapbox\":[{\"marker\":{\"colorbar\":{\"outlinewidth\":0,\"ticks\":\"\"}},\"type\":\"scattermapbox\"}],\"scatterpolargl\":[{\"marker\":{\"colorbar\":{\"outlinewidth\":0,\"ticks\":\"\"}},\"type\":\"scatterpolargl\"}],\"scatterpolar\":[{\"marker\":{\"colorbar\":{\"outlinewidth\":0,\"ticks\":\"\"}},\"type\":\"scatterpolar\"}],\"scatter\":[{\"marker\":{\"colorbar\":{\"outlinewidth\":0,\"ticks\":\"\"}},\"type\":\"scatter\"}],\"scatterternary\":[{\"marker\":{\"colorbar\":{\"outlinewidth\":0,\"ticks\":\"\"}},\"type\":\"scatterternary\"}],\"surface\":[{\"colorbar\":{\"outlinewidth\":0,\"ticks\":\"\"},\"colorscale\":[[0.0,\"#0d0887\"],[0.1111111111111111,\"#46039f\"],[0.2222222222222222,\"#7201a8\"],[0.3333333333333333,\"#9c179e\"],[0.4444444444444444,\"#bd3786\"],[0.5555555555555556,\"#d8576b\"],[0.6666666666666666,\"#ed7953\"],[0.7777777777777778,\"#fb9f3a\"],[0.8888888888888888,\"#fdca26\"],[1.0,\"#f0f921\"]],\"type\":\"surface\"}],\"table\":[{\"cells\":{\"fill\":{\"color\":\"#EBF0F8\"},\"line\":{\"color\":\"white\"}},\"header\":{\"fill\":{\"color\":\"#C8D4E3\"},\"line\":{\"color\":\"white\"}},\"type\":\"table\"}]},\"layout\":{\"annotationdefaults\":{\"arrowcolor\":\"#2a3f5f\",\"arrowhead\":0,\"arrowwidth\":1},\"autotypenumbers\":\"strict\",\"coloraxis\":{\"colorbar\":{\"outlinewidth\":0,\"ticks\":\"\"}},\"colorscale\":{\"diverging\":[[0,\"#8e0152\"],[0.1,\"#c51b7d\"],[0.2,\"#de77ae\"],[0.3,\"#f1b6da\"],[0.4,\"#fde0ef\"],[0.5,\"#f7f7f7\"],[0.6,\"#e6f5d0\"],[0.7,\"#b8e186\"],[0.8,\"#7fbc41\"],[0.9,\"#4d9221\"],[1,\"#276419\"]],\"sequential\":[[0.0,\"#0d0887\"],[0.1111111111111111,\"#46039f\"],[0.2222222222222222,\"#7201a8\"],[0.3333333333333333,\"#9c179e\"],[0.4444444444444444,\"#bd3786\"],[0.5555555555555556,\"#d8576b\"],[0.6666666666666666,\"#ed7953\"],[0.7777777777777778,\"#fb9f3a\"],[0.8888888888888888,\"#fdca26\"],[1.0,\"#f0f921\"]],\"sequentialminus\":[[0.0,\"#0d0887\"],[0.1111111111111111,\"#46039f\"],[0.2222222222222222,\"#7201a8\"],[0.3333333333333333,\"#9c179e\"],[0.4444444444444444,\"#bd3786\"],[0.5555555555555556,\"#d8576b\"],[0.6666666666666666,\"#ed7953\"],[0.7777777777777778,\"#fb9f3a\"],[0.8888888888888888,\"#fdca26\"],[1.0,\"#f0f921\"]]},\"colorway\":[\"#636efa\",\"#EF553B\",\"#00cc96\",\"#ab63fa\",\"#FFA15A\",\"#19d3f3\",\"#FF6692\",\"#B6E880\",\"#FF97FF\",\"#FECB52\"],\"font\":{\"color\":\"#2a3f5f\"},\"geo\":{\"bgcolor\":\"white\",\"lakecolor\":\"white\",\"landcolor\":\"#E5ECF6\",\"showlakes\":true,\"showland\":true,\"subunitcolor\":\"white\"},\"hoverlabel\":{\"align\":\"left\"},\"hovermode\":\"closest\",\"mapbox\":{\"style\":\"light\"},\"paper_bgcolor\":\"white\",\"plot_bgcolor\":\"#E5ECF6\",\"polar\":{\"angularaxis\":{\"gridcolor\":\"white\",\"linecolor\":\"white\",\"ticks\":\"\"},\"bgcolor\":\"#E5ECF6\",\"radialaxis\":{\"gridcolor\":\"white\",\"linecolor\":\"white\",\"ticks\":\"\"}},\"scene\":{\"xaxis\":{\"backgroundcolor\":\"#E5ECF6\",\"gridcolor\":\"white\",\"gridwidth\":2,\"linecolor\":\"white\",\"showbackground\":true,\"ticks\":\"\",\"zerolinecolor\":\"white\"},\"yaxis\":{\"backgroundcolor\":\"#E5ECF6\",\"gridcolor\":\"white\",\"gridwidth\":2,\"linecolor\":\"white\",\"showbackground\":true,\"ticks\":\"\",\"zerolinecolor\":\"white\"},\"zaxis\":{\"backgroundcolor\":\"#E5ECF6\",\"gridcolor\":\"white\",\"gridwidth\":2,\"linecolor\":\"white\",\"showbackground\":true,\"ticks\":\"\",\"zerolinecolor\":\"white\"}},\"shapedefaults\":{\"line\":{\"color\":\"#2a3f5f\"}},\"ternary\":{\"aaxis\":{\"gridcolor\":\"white\",\"linecolor\":\"white\",\"ticks\":\"\"},\"baxis\":{\"gridcolor\":\"white\",\"linecolor\":\"white\",\"ticks\":\"\"},\"bgcolor\":\"#E5ECF6\",\"caxis\":{\"gridcolor\":\"white\",\"linecolor\":\"white\",\"ticks\":\"\"}},\"title\":{\"x\":0.05},\"xaxis\":{\"automargin\":true,\"gridcolor\":\"white\",\"linecolor\":\"white\",\"ticks\":\"\",\"title\":{\"standoff\":15},\"zerolinecolor\":\"white\",\"zerolinewidth\":2},\"yaxis\":{\"automargin\":true,\"gridcolor\":\"white\",\"linecolor\":\"white\",\"ticks\":\"\",\"title\":{\"standoff\":15},\"zerolinecolor\":\"white\",\"zerolinewidth\":2}}},\"title\":{\"font\":{\"color\":\"#4D5663\"}},\"xaxis\":{\"gridcolor\":\"#E1E5ED\",\"showgrid\":true,\"tickfont\":{\"color\":\"#4D5663\"},\"title\":{\"font\":{\"color\":\"#4D5663\"},\"text\":\"\"},\"zerolinecolor\":\"#E1E5ED\"},\"yaxis\":{\"gridcolor\":\"#E1E5ED\",\"showgrid\":true,\"tickfont\":{\"color\":\"#4D5663\"},\"title\":{\"font\":{\"color\":\"#4D5663\"},\"text\":\"\"},\"zerolinecolor\":\"#E1E5ED\"}},                        {\"showLink\": true, \"linkText\": \"Export to plot.ly\", \"plotlyServerURL\": \"https://plot.ly\", \"responsive\": true}                    ).then(function(){\n",
       "                            \n",
       "var gd = document.getElementById('ccf45293-3d7c-4653-9b0e-c0669258dfea');\n",
       "var x = new MutationObserver(function (mutations, observer) {{\n",
       "        var display = window.getComputedStyle(gd).display;\n",
       "        if (!display || display === 'none') {{\n",
       "            console.log([gd, 'removed!']);\n",
       "            Plotly.purge(gd);\n",
       "            observer.disconnect();\n",
       "        }}\n",
       "}});\n",
       "\n",
       "// Listen for the removal of the full notebook cells\n",
       "var notebookContainer = gd.closest('#notebook-container');\n",
       "if (notebookContainer) {{\n",
       "    x.observe(notebookContainer, {childList: true});\n",
       "}}\n",
       "\n",
       "// Listen for the clearing of the current output cell\n",
       "var outputEl = gd.closest('.output');\n",
       "if (outputEl) {{\n",
       "    x.observe(outputEl, {childList: true});\n",
       "}}\n",
       "\n",
       "                        })                };                });            </script>        </div>"
      ]
     },
     "metadata": {},
     "output_type": "display_data"
    }
   ],
   "source": [
    "df.iplot(kind='bubble',x='A',y='B',size='C')"
   ]
  },
  {
   "cell_type": "markdown",
   "metadata": {},
   "source": [
    "## scatter_matrix()\n",
    "\n",
    "Similar to sns.pairplot()"
   ]
  },
  {
   "cell_type": "code",
   "execution_count": 22,
   "metadata": {},
   "outputs": [
    {
     "data": {
      "application/vnd.plotly.v1+json": {
       "config": {
        "linkText": "Export to plot.ly",
        "plotlyServerURL": "https://plot.ly",
        "showLink": true
       },
       "data": [
        {
         "histfunc": "count",
         "histnorm": "",
         "marker": {
          "color": "rgba(255, 153, 51, 1.0)",
          "line": {
           "color": "#4D5663",
           "width": 1.3
          }
         },
         "name": "A",
         "nbinsx": 10,
         "opacity": 0.8,
         "orientation": "v",
         "type": "histogram",
         "x": [
          -0.01667208869479953,
          0.6037503470629544,
          -0.28351149014731414,
          0.0216026878129016,
          0.1751687897703358,
          -0.7464757712873497,
          0.36612188033655946,
          1.5603681621800871,
          -0.4310426287934078,
          -0.40795947020774453,
          -0.6367278401219701,
          -1.0874168310844612,
          1.1698066413000878,
          -0.3066916909365898,
          1.1252351101197362,
          -1.2075223698484885,
          0.17673062821547475,
          -0.9895317582731459,
          0.9283196542513025,
          -0.5835587044089643,
          0.6902201487451626,
          -0.6455972284797273,
          1.7428152700098267,
          -1.4602586348752853,
          0.17593919995963694,
          0.5390588117799688,
          2.1207767856567727,
          1.2591692758771187,
          -0.17209273934779287,
          -0.366566956753178,
          -0.15331543661920066,
          0.08834728696166949,
          0.46909164345998144,
          0.7117073717263691,
          -1.123006297200311,
          0.20791917087926534,
          0.03840313876869264,
          0.9143191515646512,
          1.0356772091115893,
          0.44907932457214866,
          -0.38451117181962,
          -0.10228947216258112,
          0.9408916586961488,
          0.46082542099519913,
          0.5370618137962073,
          -0.11776168465227992,
          1.214265596966936,
          -0.8703436304770322,
          0.10740457078101891,
          0.3544977535785094,
          -0.9146086471251739,
          0.12808158542595066,
          -0.5426218229255564,
          1.1556505063233624,
          -0.7320625981927786,
          0.3973947239800183,
          -0.36711828716894135,
          0.4131382364285986,
          -0.819978944828114,
          -0.6864462990192921,
          -0.08551191306702406,
          -1.0865010798257977,
          -1.0817819236516397,
          -0.351388330509077,
          -0.5420249562951884,
          -0.06577023958226505,
          1.396824993267686,
          -1.0025865125331916,
          1.9923269253294456,
          -0.778359989476912,
          -0.6806007021133944,
          0.0402740148264282,
          -0.45542227594424267,
          1.3698478125158287,
          -0.6280302339215994,
          0.4044415920632114,
          0.37534727740862495,
          -0.957656480747998,
          0.691572236878223,
          -1.1873909229215367,
          1.2919297518408075,
          0.33667467848977395,
          -0.48006790969772334,
          -1.38797462206206,
          -1.0392939638716054,
          -0.37534975084431815,
          1.5813624436860207,
          -2.348410308085096,
          -0.9049476494213308,
          -2.656882930015167,
          1.561536057768945,
          0.5638875300946916,
          -0.47944682187429133,
          0.3539420600530498,
          -0.5135199779795387,
          -0.0906234411538603,
          -1.0406035600634143,
          1.9575152252883732,
          -1.8336226329156557,
          0.0005518196884569486
         ],
         "xaxis": "x",
         "yaxis": "y"
        },
        {
         "line": {
          "color": "rgba(128, 128, 128, 1.0)",
          "dash": "solid",
          "shape": "linear",
          "width": 1.3
         },
         "marker": {
          "size": 2,
          "symbol": "circle"
         },
         "mode": "markers",
         "name": "A",
         "text": "",
         "type": "scatter",
         "x": [
          -2.036158386653377,
          -0.7781816942974347,
          1.640792608476573,
          -0.4738608055981185,
          -0.36170747479840376,
          0.7170574090643116,
          -0.8901972640088935,
          0.15542111224360824,
          0.16842148205573518,
          -0.7624378404781994,
          0.6676445311926261,
          -0.5008312999875397,
          -0.14183629809542564,
          0.37770469615146307,
          1.177547024579085,
          -0.379578510137013,
          -0.7779969080814645,
          0.5369129846980254,
          0.3819636750976547,
          -0.8483530509658844,
          -0.8629937368086817,
          -1.5474167747744243,
          0.13599077249133737,
          -0.02370519789406686,
          0.8255708913577603,
          0.293639449547524,
          0.37850737435463583,
          -0.5086837226103097,
          0.4459407415852692,
          -0.5526591872367761,
          -0.9759789134411783,
          -0.14107027812456086,
          0.6827968128789753,
          -0.5704347120697848,
          0.2882354759654698,
          0.32201555158302814,
          -0.5792869703886953,
          0.6470959694849135,
          -0.7446533623021079,
          0.7088489240229382,
          0.5183027904959195,
          -0.7870559941595908,
          -0.3294836263221717,
          -0.840845736897288,
          -1.7859985371240894,
          -0.9087816084177032,
          -0.810103196119456,
          1.5851472901959138,
          1.2702325525750735,
          1.6810503424614647,
          -0.721541491810264,
          0.44211506970111,
          -0.3299773960399986,
          -0.1361012916371215,
          1.4162533790883198,
          -0.7915579015705827,
          0.9087815478659267,
          -0.36744419622196695,
          0.2605624041964697,
          0.43818409668521363,
          0.7009328503085128,
          0.2865205297562157,
          0.9699378427772057,
          2.0440071661428485,
          -2.164434885573739,
          -1.1558905699366222,
          0.6497490347234127,
          0.16245956749095322,
          -1.7138870454600397,
          -0.4331724808449435,
          -0.09748754649182939,
          -0.10479631959914548,
          -0.43353149021733123,
          -0.10187037619783064,
          -1.0564104724357057,
          -1.0555058271567033,
          0.09288054992141877,
          -0.2221697337192965,
          0.5323503361220058,
          -0.16101088097754562,
          0.7828781980514036,
          0.016206754381635557,
          -0.07773191734361144,
          -0.10256238294231157,
          -1.292394526699772,
          -0.22957938752731008,
          -1.6756411693309572,
          0.009428651355560447,
          -0.3789931812591254,
          0.5513478850352597,
          0.16629860929405813,
          -0.9098861056873205,
          -2.300633794465044,
          -0.9897923121378868,
          0.6632766469066379,
          0.60526923673236,
          -2.0090173721005544,
          -0.5156329401365136,
          1.1975640252955149,
          0.501908128260419
         ],
         "xaxis": "x2",
         "y": [
          -0.01667208869479953,
          0.6037503470629544,
          -0.28351149014731414,
          0.0216026878129016,
          0.1751687897703358,
          -0.7464757712873497,
          0.36612188033655946,
          1.5603681621800871,
          -0.4310426287934078,
          -0.40795947020774453,
          -0.6367278401219701,
          -1.0874168310844612,
          1.1698066413000878,
          -0.3066916909365898,
          1.1252351101197362,
          -1.2075223698484885,
          0.17673062821547475,
          -0.9895317582731459,
          0.9283196542513025,
          -0.5835587044089643,
          0.6902201487451626,
          -0.6455972284797273,
          1.7428152700098267,
          -1.4602586348752853,
          0.17593919995963694,
          0.5390588117799688,
          2.1207767856567727,
          1.2591692758771187,
          -0.17209273934779287,
          -0.366566956753178,
          -0.15331543661920066,
          0.08834728696166949,
          0.46909164345998144,
          0.7117073717263691,
          -1.123006297200311,
          0.20791917087926534,
          0.03840313876869264,
          0.9143191515646512,
          1.0356772091115893,
          0.44907932457214866,
          -0.38451117181962,
          -0.10228947216258112,
          0.9408916586961488,
          0.46082542099519913,
          0.5370618137962073,
          -0.11776168465227992,
          1.214265596966936,
          -0.8703436304770322,
          0.10740457078101891,
          0.3544977535785094,
          -0.9146086471251739,
          0.12808158542595066,
          -0.5426218229255564,
          1.1556505063233624,
          -0.7320625981927786,
          0.3973947239800183,
          -0.36711828716894135,
          0.4131382364285986,
          -0.819978944828114,
          -0.6864462990192921,
          -0.08551191306702406,
          -1.0865010798257977,
          -1.0817819236516397,
          -0.351388330509077,
          -0.5420249562951884,
          -0.06577023958226505,
          1.396824993267686,
          -1.0025865125331916,
          1.9923269253294456,
          -0.778359989476912,
          -0.6806007021133944,
          0.0402740148264282,
          -0.45542227594424267,
          1.3698478125158287,
          -0.6280302339215994,
          0.4044415920632114,
          0.37534727740862495,
          -0.957656480747998,
          0.691572236878223,
          -1.1873909229215367,
          1.2919297518408075,
          0.33667467848977395,
          -0.48006790969772334,
          -1.38797462206206,
          -1.0392939638716054,
          -0.37534975084431815,
          1.5813624436860207,
          -2.348410308085096,
          -0.9049476494213308,
          -2.656882930015167,
          1.561536057768945,
          0.5638875300946916,
          -0.47944682187429133,
          0.3539420600530498,
          -0.5135199779795387,
          -0.0906234411538603,
          -1.0406035600634143,
          1.9575152252883732,
          -1.8336226329156557,
          0.0005518196884569486
         ],
         "yaxis": "y2"
        },
        {
         "line": {
          "color": "rgba(128, 128, 128, 1.0)",
          "dash": "solid",
          "shape": "linear",
          "width": 1.3
         },
         "marker": {
          "size": 2,
          "symbol": "circle"
         },
         "mode": "markers",
         "name": "A",
         "text": "",
         "type": "scatter",
         "x": [
          -0.31514583740266267,
          -0.28510835080597086,
          0.3243117045744069,
          0.6876260843680956,
          1.4316838450944527,
          -0.2539176111685738,
          1.8314995425628757,
          1.303997904583354,
          2.0092656399860136,
          -0.5425063716925912,
          0.5208406987821578,
          -0.4598384972352967,
          -1.1410503454934207,
          2.7509589349959533,
          0.41091785277495074,
          -0.2438624989685957,
          -0.8361592314980884,
          -0.7023159493808567,
          0.7648732927000252,
          0.6332937281942047,
          -0.7953456242599859,
          -0.4400934240616856,
          -0.577906880167506,
          0.05297626602570358,
          0.7063058629070841,
          -1.1316993673106561,
          -1.229830280404116,
          2.7509901967839916,
          -1.715752671488742,
          1.0416119791023464,
          0.6571881571515092,
          0.8553501093407321,
          0.08248276270809378,
          -0.9013804318787658,
          -0.04374871025703826,
          0.32946504122848147,
          0.35768518128136656,
          -0.9934956218557267,
          0.5906835774442245,
          1.6115395326560833,
          -1.2096000153911886,
          -1.1278794002633734,
          -0.26060906735424477,
          0.7187210921020684,
          -0.08432377010288401,
          0.09637340679574283,
          0.0213005276856329,
          -0.61379071128084,
          -0.9352717987038517,
          0.5995764609074307,
          1.999750380620713,
          -1.8651652226301083,
          -0.9703453588222548,
          0.5169089650975354,
          -0.8952705858297897,
          -0.6296763109803356,
          0.2206410202708203,
          0.931205800217413,
          -0.3608398372799932,
          -0.05132983204531396,
          -0.6576701468424314,
          -2.210094763853348,
          -1.314061099541835,
          -0.07872298867142644,
          -0.9083492999219367,
          -0.5544195958094558,
          -0.6173065627582961,
          0.5375836290237022,
          -1.8211660014868283,
          -0.8668812966772147,
          -0.3738119450297486,
          -1.3078947438704553,
          -0.8990499054248187,
          1.4821422801658368,
          -0.45943939092853603,
          1.2373018388363508,
          -0.2740824268604862,
          0.9415219781682357,
          0.4514410714589517,
          0.17923826875106927,
          -1.1387690409563656,
          -0.8186931976761559,
          -0.1123853301811973,
          -0.5686710138609768,
          -1.2103825992077901,
          -0.35284549202668897,
          0.9906605504444056,
          -0.6745084460543134,
          1.3568812935888435,
          0.29684550804814563,
          -0.7231124713871573,
          1.9017902891920417,
          -0.5178673277578233,
          -1.0707119461609809,
          -0.2574649752292029,
          -0.57504830729504,
          0.5732014175121319,
          1.5440724399736447,
          -1.3465932141735566,
          -0.15040032943314166
         ],
         "xaxis": "x3",
         "y": [
          -0.01667208869479953,
          0.6037503470629544,
          -0.28351149014731414,
          0.0216026878129016,
          0.1751687897703358,
          -0.7464757712873497,
          0.36612188033655946,
          1.5603681621800871,
          -0.4310426287934078,
          -0.40795947020774453,
          -0.6367278401219701,
          -1.0874168310844612,
          1.1698066413000878,
          -0.3066916909365898,
          1.1252351101197362,
          -1.2075223698484885,
          0.17673062821547475,
          -0.9895317582731459,
          0.9283196542513025,
          -0.5835587044089643,
          0.6902201487451626,
          -0.6455972284797273,
          1.7428152700098267,
          -1.4602586348752853,
          0.17593919995963694,
          0.5390588117799688,
          2.1207767856567727,
          1.2591692758771187,
          -0.17209273934779287,
          -0.366566956753178,
          -0.15331543661920066,
          0.08834728696166949,
          0.46909164345998144,
          0.7117073717263691,
          -1.123006297200311,
          0.20791917087926534,
          0.03840313876869264,
          0.9143191515646512,
          1.0356772091115893,
          0.44907932457214866,
          -0.38451117181962,
          -0.10228947216258112,
          0.9408916586961488,
          0.46082542099519913,
          0.5370618137962073,
          -0.11776168465227992,
          1.214265596966936,
          -0.8703436304770322,
          0.10740457078101891,
          0.3544977535785094,
          -0.9146086471251739,
          0.12808158542595066,
          -0.5426218229255564,
          1.1556505063233624,
          -0.7320625981927786,
          0.3973947239800183,
          -0.36711828716894135,
          0.4131382364285986,
          -0.819978944828114,
          -0.6864462990192921,
          -0.08551191306702406,
          -1.0865010798257977,
          -1.0817819236516397,
          -0.351388330509077,
          -0.5420249562951884,
          -0.06577023958226505,
          1.396824993267686,
          -1.0025865125331916,
          1.9923269253294456,
          -0.778359989476912,
          -0.6806007021133944,
          0.0402740148264282,
          -0.45542227594424267,
          1.3698478125158287,
          -0.6280302339215994,
          0.4044415920632114,
          0.37534727740862495,
          -0.957656480747998,
          0.691572236878223,
          -1.1873909229215367,
          1.2919297518408075,
          0.33667467848977395,
          -0.48006790969772334,
          -1.38797462206206,
          -1.0392939638716054,
          -0.37534975084431815,
          1.5813624436860207,
          -2.348410308085096,
          -0.9049476494213308,
          -2.656882930015167,
          1.561536057768945,
          0.5638875300946916,
          -0.47944682187429133,
          0.3539420600530498,
          -0.5135199779795387,
          -0.0906234411538603,
          -1.0406035600634143,
          1.9575152252883732,
          -1.8336226329156557,
          0.0005518196884569486
         ],
         "yaxis": "y3"
        },
        {
         "line": {
          "color": "rgba(128, 128, 128, 1.0)",
          "dash": "solid",
          "shape": "linear",
          "width": 1.3
         },
         "marker": {
          "size": 2,
          "symbol": "circle"
         },
         "mode": "markers",
         "name": "A",
         "text": "",
         "type": "scatter",
         "x": [
          -0.6603970446001893,
          1.5191896878824074,
          0.47157691859381173,
          -0.11402564889979212,
          -0.053716799423909785,
          -1.5502356923778882,
          -0.014378962156916112,
          1.5541252446768037,
          -1.8319862677442142,
          0.2870698640525949,
          0.5918836805777782,
          -0.040440043045159066,
          -0.3784157236841967,
          -1.1102538280560401,
          0.3898304992138822,
          -0.12041932267168726,
          -0.32897296405194965,
          -1.2719073437508008,
          0.8312839639517363,
          -1.7174490762641748,
          -2.037621968311098,
          0.03594238402987565,
          0.2426892592715048,
          0.6032963725387461,
          1.586024565818138,
          -0.20998647828293887,
          0.41773429488465963,
          -0.12718417400144386,
          -1.8617937276976186,
          -0.9501270868213497,
          1.1630063275582174,
          -0.8908532575897277,
          -1.458148546542736,
          0.6098274869070641,
          1.3852801359870763,
          0.29789912350204667,
          -0.09400524997271618,
          -1.3173703834766386,
          -1.9613197691028332,
          -0.07856563642446635,
          -1.8180245748601593,
          0.04544497800788125,
          -0.19320476197828065,
          1.887173935958992,
          0.139798344377311,
          -0.8745790170624088,
          3.2329022255557867,
          -0.6797478844880496,
          -0.393180811785337,
          -1.1351954497917902,
          -0.5146996496927783,
          0.6484518213874361,
          -2.0443634020015304,
          1.6140677626713165,
          -0.20774295074218022,
          0.6294374427080781,
          0.6142927069828564,
          -1.0641720745579637,
          0.9160208306907005,
          -2.476821589877224,
          0.4412469793535054,
          1.1106436185071047,
          0.8136665642415195,
          0.8550094947124073,
          0.1873501644650864,
          -0.2013499244861351,
          1.3698286033274958,
          1.6141963233312788,
          0.2242251788114569,
          -1.2188668408435317,
          0.07877231112907117,
          -0.2899878195310393,
          0.2898655486814956,
          -1.0309490310582619,
          -0.9397769904382155,
          -0.49400023561811696,
          -2.0211915998521497,
          -0.1341006433522084,
          0.27386999796809863,
          -2.4210908385370518,
          0.47663856887878947,
          0.27969817189077245,
          -1.797812215024415,
          1.8291111224719392,
          -1.2855471127773832,
          1.4684108779508989,
          -0.029735490975398366,
          0.46676467942544614,
          -0.10088424426169866,
          1.4241028972087357,
          -0.2931767117004282,
          -1.097509066956472,
          0.5458458587551795,
          0.44022539134547684,
          1.4107152259445312,
          0.32276296543783956,
          -1.4473209430727028,
          -0.2238818954548833,
          -0.7923364925428673,
          -0.030062739397800905
         ],
         "xaxis": "x4",
         "y": [
          -0.01667208869479953,
          0.6037503470629544,
          -0.28351149014731414,
          0.0216026878129016,
          0.1751687897703358,
          -0.7464757712873497,
          0.36612188033655946,
          1.5603681621800871,
          -0.4310426287934078,
          -0.40795947020774453,
          -0.6367278401219701,
          -1.0874168310844612,
          1.1698066413000878,
          -0.3066916909365898,
          1.1252351101197362,
          -1.2075223698484885,
          0.17673062821547475,
          -0.9895317582731459,
          0.9283196542513025,
          -0.5835587044089643,
          0.6902201487451626,
          -0.6455972284797273,
          1.7428152700098267,
          -1.4602586348752853,
          0.17593919995963694,
          0.5390588117799688,
          2.1207767856567727,
          1.2591692758771187,
          -0.17209273934779287,
          -0.366566956753178,
          -0.15331543661920066,
          0.08834728696166949,
          0.46909164345998144,
          0.7117073717263691,
          -1.123006297200311,
          0.20791917087926534,
          0.03840313876869264,
          0.9143191515646512,
          1.0356772091115893,
          0.44907932457214866,
          -0.38451117181962,
          -0.10228947216258112,
          0.9408916586961488,
          0.46082542099519913,
          0.5370618137962073,
          -0.11776168465227992,
          1.214265596966936,
          -0.8703436304770322,
          0.10740457078101891,
          0.3544977535785094,
          -0.9146086471251739,
          0.12808158542595066,
          -0.5426218229255564,
          1.1556505063233624,
          -0.7320625981927786,
          0.3973947239800183,
          -0.36711828716894135,
          0.4131382364285986,
          -0.819978944828114,
          -0.6864462990192921,
          -0.08551191306702406,
          -1.0865010798257977,
          -1.0817819236516397,
          -0.351388330509077,
          -0.5420249562951884,
          -0.06577023958226505,
          1.396824993267686,
          -1.0025865125331916,
          1.9923269253294456,
          -0.778359989476912,
          -0.6806007021133944,
          0.0402740148264282,
          -0.45542227594424267,
          1.3698478125158287,
          -0.6280302339215994,
          0.4044415920632114,
          0.37534727740862495,
          -0.957656480747998,
          0.691572236878223,
          -1.1873909229215367,
          1.2919297518408075,
          0.33667467848977395,
          -0.48006790969772334,
          -1.38797462206206,
          -1.0392939638716054,
          -0.37534975084431815,
          1.5813624436860207,
          -2.348410308085096,
          -0.9049476494213308,
          -2.656882930015167,
          1.561536057768945,
          0.5638875300946916,
          -0.47944682187429133,
          0.3539420600530498,
          -0.5135199779795387,
          -0.0906234411538603,
          -1.0406035600634143,
          1.9575152252883732,
          -1.8336226329156557,
          0.0005518196884569486
         ],
         "yaxis": "y4"
        },
        {
         "line": {
          "color": "rgba(128, 128, 128, 1.0)",
          "dash": "solid",
          "shape": "linear",
          "width": 1.3
         },
         "marker": {
          "size": 2,
          "symbol": "circle"
         },
         "mode": "markers",
         "name": "B",
         "text": "",
         "type": "scatter",
         "x": [
          -0.01667208869479953,
          0.6037503470629544,
          -0.28351149014731414,
          0.0216026878129016,
          0.1751687897703358,
          -0.7464757712873497,
          0.36612188033655946,
          1.5603681621800871,
          -0.4310426287934078,
          -0.40795947020774453,
          -0.6367278401219701,
          -1.0874168310844612,
          1.1698066413000878,
          -0.3066916909365898,
          1.1252351101197362,
          -1.2075223698484885,
          0.17673062821547475,
          -0.9895317582731459,
          0.9283196542513025,
          -0.5835587044089643,
          0.6902201487451626,
          -0.6455972284797273,
          1.7428152700098267,
          -1.4602586348752853,
          0.17593919995963694,
          0.5390588117799688,
          2.1207767856567727,
          1.2591692758771187,
          -0.17209273934779287,
          -0.366566956753178,
          -0.15331543661920066,
          0.08834728696166949,
          0.46909164345998144,
          0.7117073717263691,
          -1.123006297200311,
          0.20791917087926534,
          0.03840313876869264,
          0.9143191515646512,
          1.0356772091115893,
          0.44907932457214866,
          -0.38451117181962,
          -0.10228947216258112,
          0.9408916586961488,
          0.46082542099519913,
          0.5370618137962073,
          -0.11776168465227992,
          1.214265596966936,
          -0.8703436304770322,
          0.10740457078101891,
          0.3544977535785094,
          -0.9146086471251739,
          0.12808158542595066,
          -0.5426218229255564,
          1.1556505063233624,
          -0.7320625981927786,
          0.3973947239800183,
          -0.36711828716894135,
          0.4131382364285986,
          -0.819978944828114,
          -0.6864462990192921,
          -0.08551191306702406,
          -1.0865010798257977,
          -1.0817819236516397,
          -0.351388330509077,
          -0.5420249562951884,
          -0.06577023958226505,
          1.396824993267686,
          -1.0025865125331916,
          1.9923269253294456,
          -0.778359989476912,
          -0.6806007021133944,
          0.0402740148264282,
          -0.45542227594424267,
          1.3698478125158287,
          -0.6280302339215994,
          0.4044415920632114,
          0.37534727740862495,
          -0.957656480747998,
          0.691572236878223,
          -1.1873909229215367,
          1.2919297518408075,
          0.33667467848977395,
          -0.48006790969772334,
          -1.38797462206206,
          -1.0392939638716054,
          -0.37534975084431815,
          1.5813624436860207,
          -2.348410308085096,
          -0.9049476494213308,
          -2.656882930015167,
          1.561536057768945,
          0.5638875300946916,
          -0.47944682187429133,
          0.3539420600530498,
          -0.5135199779795387,
          -0.0906234411538603,
          -1.0406035600634143,
          1.9575152252883732,
          -1.8336226329156557,
          0.0005518196884569486
         ],
         "xaxis": "x5",
         "y": [
          -2.036158386653377,
          -0.7781816942974347,
          1.640792608476573,
          -0.4738608055981185,
          -0.36170747479840376,
          0.7170574090643116,
          -0.8901972640088935,
          0.15542111224360824,
          0.16842148205573518,
          -0.7624378404781994,
          0.6676445311926261,
          -0.5008312999875397,
          -0.14183629809542564,
          0.37770469615146307,
          1.177547024579085,
          -0.379578510137013,
          -0.7779969080814645,
          0.5369129846980254,
          0.3819636750976547,
          -0.8483530509658844,
          -0.8629937368086817,
          -1.5474167747744243,
          0.13599077249133737,
          -0.02370519789406686,
          0.8255708913577603,
          0.293639449547524,
          0.37850737435463583,
          -0.5086837226103097,
          0.4459407415852692,
          -0.5526591872367761,
          -0.9759789134411783,
          -0.14107027812456086,
          0.6827968128789753,
          -0.5704347120697848,
          0.2882354759654698,
          0.32201555158302814,
          -0.5792869703886953,
          0.6470959694849135,
          -0.7446533623021079,
          0.7088489240229382,
          0.5183027904959195,
          -0.7870559941595908,
          -0.3294836263221717,
          -0.840845736897288,
          -1.7859985371240894,
          -0.9087816084177032,
          -0.810103196119456,
          1.5851472901959138,
          1.2702325525750735,
          1.6810503424614647,
          -0.721541491810264,
          0.44211506970111,
          -0.3299773960399986,
          -0.1361012916371215,
          1.4162533790883198,
          -0.7915579015705827,
          0.9087815478659267,
          -0.36744419622196695,
          0.2605624041964697,
          0.43818409668521363,
          0.7009328503085128,
          0.2865205297562157,
          0.9699378427772057,
          2.0440071661428485,
          -2.164434885573739,
          -1.1558905699366222,
          0.6497490347234127,
          0.16245956749095322,
          -1.7138870454600397,
          -0.4331724808449435,
          -0.09748754649182939,
          -0.10479631959914548,
          -0.43353149021733123,
          -0.10187037619783064,
          -1.0564104724357057,
          -1.0555058271567033,
          0.09288054992141877,
          -0.2221697337192965,
          0.5323503361220058,
          -0.16101088097754562,
          0.7828781980514036,
          0.016206754381635557,
          -0.07773191734361144,
          -0.10256238294231157,
          -1.292394526699772,
          -0.22957938752731008,
          -1.6756411693309572,
          0.009428651355560447,
          -0.3789931812591254,
          0.5513478850352597,
          0.16629860929405813,
          -0.9098861056873205,
          -2.300633794465044,
          -0.9897923121378868,
          0.6632766469066379,
          0.60526923673236,
          -2.0090173721005544,
          -0.5156329401365136,
          1.1975640252955149,
          0.501908128260419
         ],
         "yaxis": "y5"
        },
        {
         "histfunc": "count",
         "histnorm": "",
         "marker": {
          "color": "rgba(55, 128, 191, 1.0)",
          "line": {
           "color": "#4D5663",
           "width": 1.3
          }
         },
         "name": "B",
         "nbinsx": 10,
         "opacity": 0.8,
         "orientation": "v",
         "type": "histogram",
         "x": [
          -2.036158386653377,
          -0.7781816942974347,
          1.640792608476573,
          -0.4738608055981185,
          -0.36170747479840376,
          0.7170574090643116,
          -0.8901972640088935,
          0.15542111224360824,
          0.16842148205573518,
          -0.7624378404781994,
          0.6676445311926261,
          -0.5008312999875397,
          -0.14183629809542564,
          0.37770469615146307,
          1.177547024579085,
          -0.379578510137013,
          -0.7779969080814645,
          0.5369129846980254,
          0.3819636750976547,
          -0.8483530509658844,
          -0.8629937368086817,
          -1.5474167747744243,
          0.13599077249133737,
          -0.02370519789406686,
          0.8255708913577603,
          0.293639449547524,
          0.37850737435463583,
          -0.5086837226103097,
          0.4459407415852692,
          -0.5526591872367761,
          -0.9759789134411783,
          -0.14107027812456086,
          0.6827968128789753,
          -0.5704347120697848,
          0.2882354759654698,
          0.32201555158302814,
          -0.5792869703886953,
          0.6470959694849135,
          -0.7446533623021079,
          0.7088489240229382,
          0.5183027904959195,
          -0.7870559941595908,
          -0.3294836263221717,
          -0.840845736897288,
          -1.7859985371240894,
          -0.9087816084177032,
          -0.810103196119456,
          1.5851472901959138,
          1.2702325525750735,
          1.6810503424614647,
          -0.721541491810264,
          0.44211506970111,
          -0.3299773960399986,
          -0.1361012916371215,
          1.4162533790883198,
          -0.7915579015705827,
          0.9087815478659267,
          -0.36744419622196695,
          0.2605624041964697,
          0.43818409668521363,
          0.7009328503085128,
          0.2865205297562157,
          0.9699378427772057,
          2.0440071661428485,
          -2.164434885573739,
          -1.1558905699366222,
          0.6497490347234127,
          0.16245956749095322,
          -1.7138870454600397,
          -0.4331724808449435,
          -0.09748754649182939,
          -0.10479631959914548,
          -0.43353149021733123,
          -0.10187037619783064,
          -1.0564104724357057,
          -1.0555058271567033,
          0.09288054992141877,
          -0.2221697337192965,
          0.5323503361220058,
          -0.16101088097754562,
          0.7828781980514036,
          0.016206754381635557,
          -0.07773191734361144,
          -0.10256238294231157,
          -1.292394526699772,
          -0.22957938752731008,
          -1.6756411693309572,
          0.009428651355560447,
          -0.3789931812591254,
          0.5513478850352597,
          0.16629860929405813,
          -0.9098861056873205,
          -2.300633794465044,
          -0.9897923121378868,
          0.6632766469066379,
          0.60526923673236,
          -2.0090173721005544,
          -0.5156329401365136,
          1.1975640252955149,
          0.501908128260419
         ],
         "xaxis": "x6",
         "yaxis": "y6"
        },
        {
         "line": {
          "color": "rgba(128, 128, 128, 1.0)",
          "dash": "solid",
          "shape": "linear",
          "width": 1.3
         },
         "marker": {
          "size": 2,
          "symbol": "circle"
         },
         "mode": "markers",
         "name": "B",
         "text": "",
         "type": "scatter",
         "x": [
          -0.31514583740266267,
          -0.28510835080597086,
          0.3243117045744069,
          0.6876260843680956,
          1.4316838450944527,
          -0.2539176111685738,
          1.8314995425628757,
          1.303997904583354,
          2.0092656399860136,
          -0.5425063716925912,
          0.5208406987821578,
          -0.4598384972352967,
          -1.1410503454934207,
          2.7509589349959533,
          0.41091785277495074,
          -0.2438624989685957,
          -0.8361592314980884,
          -0.7023159493808567,
          0.7648732927000252,
          0.6332937281942047,
          -0.7953456242599859,
          -0.4400934240616856,
          -0.577906880167506,
          0.05297626602570358,
          0.7063058629070841,
          -1.1316993673106561,
          -1.229830280404116,
          2.7509901967839916,
          -1.715752671488742,
          1.0416119791023464,
          0.6571881571515092,
          0.8553501093407321,
          0.08248276270809378,
          -0.9013804318787658,
          -0.04374871025703826,
          0.32946504122848147,
          0.35768518128136656,
          -0.9934956218557267,
          0.5906835774442245,
          1.6115395326560833,
          -1.2096000153911886,
          -1.1278794002633734,
          -0.26060906735424477,
          0.7187210921020684,
          -0.08432377010288401,
          0.09637340679574283,
          0.0213005276856329,
          -0.61379071128084,
          -0.9352717987038517,
          0.5995764609074307,
          1.999750380620713,
          -1.8651652226301083,
          -0.9703453588222548,
          0.5169089650975354,
          -0.8952705858297897,
          -0.6296763109803356,
          0.2206410202708203,
          0.931205800217413,
          -0.3608398372799932,
          -0.05132983204531396,
          -0.6576701468424314,
          -2.210094763853348,
          -1.314061099541835,
          -0.07872298867142644,
          -0.9083492999219367,
          -0.5544195958094558,
          -0.6173065627582961,
          0.5375836290237022,
          -1.8211660014868283,
          -0.8668812966772147,
          -0.3738119450297486,
          -1.3078947438704553,
          -0.8990499054248187,
          1.4821422801658368,
          -0.45943939092853603,
          1.2373018388363508,
          -0.2740824268604862,
          0.9415219781682357,
          0.4514410714589517,
          0.17923826875106927,
          -1.1387690409563656,
          -0.8186931976761559,
          -0.1123853301811973,
          -0.5686710138609768,
          -1.2103825992077901,
          -0.35284549202668897,
          0.9906605504444056,
          -0.6745084460543134,
          1.3568812935888435,
          0.29684550804814563,
          -0.7231124713871573,
          1.9017902891920417,
          -0.5178673277578233,
          -1.0707119461609809,
          -0.2574649752292029,
          -0.57504830729504,
          0.5732014175121319,
          1.5440724399736447,
          -1.3465932141735566,
          -0.15040032943314166
         ],
         "xaxis": "x7",
         "y": [
          -2.036158386653377,
          -0.7781816942974347,
          1.640792608476573,
          -0.4738608055981185,
          -0.36170747479840376,
          0.7170574090643116,
          -0.8901972640088935,
          0.15542111224360824,
          0.16842148205573518,
          -0.7624378404781994,
          0.6676445311926261,
          -0.5008312999875397,
          -0.14183629809542564,
          0.37770469615146307,
          1.177547024579085,
          -0.379578510137013,
          -0.7779969080814645,
          0.5369129846980254,
          0.3819636750976547,
          -0.8483530509658844,
          -0.8629937368086817,
          -1.5474167747744243,
          0.13599077249133737,
          -0.02370519789406686,
          0.8255708913577603,
          0.293639449547524,
          0.37850737435463583,
          -0.5086837226103097,
          0.4459407415852692,
          -0.5526591872367761,
          -0.9759789134411783,
          -0.14107027812456086,
          0.6827968128789753,
          -0.5704347120697848,
          0.2882354759654698,
          0.32201555158302814,
          -0.5792869703886953,
          0.6470959694849135,
          -0.7446533623021079,
          0.7088489240229382,
          0.5183027904959195,
          -0.7870559941595908,
          -0.3294836263221717,
          -0.840845736897288,
          -1.7859985371240894,
          -0.9087816084177032,
          -0.810103196119456,
          1.5851472901959138,
          1.2702325525750735,
          1.6810503424614647,
          -0.721541491810264,
          0.44211506970111,
          -0.3299773960399986,
          -0.1361012916371215,
          1.4162533790883198,
          -0.7915579015705827,
          0.9087815478659267,
          -0.36744419622196695,
          0.2605624041964697,
          0.43818409668521363,
          0.7009328503085128,
          0.2865205297562157,
          0.9699378427772057,
          2.0440071661428485,
          -2.164434885573739,
          -1.1558905699366222,
          0.6497490347234127,
          0.16245956749095322,
          -1.7138870454600397,
          -0.4331724808449435,
          -0.09748754649182939,
          -0.10479631959914548,
          -0.43353149021733123,
          -0.10187037619783064,
          -1.0564104724357057,
          -1.0555058271567033,
          0.09288054992141877,
          -0.2221697337192965,
          0.5323503361220058,
          -0.16101088097754562,
          0.7828781980514036,
          0.016206754381635557,
          -0.07773191734361144,
          -0.10256238294231157,
          -1.292394526699772,
          -0.22957938752731008,
          -1.6756411693309572,
          0.009428651355560447,
          -0.3789931812591254,
          0.5513478850352597,
          0.16629860929405813,
          -0.9098861056873205,
          -2.300633794465044,
          -0.9897923121378868,
          0.6632766469066379,
          0.60526923673236,
          -2.0090173721005544,
          -0.5156329401365136,
          1.1975640252955149,
          0.501908128260419
         ],
         "yaxis": "y7"
        },
        {
         "line": {
          "color": "rgba(128, 128, 128, 1.0)",
          "dash": "solid",
          "shape": "linear",
          "width": 1.3
         },
         "marker": {
          "size": 2,
          "symbol": "circle"
         },
         "mode": "markers",
         "name": "B",
         "text": "",
         "type": "scatter",
         "x": [
          -0.6603970446001893,
          1.5191896878824074,
          0.47157691859381173,
          -0.11402564889979212,
          -0.053716799423909785,
          -1.5502356923778882,
          -0.014378962156916112,
          1.5541252446768037,
          -1.8319862677442142,
          0.2870698640525949,
          0.5918836805777782,
          -0.040440043045159066,
          -0.3784157236841967,
          -1.1102538280560401,
          0.3898304992138822,
          -0.12041932267168726,
          -0.32897296405194965,
          -1.2719073437508008,
          0.8312839639517363,
          -1.7174490762641748,
          -2.037621968311098,
          0.03594238402987565,
          0.2426892592715048,
          0.6032963725387461,
          1.586024565818138,
          -0.20998647828293887,
          0.41773429488465963,
          -0.12718417400144386,
          -1.8617937276976186,
          -0.9501270868213497,
          1.1630063275582174,
          -0.8908532575897277,
          -1.458148546542736,
          0.6098274869070641,
          1.3852801359870763,
          0.29789912350204667,
          -0.09400524997271618,
          -1.3173703834766386,
          -1.9613197691028332,
          -0.07856563642446635,
          -1.8180245748601593,
          0.04544497800788125,
          -0.19320476197828065,
          1.887173935958992,
          0.139798344377311,
          -0.8745790170624088,
          3.2329022255557867,
          -0.6797478844880496,
          -0.393180811785337,
          -1.1351954497917902,
          -0.5146996496927783,
          0.6484518213874361,
          -2.0443634020015304,
          1.6140677626713165,
          -0.20774295074218022,
          0.6294374427080781,
          0.6142927069828564,
          -1.0641720745579637,
          0.9160208306907005,
          -2.476821589877224,
          0.4412469793535054,
          1.1106436185071047,
          0.8136665642415195,
          0.8550094947124073,
          0.1873501644650864,
          -0.2013499244861351,
          1.3698286033274958,
          1.6141963233312788,
          0.2242251788114569,
          -1.2188668408435317,
          0.07877231112907117,
          -0.2899878195310393,
          0.2898655486814956,
          -1.0309490310582619,
          -0.9397769904382155,
          -0.49400023561811696,
          -2.0211915998521497,
          -0.1341006433522084,
          0.27386999796809863,
          -2.4210908385370518,
          0.47663856887878947,
          0.27969817189077245,
          -1.797812215024415,
          1.8291111224719392,
          -1.2855471127773832,
          1.4684108779508989,
          -0.029735490975398366,
          0.46676467942544614,
          -0.10088424426169866,
          1.4241028972087357,
          -0.2931767117004282,
          -1.097509066956472,
          0.5458458587551795,
          0.44022539134547684,
          1.4107152259445312,
          0.32276296543783956,
          -1.4473209430727028,
          -0.2238818954548833,
          -0.7923364925428673,
          -0.030062739397800905
         ],
         "xaxis": "x8",
         "y": [
          -2.036158386653377,
          -0.7781816942974347,
          1.640792608476573,
          -0.4738608055981185,
          -0.36170747479840376,
          0.7170574090643116,
          -0.8901972640088935,
          0.15542111224360824,
          0.16842148205573518,
          -0.7624378404781994,
          0.6676445311926261,
          -0.5008312999875397,
          -0.14183629809542564,
          0.37770469615146307,
          1.177547024579085,
          -0.379578510137013,
          -0.7779969080814645,
          0.5369129846980254,
          0.3819636750976547,
          -0.8483530509658844,
          -0.8629937368086817,
          -1.5474167747744243,
          0.13599077249133737,
          -0.02370519789406686,
          0.8255708913577603,
          0.293639449547524,
          0.37850737435463583,
          -0.5086837226103097,
          0.4459407415852692,
          -0.5526591872367761,
          -0.9759789134411783,
          -0.14107027812456086,
          0.6827968128789753,
          -0.5704347120697848,
          0.2882354759654698,
          0.32201555158302814,
          -0.5792869703886953,
          0.6470959694849135,
          -0.7446533623021079,
          0.7088489240229382,
          0.5183027904959195,
          -0.7870559941595908,
          -0.3294836263221717,
          -0.840845736897288,
          -1.7859985371240894,
          -0.9087816084177032,
          -0.810103196119456,
          1.5851472901959138,
          1.2702325525750735,
          1.6810503424614647,
          -0.721541491810264,
          0.44211506970111,
          -0.3299773960399986,
          -0.1361012916371215,
          1.4162533790883198,
          -0.7915579015705827,
          0.9087815478659267,
          -0.36744419622196695,
          0.2605624041964697,
          0.43818409668521363,
          0.7009328503085128,
          0.2865205297562157,
          0.9699378427772057,
          2.0440071661428485,
          -2.164434885573739,
          -1.1558905699366222,
          0.6497490347234127,
          0.16245956749095322,
          -1.7138870454600397,
          -0.4331724808449435,
          -0.09748754649182939,
          -0.10479631959914548,
          -0.43353149021733123,
          -0.10187037619783064,
          -1.0564104724357057,
          -1.0555058271567033,
          0.09288054992141877,
          -0.2221697337192965,
          0.5323503361220058,
          -0.16101088097754562,
          0.7828781980514036,
          0.016206754381635557,
          -0.07773191734361144,
          -0.10256238294231157,
          -1.292394526699772,
          -0.22957938752731008,
          -1.6756411693309572,
          0.009428651355560447,
          -0.3789931812591254,
          0.5513478850352597,
          0.16629860929405813,
          -0.9098861056873205,
          -2.300633794465044,
          -0.9897923121378868,
          0.6632766469066379,
          0.60526923673236,
          -2.0090173721005544,
          -0.5156329401365136,
          1.1975640252955149,
          0.501908128260419
         ],
         "yaxis": "y8"
        },
        {
         "line": {
          "color": "rgba(128, 128, 128, 1.0)",
          "dash": "solid",
          "shape": "linear",
          "width": 1.3
         },
         "marker": {
          "size": 2,
          "symbol": "circle"
         },
         "mode": "markers",
         "name": "C",
         "text": "",
         "type": "scatter",
         "x": [
          -0.01667208869479953,
          0.6037503470629544,
          -0.28351149014731414,
          0.0216026878129016,
          0.1751687897703358,
          -0.7464757712873497,
          0.36612188033655946,
          1.5603681621800871,
          -0.4310426287934078,
          -0.40795947020774453,
          -0.6367278401219701,
          -1.0874168310844612,
          1.1698066413000878,
          -0.3066916909365898,
          1.1252351101197362,
          -1.2075223698484885,
          0.17673062821547475,
          -0.9895317582731459,
          0.9283196542513025,
          -0.5835587044089643,
          0.6902201487451626,
          -0.6455972284797273,
          1.7428152700098267,
          -1.4602586348752853,
          0.17593919995963694,
          0.5390588117799688,
          2.1207767856567727,
          1.2591692758771187,
          -0.17209273934779287,
          -0.366566956753178,
          -0.15331543661920066,
          0.08834728696166949,
          0.46909164345998144,
          0.7117073717263691,
          -1.123006297200311,
          0.20791917087926534,
          0.03840313876869264,
          0.9143191515646512,
          1.0356772091115893,
          0.44907932457214866,
          -0.38451117181962,
          -0.10228947216258112,
          0.9408916586961488,
          0.46082542099519913,
          0.5370618137962073,
          -0.11776168465227992,
          1.214265596966936,
          -0.8703436304770322,
          0.10740457078101891,
          0.3544977535785094,
          -0.9146086471251739,
          0.12808158542595066,
          -0.5426218229255564,
          1.1556505063233624,
          -0.7320625981927786,
          0.3973947239800183,
          -0.36711828716894135,
          0.4131382364285986,
          -0.819978944828114,
          -0.6864462990192921,
          -0.08551191306702406,
          -1.0865010798257977,
          -1.0817819236516397,
          -0.351388330509077,
          -0.5420249562951884,
          -0.06577023958226505,
          1.396824993267686,
          -1.0025865125331916,
          1.9923269253294456,
          -0.778359989476912,
          -0.6806007021133944,
          0.0402740148264282,
          -0.45542227594424267,
          1.3698478125158287,
          -0.6280302339215994,
          0.4044415920632114,
          0.37534727740862495,
          -0.957656480747998,
          0.691572236878223,
          -1.1873909229215367,
          1.2919297518408075,
          0.33667467848977395,
          -0.48006790969772334,
          -1.38797462206206,
          -1.0392939638716054,
          -0.37534975084431815,
          1.5813624436860207,
          -2.348410308085096,
          -0.9049476494213308,
          -2.656882930015167,
          1.561536057768945,
          0.5638875300946916,
          -0.47944682187429133,
          0.3539420600530498,
          -0.5135199779795387,
          -0.0906234411538603,
          -1.0406035600634143,
          1.9575152252883732,
          -1.8336226329156557,
          0.0005518196884569486
         ],
         "xaxis": "x9",
         "y": [
          -0.31514583740266267,
          -0.28510835080597086,
          0.3243117045744069,
          0.6876260843680956,
          1.4316838450944527,
          -0.2539176111685738,
          1.8314995425628757,
          1.303997904583354,
          2.0092656399860136,
          -0.5425063716925912,
          0.5208406987821578,
          -0.4598384972352967,
          -1.1410503454934207,
          2.7509589349959533,
          0.41091785277495074,
          -0.2438624989685957,
          -0.8361592314980884,
          -0.7023159493808567,
          0.7648732927000252,
          0.6332937281942047,
          -0.7953456242599859,
          -0.4400934240616856,
          -0.577906880167506,
          0.05297626602570358,
          0.7063058629070841,
          -1.1316993673106561,
          -1.229830280404116,
          2.7509901967839916,
          -1.715752671488742,
          1.0416119791023464,
          0.6571881571515092,
          0.8553501093407321,
          0.08248276270809378,
          -0.9013804318787658,
          -0.04374871025703826,
          0.32946504122848147,
          0.35768518128136656,
          -0.9934956218557267,
          0.5906835774442245,
          1.6115395326560833,
          -1.2096000153911886,
          -1.1278794002633734,
          -0.26060906735424477,
          0.7187210921020684,
          -0.08432377010288401,
          0.09637340679574283,
          0.0213005276856329,
          -0.61379071128084,
          -0.9352717987038517,
          0.5995764609074307,
          1.999750380620713,
          -1.8651652226301083,
          -0.9703453588222548,
          0.5169089650975354,
          -0.8952705858297897,
          -0.6296763109803356,
          0.2206410202708203,
          0.931205800217413,
          -0.3608398372799932,
          -0.05132983204531396,
          -0.6576701468424314,
          -2.210094763853348,
          -1.314061099541835,
          -0.07872298867142644,
          -0.9083492999219367,
          -0.5544195958094558,
          -0.6173065627582961,
          0.5375836290237022,
          -1.8211660014868283,
          -0.8668812966772147,
          -0.3738119450297486,
          -1.3078947438704553,
          -0.8990499054248187,
          1.4821422801658368,
          -0.45943939092853603,
          1.2373018388363508,
          -0.2740824268604862,
          0.9415219781682357,
          0.4514410714589517,
          0.17923826875106927,
          -1.1387690409563656,
          -0.8186931976761559,
          -0.1123853301811973,
          -0.5686710138609768,
          -1.2103825992077901,
          -0.35284549202668897,
          0.9906605504444056,
          -0.6745084460543134,
          1.3568812935888435,
          0.29684550804814563,
          -0.7231124713871573,
          1.9017902891920417,
          -0.5178673277578233,
          -1.0707119461609809,
          -0.2574649752292029,
          -0.57504830729504,
          0.5732014175121319,
          1.5440724399736447,
          -1.3465932141735566,
          -0.15040032943314166
         ],
         "yaxis": "y9"
        },
        {
         "line": {
          "color": "rgba(128, 128, 128, 1.0)",
          "dash": "solid",
          "shape": "linear",
          "width": 1.3
         },
         "marker": {
          "size": 2,
          "symbol": "circle"
         },
         "mode": "markers",
         "name": "C",
         "text": "",
         "type": "scatter",
         "x": [
          -2.036158386653377,
          -0.7781816942974347,
          1.640792608476573,
          -0.4738608055981185,
          -0.36170747479840376,
          0.7170574090643116,
          -0.8901972640088935,
          0.15542111224360824,
          0.16842148205573518,
          -0.7624378404781994,
          0.6676445311926261,
          -0.5008312999875397,
          -0.14183629809542564,
          0.37770469615146307,
          1.177547024579085,
          -0.379578510137013,
          -0.7779969080814645,
          0.5369129846980254,
          0.3819636750976547,
          -0.8483530509658844,
          -0.8629937368086817,
          -1.5474167747744243,
          0.13599077249133737,
          -0.02370519789406686,
          0.8255708913577603,
          0.293639449547524,
          0.37850737435463583,
          -0.5086837226103097,
          0.4459407415852692,
          -0.5526591872367761,
          -0.9759789134411783,
          -0.14107027812456086,
          0.6827968128789753,
          -0.5704347120697848,
          0.2882354759654698,
          0.32201555158302814,
          -0.5792869703886953,
          0.6470959694849135,
          -0.7446533623021079,
          0.7088489240229382,
          0.5183027904959195,
          -0.7870559941595908,
          -0.3294836263221717,
          -0.840845736897288,
          -1.7859985371240894,
          -0.9087816084177032,
          -0.810103196119456,
          1.5851472901959138,
          1.2702325525750735,
          1.6810503424614647,
          -0.721541491810264,
          0.44211506970111,
          -0.3299773960399986,
          -0.1361012916371215,
          1.4162533790883198,
          -0.7915579015705827,
          0.9087815478659267,
          -0.36744419622196695,
          0.2605624041964697,
          0.43818409668521363,
          0.7009328503085128,
          0.2865205297562157,
          0.9699378427772057,
          2.0440071661428485,
          -2.164434885573739,
          -1.1558905699366222,
          0.6497490347234127,
          0.16245956749095322,
          -1.7138870454600397,
          -0.4331724808449435,
          -0.09748754649182939,
          -0.10479631959914548,
          -0.43353149021733123,
          -0.10187037619783064,
          -1.0564104724357057,
          -1.0555058271567033,
          0.09288054992141877,
          -0.2221697337192965,
          0.5323503361220058,
          -0.16101088097754562,
          0.7828781980514036,
          0.016206754381635557,
          -0.07773191734361144,
          -0.10256238294231157,
          -1.292394526699772,
          -0.22957938752731008,
          -1.6756411693309572,
          0.009428651355560447,
          -0.3789931812591254,
          0.5513478850352597,
          0.16629860929405813,
          -0.9098861056873205,
          -2.300633794465044,
          -0.9897923121378868,
          0.6632766469066379,
          0.60526923673236,
          -2.0090173721005544,
          -0.5156329401365136,
          1.1975640252955149,
          0.501908128260419
         ],
         "xaxis": "x10",
         "y": [
          -0.31514583740266267,
          -0.28510835080597086,
          0.3243117045744069,
          0.6876260843680956,
          1.4316838450944527,
          -0.2539176111685738,
          1.8314995425628757,
          1.303997904583354,
          2.0092656399860136,
          -0.5425063716925912,
          0.5208406987821578,
          -0.4598384972352967,
          -1.1410503454934207,
          2.7509589349959533,
          0.41091785277495074,
          -0.2438624989685957,
          -0.8361592314980884,
          -0.7023159493808567,
          0.7648732927000252,
          0.6332937281942047,
          -0.7953456242599859,
          -0.4400934240616856,
          -0.577906880167506,
          0.05297626602570358,
          0.7063058629070841,
          -1.1316993673106561,
          -1.229830280404116,
          2.7509901967839916,
          -1.715752671488742,
          1.0416119791023464,
          0.6571881571515092,
          0.8553501093407321,
          0.08248276270809378,
          -0.9013804318787658,
          -0.04374871025703826,
          0.32946504122848147,
          0.35768518128136656,
          -0.9934956218557267,
          0.5906835774442245,
          1.6115395326560833,
          -1.2096000153911886,
          -1.1278794002633734,
          -0.26060906735424477,
          0.7187210921020684,
          -0.08432377010288401,
          0.09637340679574283,
          0.0213005276856329,
          -0.61379071128084,
          -0.9352717987038517,
          0.5995764609074307,
          1.999750380620713,
          -1.8651652226301083,
          -0.9703453588222548,
          0.5169089650975354,
          -0.8952705858297897,
          -0.6296763109803356,
          0.2206410202708203,
          0.931205800217413,
          -0.3608398372799932,
          -0.05132983204531396,
          -0.6576701468424314,
          -2.210094763853348,
          -1.314061099541835,
          -0.07872298867142644,
          -0.9083492999219367,
          -0.5544195958094558,
          -0.6173065627582961,
          0.5375836290237022,
          -1.8211660014868283,
          -0.8668812966772147,
          -0.3738119450297486,
          -1.3078947438704553,
          -0.8990499054248187,
          1.4821422801658368,
          -0.45943939092853603,
          1.2373018388363508,
          -0.2740824268604862,
          0.9415219781682357,
          0.4514410714589517,
          0.17923826875106927,
          -1.1387690409563656,
          -0.8186931976761559,
          -0.1123853301811973,
          -0.5686710138609768,
          -1.2103825992077901,
          -0.35284549202668897,
          0.9906605504444056,
          -0.6745084460543134,
          1.3568812935888435,
          0.29684550804814563,
          -0.7231124713871573,
          1.9017902891920417,
          -0.5178673277578233,
          -1.0707119461609809,
          -0.2574649752292029,
          -0.57504830729504,
          0.5732014175121319,
          1.5440724399736447,
          -1.3465932141735566,
          -0.15040032943314166
         ],
         "yaxis": "y10"
        },
        {
         "histfunc": "count",
         "histnorm": "",
         "marker": {
          "color": "rgba(50, 171, 96, 1.0)",
          "line": {
           "color": "#4D5663",
           "width": 1.3
          }
         },
         "name": "C",
         "nbinsx": 10,
         "opacity": 0.8,
         "orientation": "v",
         "type": "histogram",
         "x": [
          -0.31514583740266267,
          -0.28510835080597086,
          0.3243117045744069,
          0.6876260843680956,
          1.4316838450944527,
          -0.2539176111685738,
          1.8314995425628757,
          1.303997904583354,
          2.0092656399860136,
          -0.5425063716925912,
          0.5208406987821578,
          -0.4598384972352967,
          -1.1410503454934207,
          2.7509589349959533,
          0.41091785277495074,
          -0.2438624989685957,
          -0.8361592314980884,
          -0.7023159493808567,
          0.7648732927000252,
          0.6332937281942047,
          -0.7953456242599859,
          -0.4400934240616856,
          -0.577906880167506,
          0.05297626602570358,
          0.7063058629070841,
          -1.1316993673106561,
          -1.229830280404116,
          2.7509901967839916,
          -1.715752671488742,
          1.0416119791023464,
          0.6571881571515092,
          0.8553501093407321,
          0.08248276270809378,
          -0.9013804318787658,
          -0.04374871025703826,
          0.32946504122848147,
          0.35768518128136656,
          -0.9934956218557267,
          0.5906835774442245,
          1.6115395326560833,
          -1.2096000153911886,
          -1.1278794002633734,
          -0.26060906735424477,
          0.7187210921020684,
          -0.08432377010288401,
          0.09637340679574283,
          0.0213005276856329,
          -0.61379071128084,
          -0.9352717987038517,
          0.5995764609074307,
          1.999750380620713,
          -1.8651652226301083,
          -0.9703453588222548,
          0.5169089650975354,
          -0.8952705858297897,
          -0.6296763109803356,
          0.2206410202708203,
          0.931205800217413,
          -0.3608398372799932,
          -0.05132983204531396,
          -0.6576701468424314,
          -2.210094763853348,
          -1.314061099541835,
          -0.07872298867142644,
          -0.9083492999219367,
          -0.5544195958094558,
          -0.6173065627582961,
          0.5375836290237022,
          -1.8211660014868283,
          -0.8668812966772147,
          -0.3738119450297486,
          -1.3078947438704553,
          -0.8990499054248187,
          1.4821422801658368,
          -0.45943939092853603,
          1.2373018388363508,
          -0.2740824268604862,
          0.9415219781682357,
          0.4514410714589517,
          0.17923826875106927,
          -1.1387690409563656,
          -0.8186931976761559,
          -0.1123853301811973,
          -0.5686710138609768,
          -1.2103825992077901,
          -0.35284549202668897,
          0.9906605504444056,
          -0.6745084460543134,
          1.3568812935888435,
          0.29684550804814563,
          -0.7231124713871573,
          1.9017902891920417,
          -0.5178673277578233,
          -1.0707119461609809,
          -0.2574649752292029,
          -0.57504830729504,
          0.5732014175121319,
          1.5440724399736447,
          -1.3465932141735566,
          -0.15040032943314166
         ],
         "xaxis": "x11",
         "yaxis": "y11"
        },
        {
         "line": {
          "color": "rgba(128, 128, 128, 1.0)",
          "dash": "solid",
          "shape": "linear",
          "width": 1.3
         },
         "marker": {
          "size": 2,
          "symbol": "circle"
         },
         "mode": "markers",
         "name": "C",
         "text": "",
         "type": "scatter",
         "x": [
          -0.6603970446001893,
          1.5191896878824074,
          0.47157691859381173,
          -0.11402564889979212,
          -0.053716799423909785,
          -1.5502356923778882,
          -0.014378962156916112,
          1.5541252446768037,
          -1.8319862677442142,
          0.2870698640525949,
          0.5918836805777782,
          -0.040440043045159066,
          -0.3784157236841967,
          -1.1102538280560401,
          0.3898304992138822,
          -0.12041932267168726,
          -0.32897296405194965,
          -1.2719073437508008,
          0.8312839639517363,
          -1.7174490762641748,
          -2.037621968311098,
          0.03594238402987565,
          0.2426892592715048,
          0.6032963725387461,
          1.586024565818138,
          -0.20998647828293887,
          0.41773429488465963,
          -0.12718417400144386,
          -1.8617937276976186,
          -0.9501270868213497,
          1.1630063275582174,
          -0.8908532575897277,
          -1.458148546542736,
          0.6098274869070641,
          1.3852801359870763,
          0.29789912350204667,
          -0.09400524997271618,
          -1.3173703834766386,
          -1.9613197691028332,
          -0.07856563642446635,
          -1.8180245748601593,
          0.04544497800788125,
          -0.19320476197828065,
          1.887173935958992,
          0.139798344377311,
          -0.8745790170624088,
          3.2329022255557867,
          -0.6797478844880496,
          -0.393180811785337,
          -1.1351954497917902,
          -0.5146996496927783,
          0.6484518213874361,
          -2.0443634020015304,
          1.6140677626713165,
          -0.20774295074218022,
          0.6294374427080781,
          0.6142927069828564,
          -1.0641720745579637,
          0.9160208306907005,
          -2.476821589877224,
          0.4412469793535054,
          1.1106436185071047,
          0.8136665642415195,
          0.8550094947124073,
          0.1873501644650864,
          -0.2013499244861351,
          1.3698286033274958,
          1.6141963233312788,
          0.2242251788114569,
          -1.2188668408435317,
          0.07877231112907117,
          -0.2899878195310393,
          0.2898655486814956,
          -1.0309490310582619,
          -0.9397769904382155,
          -0.49400023561811696,
          -2.0211915998521497,
          -0.1341006433522084,
          0.27386999796809863,
          -2.4210908385370518,
          0.47663856887878947,
          0.27969817189077245,
          -1.797812215024415,
          1.8291111224719392,
          -1.2855471127773832,
          1.4684108779508989,
          -0.029735490975398366,
          0.46676467942544614,
          -0.10088424426169866,
          1.4241028972087357,
          -0.2931767117004282,
          -1.097509066956472,
          0.5458458587551795,
          0.44022539134547684,
          1.4107152259445312,
          0.32276296543783956,
          -1.4473209430727028,
          -0.2238818954548833,
          -0.7923364925428673,
          -0.030062739397800905
         ],
         "xaxis": "x12",
         "y": [
          -0.31514583740266267,
          -0.28510835080597086,
          0.3243117045744069,
          0.6876260843680956,
          1.4316838450944527,
          -0.2539176111685738,
          1.8314995425628757,
          1.303997904583354,
          2.0092656399860136,
          -0.5425063716925912,
          0.5208406987821578,
          -0.4598384972352967,
          -1.1410503454934207,
          2.7509589349959533,
          0.41091785277495074,
          -0.2438624989685957,
          -0.8361592314980884,
          -0.7023159493808567,
          0.7648732927000252,
          0.6332937281942047,
          -0.7953456242599859,
          -0.4400934240616856,
          -0.577906880167506,
          0.05297626602570358,
          0.7063058629070841,
          -1.1316993673106561,
          -1.229830280404116,
          2.7509901967839916,
          -1.715752671488742,
          1.0416119791023464,
          0.6571881571515092,
          0.8553501093407321,
          0.08248276270809378,
          -0.9013804318787658,
          -0.04374871025703826,
          0.32946504122848147,
          0.35768518128136656,
          -0.9934956218557267,
          0.5906835774442245,
          1.6115395326560833,
          -1.2096000153911886,
          -1.1278794002633734,
          -0.26060906735424477,
          0.7187210921020684,
          -0.08432377010288401,
          0.09637340679574283,
          0.0213005276856329,
          -0.61379071128084,
          -0.9352717987038517,
          0.5995764609074307,
          1.999750380620713,
          -1.8651652226301083,
          -0.9703453588222548,
          0.5169089650975354,
          -0.8952705858297897,
          -0.6296763109803356,
          0.2206410202708203,
          0.931205800217413,
          -0.3608398372799932,
          -0.05132983204531396,
          -0.6576701468424314,
          -2.210094763853348,
          -1.314061099541835,
          -0.07872298867142644,
          -0.9083492999219367,
          -0.5544195958094558,
          -0.6173065627582961,
          0.5375836290237022,
          -1.8211660014868283,
          -0.8668812966772147,
          -0.3738119450297486,
          -1.3078947438704553,
          -0.8990499054248187,
          1.4821422801658368,
          -0.45943939092853603,
          1.2373018388363508,
          -0.2740824268604862,
          0.9415219781682357,
          0.4514410714589517,
          0.17923826875106927,
          -1.1387690409563656,
          -0.8186931976761559,
          -0.1123853301811973,
          -0.5686710138609768,
          -1.2103825992077901,
          -0.35284549202668897,
          0.9906605504444056,
          -0.6745084460543134,
          1.3568812935888435,
          0.29684550804814563,
          -0.7231124713871573,
          1.9017902891920417,
          -0.5178673277578233,
          -1.0707119461609809,
          -0.2574649752292029,
          -0.57504830729504,
          0.5732014175121319,
          1.5440724399736447,
          -1.3465932141735566,
          -0.15040032943314166
         ],
         "yaxis": "y12"
        },
        {
         "line": {
          "color": "rgba(128, 128, 128, 1.0)",
          "dash": "solid",
          "shape": "linear",
          "width": 1.3
         },
         "marker": {
          "size": 2,
          "symbol": "circle"
         },
         "mode": "markers",
         "name": "D",
         "text": "",
         "type": "scatter",
         "x": [
          -0.01667208869479953,
          0.6037503470629544,
          -0.28351149014731414,
          0.0216026878129016,
          0.1751687897703358,
          -0.7464757712873497,
          0.36612188033655946,
          1.5603681621800871,
          -0.4310426287934078,
          -0.40795947020774453,
          -0.6367278401219701,
          -1.0874168310844612,
          1.1698066413000878,
          -0.3066916909365898,
          1.1252351101197362,
          -1.2075223698484885,
          0.17673062821547475,
          -0.9895317582731459,
          0.9283196542513025,
          -0.5835587044089643,
          0.6902201487451626,
          -0.6455972284797273,
          1.7428152700098267,
          -1.4602586348752853,
          0.17593919995963694,
          0.5390588117799688,
          2.1207767856567727,
          1.2591692758771187,
          -0.17209273934779287,
          -0.366566956753178,
          -0.15331543661920066,
          0.08834728696166949,
          0.46909164345998144,
          0.7117073717263691,
          -1.123006297200311,
          0.20791917087926534,
          0.03840313876869264,
          0.9143191515646512,
          1.0356772091115893,
          0.44907932457214866,
          -0.38451117181962,
          -0.10228947216258112,
          0.9408916586961488,
          0.46082542099519913,
          0.5370618137962073,
          -0.11776168465227992,
          1.214265596966936,
          -0.8703436304770322,
          0.10740457078101891,
          0.3544977535785094,
          -0.9146086471251739,
          0.12808158542595066,
          -0.5426218229255564,
          1.1556505063233624,
          -0.7320625981927786,
          0.3973947239800183,
          -0.36711828716894135,
          0.4131382364285986,
          -0.819978944828114,
          -0.6864462990192921,
          -0.08551191306702406,
          -1.0865010798257977,
          -1.0817819236516397,
          -0.351388330509077,
          -0.5420249562951884,
          -0.06577023958226505,
          1.396824993267686,
          -1.0025865125331916,
          1.9923269253294456,
          -0.778359989476912,
          -0.6806007021133944,
          0.0402740148264282,
          -0.45542227594424267,
          1.3698478125158287,
          -0.6280302339215994,
          0.4044415920632114,
          0.37534727740862495,
          -0.957656480747998,
          0.691572236878223,
          -1.1873909229215367,
          1.2919297518408075,
          0.33667467848977395,
          -0.48006790969772334,
          -1.38797462206206,
          -1.0392939638716054,
          -0.37534975084431815,
          1.5813624436860207,
          -2.348410308085096,
          -0.9049476494213308,
          -2.656882930015167,
          1.561536057768945,
          0.5638875300946916,
          -0.47944682187429133,
          0.3539420600530498,
          -0.5135199779795387,
          -0.0906234411538603,
          -1.0406035600634143,
          1.9575152252883732,
          -1.8336226329156557,
          0.0005518196884569486
         ],
         "xaxis": "x13",
         "y": [
          -0.6603970446001893,
          1.5191896878824074,
          0.47157691859381173,
          -0.11402564889979212,
          -0.053716799423909785,
          -1.5502356923778882,
          -0.014378962156916112,
          1.5541252446768037,
          -1.8319862677442142,
          0.2870698640525949,
          0.5918836805777782,
          -0.040440043045159066,
          -0.3784157236841967,
          -1.1102538280560401,
          0.3898304992138822,
          -0.12041932267168726,
          -0.32897296405194965,
          -1.2719073437508008,
          0.8312839639517363,
          -1.7174490762641748,
          -2.037621968311098,
          0.03594238402987565,
          0.2426892592715048,
          0.6032963725387461,
          1.586024565818138,
          -0.20998647828293887,
          0.41773429488465963,
          -0.12718417400144386,
          -1.8617937276976186,
          -0.9501270868213497,
          1.1630063275582174,
          -0.8908532575897277,
          -1.458148546542736,
          0.6098274869070641,
          1.3852801359870763,
          0.29789912350204667,
          -0.09400524997271618,
          -1.3173703834766386,
          -1.9613197691028332,
          -0.07856563642446635,
          -1.8180245748601593,
          0.04544497800788125,
          -0.19320476197828065,
          1.887173935958992,
          0.139798344377311,
          -0.8745790170624088,
          3.2329022255557867,
          -0.6797478844880496,
          -0.393180811785337,
          -1.1351954497917902,
          -0.5146996496927783,
          0.6484518213874361,
          -2.0443634020015304,
          1.6140677626713165,
          -0.20774295074218022,
          0.6294374427080781,
          0.6142927069828564,
          -1.0641720745579637,
          0.9160208306907005,
          -2.476821589877224,
          0.4412469793535054,
          1.1106436185071047,
          0.8136665642415195,
          0.8550094947124073,
          0.1873501644650864,
          -0.2013499244861351,
          1.3698286033274958,
          1.6141963233312788,
          0.2242251788114569,
          -1.2188668408435317,
          0.07877231112907117,
          -0.2899878195310393,
          0.2898655486814956,
          -1.0309490310582619,
          -0.9397769904382155,
          -0.49400023561811696,
          -2.0211915998521497,
          -0.1341006433522084,
          0.27386999796809863,
          -2.4210908385370518,
          0.47663856887878947,
          0.27969817189077245,
          -1.797812215024415,
          1.8291111224719392,
          -1.2855471127773832,
          1.4684108779508989,
          -0.029735490975398366,
          0.46676467942544614,
          -0.10088424426169866,
          1.4241028972087357,
          -0.2931767117004282,
          -1.097509066956472,
          0.5458458587551795,
          0.44022539134547684,
          1.4107152259445312,
          0.32276296543783956,
          -1.4473209430727028,
          -0.2238818954548833,
          -0.7923364925428673,
          -0.030062739397800905
         ],
         "yaxis": "y13"
        },
        {
         "line": {
          "color": "rgba(128, 128, 128, 1.0)",
          "dash": "solid",
          "shape": "linear",
          "width": 1.3
         },
         "marker": {
          "size": 2,
          "symbol": "circle"
         },
         "mode": "markers",
         "name": "D",
         "text": "",
         "type": "scatter",
         "x": [
          -2.036158386653377,
          -0.7781816942974347,
          1.640792608476573,
          -0.4738608055981185,
          -0.36170747479840376,
          0.7170574090643116,
          -0.8901972640088935,
          0.15542111224360824,
          0.16842148205573518,
          -0.7624378404781994,
          0.6676445311926261,
          -0.5008312999875397,
          -0.14183629809542564,
          0.37770469615146307,
          1.177547024579085,
          -0.379578510137013,
          -0.7779969080814645,
          0.5369129846980254,
          0.3819636750976547,
          -0.8483530509658844,
          -0.8629937368086817,
          -1.5474167747744243,
          0.13599077249133737,
          -0.02370519789406686,
          0.8255708913577603,
          0.293639449547524,
          0.37850737435463583,
          -0.5086837226103097,
          0.4459407415852692,
          -0.5526591872367761,
          -0.9759789134411783,
          -0.14107027812456086,
          0.6827968128789753,
          -0.5704347120697848,
          0.2882354759654698,
          0.32201555158302814,
          -0.5792869703886953,
          0.6470959694849135,
          -0.7446533623021079,
          0.7088489240229382,
          0.5183027904959195,
          -0.7870559941595908,
          -0.3294836263221717,
          -0.840845736897288,
          -1.7859985371240894,
          -0.9087816084177032,
          -0.810103196119456,
          1.5851472901959138,
          1.2702325525750735,
          1.6810503424614647,
          -0.721541491810264,
          0.44211506970111,
          -0.3299773960399986,
          -0.1361012916371215,
          1.4162533790883198,
          -0.7915579015705827,
          0.9087815478659267,
          -0.36744419622196695,
          0.2605624041964697,
          0.43818409668521363,
          0.7009328503085128,
          0.2865205297562157,
          0.9699378427772057,
          2.0440071661428485,
          -2.164434885573739,
          -1.1558905699366222,
          0.6497490347234127,
          0.16245956749095322,
          -1.7138870454600397,
          -0.4331724808449435,
          -0.09748754649182939,
          -0.10479631959914548,
          -0.43353149021733123,
          -0.10187037619783064,
          -1.0564104724357057,
          -1.0555058271567033,
          0.09288054992141877,
          -0.2221697337192965,
          0.5323503361220058,
          -0.16101088097754562,
          0.7828781980514036,
          0.016206754381635557,
          -0.07773191734361144,
          -0.10256238294231157,
          -1.292394526699772,
          -0.22957938752731008,
          -1.6756411693309572,
          0.009428651355560447,
          -0.3789931812591254,
          0.5513478850352597,
          0.16629860929405813,
          -0.9098861056873205,
          -2.300633794465044,
          -0.9897923121378868,
          0.6632766469066379,
          0.60526923673236,
          -2.0090173721005544,
          -0.5156329401365136,
          1.1975640252955149,
          0.501908128260419
         ],
         "xaxis": "x14",
         "y": [
          -0.6603970446001893,
          1.5191896878824074,
          0.47157691859381173,
          -0.11402564889979212,
          -0.053716799423909785,
          -1.5502356923778882,
          -0.014378962156916112,
          1.5541252446768037,
          -1.8319862677442142,
          0.2870698640525949,
          0.5918836805777782,
          -0.040440043045159066,
          -0.3784157236841967,
          -1.1102538280560401,
          0.3898304992138822,
          -0.12041932267168726,
          -0.32897296405194965,
          -1.2719073437508008,
          0.8312839639517363,
          -1.7174490762641748,
          -2.037621968311098,
          0.03594238402987565,
          0.2426892592715048,
          0.6032963725387461,
          1.586024565818138,
          -0.20998647828293887,
          0.41773429488465963,
          -0.12718417400144386,
          -1.8617937276976186,
          -0.9501270868213497,
          1.1630063275582174,
          -0.8908532575897277,
          -1.458148546542736,
          0.6098274869070641,
          1.3852801359870763,
          0.29789912350204667,
          -0.09400524997271618,
          -1.3173703834766386,
          -1.9613197691028332,
          -0.07856563642446635,
          -1.8180245748601593,
          0.04544497800788125,
          -0.19320476197828065,
          1.887173935958992,
          0.139798344377311,
          -0.8745790170624088,
          3.2329022255557867,
          -0.6797478844880496,
          -0.393180811785337,
          -1.1351954497917902,
          -0.5146996496927783,
          0.6484518213874361,
          -2.0443634020015304,
          1.6140677626713165,
          -0.20774295074218022,
          0.6294374427080781,
          0.6142927069828564,
          -1.0641720745579637,
          0.9160208306907005,
          -2.476821589877224,
          0.4412469793535054,
          1.1106436185071047,
          0.8136665642415195,
          0.8550094947124073,
          0.1873501644650864,
          -0.2013499244861351,
          1.3698286033274958,
          1.6141963233312788,
          0.2242251788114569,
          -1.2188668408435317,
          0.07877231112907117,
          -0.2899878195310393,
          0.2898655486814956,
          -1.0309490310582619,
          -0.9397769904382155,
          -0.49400023561811696,
          -2.0211915998521497,
          -0.1341006433522084,
          0.27386999796809863,
          -2.4210908385370518,
          0.47663856887878947,
          0.27969817189077245,
          -1.797812215024415,
          1.8291111224719392,
          -1.2855471127773832,
          1.4684108779508989,
          -0.029735490975398366,
          0.46676467942544614,
          -0.10088424426169866,
          1.4241028972087357,
          -0.2931767117004282,
          -1.097509066956472,
          0.5458458587551795,
          0.44022539134547684,
          1.4107152259445312,
          0.32276296543783956,
          -1.4473209430727028,
          -0.2238818954548833,
          -0.7923364925428673,
          -0.030062739397800905
         ],
         "yaxis": "y14"
        },
        {
         "line": {
          "color": "rgba(128, 128, 128, 1.0)",
          "dash": "solid",
          "shape": "linear",
          "width": 1.3
         },
         "marker": {
          "size": 2,
          "symbol": "circle"
         },
         "mode": "markers",
         "name": "D",
         "text": "",
         "type": "scatter",
         "x": [
          -0.31514583740266267,
          -0.28510835080597086,
          0.3243117045744069,
          0.6876260843680956,
          1.4316838450944527,
          -0.2539176111685738,
          1.8314995425628757,
          1.303997904583354,
          2.0092656399860136,
          -0.5425063716925912,
          0.5208406987821578,
          -0.4598384972352967,
          -1.1410503454934207,
          2.7509589349959533,
          0.41091785277495074,
          -0.2438624989685957,
          -0.8361592314980884,
          -0.7023159493808567,
          0.7648732927000252,
          0.6332937281942047,
          -0.7953456242599859,
          -0.4400934240616856,
          -0.577906880167506,
          0.05297626602570358,
          0.7063058629070841,
          -1.1316993673106561,
          -1.229830280404116,
          2.7509901967839916,
          -1.715752671488742,
          1.0416119791023464,
          0.6571881571515092,
          0.8553501093407321,
          0.08248276270809378,
          -0.9013804318787658,
          -0.04374871025703826,
          0.32946504122848147,
          0.35768518128136656,
          -0.9934956218557267,
          0.5906835774442245,
          1.6115395326560833,
          -1.2096000153911886,
          -1.1278794002633734,
          -0.26060906735424477,
          0.7187210921020684,
          -0.08432377010288401,
          0.09637340679574283,
          0.0213005276856329,
          -0.61379071128084,
          -0.9352717987038517,
          0.5995764609074307,
          1.999750380620713,
          -1.8651652226301083,
          -0.9703453588222548,
          0.5169089650975354,
          -0.8952705858297897,
          -0.6296763109803356,
          0.2206410202708203,
          0.931205800217413,
          -0.3608398372799932,
          -0.05132983204531396,
          -0.6576701468424314,
          -2.210094763853348,
          -1.314061099541835,
          -0.07872298867142644,
          -0.9083492999219367,
          -0.5544195958094558,
          -0.6173065627582961,
          0.5375836290237022,
          -1.8211660014868283,
          -0.8668812966772147,
          -0.3738119450297486,
          -1.3078947438704553,
          -0.8990499054248187,
          1.4821422801658368,
          -0.45943939092853603,
          1.2373018388363508,
          -0.2740824268604862,
          0.9415219781682357,
          0.4514410714589517,
          0.17923826875106927,
          -1.1387690409563656,
          -0.8186931976761559,
          -0.1123853301811973,
          -0.5686710138609768,
          -1.2103825992077901,
          -0.35284549202668897,
          0.9906605504444056,
          -0.6745084460543134,
          1.3568812935888435,
          0.29684550804814563,
          -0.7231124713871573,
          1.9017902891920417,
          -0.5178673277578233,
          -1.0707119461609809,
          -0.2574649752292029,
          -0.57504830729504,
          0.5732014175121319,
          1.5440724399736447,
          -1.3465932141735566,
          -0.15040032943314166
         ],
         "xaxis": "x15",
         "y": [
          -0.6603970446001893,
          1.5191896878824074,
          0.47157691859381173,
          -0.11402564889979212,
          -0.053716799423909785,
          -1.5502356923778882,
          -0.014378962156916112,
          1.5541252446768037,
          -1.8319862677442142,
          0.2870698640525949,
          0.5918836805777782,
          -0.040440043045159066,
          -0.3784157236841967,
          -1.1102538280560401,
          0.3898304992138822,
          -0.12041932267168726,
          -0.32897296405194965,
          -1.2719073437508008,
          0.8312839639517363,
          -1.7174490762641748,
          -2.037621968311098,
          0.03594238402987565,
          0.2426892592715048,
          0.6032963725387461,
          1.586024565818138,
          -0.20998647828293887,
          0.41773429488465963,
          -0.12718417400144386,
          -1.8617937276976186,
          -0.9501270868213497,
          1.1630063275582174,
          -0.8908532575897277,
          -1.458148546542736,
          0.6098274869070641,
          1.3852801359870763,
          0.29789912350204667,
          -0.09400524997271618,
          -1.3173703834766386,
          -1.9613197691028332,
          -0.07856563642446635,
          -1.8180245748601593,
          0.04544497800788125,
          -0.19320476197828065,
          1.887173935958992,
          0.139798344377311,
          -0.8745790170624088,
          3.2329022255557867,
          -0.6797478844880496,
          -0.393180811785337,
          -1.1351954497917902,
          -0.5146996496927783,
          0.6484518213874361,
          -2.0443634020015304,
          1.6140677626713165,
          -0.20774295074218022,
          0.6294374427080781,
          0.6142927069828564,
          -1.0641720745579637,
          0.9160208306907005,
          -2.476821589877224,
          0.4412469793535054,
          1.1106436185071047,
          0.8136665642415195,
          0.8550094947124073,
          0.1873501644650864,
          -0.2013499244861351,
          1.3698286033274958,
          1.6141963233312788,
          0.2242251788114569,
          -1.2188668408435317,
          0.07877231112907117,
          -0.2899878195310393,
          0.2898655486814956,
          -1.0309490310582619,
          -0.9397769904382155,
          -0.49400023561811696,
          -2.0211915998521497,
          -0.1341006433522084,
          0.27386999796809863,
          -2.4210908385370518,
          0.47663856887878947,
          0.27969817189077245,
          -1.797812215024415,
          1.8291111224719392,
          -1.2855471127773832,
          1.4684108779508989,
          -0.029735490975398366,
          0.46676467942544614,
          -0.10088424426169866,
          1.4241028972087357,
          -0.2931767117004282,
          -1.097509066956472,
          0.5458458587551795,
          0.44022539134547684,
          1.4107152259445312,
          0.32276296543783956,
          -1.4473209430727028,
          -0.2238818954548833,
          -0.7923364925428673,
          -0.030062739397800905
         ],
         "yaxis": "y15"
        },
        {
         "histfunc": "count",
         "histnorm": "",
         "marker": {
          "color": "rgba(128, 0, 128, 1.0)",
          "line": {
           "color": "#4D5663",
           "width": 1.3
          }
         },
         "name": "D",
         "nbinsx": 10,
         "opacity": 0.8,
         "orientation": "v",
         "type": "histogram",
         "x": [
          -0.6603970446001893,
          1.5191896878824074,
          0.47157691859381173,
          -0.11402564889979212,
          -0.053716799423909785,
          -1.5502356923778882,
          -0.014378962156916112,
          1.5541252446768037,
          -1.8319862677442142,
          0.2870698640525949,
          0.5918836805777782,
          -0.040440043045159066,
          -0.3784157236841967,
          -1.1102538280560401,
          0.3898304992138822,
          -0.12041932267168726,
          -0.32897296405194965,
          -1.2719073437508008,
          0.8312839639517363,
          -1.7174490762641748,
          -2.037621968311098,
          0.03594238402987565,
          0.2426892592715048,
          0.6032963725387461,
          1.586024565818138,
          -0.20998647828293887,
          0.41773429488465963,
          -0.12718417400144386,
          -1.8617937276976186,
          -0.9501270868213497,
          1.1630063275582174,
          -0.8908532575897277,
          -1.458148546542736,
          0.6098274869070641,
          1.3852801359870763,
          0.29789912350204667,
          -0.09400524997271618,
          -1.3173703834766386,
          -1.9613197691028332,
          -0.07856563642446635,
          -1.8180245748601593,
          0.04544497800788125,
          -0.19320476197828065,
          1.887173935958992,
          0.139798344377311,
          -0.8745790170624088,
          3.2329022255557867,
          -0.6797478844880496,
          -0.393180811785337,
          -1.1351954497917902,
          -0.5146996496927783,
          0.6484518213874361,
          -2.0443634020015304,
          1.6140677626713165,
          -0.20774295074218022,
          0.6294374427080781,
          0.6142927069828564,
          -1.0641720745579637,
          0.9160208306907005,
          -2.476821589877224,
          0.4412469793535054,
          1.1106436185071047,
          0.8136665642415195,
          0.8550094947124073,
          0.1873501644650864,
          -0.2013499244861351,
          1.3698286033274958,
          1.6141963233312788,
          0.2242251788114569,
          -1.2188668408435317,
          0.07877231112907117,
          -0.2899878195310393,
          0.2898655486814956,
          -1.0309490310582619,
          -0.9397769904382155,
          -0.49400023561811696,
          -2.0211915998521497,
          -0.1341006433522084,
          0.27386999796809863,
          -2.4210908385370518,
          0.47663856887878947,
          0.27969817189077245,
          -1.797812215024415,
          1.8291111224719392,
          -1.2855471127773832,
          1.4684108779508989,
          -0.029735490975398366,
          0.46676467942544614,
          -0.10088424426169866,
          1.4241028972087357,
          -0.2931767117004282,
          -1.097509066956472,
          0.5458458587551795,
          0.44022539134547684,
          1.4107152259445312,
          0.32276296543783956,
          -1.4473209430727028,
          -0.2238818954548833,
          -0.7923364925428673,
          -0.030062739397800905
         ],
         "xaxis": "x16",
         "yaxis": "y16"
        }
       ],
       "layout": {
        "bargap": 0.02,
        "legend": {
         "bgcolor": "#F5F6F9",
         "font": {
          "color": "#4D5663"
         }
        },
        "paper_bgcolor": "#F5F6F9",
        "plot_bgcolor": "#F5F6F9",
        "showlegend": false,
        "template": {
         "data": {
          "bar": [
           {
            "error_x": {
             "color": "#2a3f5f"
            },
            "error_y": {
             "color": "#2a3f5f"
            },
            "marker": {
             "line": {
              "color": "#E5ECF6",
              "width": 0.5
             },
             "pattern": {
              "fillmode": "overlay",
              "size": 10,
              "solidity": 0.2
             }
            },
            "type": "bar"
           }
          ],
          "barpolar": [
           {
            "marker": {
             "line": {
              "color": "#E5ECF6",
              "width": 0.5
             },
             "pattern": {
              "fillmode": "overlay",
              "size": 10,
              "solidity": 0.2
             }
            },
            "type": "barpolar"
           }
          ],
          "carpet": [
           {
            "aaxis": {
             "endlinecolor": "#2a3f5f",
             "gridcolor": "white",
             "linecolor": "white",
             "minorgridcolor": "white",
             "startlinecolor": "#2a3f5f"
            },
            "baxis": {
             "endlinecolor": "#2a3f5f",
             "gridcolor": "white",
             "linecolor": "white",
             "minorgridcolor": "white",
             "startlinecolor": "#2a3f5f"
            },
            "type": "carpet"
           }
          ],
          "choropleth": [
           {
            "colorbar": {
             "outlinewidth": 0,
             "ticks": ""
            },
            "type": "choropleth"
           }
          ],
          "contour": [
           {
            "colorbar": {
             "outlinewidth": 0,
             "ticks": ""
            },
            "colorscale": [
             [
              0,
              "#0d0887"
             ],
             [
              0.1111111111111111,
              "#46039f"
             ],
             [
              0.2222222222222222,
              "#7201a8"
             ],
             [
              0.3333333333333333,
              "#9c179e"
             ],
             [
              0.4444444444444444,
              "#bd3786"
             ],
             [
              0.5555555555555556,
              "#d8576b"
             ],
             [
              0.6666666666666666,
              "#ed7953"
             ],
             [
              0.7777777777777778,
              "#fb9f3a"
             ],
             [
              0.8888888888888888,
              "#fdca26"
             ],
             [
              1,
              "#f0f921"
             ]
            ],
            "type": "contour"
           }
          ],
          "contourcarpet": [
           {
            "colorbar": {
             "outlinewidth": 0,
             "ticks": ""
            },
            "type": "contourcarpet"
           }
          ],
          "heatmap": [
           {
            "colorbar": {
             "outlinewidth": 0,
             "ticks": ""
            },
            "colorscale": [
             [
              0,
              "#0d0887"
             ],
             [
              0.1111111111111111,
              "#46039f"
             ],
             [
              0.2222222222222222,
              "#7201a8"
             ],
             [
              0.3333333333333333,
              "#9c179e"
             ],
             [
              0.4444444444444444,
              "#bd3786"
             ],
             [
              0.5555555555555556,
              "#d8576b"
             ],
             [
              0.6666666666666666,
              "#ed7953"
             ],
             [
              0.7777777777777778,
              "#fb9f3a"
             ],
             [
              0.8888888888888888,
              "#fdca26"
             ],
             [
              1,
              "#f0f921"
             ]
            ],
            "type": "heatmap"
           }
          ],
          "heatmapgl": [
           {
            "colorbar": {
             "outlinewidth": 0,
             "ticks": ""
            },
            "colorscale": [
             [
              0,
              "#0d0887"
             ],
             [
              0.1111111111111111,
              "#46039f"
             ],
             [
              0.2222222222222222,
              "#7201a8"
             ],
             [
              0.3333333333333333,
              "#9c179e"
             ],
             [
              0.4444444444444444,
              "#bd3786"
             ],
             [
              0.5555555555555556,
              "#d8576b"
             ],
             [
              0.6666666666666666,
              "#ed7953"
             ],
             [
              0.7777777777777778,
              "#fb9f3a"
             ],
             [
              0.8888888888888888,
              "#fdca26"
             ],
             [
              1,
              "#f0f921"
             ]
            ],
            "type": "heatmapgl"
           }
          ],
          "histogram": [
           {
            "marker": {
             "pattern": {
              "fillmode": "overlay",
              "size": 10,
              "solidity": 0.2
             }
            },
            "type": "histogram"
           }
          ],
          "histogram2d": [
           {
            "colorbar": {
             "outlinewidth": 0,
             "ticks": ""
            },
            "colorscale": [
             [
              0,
              "#0d0887"
             ],
             [
              0.1111111111111111,
              "#46039f"
             ],
             [
              0.2222222222222222,
              "#7201a8"
             ],
             [
              0.3333333333333333,
              "#9c179e"
             ],
             [
              0.4444444444444444,
              "#bd3786"
             ],
             [
              0.5555555555555556,
              "#d8576b"
             ],
             [
              0.6666666666666666,
              "#ed7953"
             ],
             [
              0.7777777777777778,
              "#fb9f3a"
             ],
             [
              0.8888888888888888,
              "#fdca26"
             ],
             [
              1,
              "#f0f921"
             ]
            ],
            "type": "histogram2d"
           }
          ],
          "histogram2dcontour": [
           {
            "colorbar": {
             "outlinewidth": 0,
             "ticks": ""
            },
            "colorscale": [
             [
              0,
              "#0d0887"
             ],
             [
              0.1111111111111111,
              "#46039f"
             ],
             [
              0.2222222222222222,
              "#7201a8"
             ],
             [
              0.3333333333333333,
              "#9c179e"
             ],
             [
              0.4444444444444444,
              "#bd3786"
             ],
             [
              0.5555555555555556,
              "#d8576b"
             ],
             [
              0.6666666666666666,
              "#ed7953"
             ],
             [
              0.7777777777777778,
              "#fb9f3a"
             ],
             [
              0.8888888888888888,
              "#fdca26"
             ],
             [
              1,
              "#f0f921"
             ]
            ],
            "type": "histogram2dcontour"
           }
          ],
          "mesh3d": [
           {
            "colorbar": {
             "outlinewidth": 0,
             "ticks": ""
            },
            "type": "mesh3d"
           }
          ],
          "parcoords": [
           {
            "line": {
             "colorbar": {
              "outlinewidth": 0,
              "ticks": ""
             }
            },
            "type": "parcoords"
           }
          ],
          "pie": [
           {
            "automargin": true,
            "type": "pie"
           }
          ],
          "scatter": [
           {
            "marker": {
             "colorbar": {
              "outlinewidth": 0,
              "ticks": ""
             }
            },
            "type": "scatter"
           }
          ],
          "scatter3d": [
           {
            "line": {
             "colorbar": {
              "outlinewidth": 0,
              "ticks": ""
             }
            },
            "marker": {
             "colorbar": {
              "outlinewidth": 0,
              "ticks": ""
             }
            },
            "type": "scatter3d"
           }
          ],
          "scattercarpet": [
           {
            "marker": {
             "colorbar": {
              "outlinewidth": 0,
              "ticks": ""
             }
            },
            "type": "scattercarpet"
           }
          ],
          "scattergeo": [
           {
            "marker": {
             "colorbar": {
              "outlinewidth": 0,
              "ticks": ""
             }
            },
            "type": "scattergeo"
           }
          ],
          "scattergl": [
           {
            "marker": {
             "colorbar": {
              "outlinewidth": 0,
              "ticks": ""
             }
            },
            "type": "scattergl"
           }
          ],
          "scattermapbox": [
           {
            "marker": {
             "colorbar": {
              "outlinewidth": 0,
              "ticks": ""
             }
            },
            "type": "scattermapbox"
           }
          ],
          "scatterpolar": [
           {
            "marker": {
             "colorbar": {
              "outlinewidth": 0,
              "ticks": ""
             }
            },
            "type": "scatterpolar"
           }
          ],
          "scatterpolargl": [
           {
            "marker": {
             "colorbar": {
              "outlinewidth": 0,
              "ticks": ""
             }
            },
            "type": "scatterpolargl"
           }
          ],
          "scatterternary": [
           {
            "marker": {
             "colorbar": {
              "outlinewidth": 0,
              "ticks": ""
             }
            },
            "type": "scatterternary"
           }
          ],
          "surface": [
           {
            "colorbar": {
             "outlinewidth": 0,
             "ticks": ""
            },
            "colorscale": [
             [
              0,
              "#0d0887"
             ],
             [
              0.1111111111111111,
              "#46039f"
             ],
             [
              0.2222222222222222,
              "#7201a8"
             ],
             [
              0.3333333333333333,
              "#9c179e"
             ],
             [
              0.4444444444444444,
              "#bd3786"
             ],
             [
              0.5555555555555556,
              "#d8576b"
             ],
             [
              0.6666666666666666,
              "#ed7953"
             ],
             [
              0.7777777777777778,
              "#fb9f3a"
             ],
             [
              0.8888888888888888,
              "#fdca26"
             ],
             [
              1,
              "#f0f921"
             ]
            ],
            "type": "surface"
           }
          ],
          "table": [
           {
            "cells": {
             "fill": {
              "color": "#EBF0F8"
             },
             "line": {
              "color": "white"
             }
            },
            "header": {
             "fill": {
              "color": "#C8D4E3"
             },
             "line": {
              "color": "white"
             }
            },
            "type": "table"
           }
          ]
         },
         "layout": {
          "annotationdefaults": {
           "arrowcolor": "#2a3f5f",
           "arrowhead": 0,
           "arrowwidth": 1
          },
          "autotypenumbers": "strict",
          "coloraxis": {
           "colorbar": {
            "outlinewidth": 0,
            "ticks": ""
           }
          },
          "colorscale": {
           "diverging": [
            [
             0,
             "#8e0152"
            ],
            [
             0.1,
             "#c51b7d"
            ],
            [
             0.2,
             "#de77ae"
            ],
            [
             0.3,
             "#f1b6da"
            ],
            [
             0.4,
             "#fde0ef"
            ],
            [
             0.5,
             "#f7f7f7"
            ],
            [
             0.6,
             "#e6f5d0"
            ],
            [
             0.7,
             "#b8e186"
            ],
            [
             0.8,
             "#7fbc41"
            ],
            [
             0.9,
             "#4d9221"
            ],
            [
             1,
             "#276419"
            ]
           ],
           "sequential": [
            [
             0,
             "#0d0887"
            ],
            [
             0.1111111111111111,
             "#46039f"
            ],
            [
             0.2222222222222222,
             "#7201a8"
            ],
            [
             0.3333333333333333,
             "#9c179e"
            ],
            [
             0.4444444444444444,
             "#bd3786"
            ],
            [
             0.5555555555555556,
             "#d8576b"
            ],
            [
             0.6666666666666666,
             "#ed7953"
            ],
            [
             0.7777777777777778,
             "#fb9f3a"
            ],
            [
             0.8888888888888888,
             "#fdca26"
            ],
            [
             1,
             "#f0f921"
            ]
           ],
           "sequentialminus": [
            [
             0,
             "#0d0887"
            ],
            [
             0.1111111111111111,
             "#46039f"
            ],
            [
             0.2222222222222222,
             "#7201a8"
            ],
            [
             0.3333333333333333,
             "#9c179e"
            ],
            [
             0.4444444444444444,
             "#bd3786"
            ],
            [
             0.5555555555555556,
             "#d8576b"
            ],
            [
             0.6666666666666666,
             "#ed7953"
            ],
            [
             0.7777777777777778,
             "#fb9f3a"
            ],
            [
             0.8888888888888888,
             "#fdca26"
            ],
            [
             1,
             "#f0f921"
            ]
           ]
          },
          "colorway": [
           "#636efa",
           "#EF553B",
           "#00cc96",
           "#ab63fa",
           "#FFA15A",
           "#19d3f3",
           "#FF6692",
           "#B6E880",
           "#FF97FF",
           "#FECB52"
          ],
          "font": {
           "color": "#2a3f5f"
          },
          "geo": {
           "bgcolor": "white",
           "lakecolor": "white",
           "landcolor": "#E5ECF6",
           "showlakes": true,
           "showland": true,
           "subunitcolor": "white"
          },
          "hoverlabel": {
           "align": "left"
          },
          "hovermode": "closest",
          "mapbox": {
           "style": "light"
          },
          "paper_bgcolor": "white",
          "plot_bgcolor": "#E5ECF6",
          "polar": {
           "angularaxis": {
            "gridcolor": "white",
            "linecolor": "white",
            "ticks": ""
           },
           "bgcolor": "#E5ECF6",
           "radialaxis": {
            "gridcolor": "white",
            "linecolor": "white",
            "ticks": ""
           }
          },
          "scene": {
           "xaxis": {
            "backgroundcolor": "#E5ECF6",
            "gridcolor": "white",
            "gridwidth": 2,
            "linecolor": "white",
            "showbackground": true,
            "ticks": "",
            "zerolinecolor": "white"
           },
           "yaxis": {
            "backgroundcolor": "#E5ECF6",
            "gridcolor": "white",
            "gridwidth": 2,
            "linecolor": "white",
            "showbackground": true,
            "ticks": "",
            "zerolinecolor": "white"
           },
           "zaxis": {
            "backgroundcolor": "#E5ECF6",
            "gridcolor": "white",
            "gridwidth": 2,
            "linecolor": "white",
            "showbackground": true,
            "ticks": "",
            "zerolinecolor": "white"
           }
          },
          "shapedefaults": {
           "line": {
            "color": "#2a3f5f"
           }
          },
          "ternary": {
           "aaxis": {
            "gridcolor": "white",
            "linecolor": "white",
            "ticks": ""
           },
           "baxis": {
            "gridcolor": "white",
            "linecolor": "white",
            "ticks": ""
           },
           "bgcolor": "#E5ECF6",
           "caxis": {
            "gridcolor": "white",
            "linecolor": "white",
            "ticks": ""
           }
          },
          "title": {
           "x": 0.05
          },
          "xaxis": {
           "automargin": true,
           "gridcolor": "white",
           "linecolor": "white",
           "ticks": "",
           "title": {
            "standoff": 15
           },
           "zerolinecolor": "white",
           "zerolinewidth": 2
          },
          "yaxis": {
           "automargin": true,
           "gridcolor": "white",
           "linecolor": "white",
           "ticks": "",
           "title": {
            "standoff": 15
           },
           "zerolinecolor": "white",
           "zerolinewidth": 2
          }
         }
        },
        "title": {
         "font": {
          "color": "#4D5663"
         }
        },
        "xaxis": {
         "anchor": "y",
         "domain": [
          0,
          0.2125
         ],
         "gridcolor": "#E1E5ED",
         "showgrid": false,
         "tickfont": {
          "color": "#4D5663"
         },
         "title": {
          "font": {
           "color": "#4D5663"
          },
          "text": ""
         },
         "zerolinecolor": "#E1E5ED"
        },
        "xaxis10": {
         "anchor": "y10",
         "domain": [
          0.2625,
          0.475
         ],
         "gridcolor": "#E1E5ED",
         "showgrid": false,
         "tickfont": {
          "color": "#4D5663"
         },
         "title": {
          "font": {
           "color": "#4D5663"
          },
          "text": ""
         },
         "zerolinecolor": "#E1E5ED"
        },
        "xaxis11": {
         "anchor": "y11",
         "domain": [
          0.525,
          0.7375
         ],
         "gridcolor": "#E1E5ED",
         "showgrid": false,
         "tickfont": {
          "color": "#4D5663"
         },
         "title": {
          "font": {
           "color": "#4D5663"
          },
          "text": ""
         },
         "zerolinecolor": "#E1E5ED"
        },
        "xaxis12": {
         "anchor": "y12",
         "domain": [
          0.7875,
          1
         ],
         "gridcolor": "#E1E5ED",
         "showgrid": false,
         "tickfont": {
          "color": "#4D5663"
         },
         "title": {
          "font": {
           "color": "#4D5663"
          },
          "text": ""
         },
         "zerolinecolor": "#E1E5ED"
        },
        "xaxis13": {
         "anchor": "y13",
         "domain": [
          0,
          0.2125
         ],
         "gridcolor": "#E1E5ED",
         "showgrid": false,
         "tickfont": {
          "color": "#4D5663"
         },
         "title": {
          "font": {
           "color": "#4D5663"
          },
          "text": ""
         },
         "zerolinecolor": "#E1E5ED"
        },
        "xaxis14": {
         "anchor": "y14",
         "domain": [
          0.2625,
          0.475
         ],
         "gridcolor": "#E1E5ED",
         "showgrid": false,
         "tickfont": {
          "color": "#4D5663"
         },
         "title": {
          "font": {
           "color": "#4D5663"
          },
          "text": ""
         },
         "zerolinecolor": "#E1E5ED"
        },
        "xaxis15": {
         "anchor": "y15",
         "domain": [
          0.525,
          0.7375
         ],
         "gridcolor": "#E1E5ED",
         "showgrid": false,
         "tickfont": {
          "color": "#4D5663"
         },
         "title": {
          "font": {
           "color": "#4D5663"
          },
          "text": ""
         },
         "zerolinecolor": "#E1E5ED"
        },
        "xaxis16": {
         "anchor": "y16",
         "domain": [
          0.7875,
          1
         ],
         "gridcolor": "#E1E5ED",
         "showgrid": false,
         "tickfont": {
          "color": "#4D5663"
         },
         "title": {
          "font": {
           "color": "#4D5663"
          },
          "text": ""
         },
         "zerolinecolor": "#E1E5ED"
        },
        "xaxis2": {
         "anchor": "y2",
         "domain": [
          0.2625,
          0.475
         ],
         "gridcolor": "#E1E5ED",
         "showgrid": false,
         "tickfont": {
          "color": "#4D5663"
         },
         "title": {
          "font": {
           "color": "#4D5663"
          },
          "text": ""
         },
         "zerolinecolor": "#E1E5ED"
        },
        "xaxis3": {
         "anchor": "y3",
         "domain": [
          0.525,
          0.7375
         ],
         "gridcolor": "#E1E5ED",
         "showgrid": false,
         "tickfont": {
          "color": "#4D5663"
         },
         "title": {
          "font": {
           "color": "#4D5663"
          },
          "text": ""
         },
         "zerolinecolor": "#E1E5ED"
        },
        "xaxis4": {
         "anchor": "y4",
         "domain": [
          0.7875,
          1
         ],
         "gridcolor": "#E1E5ED",
         "showgrid": false,
         "tickfont": {
          "color": "#4D5663"
         },
         "title": {
          "font": {
           "color": "#4D5663"
          },
          "text": ""
         },
         "zerolinecolor": "#E1E5ED"
        },
        "xaxis5": {
         "anchor": "y5",
         "domain": [
          0,
          0.2125
         ],
         "gridcolor": "#E1E5ED",
         "showgrid": false,
         "tickfont": {
          "color": "#4D5663"
         },
         "title": {
          "font": {
           "color": "#4D5663"
          },
          "text": ""
         },
         "zerolinecolor": "#E1E5ED"
        },
        "xaxis6": {
         "anchor": "y6",
         "domain": [
          0.2625,
          0.475
         ],
         "gridcolor": "#E1E5ED",
         "showgrid": false,
         "tickfont": {
          "color": "#4D5663"
         },
         "title": {
          "font": {
           "color": "#4D5663"
          },
          "text": ""
         },
         "zerolinecolor": "#E1E5ED"
        },
        "xaxis7": {
         "anchor": "y7",
         "domain": [
          0.525,
          0.7375
         ],
         "gridcolor": "#E1E5ED",
         "showgrid": false,
         "tickfont": {
          "color": "#4D5663"
         },
         "title": {
          "font": {
           "color": "#4D5663"
          },
          "text": ""
         },
         "zerolinecolor": "#E1E5ED"
        },
        "xaxis8": {
         "anchor": "y8",
         "domain": [
          0.7875,
          1
         ],
         "gridcolor": "#E1E5ED",
         "showgrid": false,
         "tickfont": {
          "color": "#4D5663"
         },
         "title": {
          "font": {
           "color": "#4D5663"
          },
          "text": ""
         },
         "zerolinecolor": "#E1E5ED"
        },
        "xaxis9": {
         "anchor": "y9",
         "domain": [
          0,
          0.2125
         ],
         "gridcolor": "#E1E5ED",
         "showgrid": false,
         "tickfont": {
          "color": "#4D5663"
         },
         "title": {
          "font": {
           "color": "#4D5663"
          },
          "text": ""
         },
         "zerolinecolor": "#E1E5ED"
        },
        "yaxis": {
         "anchor": "x",
         "domain": [
          0.8025,
          1
         ],
         "gridcolor": "#E1E5ED",
         "showgrid": false,
         "tickfont": {
          "color": "#4D5663"
         },
         "title": {
          "font": {
           "color": "#4D5663"
          },
          "text": ""
         },
         "zerolinecolor": "#E1E5ED"
        },
        "yaxis10": {
         "anchor": "x10",
         "domain": [
          0.2675,
          0.465
         ],
         "gridcolor": "#E1E5ED",
         "showgrid": false,
         "tickfont": {
          "color": "#4D5663"
         },
         "title": {
          "font": {
           "color": "#4D5663"
          },
          "text": ""
         },
         "zerolinecolor": "#E1E5ED"
        },
        "yaxis11": {
         "anchor": "x11",
         "domain": [
          0.2675,
          0.465
         ],
         "gridcolor": "#E1E5ED",
         "showgrid": false,
         "tickfont": {
          "color": "#4D5663"
         },
         "title": {
          "font": {
           "color": "#4D5663"
          },
          "text": ""
         },
         "zerolinecolor": "#E1E5ED"
        },
        "yaxis12": {
         "anchor": "x12",
         "domain": [
          0.2675,
          0.465
         ],
         "gridcolor": "#E1E5ED",
         "showgrid": false,
         "tickfont": {
          "color": "#4D5663"
         },
         "title": {
          "font": {
           "color": "#4D5663"
          },
          "text": ""
         },
         "zerolinecolor": "#E1E5ED"
        },
        "yaxis13": {
         "anchor": "x13",
         "domain": [
          0,
          0.1975
         ],
         "gridcolor": "#E1E5ED",
         "showgrid": false,
         "tickfont": {
          "color": "#4D5663"
         },
         "title": {
          "font": {
           "color": "#4D5663"
          },
          "text": ""
         },
         "zerolinecolor": "#E1E5ED"
        },
        "yaxis14": {
         "anchor": "x14",
         "domain": [
          0,
          0.1975
         ],
         "gridcolor": "#E1E5ED",
         "showgrid": false,
         "tickfont": {
          "color": "#4D5663"
         },
         "title": {
          "font": {
           "color": "#4D5663"
          },
          "text": ""
         },
         "zerolinecolor": "#E1E5ED"
        },
        "yaxis15": {
         "anchor": "x15",
         "domain": [
          0,
          0.1975
         ],
         "gridcolor": "#E1E5ED",
         "showgrid": false,
         "tickfont": {
          "color": "#4D5663"
         },
         "title": {
          "font": {
           "color": "#4D5663"
          },
          "text": ""
         },
         "zerolinecolor": "#E1E5ED"
        },
        "yaxis16": {
         "anchor": "x16",
         "domain": [
          0,
          0.1975
         ],
         "gridcolor": "#E1E5ED",
         "showgrid": false,
         "tickfont": {
          "color": "#4D5663"
         },
         "title": {
          "font": {
           "color": "#4D5663"
          },
          "text": ""
         },
         "zerolinecolor": "#E1E5ED"
        },
        "yaxis2": {
         "anchor": "x2",
         "domain": [
          0.8025,
          1
         ],
         "gridcolor": "#E1E5ED",
         "showgrid": false,
         "tickfont": {
          "color": "#4D5663"
         },
         "title": {
          "font": {
           "color": "#4D5663"
          },
          "text": ""
         },
         "zerolinecolor": "#E1E5ED"
        },
        "yaxis3": {
         "anchor": "x3",
         "domain": [
          0.8025,
          1
         ],
         "gridcolor": "#E1E5ED",
         "showgrid": false,
         "tickfont": {
          "color": "#4D5663"
         },
         "title": {
          "font": {
           "color": "#4D5663"
          },
          "text": ""
         },
         "zerolinecolor": "#E1E5ED"
        },
        "yaxis4": {
         "anchor": "x4",
         "domain": [
          0.8025,
          1
         ],
         "gridcolor": "#E1E5ED",
         "showgrid": false,
         "tickfont": {
          "color": "#4D5663"
         },
         "title": {
          "font": {
           "color": "#4D5663"
          },
          "text": ""
         },
         "zerolinecolor": "#E1E5ED"
        },
        "yaxis5": {
         "anchor": "x5",
         "domain": [
          0.535,
          0.7325
         ],
         "gridcolor": "#E1E5ED",
         "showgrid": false,
         "tickfont": {
          "color": "#4D5663"
         },
         "title": {
          "font": {
           "color": "#4D5663"
          },
          "text": ""
         },
         "zerolinecolor": "#E1E5ED"
        },
        "yaxis6": {
         "anchor": "x6",
         "domain": [
          0.535,
          0.7325
         ],
         "gridcolor": "#E1E5ED",
         "showgrid": false,
         "tickfont": {
          "color": "#4D5663"
         },
         "title": {
          "font": {
           "color": "#4D5663"
          },
          "text": ""
         },
         "zerolinecolor": "#E1E5ED"
        },
        "yaxis7": {
         "anchor": "x7",
         "domain": [
          0.535,
          0.7325
         ],
         "gridcolor": "#E1E5ED",
         "showgrid": false,
         "tickfont": {
          "color": "#4D5663"
         },
         "title": {
          "font": {
           "color": "#4D5663"
          },
          "text": ""
         },
         "zerolinecolor": "#E1E5ED"
        },
        "yaxis8": {
         "anchor": "x8",
         "domain": [
          0.535,
          0.7325
         ],
         "gridcolor": "#E1E5ED",
         "showgrid": false,
         "tickfont": {
          "color": "#4D5663"
         },
         "title": {
          "font": {
           "color": "#4D5663"
          },
          "text": ""
         },
         "zerolinecolor": "#E1E5ED"
        },
        "yaxis9": {
         "anchor": "x9",
         "domain": [
          0.2675,
          0.465
         ],
         "gridcolor": "#E1E5ED",
         "showgrid": false,
         "tickfont": {
          "color": "#4D5663"
         },
         "title": {
          "font": {
           "color": "#4D5663"
          },
          "text": ""
         },
         "zerolinecolor": "#E1E5ED"
        }
       }
      },
      "text/html": [
       "<div>                            <div id=\"3352deef-76a5-463b-8a60-7d48173fd545\" class=\"plotly-graph-div\" style=\"height:525px; width:100%;\"></div>            <script type=\"text/javascript\">                require([\"plotly\"], function(Plotly) {                    window.PLOTLYENV=window.PLOTLYENV || {};\n",
       "                    window.PLOTLYENV.BASE_URL='https://plot.ly';                                    if (document.getElementById(\"3352deef-76a5-463b-8a60-7d48173fd545\")) {                    Plotly.newPlot(                        \"3352deef-76a5-463b-8a60-7d48173fd545\",                        [{\"histfunc\":\"count\",\"histnorm\":\"\",\"marker\":{\"color\":\"rgba(255, 153, 51, 1.0)\",\"line\":{\"color\":\"#4D5663\",\"width\":1.3}},\"name\":\"A\",\"nbinsx\":10,\"opacity\":0.8,\"orientation\":\"v\",\"x\":[-0.01667208869479953,0.6037503470629544,-0.28351149014731414,0.0216026878129016,0.1751687897703358,-0.7464757712873497,0.36612188033655946,1.5603681621800871,-0.4310426287934078,-0.40795947020774453,-0.6367278401219701,-1.0874168310844612,1.1698066413000878,-0.3066916909365898,1.1252351101197362,-1.2075223698484885,0.17673062821547475,-0.9895317582731459,0.9283196542513025,-0.5835587044089643,0.6902201487451626,-0.6455972284797273,1.7428152700098267,-1.4602586348752853,0.17593919995963694,0.5390588117799688,2.1207767856567727,1.2591692758771187,-0.17209273934779287,-0.366566956753178,-0.15331543661920066,0.08834728696166949,0.46909164345998144,0.7117073717263691,-1.123006297200311,0.20791917087926534,0.03840313876869264,0.9143191515646512,1.0356772091115893,0.44907932457214866,-0.38451117181962,-0.10228947216258112,0.9408916586961488,0.46082542099519913,0.5370618137962073,-0.11776168465227992,1.214265596966936,-0.8703436304770322,0.10740457078101891,0.3544977535785094,-0.9146086471251739,0.12808158542595066,-0.5426218229255564,1.1556505063233624,-0.7320625981927786,0.3973947239800183,-0.36711828716894135,0.4131382364285986,-0.819978944828114,-0.6864462990192921,-0.08551191306702406,-1.0865010798257977,-1.0817819236516397,-0.351388330509077,-0.5420249562951884,-0.06577023958226505,1.396824993267686,-1.0025865125331916,1.9923269253294456,-0.778359989476912,-0.6806007021133944,0.0402740148264282,-0.45542227594424267,1.3698478125158287,-0.6280302339215994,0.4044415920632114,0.37534727740862495,-0.957656480747998,0.691572236878223,-1.1873909229215367,1.2919297518408075,0.33667467848977395,-0.48006790969772334,-1.38797462206206,-1.0392939638716054,-0.37534975084431815,1.5813624436860207,-2.348410308085096,-0.9049476494213308,-2.656882930015167,1.561536057768945,0.5638875300946916,-0.47944682187429133,0.3539420600530498,-0.5135199779795387,-0.0906234411538603,-1.0406035600634143,1.9575152252883732,-1.8336226329156557,0.0005518196884569486],\"xaxis\":\"x\",\"yaxis\":\"y\",\"type\":\"histogram\"},{\"line\":{\"color\":\"rgba(128, 128, 128, 1.0)\",\"dash\":\"solid\",\"shape\":\"linear\",\"width\":1.3},\"marker\":{\"size\":2,\"symbol\":\"circle\"},\"mode\":\"markers\",\"name\":\"A\",\"text\":\"\",\"x\":[-2.036158386653377,-0.7781816942974347,1.640792608476573,-0.4738608055981185,-0.36170747479840376,0.7170574090643116,-0.8901972640088935,0.15542111224360824,0.16842148205573518,-0.7624378404781994,0.6676445311926261,-0.5008312999875397,-0.14183629809542564,0.37770469615146307,1.177547024579085,-0.379578510137013,-0.7779969080814645,0.5369129846980254,0.3819636750976547,-0.8483530509658844,-0.8629937368086817,-1.5474167747744243,0.13599077249133737,-0.02370519789406686,0.8255708913577603,0.293639449547524,0.37850737435463583,-0.5086837226103097,0.4459407415852692,-0.5526591872367761,-0.9759789134411783,-0.14107027812456086,0.6827968128789753,-0.5704347120697848,0.2882354759654698,0.32201555158302814,-0.5792869703886953,0.6470959694849135,-0.7446533623021079,0.7088489240229382,0.5183027904959195,-0.7870559941595908,-0.3294836263221717,-0.840845736897288,-1.7859985371240894,-0.9087816084177032,-0.810103196119456,1.5851472901959138,1.2702325525750735,1.6810503424614647,-0.721541491810264,0.44211506970111,-0.3299773960399986,-0.1361012916371215,1.4162533790883198,-0.7915579015705827,0.9087815478659267,-0.36744419622196695,0.2605624041964697,0.43818409668521363,0.7009328503085128,0.2865205297562157,0.9699378427772057,2.0440071661428485,-2.164434885573739,-1.1558905699366222,0.6497490347234127,0.16245956749095322,-1.7138870454600397,-0.4331724808449435,-0.09748754649182939,-0.10479631959914548,-0.43353149021733123,-0.10187037619783064,-1.0564104724357057,-1.0555058271567033,0.09288054992141877,-0.2221697337192965,0.5323503361220058,-0.16101088097754562,0.7828781980514036,0.016206754381635557,-0.07773191734361144,-0.10256238294231157,-1.292394526699772,-0.22957938752731008,-1.6756411693309572,0.009428651355560447,-0.3789931812591254,0.5513478850352597,0.16629860929405813,-0.9098861056873205,-2.300633794465044,-0.9897923121378868,0.6632766469066379,0.60526923673236,-2.0090173721005544,-0.5156329401365136,1.1975640252955149,0.501908128260419],\"xaxis\":\"x2\",\"y\":[-0.01667208869479953,0.6037503470629544,-0.28351149014731414,0.0216026878129016,0.1751687897703358,-0.7464757712873497,0.36612188033655946,1.5603681621800871,-0.4310426287934078,-0.40795947020774453,-0.6367278401219701,-1.0874168310844612,1.1698066413000878,-0.3066916909365898,1.1252351101197362,-1.2075223698484885,0.17673062821547475,-0.9895317582731459,0.9283196542513025,-0.5835587044089643,0.6902201487451626,-0.6455972284797273,1.7428152700098267,-1.4602586348752853,0.17593919995963694,0.5390588117799688,2.1207767856567727,1.2591692758771187,-0.17209273934779287,-0.366566956753178,-0.15331543661920066,0.08834728696166949,0.46909164345998144,0.7117073717263691,-1.123006297200311,0.20791917087926534,0.03840313876869264,0.9143191515646512,1.0356772091115893,0.44907932457214866,-0.38451117181962,-0.10228947216258112,0.9408916586961488,0.46082542099519913,0.5370618137962073,-0.11776168465227992,1.214265596966936,-0.8703436304770322,0.10740457078101891,0.3544977535785094,-0.9146086471251739,0.12808158542595066,-0.5426218229255564,1.1556505063233624,-0.7320625981927786,0.3973947239800183,-0.36711828716894135,0.4131382364285986,-0.819978944828114,-0.6864462990192921,-0.08551191306702406,-1.0865010798257977,-1.0817819236516397,-0.351388330509077,-0.5420249562951884,-0.06577023958226505,1.396824993267686,-1.0025865125331916,1.9923269253294456,-0.778359989476912,-0.6806007021133944,0.0402740148264282,-0.45542227594424267,1.3698478125158287,-0.6280302339215994,0.4044415920632114,0.37534727740862495,-0.957656480747998,0.691572236878223,-1.1873909229215367,1.2919297518408075,0.33667467848977395,-0.48006790969772334,-1.38797462206206,-1.0392939638716054,-0.37534975084431815,1.5813624436860207,-2.348410308085096,-0.9049476494213308,-2.656882930015167,1.561536057768945,0.5638875300946916,-0.47944682187429133,0.3539420600530498,-0.5135199779795387,-0.0906234411538603,-1.0406035600634143,1.9575152252883732,-1.8336226329156557,0.0005518196884569486],\"yaxis\":\"y2\",\"type\":\"scatter\"},{\"line\":{\"color\":\"rgba(128, 128, 128, 1.0)\",\"dash\":\"solid\",\"shape\":\"linear\",\"width\":1.3},\"marker\":{\"size\":2,\"symbol\":\"circle\"},\"mode\":\"markers\",\"name\":\"A\",\"text\":\"\",\"x\":[-0.31514583740266267,-0.28510835080597086,0.3243117045744069,0.6876260843680956,1.4316838450944527,-0.2539176111685738,1.8314995425628757,1.303997904583354,2.0092656399860136,-0.5425063716925912,0.5208406987821578,-0.4598384972352967,-1.1410503454934207,2.7509589349959533,0.41091785277495074,-0.2438624989685957,-0.8361592314980884,-0.7023159493808567,0.7648732927000252,0.6332937281942047,-0.7953456242599859,-0.4400934240616856,-0.577906880167506,0.05297626602570358,0.7063058629070841,-1.1316993673106561,-1.229830280404116,2.7509901967839916,-1.715752671488742,1.0416119791023464,0.6571881571515092,0.8553501093407321,0.08248276270809378,-0.9013804318787658,-0.04374871025703826,0.32946504122848147,0.35768518128136656,-0.9934956218557267,0.5906835774442245,1.6115395326560833,-1.2096000153911886,-1.1278794002633734,-0.26060906735424477,0.7187210921020684,-0.08432377010288401,0.09637340679574283,0.0213005276856329,-0.61379071128084,-0.9352717987038517,0.5995764609074307,1.999750380620713,-1.8651652226301083,-0.9703453588222548,0.5169089650975354,-0.8952705858297897,-0.6296763109803356,0.2206410202708203,0.931205800217413,-0.3608398372799932,-0.05132983204531396,-0.6576701468424314,-2.210094763853348,-1.314061099541835,-0.07872298867142644,-0.9083492999219367,-0.5544195958094558,-0.6173065627582961,0.5375836290237022,-1.8211660014868283,-0.8668812966772147,-0.3738119450297486,-1.3078947438704553,-0.8990499054248187,1.4821422801658368,-0.45943939092853603,1.2373018388363508,-0.2740824268604862,0.9415219781682357,0.4514410714589517,0.17923826875106927,-1.1387690409563656,-0.8186931976761559,-0.1123853301811973,-0.5686710138609768,-1.2103825992077901,-0.35284549202668897,0.9906605504444056,-0.6745084460543134,1.3568812935888435,0.29684550804814563,-0.7231124713871573,1.9017902891920417,-0.5178673277578233,-1.0707119461609809,-0.2574649752292029,-0.57504830729504,0.5732014175121319,1.5440724399736447,-1.3465932141735566,-0.15040032943314166],\"xaxis\":\"x3\",\"y\":[-0.01667208869479953,0.6037503470629544,-0.28351149014731414,0.0216026878129016,0.1751687897703358,-0.7464757712873497,0.36612188033655946,1.5603681621800871,-0.4310426287934078,-0.40795947020774453,-0.6367278401219701,-1.0874168310844612,1.1698066413000878,-0.3066916909365898,1.1252351101197362,-1.2075223698484885,0.17673062821547475,-0.9895317582731459,0.9283196542513025,-0.5835587044089643,0.6902201487451626,-0.6455972284797273,1.7428152700098267,-1.4602586348752853,0.17593919995963694,0.5390588117799688,2.1207767856567727,1.2591692758771187,-0.17209273934779287,-0.366566956753178,-0.15331543661920066,0.08834728696166949,0.46909164345998144,0.7117073717263691,-1.123006297200311,0.20791917087926534,0.03840313876869264,0.9143191515646512,1.0356772091115893,0.44907932457214866,-0.38451117181962,-0.10228947216258112,0.9408916586961488,0.46082542099519913,0.5370618137962073,-0.11776168465227992,1.214265596966936,-0.8703436304770322,0.10740457078101891,0.3544977535785094,-0.9146086471251739,0.12808158542595066,-0.5426218229255564,1.1556505063233624,-0.7320625981927786,0.3973947239800183,-0.36711828716894135,0.4131382364285986,-0.819978944828114,-0.6864462990192921,-0.08551191306702406,-1.0865010798257977,-1.0817819236516397,-0.351388330509077,-0.5420249562951884,-0.06577023958226505,1.396824993267686,-1.0025865125331916,1.9923269253294456,-0.778359989476912,-0.6806007021133944,0.0402740148264282,-0.45542227594424267,1.3698478125158287,-0.6280302339215994,0.4044415920632114,0.37534727740862495,-0.957656480747998,0.691572236878223,-1.1873909229215367,1.2919297518408075,0.33667467848977395,-0.48006790969772334,-1.38797462206206,-1.0392939638716054,-0.37534975084431815,1.5813624436860207,-2.348410308085096,-0.9049476494213308,-2.656882930015167,1.561536057768945,0.5638875300946916,-0.47944682187429133,0.3539420600530498,-0.5135199779795387,-0.0906234411538603,-1.0406035600634143,1.9575152252883732,-1.8336226329156557,0.0005518196884569486],\"yaxis\":\"y3\",\"type\":\"scatter\"},{\"line\":{\"color\":\"rgba(128, 128, 128, 1.0)\",\"dash\":\"solid\",\"shape\":\"linear\",\"width\":1.3},\"marker\":{\"size\":2,\"symbol\":\"circle\"},\"mode\":\"markers\",\"name\":\"A\",\"text\":\"\",\"x\":[-0.6603970446001893,1.5191896878824074,0.47157691859381173,-0.11402564889979212,-0.053716799423909785,-1.5502356923778882,-0.014378962156916112,1.5541252446768037,-1.8319862677442142,0.2870698640525949,0.5918836805777782,-0.040440043045159066,-0.3784157236841967,-1.1102538280560401,0.3898304992138822,-0.12041932267168726,-0.32897296405194965,-1.2719073437508008,0.8312839639517363,-1.7174490762641748,-2.037621968311098,0.03594238402987565,0.2426892592715048,0.6032963725387461,1.586024565818138,-0.20998647828293887,0.41773429488465963,-0.12718417400144386,-1.8617937276976186,-0.9501270868213497,1.1630063275582174,-0.8908532575897277,-1.458148546542736,0.6098274869070641,1.3852801359870763,0.29789912350204667,-0.09400524997271618,-1.3173703834766386,-1.9613197691028332,-0.07856563642446635,-1.8180245748601593,0.04544497800788125,-0.19320476197828065,1.887173935958992,0.139798344377311,-0.8745790170624088,3.2329022255557867,-0.6797478844880496,-0.393180811785337,-1.1351954497917902,-0.5146996496927783,0.6484518213874361,-2.0443634020015304,1.6140677626713165,-0.20774295074218022,0.6294374427080781,0.6142927069828564,-1.0641720745579637,0.9160208306907005,-2.476821589877224,0.4412469793535054,1.1106436185071047,0.8136665642415195,0.8550094947124073,0.1873501644650864,-0.2013499244861351,1.3698286033274958,1.6141963233312788,0.2242251788114569,-1.2188668408435317,0.07877231112907117,-0.2899878195310393,0.2898655486814956,-1.0309490310582619,-0.9397769904382155,-0.49400023561811696,-2.0211915998521497,-0.1341006433522084,0.27386999796809863,-2.4210908385370518,0.47663856887878947,0.27969817189077245,-1.797812215024415,1.8291111224719392,-1.2855471127773832,1.4684108779508989,-0.029735490975398366,0.46676467942544614,-0.10088424426169866,1.4241028972087357,-0.2931767117004282,-1.097509066956472,0.5458458587551795,0.44022539134547684,1.4107152259445312,0.32276296543783956,-1.4473209430727028,-0.2238818954548833,-0.7923364925428673,-0.030062739397800905],\"xaxis\":\"x4\",\"y\":[-0.01667208869479953,0.6037503470629544,-0.28351149014731414,0.0216026878129016,0.1751687897703358,-0.7464757712873497,0.36612188033655946,1.5603681621800871,-0.4310426287934078,-0.40795947020774453,-0.6367278401219701,-1.0874168310844612,1.1698066413000878,-0.3066916909365898,1.1252351101197362,-1.2075223698484885,0.17673062821547475,-0.9895317582731459,0.9283196542513025,-0.5835587044089643,0.6902201487451626,-0.6455972284797273,1.7428152700098267,-1.4602586348752853,0.17593919995963694,0.5390588117799688,2.1207767856567727,1.2591692758771187,-0.17209273934779287,-0.366566956753178,-0.15331543661920066,0.08834728696166949,0.46909164345998144,0.7117073717263691,-1.123006297200311,0.20791917087926534,0.03840313876869264,0.9143191515646512,1.0356772091115893,0.44907932457214866,-0.38451117181962,-0.10228947216258112,0.9408916586961488,0.46082542099519913,0.5370618137962073,-0.11776168465227992,1.214265596966936,-0.8703436304770322,0.10740457078101891,0.3544977535785094,-0.9146086471251739,0.12808158542595066,-0.5426218229255564,1.1556505063233624,-0.7320625981927786,0.3973947239800183,-0.36711828716894135,0.4131382364285986,-0.819978944828114,-0.6864462990192921,-0.08551191306702406,-1.0865010798257977,-1.0817819236516397,-0.351388330509077,-0.5420249562951884,-0.06577023958226505,1.396824993267686,-1.0025865125331916,1.9923269253294456,-0.778359989476912,-0.6806007021133944,0.0402740148264282,-0.45542227594424267,1.3698478125158287,-0.6280302339215994,0.4044415920632114,0.37534727740862495,-0.957656480747998,0.691572236878223,-1.1873909229215367,1.2919297518408075,0.33667467848977395,-0.48006790969772334,-1.38797462206206,-1.0392939638716054,-0.37534975084431815,1.5813624436860207,-2.348410308085096,-0.9049476494213308,-2.656882930015167,1.561536057768945,0.5638875300946916,-0.47944682187429133,0.3539420600530498,-0.5135199779795387,-0.0906234411538603,-1.0406035600634143,1.9575152252883732,-1.8336226329156557,0.0005518196884569486],\"yaxis\":\"y4\",\"type\":\"scatter\"},{\"line\":{\"color\":\"rgba(128, 128, 128, 1.0)\",\"dash\":\"solid\",\"shape\":\"linear\",\"width\":1.3},\"marker\":{\"size\":2,\"symbol\":\"circle\"},\"mode\":\"markers\",\"name\":\"B\",\"text\":\"\",\"x\":[-0.01667208869479953,0.6037503470629544,-0.28351149014731414,0.0216026878129016,0.1751687897703358,-0.7464757712873497,0.36612188033655946,1.5603681621800871,-0.4310426287934078,-0.40795947020774453,-0.6367278401219701,-1.0874168310844612,1.1698066413000878,-0.3066916909365898,1.1252351101197362,-1.2075223698484885,0.17673062821547475,-0.9895317582731459,0.9283196542513025,-0.5835587044089643,0.6902201487451626,-0.6455972284797273,1.7428152700098267,-1.4602586348752853,0.17593919995963694,0.5390588117799688,2.1207767856567727,1.2591692758771187,-0.17209273934779287,-0.366566956753178,-0.15331543661920066,0.08834728696166949,0.46909164345998144,0.7117073717263691,-1.123006297200311,0.20791917087926534,0.03840313876869264,0.9143191515646512,1.0356772091115893,0.44907932457214866,-0.38451117181962,-0.10228947216258112,0.9408916586961488,0.46082542099519913,0.5370618137962073,-0.11776168465227992,1.214265596966936,-0.8703436304770322,0.10740457078101891,0.3544977535785094,-0.9146086471251739,0.12808158542595066,-0.5426218229255564,1.1556505063233624,-0.7320625981927786,0.3973947239800183,-0.36711828716894135,0.4131382364285986,-0.819978944828114,-0.6864462990192921,-0.08551191306702406,-1.0865010798257977,-1.0817819236516397,-0.351388330509077,-0.5420249562951884,-0.06577023958226505,1.396824993267686,-1.0025865125331916,1.9923269253294456,-0.778359989476912,-0.6806007021133944,0.0402740148264282,-0.45542227594424267,1.3698478125158287,-0.6280302339215994,0.4044415920632114,0.37534727740862495,-0.957656480747998,0.691572236878223,-1.1873909229215367,1.2919297518408075,0.33667467848977395,-0.48006790969772334,-1.38797462206206,-1.0392939638716054,-0.37534975084431815,1.5813624436860207,-2.348410308085096,-0.9049476494213308,-2.656882930015167,1.561536057768945,0.5638875300946916,-0.47944682187429133,0.3539420600530498,-0.5135199779795387,-0.0906234411538603,-1.0406035600634143,1.9575152252883732,-1.8336226329156557,0.0005518196884569486],\"xaxis\":\"x5\",\"y\":[-2.036158386653377,-0.7781816942974347,1.640792608476573,-0.4738608055981185,-0.36170747479840376,0.7170574090643116,-0.8901972640088935,0.15542111224360824,0.16842148205573518,-0.7624378404781994,0.6676445311926261,-0.5008312999875397,-0.14183629809542564,0.37770469615146307,1.177547024579085,-0.379578510137013,-0.7779969080814645,0.5369129846980254,0.3819636750976547,-0.8483530509658844,-0.8629937368086817,-1.5474167747744243,0.13599077249133737,-0.02370519789406686,0.8255708913577603,0.293639449547524,0.37850737435463583,-0.5086837226103097,0.4459407415852692,-0.5526591872367761,-0.9759789134411783,-0.14107027812456086,0.6827968128789753,-0.5704347120697848,0.2882354759654698,0.32201555158302814,-0.5792869703886953,0.6470959694849135,-0.7446533623021079,0.7088489240229382,0.5183027904959195,-0.7870559941595908,-0.3294836263221717,-0.840845736897288,-1.7859985371240894,-0.9087816084177032,-0.810103196119456,1.5851472901959138,1.2702325525750735,1.6810503424614647,-0.721541491810264,0.44211506970111,-0.3299773960399986,-0.1361012916371215,1.4162533790883198,-0.7915579015705827,0.9087815478659267,-0.36744419622196695,0.2605624041964697,0.43818409668521363,0.7009328503085128,0.2865205297562157,0.9699378427772057,2.0440071661428485,-2.164434885573739,-1.1558905699366222,0.6497490347234127,0.16245956749095322,-1.7138870454600397,-0.4331724808449435,-0.09748754649182939,-0.10479631959914548,-0.43353149021733123,-0.10187037619783064,-1.0564104724357057,-1.0555058271567033,0.09288054992141877,-0.2221697337192965,0.5323503361220058,-0.16101088097754562,0.7828781980514036,0.016206754381635557,-0.07773191734361144,-0.10256238294231157,-1.292394526699772,-0.22957938752731008,-1.6756411693309572,0.009428651355560447,-0.3789931812591254,0.5513478850352597,0.16629860929405813,-0.9098861056873205,-2.300633794465044,-0.9897923121378868,0.6632766469066379,0.60526923673236,-2.0090173721005544,-0.5156329401365136,1.1975640252955149,0.501908128260419],\"yaxis\":\"y5\",\"type\":\"scatter\"},{\"histfunc\":\"count\",\"histnorm\":\"\",\"marker\":{\"color\":\"rgba(55, 128, 191, 1.0)\",\"line\":{\"color\":\"#4D5663\",\"width\":1.3}},\"name\":\"B\",\"nbinsx\":10,\"opacity\":0.8,\"orientation\":\"v\",\"x\":[-2.036158386653377,-0.7781816942974347,1.640792608476573,-0.4738608055981185,-0.36170747479840376,0.7170574090643116,-0.8901972640088935,0.15542111224360824,0.16842148205573518,-0.7624378404781994,0.6676445311926261,-0.5008312999875397,-0.14183629809542564,0.37770469615146307,1.177547024579085,-0.379578510137013,-0.7779969080814645,0.5369129846980254,0.3819636750976547,-0.8483530509658844,-0.8629937368086817,-1.5474167747744243,0.13599077249133737,-0.02370519789406686,0.8255708913577603,0.293639449547524,0.37850737435463583,-0.5086837226103097,0.4459407415852692,-0.5526591872367761,-0.9759789134411783,-0.14107027812456086,0.6827968128789753,-0.5704347120697848,0.2882354759654698,0.32201555158302814,-0.5792869703886953,0.6470959694849135,-0.7446533623021079,0.7088489240229382,0.5183027904959195,-0.7870559941595908,-0.3294836263221717,-0.840845736897288,-1.7859985371240894,-0.9087816084177032,-0.810103196119456,1.5851472901959138,1.2702325525750735,1.6810503424614647,-0.721541491810264,0.44211506970111,-0.3299773960399986,-0.1361012916371215,1.4162533790883198,-0.7915579015705827,0.9087815478659267,-0.36744419622196695,0.2605624041964697,0.43818409668521363,0.7009328503085128,0.2865205297562157,0.9699378427772057,2.0440071661428485,-2.164434885573739,-1.1558905699366222,0.6497490347234127,0.16245956749095322,-1.7138870454600397,-0.4331724808449435,-0.09748754649182939,-0.10479631959914548,-0.43353149021733123,-0.10187037619783064,-1.0564104724357057,-1.0555058271567033,0.09288054992141877,-0.2221697337192965,0.5323503361220058,-0.16101088097754562,0.7828781980514036,0.016206754381635557,-0.07773191734361144,-0.10256238294231157,-1.292394526699772,-0.22957938752731008,-1.6756411693309572,0.009428651355560447,-0.3789931812591254,0.5513478850352597,0.16629860929405813,-0.9098861056873205,-2.300633794465044,-0.9897923121378868,0.6632766469066379,0.60526923673236,-2.0090173721005544,-0.5156329401365136,1.1975640252955149,0.501908128260419],\"xaxis\":\"x6\",\"yaxis\":\"y6\",\"type\":\"histogram\"},{\"line\":{\"color\":\"rgba(128, 128, 128, 1.0)\",\"dash\":\"solid\",\"shape\":\"linear\",\"width\":1.3},\"marker\":{\"size\":2,\"symbol\":\"circle\"},\"mode\":\"markers\",\"name\":\"B\",\"text\":\"\",\"x\":[-0.31514583740266267,-0.28510835080597086,0.3243117045744069,0.6876260843680956,1.4316838450944527,-0.2539176111685738,1.8314995425628757,1.303997904583354,2.0092656399860136,-0.5425063716925912,0.5208406987821578,-0.4598384972352967,-1.1410503454934207,2.7509589349959533,0.41091785277495074,-0.2438624989685957,-0.8361592314980884,-0.7023159493808567,0.7648732927000252,0.6332937281942047,-0.7953456242599859,-0.4400934240616856,-0.577906880167506,0.05297626602570358,0.7063058629070841,-1.1316993673106561,-1.229830280404116,2.7509901967839916,-1.715752671488742,1.0416119791023464,0.6571881571515092,0.8553501093407321,0.08248276270809378,-0.9013804318787658,-0.04374871025703826,0.32946504122848147,0.35768518128136656,-0.9934956218557267,0.5906835774442245,1.6115395326560833,-1.2096000153911886,-1.1278794002633734,-0.26060906735424477,0.7187210921020684,-0.08432377010288401,0.09637340679574283,0.0213005276856329,-0.61379071128084,-0.9352717987038517,0.5995764609074307,1.999750380620713,-1.8651652226301083,-0.9703453588222548,0.5169089650975354,-0.8952705858297897,-0.6296763109803356,0.2206410202708203,0.931205800217413,-0.3608398372799932,-0.05132983204531396,-0.6576701468424314,-2.210094763853348,-1.314061099541835,-0.07872298867142644,-0.9083492999219367,-0.5544195958094558,-0.6173065627582961,0.5375836290237022,-1.8211660014868283,-0.8668812966772147,-0.3738119450297486,-1.3078947438704553,-0.8990499054248187,1.4821422801658368,-0.45943939092853603,1.2373018388363508,-0.2740824268604862,0.9415219781682357,0.4514410714589517,0.17923826875106927,-1.1387690409563656,-0.8186931976761559,-0.1123853301811973,-0.5686710138609768,-1.2103825992077901,-0.35284549202668897,0.9906605504444056,-0.6745084460543134,1.3568812935888435,0.29684550804814563,-0.7231124713871573,1.9017902891920417,-0.5178673277578233,-1.0707119461609809,-0.2574649752292029,-0.57504830729504,0.5732014175121319,1.5440724399736447,-1.3465932141735566,-0.15040032943314166],\"xaxis\":\"x7\",\"y\":[-2.036158386653377,-0.7781816942974347,1.640792608476573,-0.4738608055981185,-0.36170747479840376,0.7170574090643116,-0.8901972640088935,0.15542111224360824,0.16842148205573518,-0.7624378404781994,0.6676445311926261,-0.5008312999875397,-0.14183629809542564,0.37770469615146307,1.177547024579085,-0.379578510137013,-0.7779969080814645,0.5369129846980254,0.3819636750976547,-0.8483530509658844,-0.8629937368086817,-1.5474167747744243,0.13599077249133737,-0.02370519789406686,0.8255708913577603,0.293639449547524,0.37850737435463583,-0.5086837226103097,0.4459407415852692,-0.5526591872367761,-0.9759789134411783,-0.14107027812456086,0.6827968128789753,-0.5704347120697848,0.2882354759654698,0.32201555158302814,-0.5792869703886953,0.6470959694849135,-0.7446533623021079,0.7088489240229382,0.5183027904959195,-0.7870559941595908,-0.3294836263221717,-0.840845736897288,-1.7859985371240894,-0.9087816084177032,-0.810103196119456,1.5851472901959138,1.2702325525750735,1.6810503424614647,-0.721541491810264,0.44211506970111,-0.3299773960399986,-0.1361012916371215,1.4162533790883198,-0.7915579015705827,0.9087815478659267,-0.36744419622196695,0.2605624041964697,0.43818409668521363,0.7009328503085128,0.2865205297562157,0.9699378427772057,2.0440071661428485,-2.164434885573739,-1.1558905699366222,0.6497490347234127,0.16245956749095322,-1.7138870454600397,-0.4331724808449435,-0.09748754649182939,-0.10479631959914548,-0.43353149021733123,-0.10187037619783064,-1.0564104724357057,-1.0555058271567033,0.09288054992141877,-0.2221697337192965,0.5323503361220058,-0.16101088097754562,0.7828781980514036,0.016206754381635557,-0.07773191734361144,-0.10256238294231157,-1.292394526699772,-0.22957938752731008,-1.6756411693309572,0.009428651355560447,-0.3789931812591254,0.5513478850352597,0.16629860929405813,-0.9098861056873205,-2.300633794465044,-0.9897923121378868,0.6632766469066379,0.60526923673236,-2.0090173721005544,-0.5156329401365136,1.1975640252955149,0.501908128260419],\"yaxis\":\"y7\",\"type\":\"scatter\"},{\"line\":{\"color\":\"rgba(128, 128, 128, 1.0)\",\"dash\":\"solid\",\"shape\":\"linear\",\"width\":1.3},\"marker\":{\"size\":2,\"symbol\":\"circle\"},\"mode\":\"markers\",\"name\":\"B\",\"text\":\"\",\"x\":[-0.6603970446001893,1.5191896878824074,0.47157691859381173,-0.11402564889979212,-0.053716799423909785,-1.5502356923778882,-0.014378962156916112,1.5541252446768037,-1.8319862677442142,0.2870698640525949,0.5918836805777782,-0.040440043045159066,-0.3784157236841967,-1.1102538280560401,0.3898304992138822,-0.12041932267168726,-0.32897296405194965,-1.2719073437508008,0.8312839639517363,-1.7174490762641748,-2.037621968311098,0.03594238402987565,0.2426892592715048,0.6032963725387461,1.586024565818138,-0.20998647828293887,0.41773429488465963,-0.12718417400144386,-1.8617937276976186,-0.9501270868213497,1.1630063275582174,-0.8908532575897277,-1.458148546542736,0.6098274869070641,1.3852801359870763,0.29789912350204667,-0.09400524997271618,-1.3173703834766386,-1.9613197691028332,-0.07856563642446635,-1.8180245748601593,0.04544497800788125,-0.19320476197828065,1.887173935958992,0.139798344377311,-0.8745790170624088,3.2329022255557867,-0.6797478844880496,-0.393180811785337,-1.1351954497917902,-0.5146996496927783,0.6484518213874361,-2.0443634020015304,1.6140677626713165,-0.20774295074218022,0.6294374427080781,0.6142927069828564,-1.0641720745579637,0.9160208306907005,-2.476821589877224,0.4412469793535054,1.1106436185071047,0.8136665642415195,0.8550094947124073,0.1873501644650864,-0.2013499244861351,1.3698286033274958,1.6141963233312788,0.2242251788114569,-1.2188668408435317,0.07877231112907117,-0.2899878195310393,0.2898655486814956,-1.0309490310582619,-0.9397769904382155,-0.49400023561811696,-2.0211915998521497,-0.1341006433522084,0.27386999796809863,-2.4210908385370518,0.47663856887878947,0.27969817189077245,-1.797812215024415,1.8291111224719392,-1.2855471127773832,1.4684108779508989,-0.029735490975398366,0.46676467942544614,-0.10088424426169866,1.4241028972087357,-0.2931767117004282,-1.097509066956472,0.5458458587551795,0.44022539134547684,1.4107152259445312,0.32276296543783956,-1.4473209430727028,-0.2238818954548833,-0.7923364925428673,-0.030062739397800905],\"xaxis\":\"x8\",\"y\":[-2.036158386653377,-0.7781816942974347,1.640792608476573,-0.4738608055981185,-0.36170747479840376,0.7170574090643116,-0.8901972640088935,0.15542111224360824,0.16842148205573518,-0.7624378404781994,0.6676445311926261,-0.5008312999875397,-0.14183629809542564,0.37770469615146307,1.177547024579085,-0.379578510137013,-0.7779969080814645,0.5369129846980254,0.3819636750976547,-0.8483530509658844,-0.8629937368086817,-1.5474167747744243,0.13599077249133737,-0.02370519789406686,0.8255708913577603,0.293639449547524,0.37850737435463583,-0.5086837226103097,0.4459407415852692,-0.5526591872367761,-0.9759789134411783,-0.14107027812456086,0.6827968128789753,-0.5704347120697848,0.2882354759654698,0.32201555158302814,-0.5792869703886953,0.6470959694849135,-0.7446533623021079,0.7088489240229382,0.5183027904959195,-0.7870559941595908,-0.3294836263221717,-0.840845736897288,-1.7859985371240894,-0.9087816084177032,-0.810103196119456,1.5851472901959138,1.2702325525750735,1.6810503424614647,-0.721541491810264,0.44211506970111,-0.3299773960399986,-0.1361012916371215,1.4162533790883198,-0.7915579015705827,0.9087815478659267,-0.36744419622196695,0.2605624041964697,0.43818409668521363,0.7009328503085128,0.2865205297562157,0.9699378427772057,2.0440071661428485,-2.164434885573739,-1.1558905699366222,0.6497490347234127,0.16245956749095322,-1.7138870454600397,-0.4331724808449435,-0.09748754649182939,-0.10479631959914548,-0.43353149021733123,-0.10187037619783064,-1.0564104724357057,-1.0555058271567033,0.09288054992141877,-0.2221697337192965,0.5323503361220058,-0.16101088097754562,0.7828781980514036,0.016206754381635557,-0.07773191734361144,-0.10256238294231157,-1.292394526699772,-0.22957938752731008,-1.6756411693309572,0.009428651355560447,-0.3789931812591254,0.5513478850352597,0.16629860929405813,-0.9098861056873205,-2.300633794465044,-0.9897923121378868,0.6632766469066379,0.60526923673236,-2.0090173721005544,-0.5156329401365136,1.1975640252955149,0.501908128260419],\"yaxis\":\"y8\",\"type\":\"scatter\"},{\"line\":{\"color\":\"rgba(128, 128, 128, 1.0)\",\"dash\":\"solid\",\"shape\":\"linear\",\"width\":1.3},\"marker\":{\"size\":2,\"symbol\":\"circle\"},\"mode\":\"markers\",\"name\":\"C\",\"text\":\"\",\"x\":[-0.01667208869479953,0.6037503470629544,-0.28351149014731414,0.0216026878129016,0.1751687897703358,-0.7464757712873497,0.36612188033655946,1.5603681621800871,-0.4310426287934078,-0.40795947020774453,-0.6367278401219701,-1.0874168310844612,1.1698066413000878,-0.3066916909365898,1.1252351101197362,-1.2075223698484885,0.17673062821547475,-0.9895317582731459,0.9283196542513025,-0.5835587044089643,0.6902201487451626,-0.6455972284797273,1.7428152700098267,-1.4602586348752853,0.17593919995963694,0.5390588117799688,2.1207767856567727,1.2591692758771187,-0.17209273934779287,-0.366566956753178,-0.15331543661920066,0.08834728696166949,0.46909164345998144,0.7117073717263691,-1.123006297200311,0.20791917087926534,0.03840313876869264,0.9143191515646512,1.0356772091115893,0.44907932457214866,-0.38451117181962,-0.10228947216258112,0.9408916586961488,0.46082542099519913,0.5370618137962073,-0.11776168465227992,1.214265596966936,-0.8703436304770322,0.10740457078101891,0.3544977535785094,-0.9146086471251739,0.12808158542595066,-0.5426218229255564,1.1556505063233624,-0.7320625981927786,0.3973947239800183,-0.36711828716894135,0.4131382364285986,-0.819978944828114,-0.6864462990192921,-0.08551191306702406,-1.0865010798257977,-1.0817819236516397,-0.351388330509077,-0.5420249562951884,-0.06577023958226505,1.396824993267686,-1.0025865125331916,1.9923269253294456,-0.778359989476912,-0.6806007021133944,0.0402740148264282,-0.45542227594424267,1.3698478125158287,-0.6280302339215994,0.4044415920632114,0.37534727740862495,-0.957656480747998,0.691572236878223,-1.1873909229215367,1.2919297518408075,0.33667467848977395,-0.48006790969772334,-1.38797462206206,-1.0392939638716054,-0.37534975084431815,1.5813624436860207,-2.348410308085096,-0.9049476494213308,-2.656882930015167,1.561536057768945,0.5638875300946916,-0.47944682187429133,0.3539420600530498,-0.5135199779795387,-0.0906234411538603,-1.0406035600634143,1.9575152252883732,-1.8336226329156557,0.0005518196884569486],\"xaxis\":\"x9\",\"y\":[-0.31514583740266267,-0.28510835080597086,0.3243117045744069,0.6876260843680956,1.4316838450944527,-0.2539176111685738,1.8314995425628757,1.303997904583354,2.0092656399860136,-0.5425063716925912,0.5208406987821578,-0.4598384972352967,-1.1410503454934207,2.7509589349959533,0.41091785277495074,-0.2438624989685957,-0.8361592314980884,-0.7023159493808567,0.7648732927000252,0.6332937281942047,-0.7953456242599859,-0.4400934240616856,-0.577906880167506,0.05297626602570358,0.7063058629070841,-1.1316993673106561,-1.229830280404116,2.7509901967839916,-1.715752671488742,1.0416119791023464,0.6571881571515092,0.8553501093407321,0.08248276270809378,-0.9013804318787658,-0.04374871025703826,0.32946504122848147,0.35768518128136656,-0.9934956218557267,0.5906835774442245,1.6115395326560833,-1.2096000153911886,-1.1278794002633734,-0.26060906735424477,0.7187210921020684,-0.08432377010288401,0.09637340679574283,0.0213005276856329,-0.61379071128084,-0.9352717987038517,0.5995764609074307,1.999750380620713,-1.8651652226301083,-0.9703453588222548,0.5169089650975354,-0.8952705858297897,-0.6296763109803356,0.2206410202708203,0.931205800217413,-0.3608398372799932,-0.05132983204531396,-0.6576701468424314,-2.210094763853348,-1.314061099541835,-0.07872298867142644,-0.9083492999219367,-0.5544195958094558,-0.6173065627582961,0.5375836290237022,-1.8211660014868283,-0.8668812966772147,-0.3738119450297486,-1.3078947438704553,-0.8990499054248187,1.4821422801658368,-0.45943939092853603,1.2373018388363508,-0.2740824268604862,0.9415219781682357,0.4514410714589517,0.17923826875106927,-1.1387690409563656,-0.8186931976761559,-0.1123853301811973,-0.5686710138609768,-1.2103825992077901,-0.35284549202668897,0.9906605504444056,-0.6745084460543134,1.3568812935888435,0.29684550804814563,-0.7231124713871573,1.9017902891920417,-0.5178673277578233,-1.0707119461609809,-0.2574649752292029,-0.57504830729504,0.5732014175121319,1.5440724399736447,-1.3465932141735566,-0.15040032943314166],\"yaxis\":\"y9\",\"type\":\"scatter\"},{\"line\":{\"color\":\"rgba(128, 128, 128, 1.0)\",\"dash\":\"solid\",\"shape\":\"linear\",\"width\":1.3},\"marker\":{\"size\":2,\"symbol\":\"circle\"},\"mode\":\"markers\",\"name\":\"C\",\"text\":\"\",\"x\":[-2.036158386653377,-0.7781816942974347,1.640792608476573,-0.4738608055981185,-0.36170747479840376,0.7170574090643116,-0.8901972640088935,0.15542111224360824,0.16842148205573518,-0.7624378404781994,0.6676445311926261,-0.5008312999875397,-0.14183629809542564,0.37770469615146307,1.177547024579085,-0.379578510137013,-0.7779969080814645,0.5369129846980254,0.3819636750976547,-0.8483530509658844,-0.8629937368086817,-1.5474167747744243,0.13599077249133737,-0.02370519789406686,0.8255708913577603,0.293639449547524,0.37850737435463583,-0.5086837226103097,0.4459407415852692,-0.5526591872367761,-0.9759789134411783,-0.14107027812456086,0.6827968128789753,-0.5704347120697848,0.2882354759654698,0.32201555158302814,-0.5792869703886953,0.6470959694849135,-0.7446533623021079,0.7088489240229382,0.5183027904959195,-0.7870559941595908,-0.3294836263221717,-0.840845736897288,-1.7859985371240894,-0.9087816084177032,-0.810103196119456,1.5851472901959138,1.2702325525750735,1.6810503424614647,-0.721541491810264,0.44211506970111,-0.3299773960399986,-0.1361012916371215,1.4162533790883198,-0.7915579015705827,0.9087815478659267,-0.36744419622196695,0.2605624041964697,0.43818409668521363,0.7009328503085128,0.2865205297562157,0.9699378427772057,2.0440071661428485,-2.164434885573739,-1.1558905699366222,0.6497490347234127,0.16245956749095322,-1.7138870454600397,-0.4331724808449435,-0.09748754649182939,-0.10479631959914548,-0.43353149021733123,-0.10187037619783064,-1.0564104724357057,-1.0555058271567033,0.09288054992141877,-0.2221697337192965,0.5323503361220058,-0.16101088097754562,0.7828781980514036,0.016206754381635557,-0.07773191734361144,-0.10256238294231157,-1.292394526699772,-0.22957938752731008,-1.6756411693309572,0.009428651355560447,-0.3789931812591254,0.5513478850352597,0.16629860929405813,-0.9098861056873205,-2.300633794465044,-0.9897923121378868,0.6632766469066379,0.60526923673236,-2.0090173721005544,-0.5156329401365136,1.1975640252955149,0.501908128260419],\"xaxis\":\"x10\",\"y\":[-0.31514583740266267,-0.28510835080597086,0.3243117045744069,0.6876260843680956,1.4316838450944527,-0.2539176111685738,1.8314995425628757,1.303997904583354,2.0092656399860136,-0.5425063716925912,0.5208406987821578,-0.4598384972352967,-1.1410503454934207,2.7509589349959533,0.41091785277495074,-0.2438624989685957,-0.8361592314980884,-0.7023159493808567,0.7648732927000252,0.6332937281942047,-0.7953456242599859,-0.4400934240616856,-0.577906880167506,0.05297626602570358,0.7063058629070841,-1.1316993673106561,-1.229830280404116,2.7509901967839916,-1.715752671488742,1.0416119791023464,0.6571881571515092,0.8553501093407321,0.08248276270809378,-0.9013804318787658,-0.04374871025703826,0.32946504122848147,0.35768518128136656,-0.9934956218557267,0.5906835774442245,1.6115395326560833,-1.2096000153911886,-1.1278794002633734,-0.26060906735424477,0.7187210921020684,-0.08432377010288401,0.09637340679574283,0.0213005276856329,-0.61379071128084,-0.9352717987038517,0.5995764609074307,1.999750380620713,-1.8651652226301083,-0.9703453588222548,0.5169089650975354,-0.8952705858297897,-0.6296763109803356,0.2206410202708203,0.931205800217413,-0.3608398372799932,-0.05132983204531396,-0.6576701468424314,-2.210094763853348,-1.314061099541835,-0.07872298867142644,-0.9083492999219367,-0.5544195958094558,-0.6173065627582961,0.5375836290237022,-1.8211660014868283,-0.8668812966772147,-0.3738119450297486,-1.3078947438704553,-0.8990499054248187,1.4821422801658368,-0.45943939092853603,1.2373018388363508,-0.2740824268604862,0.9415219781682357,0.4514410714589517,0.17923826875106927,-1.1387690409563656,-0.8186931976761559,-0.1123853301811973,-0.5686710138609768,-1.2103825992077901,-0.35284549202668897,0.9906605504444056,-0.6745084460543134,1.3568812935888435,0.29684550804814563,-0.7231124713871573,1.9017902891920417,-0.5178673277578233,-1.0707119461609809,-0.2574649752292029,-0.57504830729504,0.5732014175121319,1.5440724399736447,-1.3465932141735566,-0.15040032943314166],\"yaxis\":\"y10\",\"type\":\"scatter\"},{\"histfunc\":\"count\",\"histnorm\":\"\",\"marker\":{\"color\":\"rgba(50, 171, 96, 1.0)\",\"line\":{\"color\":\"#4D5663\",\"width\":1.3}},\"name\":\"C\",\"nbinsx\":10,\"opacity\":0.8,\"orientation\":\"v\",\"x\":[-0.31514583740266267,-0.28510835080597086,0.3243117045744069,0.6876260843680956,1.4316838450944527,-0.2539176111685738,1.8314995425628757,1.303997904583354,2.0092656399860136,-0.5425063716925912,0.5208406987821578,-0.4598384972352967,-1.1410503454934207,2.7509589349959533,0.41091785277495074,-0.2438624989685957,-0.8361592314980884,-0.7023159493808567,0.7648732927000252,0.6332937281942047,-0.7953456242599859,-0.4400934240616856,-0.577906880167506,0.05297626602570358,0.7063058629070841,-1.1316993673106561,-1.229830280404116,2.7509901967839916,-1.715752671488742,1.0416119791023464,0.6571881571515092,0.8553501093407321,0.08248276270809378,-0.9013804318787658,-0.04374871025703826,0.32946504122848147,0.35768518128136656,-0.9934956218557267,0.5906835774442245,1.6115395326560833,-1.2096000153911886,-1.1278794002633734,-0.26060906735424477,0.7187210921020684,-0.08432377010288401,0.09637340679574283,0.0213005276856329,-0.61379071128084,-0.9352717987038517,0.5995764609074307,1.999750380620713,-1.8651652226301083,-0.9703453588222548,0.5169089650975354,-0.8952705858297897,-0.6296763109803356,0.2206410202708203,0.931205800217413,-0.3608398372799932,-0.05132983204531396,-0.6576701468424314,-2.210094763853348,-1.314061099541835,-0.07872298867142644,-0.9083492999219367,-0.5544195958094558,-0.6173065627582961,0.5375836290237022,-1.8211660014868283,-0.8668812966772147,-0.3738119450297486,-1.3078947438704553,-0.8990499054248187,1.4821422801658368,-0.45943939092853603,1.2373018388363508,-0.2740824268604862,0.9415219781682357,0.4514410714589517,0.17923826875106927,-1.1387690409563656,-0.8186931976761559,-0.1123853301811973,-0.5686710138609768,-1.2103825992077901,-0.35284549202668897,0.9906605504444056,-0.6745084460543134,1.3568812935888435,0.29684550804814563,-0.7231124713871573,1.9017902891920417,-0.5178673277578233,-1.0707119461609809,-0.2574649752292029,-0.57504830729504,0.5732014175121319,1.5440724399736447,-1.3465932141735566,-0.15040032943314166],\"xaxis\":\"x11\",\"yaxis\":\"y11\",\"type\":\"histogram\"},{\"line\":{\"color\":\"rgba(128, 128, 128, 1.0)\",\"dash\":\"solid\",\"shape\":\"linear\",\"width\":1.3},\"marker\":{\"size\":2,\"symbol\":\"circle\"},\"mode\":\"markers\",\"name\":\"C\",\"text\":\"\",\"x\":[-0.6603970446001893,1.5191896878824074,0.47157691859381173,-0.11402564889979212,-0.053716799423909785,-1.5502356923778882,-0.014378962156916112,1.5541252446768037,-1.8319862677442142,0.2870698640525949,0.5918836805777782,-0.040440043045159066,-0.3784157236841967,-1.1102538280560401,0.3898304992138822,-0.12041932267168726,-0.32897296405194965,-1.2719073437508008,0.8312839639517363,-1.7174490762641748,-2.037621968311098,0.03594238402987565,0.2426892592715048,0.6032963725387461,1.586024565818138,-0.20998647828293887,0.41773429488465963,-0.12718417400144386,-1.8617937276976186,-0.9501270868213497,1.1630063275582174,-0.8908532575897277,-1.458148546542736,0.6098274869070641,1.3852801359870763,0.29789912350204667,-0.09400524997271618,-1.3173703834766386,-1.9613197691028332,-0.07856563642446635,-1.8180245748601593,0.04544497800788125,-0.19320476197828065,1.887173935958992,0.139798344377311,-0.8745790170624088,3.2329022255557867,-0.6797478844880496,-0.393180811785337,-1.1351954497917902,-0.5146996496927783,0.6484518213874361,-2.0443634020015304,1.6140677626713165,-0.20774295074218022,0.6294374427080781,0.6142927069828564,-1.0641720745579637,0.9160208306907005,-2.476821589877224,0.4412469793535054,1.1106436185071047,0.8136665642415195,0.8550094947124073,0.1873501644650864,-0.2013499244861351,1.3698286033274958,1.6141963233312788,0.2242251788114569,-1.2188668408435317,0.07877231112907117,-0.2899878195310393,0.2898655486814956,-1.0309490310582619,-0.9397769904382155,-0.49400023561811696,-2.0211915998521497,-0.1341006433522084,0.27386999796809863,-2.4210908385370518,0.47663856887878947,0.27969817189077245,-1.797812215024415,1.8291111224719392,-1.2855471127773832,1.4684108779508989,-0.029735490975398366,0.46676467942544614,-0.10088424426169866,1.4241028972087357,-0.2931767117004282,-1.097509066956472,0.5458458587551795,0.44022539134547684,1.4107152259445312,0.32276296543783956,-1.4473209430727028,-0.2238818954548833,-0.7923364925428673,-0.030062739397800905],\"xaxis\":\"x12\",\"y\":[-0.31514583740266267,-0.28510835080597086,0.3243117045744069,0.6876260843680956,1.4316838450944527,-0.2539176111685738,1.8314995425628757,1.303997904583354,2.0092656399860136,-0.5425063716925912,0.5208406987821578,-0.4598384972352967,-1.1410503454934207,2.7509589349959533,0.41091785277495074,-0.2438624989685957,-0.8361592314980884,-0.7023159493808567,0.7648732927000252,0.6332937281942047,-0.7953456242599859,-0.4400934240616856,-0.577906880167506,0.05297626602570358,0.7063058629070841,-1.1316993673106561,-1.229830280404116,2.7509901967839916,-1.715752671488742,1.0416119791023464,0.6571881571515092,0.8553501093407321,0.08248276270809378,-0.9013804318787658,-0.04374871025703826,0.32946504122848147,0.35768518128136656,-0.9934956218557267,0.5906835774442245,1.6115395326560833,-1.2096000153911886,-1.1278794002633734,-0.26060906735424477,0.7187210921020684,-0.08432377010288401,0.09637340679574283,0.0213005276856329,-0.61379071128084,-0.9352717987038517,0.5995764609074307,1.999750380620713,-1.8651652226301083,-0.9703453588222548,0.5169089650975354,-0.8952705858297897,-0.6296763109803356,0.2206410202708203,0.931205800217413,-0.3608398372799932,-0.05132983204531396,-0.6576701468424314,-2.210094763853348,-1.314061099541835,-0.07872298867142644,-0.9083492999219367,-0.5544195958094558,-0.6173065627582961,0.5375836290237022,-1.8211660014868283,-0.8668812966772147,-0.3738119450297486,-1.3078947438704553,-0.8990499054248187,1.4821422801658368,-0.45943939092853603,1.2373018388363508,-0.2740824268604862,0.9415219781682357,0.4514410714589517,0.17923826875106927,-1.1387690409563656,-0.8186931976761559,-0.1123853301811973,-0.5686710138609768,-1.2103825992077901,-0.35284549202668897,0.9906605504444056,-0.6745084460543134,1.3568812935888435,0.29684550804814563,-0.7231124713871573,1.9017902891920417,-0.5178673277578233,-1.0707119461609809,-0.2574649752292029,-0.57504830729504,0.5732014175121319,1.5440724399736447,-1.3465932141735566,-0.15040032943314166],\"yaxis\":\"y12\",\"type\":\"scatter\"},{\"line\":{\"color\":\"rgba(128, 128, 128, 1.0)\",\"dash\":\"solid\",\"shape\":\"linear\",\"width\":1.3},\"marker\":{\"size\":2,\"symbol\":\"circle\"},\"mode\":\"markers\",\"name\":\"D\",\"text\":\"\",\"x\":[-0.01667208869479953,0.6037503470629544,-0.28351149014731414,0.0216026878129016,0.1751687897703358,-0.7464757712873497,0.36612188033655946,1.5603681621800871,-0.4310426287934078,-0.40795947020774453,-0.6367278401219701,-1.0874168310844612,1.1698066413000878,-0.3066916909365898,1.1252351101197362,-1.2075223698484885,0.17673062821547475,-0.9895317582731459,0.9283196542513025,-0.5835587044089643,0.6902201487451626,-0.6455972284797273,1.7428152700098267,-1.4602586348752853,0.17593919995963694,0.5390588117799688,2.1207767856567727,1.2591692758771187,-0.17209273934779287,-0.366566956753178,-0.15331543661920066,0.08834728696166949,0.46909164345998144,0.7117073717263691,-1.123006297200311,0.20791917087926534,0.03840313876869264,0.9143191515646512,1.0356772091115893,0.44907932457214866,-0.38451117181962,-0.10228947216258112,0.9408916586961488,0.46082542099519913,0.5370618137962073,-0.11776168465227992,1.214265596966936,-0.8703436304770322,0.10740457078101891,0.3544977535785094,-0.9146086471251739,0.12808158542595066,-0.5426218229255564,1.1556505063233624,-0.7320625981927786,0.3973947239800183,-0.36711828716894135,0.4131382364285986,-0.819978944828114,-0.6864462990192921,-0.08551191306702406,-1.0865010798257977,-1.0817819236516397,-0.351388330509077,-0.5420249562951884,-0.06577023958226505,1.396824993267686,-1.0025865125331916,1.9923269253294456,-0.778359989476912,-0.6806007021133944,0.0402740148264282,-0.45542227594424267,1.3698478125158287,-0.6280302339215994,0.4044415920632114,0.37534727740862495,-0.957656480747998,0.691572236878223,-1.1873909229215367,1.2919297518408075,0.33667467848977395,-0.48006790969772334,-1.38797462206206,-1.0392939638716054,-0.37534975084431815,1.5813624436860207,-2.348410308085096,-0.9049476494213308,-2.656882930015167,1.561536057768945,0.5638875300946916,-0.47944682187429133,0.3539420600530498,-0.5135199779795387,-0.0906234411538603,-1.0406035600634143,1.9575152252883732,-1.8336226329156557,0.0005518196884569486],\"xaxis\":\"x13\",\"y\":[-0.6603970446001893,1.5191896878824074,0.47157691859381173,-0.11402564889979212,-0.053716799423909785,-1.5502356923778882,-0.014378962156916112,1.5541252446768037,-1.8319862677442142,0.2870698640525949,0.5918836805777782,-0.040440043045159066,-0.3784157236841967,-1.1102538280560401,0.3898304992138822,-0.12041932267168726,-0.32897296405194965,-1.2719073437508008,0.8312839639517363,-1.7174490762641748,-2.037621968311098,0.03594238402987565,0.2426892592715048,0.6032963725387461,1.586024565818138,-0.20998647828293887,0.41773429488465963,-0.12718417400144386,-1.8617937276976186,-0.9501270868213497,1.1630063275582174,-0.8908532575897277,-1.458148546542736,0.6098274869070641,1.3852801359870763,0.29789912350204667,-0.09400524997271618,-1.3173703834766386,-1.9613197691028332,-0.07856563642446635,-1.8180245748601593,0.04544497800788125,-0.19320476197828065,1.887173935958992,0.139798344377311,-0.8745790170624088,3.2329022255557867,-0.6797478844880496,-0.393180811785337,-1.1351954497917902,-0.5146996496927783,0.6484518213874361,-2.0443634020015304,1.6140677626713165,-0.20774295074218022,0.6294374427080781,0.6142927069828564,-1.0641720745579637,0.9160208306907005,-2.476821589877224,0.4412469793535054,1.1106436185071047,0.8136665642415195,0.8550094947124073,0.1873501644650864,-0.2013499244861351,1.3698286033274958,1.6141963233312788,0.2242251788114569,-1.2188668408435317,0.07877231112907117,-0.2899878195310393,0.2898655486814956,-1.0309490310582619,-0.9397769904382155,-0.49400023561811696,-2.0211915998521497,-0.1341006433522084,0.27386999796809863,-2.4210908385370518,0.47663856887878947,0.27969817189077245,-1.797812215024415,1.8291111224719392,-1.2855471127773832,1.4684108779508989,-0.029735490975398366,0.46676467942544614,-0.10088424426169866,1.4241028972087357,-0.2931767117004282,-1.097509066956472,0.5458458587551795,0.44022539134547684,1.4107152259445312,0.32276296543783956,-1.4473209430727028,-0.2238818954548833,-0.7923364925428673,-0.030062739397800905],\"yaxis\":\"y13\",\"type\":\"scatter\"},{\"line\":{\"color\":\"rgba(128, 128, 128, 1.0)\",\"dash\":\"solid\",\"shape\":\"linear\",\"width\":1.3},\"marker\":{\"size\":2,\"symbol\":\"circle\"},\"mode\":\"markers\",\"name\":\"D\",\"text\":\"\",\"x\":[-2.036158386653377,-0.7781816942974347,1.640792608476573,-0.4738608055981185,-0.36170747479840376,0.7170574090643116,-0.8901972640088935,0.15542111224360824,0.16842148205573518,-0.7624378404781994,0.6676445311926261,-0.5008312999875397,-0.14183629809542564,0.37770469615146307,1.177547024579085,-0.379578510137013,-0.7779969080814645,0.5369129846980254,0.3819636750976547,-0.8483530509658844,-0.8629937368086817,-1.5474167747744243,0.13599077249133737,-0.02370519789406686,0.8255708913577603,0.293639449547524,0.37850737435463583,-0.5086837226103097,0.4459407415852692,-0.5526591872367761,-0.9759789134411783,-0.14107027812456086,0.6827968128789753,-0.5704347120697848,0.2882354759654698,0.32201555158302814,-0.5792869703886953,0.6470959694849135,-0.7446533623021079,0.7088489240229382,0.5183027904959195,-0.7870559941595908,-0.3294836263221717,-0.840845736897288,-1.7859985371240894,-0.9087816084177032,-0.810103196119456,1.5851472901959138,1.2702325525750735,1.6810503424614647,-0.721541491810264,0.44211506970111,-0.3299773960399986,-0.1361012916371215,1.4162533790883198,-0.7915579015705827,0.9087815478659267,-0.36744419622196695,0.2605624041964697,0.43818409668521363,0.7009328503085128,0.2865205297562157,0.9699378427772057,2.0440071661428485,-2.164434885573739,-1.1558905699366222,0.6497490347234127,0.16245956749095322,-1.7138870454600397,-0.4331724808449435,-0.09748754649182939,-0.10479631959914548,-0.43353149021733123,-0.10187037619783064,-1.0564104724357057,-1.0555058271567033,0.09288054992141877,-0.2221697337192965,0.5323503361220058,-0.16101088097754562,0.7828781980514036,0.016206754381635557,-0.07773191734361144,-0.10256238294231157,-1.292394526699772,-0.22957938752731008,-1.6756411693309572,0.009428651355560447,-0.3789931812591254,0.5513478850352597,0.16629860929405813,-0.9098861056873205,-2.300633794465044,-0.9897923121378868,0.6632766469066379,0.60526923673236,-2.0090173721005544,-0.5156329401365136,1.1975640252955149,0.501908128260419],\"xaxis\":\"x14\",\"y\":[-0.6603970446001893,1.5191896878824074,0.47157691859381173,-0.11402564889979212,-0.053716799423909785,-1.5502356923778882,-0.014378962156916112,1.5541252446768037,-1.8319862677442142,0.2870698640525949,0.5918836805777782,-0.040440043045159066,-0.3784157236841967,-1.1102538280560401,0.3898304992138822,-0.12041932267168726,-0.32897296405194965,-1.2719073437508008,0.8312839639517363,-1.7174490762641748,-2.037621968311098,0.03594238402987565,0.2426892592715048,0.6032963725387461,1.586024565818138,-0.20998647828293887,0.41773429488465963,-0.12718417400144386,-1.8617937276976186,-0.9501270868213497,1.1630063275582174,-0.8908532575897277,-1.458148546542736,0.6098274869070641,1.3852801359870763,0.29789912350204667,-0.09400524997271618,-1.3173703834766386,-1.9613197691028332,-0.07856563642446635,-1.8180245748601593,0.04544497800788125,-0.19320476197828065,1.887173935958992,0.139798344377311,-0.8745790170624088,3.2329022255557867,-0.6797478844880496,-0.393180811785337,-1.1351954497917902,-0.5146996496927783,0.6484518213874361,-2.0443634020015304,1.6140677626713165,-0.20774295074218022,0.6294374427080781,0.6142927069828564,-1.0641720745579637,0.9160208306907005,-2.476821589877224,0.4412469793535054,1.1106436185071047,0.8136665642415195,0.8550094947124073,0.1873501644650864,-0.2013499244861351,1.3698286033274958,1.6141963233312788,0.2242251788114569,-1.2188668408435317,0.07877231112907117,-0.2899878195310393,0.2898655486814956,-1.0309490310582619,-0.9397769904382155,-0.49400023561811696,-2.0211915998521497,-0.1341006433522084,0.27386999796809863,-2.4210908385370518,0.47663856887878947,0.27969817189077245,-1.797812215024415,1.8291111224719392,-1.2855471127773832,1.4684108779508989,-0.029735490975398366,0.46676467942544614,-0.10088424426169866,1.4241028972087357,-0.2931767117004282,-1.097509066956472,0.5458458587551795,0.44022539134547684,1.4107152259445312,0.32276296543783956,-1.4473209430727028,-0.2238818954548833,-0.7923364925428673,-0.030062739397800905],\"yaxis\":\"y14\",\"type\":\"scatter\"},{\"line\":{\"color\":\"rgba(128, 128, 128, 1.0)\",\"dash\":\"solid\",\"shape\":\"linear\",\"width\":1.3},\"marker\":{\"size\":2,\"symbol\":\"circle\"},\"mode\":\"markers\",\"name\":\"D\",\"text\":\"\",\"x\":[-0.31514583740266267,-0.28510835080597086,0.3243117045744069,0.6876260843680956,1.4316838450944527,-0.2539176111685738,1.8314995425628757,1.303997904583354,2.0092656399860136,-0.5425063716925912,0.5208406987821578,-0.4598384972352967,-1.1410503454934207,2.7509589349959533,0.41091785277495074,-0.2438624989685957,-0.8361592314980884,-0.7023159493808567,0.7648732927000252,0.6332937281942047,-0.7953456242599859,-0.4400934240616856,-0.577906880167506,0.05297626602570358,0.7063058629070841,-1.1316993673106561,-1.229830280404116,2.7509901967839916,-1.715752671488742,1.0416119791023464,0.6571881571515092,0.8553501093407321,0.08248276270809378,-0.9013804318787658,-0.04374871025703826,0.32946504122848147,0.35768518128136656,-0.9934956218557267,0.5906835774442245,1.6115395326560833,-1.2096000153911886,-1.1278794002633734,-0.26060906735424477,0.7187210921020684,-0.08432377010288401,0.09637340679574283,0.0213005276856329,-0.61379071128084,-0.9352717987038517,0.5995764609074307,1.999750380620713,-1.8651652226301083,-0.9703453588222548,0.5169089650975354,-0.8952705858297897,-0.6296763109803356,0.2206410202708203,0.931205800217413,-0.3608398372799932,-0.05132983204531396,-0.6576701468424314,-2.210094763853348,-1.314061099541835,-0.07872298867142644,-0.9083492999219367,-0.5544195958094558,-0.6173065627582961,0.5375836290237022,-1.8211660014868283,-0.8668812966772147,-0.3738119450297486,-1.3078947438704553,-0.8990499054248187,1.4821422801658368,-0.45943939092853603,1.2373018388363508,-0.2740824268604862,0.9415219781682357,0.4514410714589517,0.17923826875106927,-1.1387690409563656,-0.8186931976761559,-0.1123853301811973,-0.5686710138609768,-1.2103825992077901,-0.35284549202668897,0.9906605504444056,-0.6745084460543134,1.3568812935888435,0.29684550804814563,-0.7231124713871573,1.9017902891920417,-0.5178673277578233,-1.0707119461609809,-0.2574649752292029,-0.57504830729504,0.5732014175121319,1.5440724399736447,-1.3465932141735566,-0.15040032943314166],\"xaxis\":\"x15\",\"y\":[-0.6603970446001893,1.5191896878824074,0.47157691859381173,-0.11402564889979212,-0.053716799423909785,-1.5502356923778882,-0.014378962156916112,1.5541252446768037,-1.8319862677442142,0.2870698640525949,0.5918836805777782,-0.040440043045159066,-0.3784157236841967,-1.1102538280560401,0.3898304992138822,-0.12041932267168726,-0.32897296405194965,-1.2719073437508008,0.8312839639517363,-1.7174490762641748,-2.037621968311098,0.03594238402987565,0.2426892592715048,0.6032963725387461,1.586024565818138,-0.20998647828293887,0.41773429488465963,-0.12718417400144386,-1.8617937276976186,-0.9501270868213497,1.1630063275582174,-0.8908532575897277,-1.458148546542736,0.6098274869070641,1.3852801359870763,0.29789912350204667,-0.09400524997271618,-1.3173703834766386,-1.9613197691028332,-0.07856563642446635,-1.8180245748601593,0.04544497800788125,-0.19320476197828065,1.887173935958992,0.139798344377311,-0.8745790170624088,3.2329022255557867,-0.6797478844880496,-0.393180811785337,-1.1351954497917902,-0.5146996496927783,0.6484518213874361,-2.0443634020015304,1.6140677626713165,-0.20774295074218022,0.6294374427080781,0.6142927069828564,-1.0641720745579637,0.9160208306907005,-2.476821589877224,0.4412469793535054,1.1106436185071047,0.8136665642415195,0.8550094947124073,0.1873501644650864,-0.2013499244861351,1.3698286033274958,1.6141963233312788,0.2242251788114569,-1.2188668408435317,0.07877231112907117,-0.2899878195310393,0.2898655486814956,-1.0309490310582619,-0.9397769904382155,-0.49400023561811696,-2.0211915998521497,-0.1341006433522084,0.27386999796809863,-2.4210908385370518,0.47663856887878947,0.27969817189077245,-1.797812215024415,1.8291111224719392,-1.2855471127773832,1.4684108779508989,-0.029735490975398366,0.46676467942544614,-0.10088424426169866,1.4241028972087357,-0.2931767117004282,-1.097509066956472,0.5458458587551795,0.44022539134547684,1.4107152259445312,0.32276296543783956,-1.4473209430727028,-0.2238818954548833,-0.7923364925428673,-0.030062739397800905],\"yaxis\":\"y15\",\"type\":\"scatter\"},{\"histfunc\":\"count\",\"histnorm\":\"\",\"marker\":{\"color\":\"rgba(128, 0, 128, 1.0)\",\"line\":{\"color\":\"#4D5663\",\"width\":1.3}},\"name\":\"D\",\"nbinsx\":10,\"opacity\":0.8,\"orientation\":\"v\",\"x\":[-0.6603970446001893,1.5191896878824074,0.47157691859381173,-0.11402564889979212,-0.053716799423909785,-1.5502356923778882,-0.014378962156916112,1.5541252446768037,-1.8319862677442142,0.2870698640525949,0.5918836805777782,-0.040440043045159066,-0.3784157236841967,-1.1102538280560401,0.3898304992138822,-0.12041932267168726,-0.32897296405194965,-1.2719073437508008,0.8312839639517363,-1.7174490762641748,-2.037621968311098,0.03594238402987565,0.2426892592715048,0.6032963725387461,1.586024565818138,-0.20998647828293887,0.41773429488465963,-0.12718417400144386,-1.8617937276976186,-0.9501270868213497,1.1630063275582174,-0.8908532575897277,-1.458148546542736,0.6098274869070641,1.3852801359870763,0.29789912350204667,-0.09400524997271618,-1.3173703834766386,-1.9613197691028332,-0.07856563642446635,-1.8180245748601593,0.04544497800788125,-0.19320476197828065,1.887173935958992,0.139798344377311,-0.8745790170624088,3.2329022255557867,-0.6797478844880496,-0.393180811785337,-1.1351954497917902,-0.5146996496927783,0.6484518213874361,-2.0443634020015304,1.6140677626713165,-0.20774295074218022,0.6294374427080781,0.6142927069828564,-1.0641720745579637,0.9160208306907005,-2.476821589877224,0.4412469793535054,1.1106436185071047,0.8136665642415195,0.8550094947124073,0.1873501644650864,-0.2013499244861351,1.3698286033274958,1.6141963233312788,0.2242251788114569,-1.2188668408435317,0.07877231112907117,-0.2899878195310393,0.2898655486814956,-1.0309490310582619,-0.9397769904382155,-0.49400023561811696,-2.0211915998521497,-0.1341006433522084,0.27386999796809863,-2.4210908385370518,0.47663856887878947,0.27969817189077245,-1.797812215024415,1.8291111224719392,-1.2855471127773832,1.4684108779508989,-0.029735490975398366,0.46676467942544614,-0.10088424426169866,1.4241028972087357,-0.2931767117004282,-1.097509066956472,0.5458458587551795,0.44022539134547684,1.4107152259445312,0.32276296543783956,-1.4473209430727028,-0.2238818954548833,-0.7923364925428673,-0.030062739397800905],\"xaxis\":\"x16\",\"yaxis\":\"y16\",\"type\":\"histogram\"}],                        {\"bargap\":0.02,\"legend\":{\"bgcolor\":\"#F5F6F9\",\"font\":{\"color\":\"#4D5663\"}},\"paper_bgcolor\":\"#F5F6F9\",\"plot_bgcolor\":\"#F5F6F9\",\"showlegend\":false,\"template\":{\"data\":{\"barpolar\":[{\"marker\":{\"line\":{\"color\":\"#E5ECF6\",\"width\":0.5},\"pattern\":{\"fillmode\":\"overlay\",\"size\":10,\"solidity\":0.2}},\"type\":\"barpolar\"}],\"bar\":[{\"error_x\":{\"color\":\"#2a3f5f\"},\"error_y\":{\"color\":\"#2a3f5f\"},\"marker\":{\"line\":{\"color\":\"#E5ECF6\",\"width\":0.5},\"pattern\":{\"fillmode\":\"overlay\",\"size\":10,\"solidity\":0.2}},\"type\":\"bar\"}],\"carpet\":[{\"aaxis\":{\"endlinecolor\":\"#2a3f5f\",\"gridcolor\":\"white\",\"linecolor\":\"white\",\"minorgridcolor\":\"white\",\"startlinecolor\":\"#2a3f5f\"},\"baxis\":{\"endlinecolor\":\"#2a3f5f\",\"gridcolor\":\"white\",\"linecolor\":\"white\",\"minorgridcolor\":\"white\",\"startlinecolor\":\"#2a3f5f\"},\"type\":\"carpet\"}],\"choropleth\":[{\"colorbar\":{\"outlinewidth\":0,\"ticks\":\"\"},\"type\":\"choropleth\"}],\"contourcarpet\":[{\"colorbar\":{\"outlinewidth\":0,\"ticks\":\"\"},\"type\":\"contourcarpet\"}],\"contour\":[{\"colorbar\":{\"outlinewidth\":0,\"ticks\":\"\"},\"colorscale\":[[0.0,\"#0d0887\"],[0.1111111111111111,\"#46039f\"],[0.2222222222222222,\"#7201a8\"],[0.3333333333333333,\"#9c179e\"],[0.4444444444444444,\"#bd3786\"],[0.5555555555555556,\"#d8576b\"],[0.6666666666666666,\"#ed7953\"],[0.7777777777777778,\"#fb9f3a\"],[0.8888888888888888,\"#fdca26\"],[1.0,\"#f0f921\"]],\"type\":\"contour\"}],\"heatmapgl\":[{\"colorbar\":{\"outlinewidth\":0,\"ticks\":\"\"},\"colorscale\":[[0.0,\"#0d0887\"],[0.1111111111111111,\"#46039f\"],[0.2222222222222222,\"#7201a8\"],[0.3333333333333333,\"#9c179e\"],[0.4444444444444444,\"#bd3786\"],[0.5555555555555556,\"#d8576b\"],[0.6666666666666666,\"#ed7953\"],[0.7777777777777778,\"#fb9f3a\"],[0.8888888888888888,\"#fdca26\"],[1.0,\"#f0f921\"]],\"type\":\"heatmapgl\"}],\"heatmap\":[{\"colorbar\":{\"outlinewidth\":0,\"ticks\":\"\"},\"colorscale\":[[0.0,\"#0d0887\"],[0.1111111111111111,\"#46039f\"],[0.2222222222222222,\"#7201a8\"],[0.3333333333333333,\"#9c179e\"],[0.4444444444444444,\"#bd3786\"],[0.5555555555555556,\"#d8576b\"],[0.6666666666666666,\"#ed7953\"],[0.7777777777777778,\"#fb9f3a\"],[0.8888888888888888,\"#fdca26\"],[1.0,\"#f0f921\"]],\"type\":\"heatmap\"}],\"histogram2dcontour\":[{\"colorbar\":{\"outlinewidth\":0,\"ticks\":\"\"},\"colorscale\":[[0.0,\"#0d0887\"],[0.1111111111111111,\"#46039f\"],[0.2222222222222222,\"#7201a8\"],[0.3333333333333333,\"#9c179e\"],[0.4444444444444444,\"#bd3786\"],[0.5555555555555556,\"#d8576b\"],[0.6666666666666666,\"#ed7953\"],[0.7777777777777778,\"#fb9f3a\"],[0.8888888888888888,\"#fdca26\"],[1.0,\"#f0f921\"]],\"type\":\"histogram2dcontour\"}],\"histogram2d\":[{\"colorbar\":{\"outlinewidth\":0,\"ticks\":\"\"},\"colorscale\":[[0.0,\"#0d0887\"],[0.1111111111111111,\"#46039f\"],[0.2222222222222222,\"#7201a8\"],[0.3333333333333333,\"#9c179e\"],[0.4444444444444444,\"#bd3786\"],[0.5555555555555556,\"#d8576b\"],[0.6666666666666666,\"#ed7953\"],[0.7777777777777778,\"#fb9f3a\"],[0.8888888888888888,\"#fdca26\"],[1.0,\"#f0f921\"]],\"type\":\"histogram2d\"}],\"histogram\":[{\"marker\":{\"pattern\":{\"fillmode\":\"overlay\",\"size\":10,\"solidity\":0.2}},\"type\":\"histogram\"}],\"mesh3d\":[{\"colorbar\":{\"outlinewidth\":0,\"ticks\":\"\"},\"type\":\"mesh3d\"}],\"parcoords\":[{\"line\":{\"colorbar\":{\"outlinewidth\":0,\"ticks\":\"\"}},\"type\":\"parcoords\"}],\"pie\":[{\"automargin\":true,\"type\":\"pie\"}],\"scatter3d\":[{\"line\":{\"colorbar\":{\"outlinewidth\":0,\"ticks\":\"\"}},\"marker\":{\"colorbar\":{\"outlinewidth\":0,\"ticks\":\"\"}},\"type\":\"scatter3d\"}],\"scattercarpet\":[{\"marker\":{\"colorbar\":{\"outlinewidth\":0,\"ticks\":\"\"}},\"type\":\"scattercarpet\"}],\"scattergeo\":[{\"marker\":{\"colorbar\":{\"outlinewidth\":0,\"ticks\":\"\"}},\"type\":\"scattergeo\"}],\"scattergl\":[{\"marker\":{\"colorbar\":{\"outlinewidth\":0,\"ticks\":\"\"}},\"type\":\"scattergl\"}],\"scattermapbox\":[{\"marker\":{\"colorbar\":{\"outlinewidth\":0,\"ticks\":\"\"}},\"type\":\"scattermapbox\"}],\"scatterpolargl\":[{\"marker\":{\"colorbar\":{\"outlinewidth\":0,\"ticks\":\"\"}},\"type\":\"scatterpolargl\"}],\"scatterpolar\":[{\"marker\":{\"colorbar\":{\"outlinewidth\":0,\"ticks\":\"\"}},\"type\":\"scatterpolar\"}],\"scatter\":[{\"marker\":{\"colorbar\":{\"outlinewidth\":0,\"ticks\":\"\"}},\"type\":\"scatter\"}],\"scatterternary\":[{\"marker\":{\"colorbar\":{\"outlinewidth\":0,\"ticks\":\"\"}},\"type\":\"scatterternary\"}],\"surface\":[{\"colorbar\":{\"outlinewidth\":0,\"ticks\":\"\"},\"colorscale\":[[0.0,\"#0d0887\"],[0.1111111111111111,\"#46039f\"],[0.2222222222222222,\"#7201a8\"],[0.3333333333333333,\"#9c179e\"],[0.4444444444444444,\"#bd3786\"],[0.5555555555555556,\"#d8576b\"],[0.6666666666666666,\"#ed7953\"],[0.7777777777777778,\"#fb9f3a\"],[0.8888888888888888,\"#fdca26\"],[1.0,\"#f0f921\"]],\"type\":\"surface\"}],\"table\":[{\"cells\":{\"fill\":{\"color\":\"#EBF0F8\"},\"line\":{\"color\":\"white\"}},\"header\":{\"fill\":{\"color\":\"#C8D4E3\"},\"line\":{\"color\":\"white\"}},\"type\":\"table\"}]},\"layout\":{\"annotationdefaults\":{\"arrowcolor\":\"#2a3f5f\",\"arrowhead\":0,\"arrowwidth\":1},\"autotypenumbers\":\"strict\",\"coloraxis\":{\"colorbar\":{\"outlinewidth\":0,\"ticks\":\"\"}},\"colorscale\":{\"diverging\":[[0,\"#8e0152\"],[0.1,\"#c51b7d\"],[0.2,\"#de77ae\"],[0.3,\"#f1b6da\"],[0.4,\"#fde0ef\"],[0.5,\"#f7f7f7\"],[0.6,\"#e6f5d0\"],[0.7,\"#b8e186\"],[0.8,\"#7fbc41\"],[0.9,\"#4d9221\"],[1,\"#276419\"]],\"sequential\":[[0.0,\"#0d0887\"],[0.1111111111111111,\"#46039f\"],[0.2222222222222222,\"#7201a8\"],[0.3333333333333333,\"#9c179e\"],[0.4444444444444444,\"#bd3786\"],[0.5555555555555556,\"#d8576b\"],[0.6666666666666666,\"#ed7953\"],[0.7777777777777778,\"#fb9f3a\"],[0.8888888888888888,\"#fdca26\"],[1.0,\"#f0f921\"]],\"sequentialminus\":[[0.0,\"#0d0887\"],[0.1111111111111111,\"#46039f\"],[0.2222222222222222,\"#7201a8\"],[0.3333333333333333,\"#9c179e\"],[0.4444444444444444,\"#bd3786\"],[0.5555555555555556,\"#d8576b\"],[0.6666666666666666,\"#ed7953\"],[0.7777777777777778,\"#fb9f3a\"],[0.8888888888888888,\"#fdca26\"],[1.0,\"#f0f921\"]]},\"colorway\":[\"#636efa\",\"#EF553B\",\"#00cc96\",\"#ab63fa\",\"#FFA15A\",\"#19d3f3\",\"#FF6692\",\"#B6E880\",\"#FF97FF\",\"#FECB52\"],\"font\":{\"color\":\"#2a3f5f\"},\"geo\":{\"bgcolor\":\"white\",\"lakecolor\":\"white\",\"landcolor\":\"#E5ECF6\",\"showlakes\":true,\"showland\":true,\"subunitcolor\":\"white\"},\"hoverlabel\":{\"align\":\"left\"},\"hovermode\":\"closest\",\"mapbox\":{\"style\":\"light\"},\"paper_bgcolor\":\"white\",\"plot_bgcolor\":\"#E5ECF6\",\"polar\":{\"angularaxis\":{\"gridcolor\":\"white\",\"linecolor\":\"white\",\"ticks\":\"\"},\"bgcolor\":\"#E5ECF6\",\"radialaxis\":{\"gridcolor\":\"white\",\"linecolor\":\"white\",\"ticks\":\"\"}},\"scene\":{\"xaxis\":{\"backgroundcolor\":\"#E5ECF6\",\"gridcolor\":\"white\",\"gridwidth\":2,\"linecolor\":\"white\",\"showbackground\":true,\"ticks\":\"\",\"zerolinecolor\":\"white\"},\"yaxis\":{\"backgroundcolor\":\"#E5ECF6\",\"gridcolor\":\"white\",\"gridwidth\":2,\"linecolor\":\"white\",\"showbackground\":true,\"ticks\":\"\",\"zerolinecolor\":\"white\"},\"zaxis\":{\"backgroundcolor\":\"#E5ECF6\",\"gridcolor\":\"white\",\"gridwidth\":2,\"linecolor\":\"white\",\"showbackground\":true,\"ticks\":\"\",\"zerolinecolor\":\"white\"}},\"shapedefaults\":{\"line\":{\"color\":\"#2a3f5f\"}},\"ternary\":{\"aaxis\":{\"gridcolor\":\"white\",\"linecolor\":\"white\",\"ticks\":\"\"},\"baxis\":{\"gridcolor\":\"white\",\"linecolor\":\"white\",\"ticks\":\"\"},\"bgcolor\":\"#E5ECF6\",\"caxis\":{\"gridcolor\":\"white\",\"linecolor\":\"white\",\"ticks\":\"\"}},\"title\":{\"x\":0.05},\"xaxis\":{\"automargin\":true,\"gridcolor\":\"white\",\"linecolor\":\"white\",\"ticks\":\"\",\"title\":{\"standoff\":15},\"zerolinecolor\":\"white\",\"zerolinewidth\":2},\"yaxis\":{\"automargin\":true,\"gridcolor\":\"white\",\"linecolor\":\"white\",\"ticks\":\"\",\"title\":{\"standoff\":15},\"zerolinecolor\":\"white\",\"zerolinewidth\":2}}},\"title\":{\"font\":{\"color\":\"#4D5663\"}},\"xaxis\":{\"anchor\":\"y\",\"domain\":[0.0,0.2125],\"gridcolor\":\"#E1E5ED\",\"showgrid\":false,\"tickfont\":{\"color\":\"#4D5663\"},\"title\":{\"font\":{\"color\":\"#4D5663\"},\"text\":\"\"},\"zerolinecolor\":\"#E1E5ED\"},\"yaxis\":{\"anchor\":\"x\",\"domain\":[0.8025,1.0],\"gridcolor\":\"#E1E5ED\",\"showgrid\":false,\"tickfont\":{\"color\":\"#4D5663\"},\"title\":{\"font\":{\"color\":\"#4D5663\"},\"text\":\"\"},\"zerolinecolor\":\"#E1E5ED\"},\"xaxis2\":{\"anchor\":\"y2\",\"domain\":[0.2625,0.475],\"gridcolor\":\"#E1E5ED\",\"showgrid\":false,\"tickfont\":{\"color\":\"#4D5663\"},\"title\":{\"font\":{\"color\":\"#4D5663\"},\"text\":\"\"},\"zerolinecolor\":\"#E1E5ED\"},\"yaxis2\":{\"anchor\":\"x2\",\"domain\":[0.8025,1.0],\"gridcolor\":\"#E1E5ED\",\"showgrid\":false,\"tickfont\":{\"color\":\"#4D5663\"},\"title\":{\"font\":{\"color\":\"#4D5663\"},\"text\":\"\"},\"zerolinecolor\":\"#E1E5ED\"},\"xaxis3\":{\"anchor\":\"y3\",\"domain\":[0.525,0.7375],\"gridcolor\":\"#E1E5ED\",\"showgrid\":false,\"tickfont\":{\"color\":\"#4D5663\"},\"title\":{\"font\":{\"color\":\"#4D5663\"},\"text\":\"\"},\"zerolinecolor\":\"#E1E5ED\"},\"yaxis3\":{\"anchor\":\"x3\",\"domain\":[0.8025,1.0],\"gridcolor\":\"#E1E5ED\",\"showgrid\":false,\"tickfont\":{\"color\":\"#4D5663\"},\"title\":{\"font\":{\"color\":\"#4D5663\"},\"text\":\"\"},\"zerolinecolor\":\"#E1E5ED\"},\"xaxis4\":{\"anchor\":\"y4\",\"domain\":[0.7875,1.0],\"gridcolor\":\"#E1E5ED\",\"showgrid\":false,\"tickfont\":{\"color\":\"#4D5663\"},\"title\":{\"font\":{\"color\":\"#4D5663\"},\"text\":\"\"},\"zerolinecolor\":\"#E1E5ED\"},\"yaxis4\":{\"anchor\":\"x4\",\"domain\":[0.8025,1.0],\"gridcolor\":\"#E1E5ED\",\"showgrid\":false,\"tickfont\":{\"color\":\"#4D5663\"},\"title\":{\"font\":{\"color\":\"#4D5663\"},\"text\":\"\"},\"zerolinecolor\":\"#E1E5ED\"},\"xaxis5\":{\"anchor\":\"y5\",\"domain\":[0.0,0.2125],\"gridcolor\":\"#E1E5ED\",\"showgrid\":false,\"tickfont\":{\"color\":\"#4D5663\"},\"title\":{\"font\":{\"color\":\"#4D5663\"},\"text\":\"\"},\"zerolinecolor\":\"#E1E5ED\"},\"yaxis5\":{\"anchor\":\"x5\",\"domain\":[0.535,0.7325],\"gridcolor\":\"#E1E5ED\",\"showgrid\":false,\"tickfont\":{\"color\":\"#4D5663\"},\"title\":{\"font\":{\"color\":\"#4D5663\"},\"text\":\"\"},\"zerolinecolor\":\"#E1E5ED\"},\"xaxis6\":{\"anchor\":\"y6\",\"domain\":[0.2625,0.475],\"gridcolor\":\"#E1E5ED\",\"showgrid\":false,\"tickfont\":{\"color\":\"#4D5663\"},\"title\":{\"font\":{\"color\":\"#4D5663\"},\"text\":\"\"},\"zerolinecolor\":\"#E1E5ED\"},\"yaxis6\":{\"anchor\":\"x6\",\"domain\":[0.535,0.7325],\"gridcolor\":\"#E1E5ED\",\"showgrid\":false,\"tickfont\":{\"color\":\"#4D5663\"},\"title\":{\"font\":{\"color\":\"#4D5663\"},\"text\":\"\"},\"zerolinecolor\":\"#E1E5ED\"},\"xaxis7\":{\"anchor\":\"y7\",\"domain\":[0.525,0.7375],\"gridcolor\":\"#E1E5ED\",\"showgrid\":false,\"tickfont\":{\"color\":\"#4D5663\"},\"title\":{\"font\":{\"color\":\"#4D5663\"},\"text\":\"\"},\"zerolinecolor\":\"#E1E5ED\"},\"yaxis7\":{\"anchor\":\"x7\",\"domain\":[0.535,0.7325],\"gridcolor\":\"#E1E5ED\",\"showgrid\":false,\"tickfont\":{\"color\":\"#4D5663\"},\"title\":{\"font\":{\"color\":\"#4D5663\"},\"text\":\"\"},\"zerolinecolor\":\"#E1E5ED\"},\"xaxis8\":{\"anchor\":\"y8\",\"domain\":[0.7875,1.0],\"gridcolor\":\"#E1E5ED\",\"showgrid\":false,\"tickfont\":{\"color\":\"#4D5663\"},\"title\":{\"font\":{\"color\":\"#4D5663\"},\"text\":\"\"},\"zerolinecolor\":\"#E1E5ED\"},\"yaxis8\":{\"anchor\":\"x8\",\"domain\":[0.535,0.7325],\"gridcolor\":\"#E1E5ED\",\"showgrid\":false,\"tickfont\":{\"color\":\"#4D5663\"},\"title\":{\"font\":{\"color\":\"#4D5663\"},\"text\":\"\"},\"zerolinecolor\":\"#E1E5ED\"},\"xaxis9\":{\"anchor\":\"y9\",\"domain\":[0.0,0.2125],\"gridcolor\":\"#E1E5ED\",\"showgrid\":false,\"tickfont\":{\"color\":\"#4D5663\"},\"title\":{\"font\":{\"color\":\"#4D5663\"},\"text\":\"\"},\"zerolinecolor\":\"#E1E5ED\"},\"yaxis9\":{\"anchor\":\"x9\",\"domain\":[0.2675,0.465],\"gridcolor\":\"#E1E5ED\",\"showgrid\":false,\"tickfont\":{\"color\":\"#4D5663\"},\"title\":{\"font\":{\"color\":\"#4D5663\"},\"text\":\"\"},\"zerolinecolor\":\"#E1E5ED\"},\"xaxis10\":{\"anchor\":\"y10\",\"domain\":[0.2625,0.475],\"gridcolor\":\"#E1E5ED\",\"showgrid\":false,\"tickfont\":{\"color\":\"#4D5663\"},\"title\":{\"font\":{\"color\":\"#4D5663\"},\"text\":\"\"},\"zerolinecolor\":\"#E1E5ED\"},\"yaxis10\":{\"anchor\":\"x10\",\"domain\":[0.2675,0.465],\"gridcolor\":\"#E1E5ED\",\"showgrid\":false,\"tickfont\":{\"color\":\"#4D5663\"},\"title\":{\"font\":{\"color\":\"#4D5663\"},\"text\":\"\"},\"zerolinecolor\":\"#E1E5ED\"},\"xaxis11\":{\"anchor\":\"y11\",\"domain\":[0.525,0.7375],\"gridcolor\":\"#E1E5ED\",\"showgrid\":false,\"tickfont\":{\"color\":\"#4D5663\"},\"title\":{\"font\":{\"color\":\"#4D5663\"},\"text\":\"\"},\"zerolinecolor\":\"#E1E5ED\"},\"yaxis11\":{\"anchor\":\"x11\",\"domain\":[0.2675,0.465],\"gridcolor\":\"#E1E5ED\",\"showgrid\":false,\"tickfont\":{\"color\":\"#4D5663\"},\"title\":{\"font\":{\"color\":\"#4D5663\"},\"text\":\"\"},\"zerolinecolor\":\"#E1E5ED\"},\"xaxis12\":{\"anchor\":\"y12\",\"domain\":[0.7875,1.0],\"gridcolor\":\"#E1E5ED\",\"showgrid\":false,\"tickfont\":{\"color\":\"#4D5663\"},\"title\":{\"font\":{\"color\":\"#4D5663\"},\"text\":\"\"},\"zerolinecolor\":\"#E1E5ED\"},\"yaxis12\":{\"anchor\":\"x12\",\"domain\":[0.2675,0.465],\"gridcolor\":\"#E1E5ED\",\"showgrid\":false,\"tickfont\":{\"color\":\"#4D5663\"},\"title\":{\"font\":{\"color\":\"#4D5663\"},\"text\":\"\"},\"zerolinecolor\":\"#E1E5ED\"},\"xaxis13\":{\"anchor\":\"y13\",\"domain\":[0.0,0.2125],\"gridcolor\":\"#E1E5ED\",\"showgrid\":false,\"tickfont\":{\"color\":\"#4D5663\"},\"title\":{\"font\":{\"color\":\"#4D5663\"},\"text\":\"\"},\"zerolinecolor\":\"#E1E5ED\"},\"yaxis13\":{\"anchor\":\"x13\",\"domain\":[0.0,0.1975],\"gridcolor\":\"#E1E5ED\",\"showgrid\":false,\"tickfont\":{\"color\":\"#4D5663\"},\"title\":{\"font\":{\"color\":\"#4D5663\"},\"text\":\"\"},\"zerolinecolor\":\"#E1E5ED\"},\"xaxis14\":{\"anchor\":\"y14\",\"domain\":[0.2625,0.475],\"gridcolor\":\"#E1E5ED\",\"showgrid\":false,\"tickfont\":{\"color\":\"#4D5663\"},\"title\":{\"font\":{\"color\":\"#4D5663\"},\"text\":\"\"},\"zerolinecolor\":\"#E1E5ED\"},\"yaxis14\":{\"anchor\":\"x14\",\"domain\":[0.0,0.1975],\"gridcolor\":\"#E1E5ED\",\"showgrid\":false,\"tickfont\":{\"color\":\"#4D5663\"},\"title\":{\"font\":{\"color\":\"#4D5663\"},\"text\":\"\"},\"zerolinecolor\":\"#E1E5ED\"},\"xaxis15\":{\"anchor\":\"y15\",\"domain\":[0.525,0.7375],\"gridcolor\":\"#E1E5ED\",\"showgrid\":false,\"tickfont\":{\"color\":\"#4D5663\"},\"title\":{\"font\":{\"color\":\"#4D5663\"},\"text\":\"\"},\"zerolinecolor\":\"#E1E5ED\"},\"yaxis15\":{\"anchor\":\"x15\",\"domain\":[0.0,0.1975],\"gridcolor\":\"#E1E5ED\",\"showgrid\":false,\"tickfont\":{\"color\":\"#4D5663\"},\"title\":{\"font\":{\"color\":\"#4D5663\"},\"text\":\"\"},\"zerolinecolor\":\"#E1E5ED\"},\"xaxis16\":{\"anchor\":\"y16\",\"domain\":[0.7875,1.0],\"gridcolor\":\"#E1E5ED\",\"showgrid\":false,\"tickfont\":{\"color\":\"#4D5663\"},\"title\":{\"font\":{\"color\":\"#4D5663\"},\"text\":\"\"},\"zerolinecolor\":\"#E1E5ED\"},\"yaxis16\":{\"anchor\":\"x16\",\"domain\":[0.0,0.1975],\"gridcolor\":\"#E1E5ED\",\"showgrid\":false,\"tickfont\":{\"color\":\"#4D5663\"},\"title\":{\"font\":{\"color\":\"#4D5663\"},\"text\":\"\"},\"zerolinecolor\":\"#E1E5ED\"}},                        {\"showLink\": true, \"linkText\": \"Export to plot.ly\", \"plotlyServerURL\": \"https://plot.ly\", \"responsive\": true}                    ).then(function(){\n",
       "                            \n",
       "var gd = document.getElementById('3352deef-76a5-463b-8a60-7d48173fd545');\n",
       "var x = new MutationObserver(function (mutations, observer) {{\n",
       "        var display = window.getComputedStyle(gd).display;\n",
       "        if (!display || display === 'none') {{\n",
       "            console.log([gd, 'removed!']);\n",
       "            Plotly.purge(gd);\n",
       "            observer.disconnect();\n",
       "        }}\n",
       "}});\n",
       "\n",
       "// Listen for the removal of the full notebook cells\n",
       "var notebookContainer = gd.closest('#notebook-container');\n",
       "if (notebookContainer) {{\n",
       "    x.observe(notebookContainer, {childList: true});\n",
       "}}\n",
       "\n",
       "// Listen for the clearing of the current output cell\n",
       "var outputEl = gd.closest('.output');\n",
       "if (outputEl) {{\n",
       "    x.observe(outputEl, {childList: true});\n",
       "}}\n",
       "\n",
       "                        })                };                });            </script>        </div>"
      ]
     },
     "metadata": {},
     "output_type": "display_data"
    }
   ],
   "source": [
    "df.scatter_matrix()"
   ]
  },
  {
   "cell_type": "markdown",
   "metadata": {
    "collapsed": true
   },
   "source": [
    "# Great Job!"
   ]
  }
 ],
 "metadata": {
  "kernelspec": {
   "display_name": "Python 3",
   "language": "python",
   "name": "python3"
  },
  "language_info": {
   "codemirror_mode": {
    "name": "ipython",
    "version": 3
   },
   "file_extension": ".py",
   "mimetype": "text/x-python",
   "name": "python",
   "nbconvert_exporter": "python",
   "pygments_lexer": "ipython3",
   "version": "3.8.3"
  }
 },
 "nbformat": 4,
 "nbformat_minor": 1
}
